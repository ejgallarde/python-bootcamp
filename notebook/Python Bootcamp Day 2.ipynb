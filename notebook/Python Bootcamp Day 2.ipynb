{
 "cells": [
  {
   "cell_type": "markdown",
   "metadata": {
    "id": "D3HHG2YPIbKU"
   },
   "source": [
    "# Python Bootcamp Day2"
   ]
  },
  {
   "cell_type": "markdown",
   "metadata": {
    "id": "b0347n3zSCFe"
   },
   "source": [
    "### min, max"
   ]
  },
  {
   "cell_type": "code",
   "execution_count": 1,
   "metadata": {
    "colab": {
     "base_uri": "https://localhost:8080/"
    },
    "id": "M6xLB3jGROaZ",
    "outputId": "de85439b-e967-44e1-d9d8-e8f4fabe4396"
   },
   "outputs": [
    {
     "data": {
      "text/plain": [
       "-1"
      ]
     },
     "execution_count": 1,
     "metadata": {},
     "output_type": "execute_result"
    }
   ],
   "source": [
    "# minimum is going to return the minimum value in an iterable\n",
    "min([1, 2, 3, -1])"
   ]
  },
  {
   "cell_type": "code",
   "execution_count": 2,
   "metadata": {
    "colab": {
     "base_uri": "https://localhost:8080/"
    },
    "id": "KbI9WTuwR5Wf",
    "outputId": "2f11955c-c473-4af5-b1a9-cd019f195870"
   },
   "outputs": [
    {
     "data": {
      "text/plain": [
       "2"
      ]
     },
     "execution_count": 2,
     "metadata": {},
     "output_type": "execute_result"
    }
   ],
   "source": [
    "# get the maximum\n",
    "max([1, 2])"
   ]
  },
  {
   "cell_type": "code",
   "execution_count": 6,
   "metadata": {},
   "outputs": [
    {
     "data": {
      "text/plain": [
       "'A'"
      ]
     },
     "execution_count": 6,
     "metadata": {},
     "output_type": "execute_result"
    }
   ],
   "source": [
    "char_list = ['a','b','c','d', 'A', 'B']\n",
    "min(char_list)"
   ]
  },
  {
   "cell_type": "markdown",
   "metadata": {},
   "source": [
    "### average"
   ]
  },
  {
   "cell_type": "markdown",
   "metadata": {
    "id": "1a0v3iRgLXo1"
   },
   "source": [
    "### zip"
   ]
  },
  {
   "cell_type": "code",
   "execution_count": 11,
   "metadata": {
    "colab": {
     "base_uri": "https://localhost:8080/"
    },
    "id": "m_6tVQq3IS4K",
    "outputId": "0c3faf25-c324-4bf0-b094-debc8bf5aabf"
   },
   "outputs": [
    {
     "data": {
      "text/plain": [
       "[(1, 'a', 'A'), (2, 'b', 'B'), (3, 'c', 'C')]"
      ]
     },
     "execution_count": 11,
     "metadata": {},
     "output_type": "execute_result"
    }
   ],
   "source": [
    "a = [1, 2, 3]\n",
    "b = ['a', 'b', 'c', 'd']\n",
    "c = ['A', 'B','C']\n",
    "list(zip(a, b,c))"
   ]
  },
  {
   "cell_type": "markdown",
   "metadata": {},
   "source": [
    "### sorted\n",
    "\n",
    "can be reversed too"
   ]
  },
  {
   "cell_type": "code",
   "execution_count": 13,
   "metadata": {},
   "outputs": [
    {
     "data": {
      "text/plain": [
       "[10, 9, 4, 3, 2, 1, 1, 0]"
      ]
     },
     "execution_count": 13,
     "metadata": {},
     "output_type": "execute_result"
    }
   ],
   "source": [
    "vals = [3,2,4,1,10,9,0,1]\n",
    "\n",
    "sorted(vals, reverse=True)\n"
   ]
  },
  {
   "cell_type": "code",
   "execution_count": 21,
   "metadata": {},
   "outputs": [
    {
     "name": "stdout",
     "output_type": "stream",
     "text": [
      "['1', '2', '20', '3', 'A', 'B', 'G', 'a', 'ab', 'b', 'g', 'h', 'x', 'z']\n",
      "1\n",
      "z\n"
     ]
    }
   ],
   "source": [
    "letters = ('z','A','a', 'x','g','h','B','G', '1', '2', '20', '3', 'b','ab')\n",
    "\n",
    "print(sorted(letters))\n",
    "print(min(letters)) #A\n",
    "print(max(letters)) #z"
   ]
  },
  {
   "cell_type": "code",
   "execution_count": 23,
   "metadata": {},
   "outputs": [
    {
     "name": "stdout",
     "output_type": "stream",
     "text": [
      "49\n",
      "97\n",
      "65\n"
     ]
    }
   ],
   "source": [
    "print(ord('1'))\n",
    "print(ord('a'))\n",
    "print(ord('A'))"
   ]
  },
  {
   "cell_type": "markdown",
   "metadata": {
    "id": "7YH-IjXqXHLW"
   },
   "source": [
    "## Modules\n",
    "External python libraries that you import - provides a lot of functionalities.\n",
    "\n",
    "Let's go through a few useful modules"
   ]
  },
  {
   "cell_type": "markdown",
   "metadata": {
    "id": "OP3XA5bbZcnS"
   },
   "source": [
    "### random\n",
    "\n",
    "Used to generate random numbers"
   ]
  },
  {
   "cell_type": "code",
   "execution_count": 40,
   "metadata": {
    "id": "I7uetoXDQv2s"
   },
   "outputs": [],
   "source": [
    "import random as rnd #to use a module you need to \"import\" it first\n",
    "from random import shuffle"
   ]
  },
  {
   "cell_type": "code",
   "execution_count": 26,
   "metadata": {
    "colab": {
     "base_uri": "https://localhost:8080/"
    },
    "id": "EyGxkFoNZRSG",
    "outputId": "a1e0c504-41bd-4218-8257-d1fd91f03a54"
   },
   "outputs": [
    {
     "data": {
      "text/plain": [
       "<module 'random' from '/Users/jinonoel/opt/anaconda3/lib/python3.9/random.py'>"
      ]
     },
     "execution_count": 26,
     "metadata": {},
     "output_type": "execute_result"
    }
   ],
   "source": [
    "random"
   ]
  },
  {
   "cell_type": "code",
   "execution_count": 43,
   "metadata": {
    "colab": {
     "base_uri": "https://localhost:8080/"
    },
    "id": "7K2NueW6YpoV",
    "outputId": "392e908a-d0f9-45e4-c3dd-b5372acfc80f"
   },
   "outputs": [
    {
     "name": "stdout",
     "output_type": "stream",
     "text": [
      "2\n",
      "0.41194233989905216\n",
      "d\n",
      "['a', 'c', 'd', 'b', 'e', 'f']\n"
     ]
    }
   ],
   "source": [
    "# has different functions or \"methods\"\n",
    "# method - function tied to a Python object\n",
    "# object.method()\n",
    "\n",
    "# randint randomly selects an integer given start and end\n",
    "print(rnd.randint(0, 5))\n",
    "\n",
    "#random number between 0 and 1\n",
    "print(random.random())\n",
    "\n",
    "#random element from a list\n",
    "l = ['a','b','c','d','e','f']\n",
    "print(random.choice(l))\n",
    "\n",
    "shuffle(l)\n",
    "print(l)"
   ]
  },
  {
   "cell_type": "markdown",
   "metadata": {},
   "source": [
    "## math\n"
   ]
  },
  {
   "cell_type": "code",
   "execution_count": 45,
   "metadata": {
    "colab": {
     "base_uri": "https://localhost:8080/"
    },
    "id": "rdaxQ6HwcBGv",
    "outputId": "a1298172-eecb-4f86-c51f-a5cb29550a28"
   },
   "outputs": [
    {
     "data": {
      "text/plain": [
       "2.718281828459045"
      ]
     },
     "execution_count": 45,
     "metadata": {},
     "output_type": "execute_result"
    }
   ],
   "source": [
    "# math module\n",
    "import math\n",
    "\n",
    "math.pi\n",
    "math.e"
   ]
  },
  {
   "cell_type": "code",
   "execution_count": 46,
   "metadata": {
    "colab": {
     "base_uri": "https://localhost:8080/"
    },
    "id": "kpFOeLDjcHaQ",
    "outputId": "a4e01b4e-2c4d-4acf-e618-1ac90d1415c7"
   },
   "outputs": [
    {
     "data": {
      "text/plain": [
       "1.4142135623730951"
      ]
     },
     "execution_count": 46,
     "metadata": {},
     "output_type": "execute_result"
    }
   ],
   "source": [
    "math.sqrt(2)"
   ]
  },
  {
   "cell_type": "code",
   "execution_count": 47,
   "metadata": {
    "colab": {
     "base_uri": "https://localhost:8080/"
    },
    "id": "zVYLIM4Sc-q1",
    "outputId": "c1750368-6f2b-45f3-a71e-41415f8b1825"
   },
   "outputs": [
    {
     "data": {
      "text/plain": [
       "3.141592653589793"
      ]
     },
     "execution_count": 47,
     "metadata": {},
     "output_type": "execute_result"
    }
   ],
   "source": [
    "# convert degrees to radians\n",
    "math.radians(180)"
   ]
  },
  {
   "cell_type": "code",
   "execution_count": 49,
   "metadata": {
    "colab": {
     "base_uri": "https://localhost:8080/"
    },
    "id": "vPqyg0MidMHI",
    "outputId": "106fb73d-896d-4c70-ab7f-b1668d6a7228"
   },
   "outputs": [
    {
     "data": {
      "text/plain": [
       "90.0"
      ]
     },
     "execution_count": 49,
     "metadata": {},
     "output_type": "execute_result"
    }
   ],
   "source": [
    "#convert radiants to degrees\n",
    "math.degrees(math.pi/2)"
   ]
  },
  {
   "cell_type": "code",
   "execution_count": 50,
   "metadata": {
    "colab": {
     "base_uri": "https://localhost:8080/"
    },
    "id": "MX6fFooFdTd2",
    "outputId": "7fd3245c-f5ec-4cb1-eca7-0e1f6f4f812b"
   },
   "outputs": [
    {
     "data": {
      "text/plain": [
       "1.0"
      ]
     },
     "execution_count": 50,
     "metadata": {},
     "output_type": "execute_result"
    }
   ],
   "source": [
    "#sin function\n",
    "math.sin(math.pi/2)"
   ]
  },
  {
   "cell_type": "code",
   "execution_count": 51,
   "metadata": {
    "colab": {
     "base_uri": "https://localhost:8080/"
    },
    "id": "JIFldfcodY5l",
    "outputId": "3644ca3f-d7ea-4343-e68a-2e4146cdf38c"
   },
   "outputs": [
    {
     "data": {
      "text/plain": [
       "6.123233995736766e-17"
      ]
     },
     "execution_count": 51,
     "metadata": {},
     "output_type": "execute_result"
    }
   ],
   "source": [
    "#cos function\n",
    "math.cos(math.pi/2)"
   ]
  },
  {
   "cell_type": "code",
   "execution_count": 52,
   "metadata": {
    "colab": {
     "base_uri": "https://localhost:8080/"
    },
    "id": "9iUfoDBhdarS",
    "outputId": "fd44bb69-7a6d-4340-edb9-24b8d8e09c4b"
   },
   "outputs": [
    {
     "data": {
      "text/plain": [
       "0.0"
      ]
     },
     "execution_count": 52,
     "metadata": {},
     "output_type": "execute_result"
    }
   ],
   "source": [
    "round(math.cos(math.pi/2), 10)"
   ]
  },
  {
   "cell_type": "code",
   "execution_count": 53,
   "metadata": {
    "colab": {
     "base_uri": "https://localhost:8080/"
    },
    "id": "ChipCLKXeOag",
    "outputId": "44fe32c9-6371-4308-e626-49e9b88ae948"
   },
   "outputs": [
    {
     "data": {
      "text/plain": [
       "2.718281828459045"
      ]
     },
     "execution_count": 53,
     "metadata": {},
     "output_type": "execute_result"
    }
   ],
   "source": [
    "math.e # Euler's number"
   ]
  },
  {
   "cell_type": "code",
   "execution_count": 54,
   "metadata": {
    "colab": {
     "base_uri": "https://localhost:8080/"
    },
    "id": "b_qFzWVjd9OR",
    "outputId": "d6a7d732-39f0-4f7e-eaba-3b52495b0178"
   },
   "outputs": [
    {
     "data": {
      "text/plain": [
       "0.0"
      ]
     },
     "execution_count": 54,
     "metadata": {},
     "output_type": "execute_result"
    }
   ],
   "source": [
    "math.log(1) # default log = natural logarithm = base e - math.e"
   ]
  },
  {
   "cell_type": "code",
   "execution_count": 55,
   "metadata": {
    "colab": {
     "base_uri": "https://localhost:8080/"
    },
    "id": "rc8rP_BieZrm",
    "outputId": "e50d7548-316a-4a67-cc2c-8028a88e8ebb"
   },
   "outputs": [
    {
     "data": {
      "text/plain": [
       "3.0"
      ]
     },
     "execution_count": 55,
     "metadata": {},
     "output_type": "execute_result"
    }
   ],
   "source": [
    "math.log2(8)"
   ]
  },
  {
   "cell_type": "markdown",
   "metadata": {},
   "source": [
    "### time"
   ]
  },
  {
   "cell_type": "code",
   "execution_count": 58,
   "metadata": {
    "id": "sa2v38IKekIc"
   },
   "outputs": [],
   "source": [
    "# time for timing things\n",
    "import time"
   ]
  },
  {
   "cell_type": "code",
   "execution_count": 66,
   "metadata": {
    "colab": {
     "base_uri": "https://localhost:8080/"
    },
    "id": "FAENaIR5eo86",
    "outputId": "bce64304-98c9-45b4-c409-49ba69829e54"
   },
   "outputs": [
    {
     "data": {
      "text/plain": [
       "1684390060.797417"
      ]
     },
     "execution_count": 66,
     "metadata": {},
     "output_type": "execute_result"
    }
   ],
   "source": [
    "time.time() # seconds since January 1, 1970 # Unix timestamp"
   ]
  },
  {
   "cell_type": "markdown",
   "metadata": {},
   "source": [
    "__strftime__ - Getting the date and time in a readable format\n",
    "\n",
    "Formatting reference: https://www.programiz.com/python-programming/datetime/strftime"
   ]
  },
  {
   "cell_type": "code",
   "execution_count": 69,
   "metadata": {
    "colab": {
     "base_uri": "https://localhost:8080/",
     "height": 36
    },
    "id": "lCsJzu2metVg",
    "outputId": "f28d8332-45e9-4693-e52c-13b7e54d2411"
   },
   "outputs": [
    {
     "data": {
      "text/plain": [
       "'05/18/2023 02:10:35 Thursday'"
      ]
     },
     "execution_count": 69,
     "metadata": {},
     "output_type": "execute_result"
    }
   ],
   "source": [
    "# date today in human-readable format\n",
    "# %d - day, %m - month, %Y - year\n",
    "# %H - hour, %M - minutes, %S - seconds\n",
    "\n",
    "format_str = \"%m/%d/%Y %I:%M:%S %A\"\n",
    "time.strftime(format_str) "
   ]
  },
  {
   "cell_type": "code",
   "execution_count": 70,
   "metadata": {
    "colab": {
     "base_uri": "https://localhost:8080/",
     "height": 36
    },
    "id": "dejeyZKcgCuZ",
    "outputId": "c43e8dd9-3a25-4935-924b-f94c070f98b9"
   },
   "outputs": [
    {
     "data": {
      "text/plain": [
       "'05/18/23'"
      ]
     },
     "execution_count": 70,
     "metadata": {},
     "output_type": "execute_result"
    }
   ],
   "source": [
    "format_str = \"%D\"\n",
    "time.strftime(format_str)"
   ]
  },
  {
   "cell_type": "markdown",
   "metadata": {},
   "source": [
    "## os\n",
    "\n",
    "Allows you to interact with the operating system directly"
   ]
  },
  {
   "cell_type": "code",
   "execution_count": 71,
   "metadata": {
    "id": "6I0ENablZN2r"
   },
   "outputs": [],
   "source": [
    "import os "
   ]
  },
  {
   "cell_type": "markdown",
   "metadata": {},
   "source": [
    "Get the current working directory"
   ]
  },
  {
   "cell_type": "code",
   "execution_count": 72,
   "metadata": {
    "colab": {
     "base_uri": "https://localhost:8080/",
     "height": 36
    },
    "id": "Iar7DMbjZoi8",
    "outputId": "06410896-f853-4398-9bae-6a0609e376cc"
   },
   "outputs": [
    {
     "data": {
      "text/plain": [
       "'/Users/jinonoel/Library/CloudStorage/OneDrive-ASIANINSTITUTEOFMANAGEMENT/Pre-pds'"
      ]
     },
     "execution_count": 72,
     "metadata": {},
     "output_type": "execute_result"
    }
   ],
   "source": [
    "# if you're using Linux: pwd\n",
    "os.getcwd()"
   ]
  },
  {
   "cell_type": "markdown",
   "metadata": {},
   "source": [
    "Create a new directory/folder"
   ]
  },
  {
   "cell_type": "code",
   "execution_count": 81,
   "metadata": {
    "id": "PppUELU1Z3LO"
   },
   "outputs": [],
   "source": [
    "os.mkdir(\"test_directory\")"
   ]
  },
  {
   "cell_type": "markdown",
   "metadata": {},
   "source": [
    "Delete a directory"
   ]
  },
  {
   "cell_type": "code",
   "execution_count": 80,
   "metadata": {
    "id": "fQykivx-akyx"
   },
   "outputs": [],
   "source": [
    "# remove a directory\n",
    "# on Linux: rm -rf <folder_path>\n",
    "os.rmdir(\"test_directory\")"
   ]
  },
  {
   "cell_type": "markdown",
   "metadata": {},
   "source": [
    "### Opening and Writing Files"
   ]
  },
  {
   "cell_type": "code",
   "execution_count": 102,
   "metadata": {},
   "outputs": [
    {
     "name": "stdout",
     "output_type": "stream",
     "text": [
      "Birthdate 1958/04/21 Surname White Expiry 2010/06/25 expiry_date_length 10\n",
      "Birthdate 1944/12/22 Surname Borden Expiry 2011/02/01 expiry_date_length 10\n",
      "Birthdate 1958/04/21 Surname Green Expiry 2009/02/25 expiry_date_length 10\n",
      "Birthdate 1962/03/25 Surname Munsch Expiry 2010/03/01 expiry_date_length 10\n",
      "Birthdate 1964/09/06 Surname Aragon Expiry 2011/12/01 expiry_date_length 10\n",
      "Birthdate 1986/05/27 Surname Russell Expiry 2010/01/01 expiry_date_length 10\n",
      "Birthdate 1963/09/23 Surname Venson Expiry 2011/12/01 expiry_date_length 10\n",
      "Birthdate 1969/10/02 Surname Conley Expiry 2010/10/01 expiry_date_length 10\n",
      "Birthdate 1978/01/12 Surname Jackson Expiry 2011/11/01 expiry_date_length 10\n",
      "Birthdate 1980/04/09 Surname Davis Expiry 2011/04/01 expiry_date_length 10\n",
      "Birthdate 1975/01/04 Surname Watson Expiry 2011/09/01 expiry_date_length 10\n",
      "Birthdate 1953/07/11 Surname Garrison Expiry 2011/06/01 expiry_date_length 10\n",
      "Birthdate 1968/02/16 Surname Renfro Expiry 2009/03/01 expiry_date_length 10\n",
      "Birthdate 1952/01/20 Surname Heard Expiry 2010/09/01 expiry_date_length 10\n",
      "Birthdate 1980/01/16 Surname Reyes Expiry 2009/11/01 expiry_date_length 10\n",
      "Birthdate 1982/06/14 Surname Hall Expiry 2010/05/01 expiry_date_length 10\n",
      "Birthdate 1961/03/10 Surname Mceachern Expiry 2009/03/01 expiry_date_length 10\n",
      "Birthdate 1955/09/20 Surname Diaz Expiry 2011/08/01 expiry_date_length 10\n",
      "Birthdate 1967/05/28 Surname Lowe Expiry 2011/10/01 expiry_date_length 10\n",
      "Birthdate 1958/10/24 Surname Oyola Expiry 2011/07/01 expiry_date_length 10\n",
      "Birthdate 1953/07/17 Surname Morrison Expiry 2009/12/01 expiry_date_length 10\n",
      "Birthdate 1950/06/09 Surname Santos Expiry 2011/09/01 expiry_date_length 10\n",
      "Birthdate 1965/02/10 Surname Faulkner Expiry 2010/02/01 expiry_date_length 10\n",
      "Birthdate 1977/08/19 Surname Iorio Expiry 2010/02/01 expiry_date_length 10\n",
      "Birthdate 1964/06/20 Surname Kaminski Expiry 2009/10/01 expiry_date_length 10\n",
      "Birthdate 1979/08/18 Surname Edwards Expiry 2010/08/01 expiry_date_length 10\n",
      "Birthdate 1976/05/24 Surname Peacock Expiry 2011/02/01 expiry_date_length 10\n",
      "Birthdate 1950/03/26 Surname Nelson Expiry 2010/02/01 expiry_date_length 10\n",
      "Birthdate 1984/09/21 Surname Townsend Expiry 2011/03/01 expiry_date_length 10\n",
      "Birthdate 1952/11/19 Surname Zwick Expiry 2011/02/01 expiry_date_length 10\n"
     ]
    }
   ],
   "source": [
    "data = open('./sample.csv', 'r')\n",
    "\n",
    "first_line_flag = True\n",
    "\n",
    "for line in data:\n",
    "    if first_line_flag:\n",
    "        first_line_flag = False\n",
    "        continue\n",
    "        \n",
    "    tokens = line.rstrip().split(',')\n",
    "    #print(tokens)\n",
    "    \n",
    "    birthdate = tokens[2]\n",
    "    last_name = tokens[4]\n",
    "    expiry_date = tokens[15]\n",
    "    \n",
    "    print(\"Birthdate\", birthdate, \"Surname\", last_name, 'Expiry', expiry_date, \"expiry_date_length\", len(expiry_date))\n",
    "\n",
    "data.close() #Rule of thumb, if you open something you will have to close it too\n"
   ]
  },
  {
   "cell_type": "code",
   "execution_count": null,
   "metadata": {},
   "outputs": [],
   "source": [
    "data = open('./sample.csv', 'r')\n",
    "print(data.read())"
   ]
  },
  {
   "cell_type": "code",
   "execution_count": 108,
   "metadata": {},
   "outputs": [],
   "source": [
    "output = open('./test_directory/test_file.csv', 'a')\n",
    "\n",
    "output.write(\"Hello, world!\\n\")\n",
    "output.write(\"Test line\\n\")\n",
    "output.close()"
   ]
  },
  {
   "cell_type": "markdown",
   "metadata": {},
   "source": [
    "### File opening modes\n",
    "\n",
    "* 'r' - read only\n",
    "* 'w' - write and deletes original contents\n",
    "* 'a' - appending"
   ]
  },
  {
   "cell_type": "markdown",
   "metadata": {
    "id": "ZfIPSP7hf387"
   },
   "source": [
    "## Downloading new modules\n",
    "\n",
    "Aside from the built-in modules we can download and install 3rd party modules from the internet using the pip command"
   ]
  },
  {
   "cell_type": "code",
   "execution_count": 111,
   "metadata": {},
   "outputs": [],
   "source": [
    "import camelcase"
   ]
  },
  {
   "cell_type": "markdown",
   "metadata": {},
   "source": [
    "# Numpy, Pandas, Matplotlib\n",
    "\n",
    "The libraries you will be using the most in data science\n",
    "\n",
    "__pandas__ - reading, processing, saving tabular data\n",
    "\n",
    "__numpy__ - fast scientific computations\n",
    "\n",
    "__matplotlib__ - Plots and graphs"
   ]
  },
  {
   "cell_type": "code",
   "execution_count": 112,
   "metadata": {
    "id": "lpOxTOhVjYTC"
   },
   "outputs": [],
   "source": [
    "import pandas as pd \n",
    "import numpy as np \n",
    "import matplotlib.pyplot as plt "
   ]
  },
  {
   "cell_type": "markdown",
   "metadata": {},
   "source": [
    "### Numpy\n",
    "\n",
    "#### Vector Dot product"
   ]
  },
  {
   "cell_type": "code",
   "execution_count": 121,
   "metadata": {},
   "outputs": [
    {
     "name": "stdout",
     "output_type": "stream",
     "text": [
      "[[1.4, 3.14, 5, 0, 10, 20.5]]\n",
      "[[ 1.4   3.14  5.    0.   10.   20.5 ]]\n"
     ]
    }
   ],
   "source": [
    "number_list = [\n",
    "    [1.4, 3.14, 5, 0, 10, 20.5]\n",
    "]\n",
    "np_arr = np.array(number_list)\n",
    "\n",
    "print(number_list)\n",
    "print(np_arr)"
   ]
  },
  {
   "cell_type": "code",
   "execution_count": 122,
   "metadata": {},
   "outputs": [
    {
     "data": {
      "text/plain": [
       "(1, 6)"
      ]
     },
     "execution_count": 122,
     "metadata": {},
     "output_type": "execute_result"
    }
   ],
   "source": [
    "np_arr.shape"
   ]
  },
  {
   "cell_type": "code",
   "execution_count": 123,
   "metadata": {},
   "outputs": [
    {
     "name": "stdout",
     "output_type": "stream",
     "text": [
      "8\n"
     ]
    }
   ],
   "source": [
    "A = [1, 2]\n",
    "B = [2, 3]\n",
    "\n",
    "# convert 1st to numpy arrays\n",
    "# requirement for usign numpy operations\n",
    "A = np.array(A)\n",
    "B = np.array(B)\n",
    "\n",
    "print(np.dot(A, B))\n",
    "\n",
    "#1*2 + 2*3"
   ]
  },
  {
   "cell_type": "markdown",
   "metadata": {},
   "source": [
    "#### Matrix multplication"
   ]
  },
  {
   "cell_type": "code",
   "execution_count": 125,
   "metadata": {
    "colab": {
     "base_uri": "https://localhost:8080/"
    },
    "id": "JGX_t0gflf82",
    "outputId": "f6985358-6dc2-4a88-d503-2d5132e647b2"
   },
   "outputs": [
    {
     "name": "stdout",
     "output_type": "stream",
     "text": [
      "[[ 8  1]\n",
      " [18  5]]\n",
      "[[ 2  6]\n",
      " [ 9 -4]]\n"
     ]
    }
   ],
   "source": [
    "# Matrix multiplication using numpy\n",
    "A = [[1, 2],\n",
    "     [3, 4]]\n",
    "\n",
    "B = [[2, 3],\n",
    "     [3, -1]]     \n",
    "\n",
    "# convert 1st to numpy arrays\n",
    "# requirement for usign numpy operations\n",
    "A = np.array(A)\n",
    "B = np.array(B)\n",
    "\n",
    "print(np.dot(A, B))\n",
    "print(A * B)"
   ]
  },
  {
   "cell_type": "markdown",
   "metadata": {},
   "source": [
    "#### Eigenvalues and Eigenvectors"
   ]
  },
  {
   "cell_type": "code",
   "execution_count": 126,
   "metadata": {
    "colab": {
     "base_uri": "https://localhost:8080/"
    },
    "id": "SmEELMh6m0EC",
    "outputId": "6832d85a-1fd2-4ad4-d96a-eadf8e493064"
   },
   "outputs": [
    {
     "name": "stdout",
     "output_type": "stream",
     "text": [
      "[-0.37228132  5.37228132]\n",
      "[[-0.82456484 -0.41597356]\n",
      " [ 0.56576746 -0.90937671]]\n"
     ]
    }
   ],
   "source": [
    "# eigenvalues and eigenvector - linalg()\n",
    "eig_values, eig_vec = np.linalg.eig(A)\n",
    "print(eig_values)\n",
    "print(eig_vec)"
   ]
  },
  {
   "cell_type": "markdown",
   "metadata": {},
   "source": [
    "#### Generating number ranges"
   ]
  },
  {
   "cell_type": "code",
   "execution_count": 127,
   "metadata": {
    "colab": {
     "base_uri": "https://localhost:8080/"
    },
    "id": "v9hUSy6lneIX",
    "outputId": "19f07505-2f2a-41a5-8cdd-4443f89cf35c"
   },
   "outputs": [
    {
     "data": {
      "text/plain": [
       "array([ 0,  2,  4,  6,  8, 10])"
      ]
     },
     "execution_count": 127,
     "metadata": {},
     "output_type": "execute_result"
    }
   ],
   "source": [
    "# using numpy to generate a range\n",
    "# more versatile vs built-in range() - indicate the step\n",
    "start = 0\n",
    "stop = 10+1 # we add a 1 because np.arange stops at a value less than this\n",
    "step = 2\n",
    "np.arange(start, stop, step)"
   ]
  },
  {
   "cell_type": "markdown",
   "metadata": {},
   "source": [
    "### Pandas\n",
    "\n",
    "processing tabular data"
   ]
  },
  {
   "cell_type": "code",
   "execution_count": 148,
   "metadata": {
    "colab": {
     "base_uri": "https://localhost:8080/",
     "height": 424
    },
    "id": "OfiQgecgkw3K",
    "outputId": "7b4b518e-4fb9-4ccd-abcb-81a2b48f2df5"
   },
   "outputs": [
    {
     "data": {
      "text/html": [
       "<div>\n",
       "<style scoped>\n",
       "    .dataframe tbody tr th:only-of-type {\n",
       "        vertical-align: middle;\n",
       "    }\n",
       "\n",
       "    .dataframe tbody tr th {\n",
       "        vertical-align: top;\n",
       "    }\n",
       "\n",
       "    .dataframe thead th {\n",
       "        text-align: right;\n",
       "    }\n",
       "</style>\n",
       "<table border=\"1\" class=\"dataframe\">\n",
       "  <thead>\n",
       "    <tr style=\"text-align: right;\">\n",
       "      <th></th>\n",
       "      <th>id</th>\n",
       "      <th>gender</th>\n",
       "      <th>birthdate</th>\n",
       "      <th>maiden_name</th>\n",
       "      <th>lname</th>\n",
       "      <th>fname</th>\n",
       "      <th>address</th>\n",
       "      <th>city</th>\n",
       "      <th>state</th>\n",
       "      <th>zip</th>\n",
       "      <th>phone</th>\n",
       "      <th>email</th>\n",
       "      <th>cc_type</th>\n",
       "      <th>cc_number</th>\n",
       "      <th>cc_cvc</th>\n",
       "      <th>cc_expiredate</th>\n",
       "    </tr>\n",
       "  </thead>\n",
       "  <tbody>\n",
       "    <tr>\n",
       "      <th>0</th>\n",
       "      <td>172-32-1176</td>\n",
       "      <td>m</td>\n",
       "      <td>1958/04/21</td>\n",
       "      <td>Smith</td>\n",
       "      <td>White</td>\n",
       "      <td>Johnson</td>\n",
       "      <td>10932 Bigge Rd</td>\n",
       "      <td>Menlo Park</td>\n",
       "      <td>CA</td>\n",
       "      <td>94025</td>\n",
       "      <td>408 496-7223</td>\n",
       "      <td>jwhite@domain.com</td>\n",
       "      <td>m</td>\n",
       "      <td>5270 4267 6450 5516</td>\n",
       "      <td>123</td>\n",
       "      <td>2010/06/25</td>\n",
       "    </tr>\n",
       "    <tr>\n",
       "      <th>1</th>\n",
       "      <td>514-14-8905</td>\n",
       "      <td>f</td>\n",
       "      <td>1944/12/22</td>\n",
       "      <td>Amaker</td>\n",
       "      <td>Borden</td>\n",
       "      <td>Ashley</td>\n",
       "      <td>4469 Sherman Street</td>\n",
       "      <td>Goff</td>\n",
       "      <td>KS</td>\n",
       "      <td>66428</td>\n",
       "      <td>785-939-6046</td>\n",
       "      <td>aborden@domain.com</td>\n",
       "      <td>m</td>\n",
       "      <td>5370 4638 8881 3020</td>\n",
       "      <td>713</td>\n",
       "      <td>2011/02/01</td>\n",
       "    </tr>\n",
       "    <tr>\n",
       "      <th>2</th>\n",
       "      <td>213-46-8915</td>\n",
       "      <td>f</td>\n",
       "      <td>1958/04/21</td>\n",
       "      <td>Pinson</td>\n",
       "      <td>Green</td>\n",
       "      <td>Marjorie</td>\n",
       "      <td>309 63rd St. #411</td>\n",
       "      <td>Oakland</td>\n",
       "      <td>CA</td>\n",
       "      <td>94618</td>\n",
       "      <td>415 986-7020</td>\n",
       "      <td>mgreen@domain.com</td>\n",
       "      <td>v</td>\n",
       "      <td>4916 9766 5240 6147</td>\n",
       "      <td>258</td>\n",
       "      <td>2009/02/25</td>\n",
       "    </tr>\n",
       "    <tr>\n",
       "      <th>3</th>\n",
       "      <td>524-02-7657</td>\n",
       "      <td>m</td>\n",
       "      <td>1962/03/25</td>\n",
       "      <td>Hall</td>\n",
       "      <td>Munsch</td>\n",
       "      <td>Jerome</td>\n",
       "      <td>2183 Roy Alley</td>\n",
       "      <td>Centennial</td>\n",
       "      <td>CO</td>\n",
       "      <td>80112</td>\n",
       "      <td>303-901-6123</td>\n",
       "      <td>jmunsch@domain.com</td>\n",
       "      <td>m</td>\n",
       "      <td>5180 3807 3679 8221</td>\n",
       "      <td>612</td>\n",
       "      <td>2010/03/01</td>\n",
       "    </tr>\n",
       "    <tr>\n",
       "      <th>4</th>\n",
       "      <td>489-36-8350</td>\n",
       "      <td>m</td>\n",
       "      <td>1964/09/06</td>\n",
       "      <td>Porter</td>\n",
       "      <td>Aragon</td>\n",
       "      <td>Robert</td>\n",
       "      <td>3181 White Oak Drive</td>\n",
       "      <td>Kansas City</td>\n",
       "      <td>MO</td>\n",
       "      <td>66215</td>\n",
       "      <td>816-645-6936</td>\n",
       "      <td>raragon@domain.com</td>\n",
       "      <td>v</td>\n",
       "      <td>4929 3813 3266 4295</td>\n",
       "      <td>911</td>\n",
       "      <td>2011/12/01</td>\n",
       "    </tr>\n",
       "  </tbody>\n",
       "</table>\n",
       "</div>"
      ],
      "text/plain": [
       "            id gender   birthdate maiden_name   lname     fname  \\\n",
       "0  172-32-1176      m  1958/04/21       Smith   White   Johnson   \n",
       "1  514-14-8905      f  1944/12/22      Amaker  Borden    Ashley   \n",
       "2  213-46-8915      f  1958/04/21      Pinson   Green  Marjorie   \n",
       "3  524-02-7657      m  1962/03/25        Hall  Munsch    Jerome   \n",
       "4  489-36-8350      m  1964/09/06      Porter  Aragon    Robert   \n",
       "\n",
       "                address         city state    zip         phone  \\\n",
       "0        10932 Bigge Rd   Menlo Park    CA  94025  408 496-7223   \n",
       "1   4469 Sherman Street         Goff    KS  66428  785-939-6046   \n",
       "2     309 63rd St. #411      Oakland    CA  94618  415 986-7020   \n",
       "3        2183 Roy Alley   Centennial    CO  80112  303-901-6123   \n",
       "4  3181 White Oak Drive  Kansas City    MO  66215  816-645-6936   \n",
       "\n",
       "                email cc_type            cc_number  cc_cvc cc_expiredate  \n",
       "0   jwhite@domain.com       m  5270 4267 6450 5516     123    2010/06/25  \n",
       "1  aborden@domain.com       m  5370 4638 8881 3020     713    2011/02/01  \n",
       "2   mgreen@domain.com       v  4916 9766 5240 6147     258    2009/02/25  \n",
       "3  jmunsch@domain.com       m  5180 3807 3679 8221     612    2010/03/01  \n",
       "4  raragon@domain.com       v  4929 3813 3266 4295     911    2011/12/01  "
      ]
     },
     "execution_count": 148,
     "metadata": {},
     "output_type": "execute_result"
    }
   ],
   "source": [
    "# ./ means start from the current directory you're in\n",
    "path = \"./sample.csv\"\n",
    "\n",
    "# pandas to read the csv\n",
    "df = pd.read_csv(path)\n",
    "df.head()"
   ]
  },
  {
   "cell_type": "code",
   "execution_count": 140,
   "metadata": {},
   "outputs": [
    {
     "data": {
      "text/plain": [
       "array(['m', 'f', 'M'], dtype=object)"
      ]
     },
     "execution_count": 140,
     "metadata": {},
     "output_type": "execute_result"
    }
   ],
   "source": [
    "df['gender'].unique()"
   ]
  },
  {
   "cell_type": "code",
   "execution_count": 164,
   "metadata": {},
   "outputs": [
    {
     "data": {
      "text/html": [
       "<div>\n",
       "<style scoped>\n",
       "    .dataframe tbody tr th:only-of-type {\n",
       "        vertical-align: middle;\n",
       "    }\n",
       "\n",
       "    .dataframe tbody tr th {\n",
       "        vertical-align: top;\n",
       "    }\n",
       "\n",
       "    .dataframe thead th {\n",
       "        text-align: right;\n",
       "    }\n",
       "</style>\n",
       "<table border=\"1\" class=\"dataframe\">\n",
       "  <thead>\n",
       "    <tr style=\"text-align: right;\">\n",
       "      <th></th>\n",
       "      <th>email</th>\n",
       "      <th>lname</th>\n",
       "    </tr>\n",
       "  </thead>\n",
       "  <tbody>\n",
       "    <tr>\n",
       "      <th>4</th>\n",
       "      <td>raragon@domain.com</td>\n",
       "      <td>Aragon</td>\n",
       "    </tr>\n",
       "    <tr>\n",
       "      <th>7</th>\n",
       "      <td>tconley@domain.com</td>\n",
       "      <td>Conley</td>\n",
       "    </tr>\n",
       "    <tr>\n",
       "      <th>13</th>\n",
       "      <td>jheard@domain.com</td>\n",
       "      <td>Heard</td>\n",
       "    </tr>\n",
       "    <tr>\n",
       "      <th>14</th>\n",
       "      <td>dreyes@domain.com</td>\n",
       "      <td>Reyes</td>\n",
       "    </tr>\n",
       "    <tr>\n",
       "      <th>15</th>\n",
       "      <td>mhall@domain.com</td>\n",
       "      <td>Hall</td>\n",
       "    </tr>\n",
       "    <tr>\n",
       "      <th>21</th>\n",
       "      <td>tsantos@domain.com</td>\n",
       "      <td>Santos</td>\n",
       "    </tr>\n",
       "    <tr>\n",
       "      <th>23</th>\n",
       "      <td>aiorio@domain.com</td>\n",
       "      <td>Iorio</td>\n",
       "    </tr>\n",
       "  </tbody>\n",
       "</table>\n",
       "</div>"
      ],
      "text/plain": [
       "                 email   lname\n",
       "4   raragon@domain.com  Aragon\n",
       "7   tconley@domain.com  Conley\n",
       "13   jheard@domain.com   Heard\n",
       "14   dreyes@domain.com   Reyes\n",
       "15    mhall@domain.com    Hall\n",
       "21  tsantos@domain.com  Santos\n",
       "23   aiorio@domain.com   Iorio"
      ]
     },
     "execution_count": 164,
     "metadata": {},
     "output_type": "execute_result"
    }
   ],
   "source": [
    "df[(df['gender'] == 'm') & (df['cc_type'] == 'v')][['email', 'lname']]"
   ]
  },
  {
   "cell_type": "code",
   "execution_count": 175,
   "metadata": {},
   "outputs": [],
   "source": [
    "df['gender_correct'] = df['gender']\n",
    "df.loc[df['gender'] == 'M', 'gender_correct'] = 'm'"
   ]
  },
  {
   "cell_type": "code",
   "execution_count": 176,
   "metadata": {},
   "outputs": [
    {
     "data": {
      "text/plain": [
       "array(['m', 'f'], dtype=object)"
      ]
     },
     "execution_count": 176,
     "metadata": {},
     "output_type": "execute_result"
    }
   ],
   "source": [
    "df['gender_correct'].unique()"
   ]
  },
  {
   "cell_type": "markdown",
   "metadata": {},
   "source": [
    "### Matplotlib"
   ]
  },
  {
   "cell_type": "code",
   "execution_count": 180,
   "metadata": {
    "colab": {
     "base_uri": "https://localhost:8080/",
     "height": 283
    },
    "id": "GTWwzIWDoE1s",
    "outputId": "a0cff89d-9b0c-4bf6-f393-e5042455ee3a"
   },
   "outputs": [
    {
     "data": {
      "text/plain": [
       "<matplotlib.collections.PathCollection at 0x7fd5f0bc45b0>"
      ]
     },
     "execution_count": 180,
     "metadata": {},
     "output_type": "execute_result"
    },
    {
     "data": {
      "image/png": "[encoded data removed]",
      "text/plain": [
       "<Figure size 640x480 with 1 Axes>"
      ]
     },
     "metadata": {},
     "output_type": "display_data"
    }
   ],
   "source": [
    "# values at the x-axis\n",
    "x = np.arange(0, 20, 0.1)\n",
    "\n",
    "# y-values\n",
    "# numpyp has a built-in sin method that takes in an array\n",
    "y = np.sin(x)\n",
    "\n",
    "# use matplotlib to plot\n",
    "plt.scatter(x, y)"
   ]
  },
  {
   "cell_type": "markdown",
   "metadata": {
    "id": "J5hmJ4zsjFxK"
   },
   "source": [
    "## Exceptions\n",
    "* Useful for catching errors during deployment if you don't want your entire code to fail"
   ]
  },
  {
   "cell_type": "code",
   "execution_count": 181,
   "metadata": {
    "colab": {
     "base_uri": "https://localhost:8080/",
     "height": 168
    },
    "id": "E0uYIAmpuXYN",
    "outputId": "3acfe18f-d61e-44f5-8e9a-a1c9aa7df0c6"
   },
   "outputs": [
    {
     "ename": "TypeError",
     "evalue": "can only concatenate str (not \"int\") to str",
     "output_type": "error",
     "traceback": [
      "\u001b[0;31m---------------------------------------------------------------------------\u001b[0m",
      "\u001b[0;31mTypeError\u001b[0m                                 Traceback (most recent call last)",
      "\u001b[0;32m/var/folders/hh/017vdlc53q3_cpm3wt0s4mfm0000gp/T/ipykernel_80470/1092246262.py\u001b[0m in \u001b[0;36m<module>\u001b[0;34m\u001b[0m\n\u001b[0;32m----> 1\u001b[0;31m \u001b[0;34m\"1\"\u001b[0m \u001b[0;34m+\u001b[0m \u001b[0;36m2\u001b[0m\u001b[0;34m\u001b[0m\u001b[0;34m\u001b[0m\u001b[0m\n\u001b[0m",
      "\u001b[0;31mTypeError\u001b[0m: can only concatenate str (not \"int\") to str"
     ]
    }
   ],
   "source": [
    "\"1\" + 2"
   ]
  },
  {
   "cell_type": "code",
   "execution_count": 184,
   "metadata": {
    "colab": {
     "base_uri": "https://localhost:8080/"
    },
    "id": "56RPfKvQuDgi",
    "outputId": "f5acfc77-b82f-4311-c83c-b096d1cb2c06"
   },
   "outputs": [
    {
     "name": "stdout",
     "output_type": "stream",
     "text": [
      "Error 1 2\n",
      "We continued here\n"
     ]
    }
   ],
   "source": [
    "a = \"1\"\n",
    "b = 2\n",
    "try:    \n",
    "    c = a + b\n",
    "except: # all kinds of errors\n",
    "    print(\"Error\", a, b)\n",
    "    \n",
    "print(\"We continued here\")"
   ]
  },
  {
   "cell_type": "code",
   "execution_count": 185,
   "metadata": {
    "colab": {
     "base_uri": "https://localhost:8080/"
    },
    "id": "UC5IP1NCuz2j",
    "outputId": "a667d1d5-0598-4607-b59a-24db14569ef5"
   },
   "outputs": [
    {
     "name": "stdout",
     "output_type": "stream",
     "text": [
      "can only concatenate str (not \"int\") to str\n"
     ]
    }
   ],
   "source": [
    "try:\n",
    "    a = \"1\" + 2\n",
    "except Exception as e:\n",
    "    print(e)"
   ]
  },
  {
   "cell_type": "code",
   "execution_count": 186,
   "metadata": {
    "id": "Rpob0qP4vq3U"
   },
   "outputs": [],
   "source": [
    "import traceback # traces back the error to be able to see the more detailed error"
   ]
  },
  {
   "cell_type": "code",
   "execution_count": 187,
   "metadata": {
    "colab": {
     "base_uri": "https://localhost:8080/"
    },
    "id": "J7JzV4WIvHzE",
    "outputId": "74fa0e1d-8919-4830-ed2c-8dbb2cd7207f"
   },
   "outputs": [
    {
     "name": "stderr",
     "output_type": "stream",
     "text": [
      "Traceback (most recent call last):\n",
      "  File \"/var/folders/hh/017vdlc53q3_cpm3wt0s4mfm0000gp/T/ipykernel_80470/548984351.py\", line 2, in <module>\n",
      "    1/0\n",
      "ZeroDivisionError: division by zero\n"
     ]
    }
   ],
   "source": [
    "try:\n",
    "    1/0\n",
    "except Exception:\n",
    "    traceback.print_exc()"
   ]
  },
  {
   "cell_type": "markdown",
   "metadata": {
    "id": "zrZRjos00V4e"
   },
   "source": [
    "## Classes\n",
    "* Blueprint for a Python object\n",
    "* You can have many different Python objects based on the same blueprint/class\n",
    "* Analogy: Blueprint for a house. You can use the same blueprint to build many different houses that look the same. These are different objects.\n",
    "* A class can have many different characteristics and functions. Functions are called \"methods\" when used inside a class\n",
    "* Methods work on specific objects\n",
    "* Format: object.method()\n",
    "* Flow: class -> object -> object.method()\n",
    "\n",
    "* Paradigm or way of coding = \"object-oriented programming\""
   ]
  },
  {
   "cell_type": "code",
   "execution_count": 189,
   "metadata": {
    "id": "76g_E2n7D7LH"
   },
   "outputs": [],
   "source": [
    "# Template/Blueprint/Model of a person\n",
    "class Person:\n",
    "    def __init__(self, name, age, height, weight):\n",
    "        self.name = name # assign the variable to the object. self.var = var\n",
    "        self.age = age\n",
    "        self.height = height\n",
    "        self.weight = weight\n",
    "\n",
    "    # mutliplier has a default value\n",
    "    def eat(self, multiplier = 1.1):\n",
    "        self.weight = multiplier * self.weight\n",
    "\n",
    "    # exercise time affects how much weight loss\n",
    "    def exercise(self, time_min, multiplier = 1.001):\n",
    "        self.weight = self.weight / (multiplier ** time_min)\n",
    "\n",
    "   "
   ]
  },
  {
   "cell_type": "markdown",
   "metadata": {},
   "source": [
    "#### Create new persons"
   ]
  },
  {
   "cell_type": "code",
   "execution_count": 190,
   "metadata": {
    "id": "NJPMf8I9E_4o"
   },
   "outputs": [],
   "source": [
    "bob = Person(name = 'Bob', age = 31, height = 170, weight = 60)\n",
    "jane = Person(name = 'Jane', age = 25, height = 155, weight = 55)"
   ]
  },
  {
   "cell_type": "code",
   "execution_count": 191,
   "metadata": {
    "colab": {
     "base_uri": "https://localhost:8080/"
    },
    "id": "OuZioLRHFYjM",
    "outputId": "2677e9c4-f90e-4844-a393-a1ff194953d0"
   },
   "outputs": [
    {
     "name": "stdout",
     "output_type": "stream",
     "text": [
      "31\n",
      "25\n"
     ]
    }
   ],
   "source": [
    "# check Bob's age\n",
    "print(bob.age)\n",
    "print(jane.age)"
   ]
  },
  {
   "cell_type": "code",
   "execution_count": 192,
   "metadata": {
    "colab": {
     "base_uri": "https://localhost:8080/"
    },
    "id": "hxFJU_kCFb88",
    "outputId": "fe23b95f-534c-4bf1-ea31-de7a9bac05f2"
   },
   "outputs": [
    {
     "name": "stdout",
     "output_type": "stream",
     "text": [
      "Eat\n",
      "Before 60\n",
      "After 61.2\n",
      "Exercise\n",
      "After 60.591352579635846\n"
     ]
    }
   ],
   "source": [
    "# Bob eats\n",
    "print(\"Eat\")\n",
    "print(\"Before\", bob.weight)\n",
    "bob.eat(multiplier = 1.02)\n",
    "print(\"After\", bob.weight)\n",
    "\n",
    "# bob exercises\n",
    "print(\"Exercise\")\n",
    "bob.exercise(time_min=10, multiplier=1.001)\n",
    "print(\"After\", bob.weight)"
   ]
  },
  {
   "cell_type": "code",
   "execution_count": 193,
   "metadata": {
    "colab": {
     "base_uri": "https://localhost:8080/"
    },
    "id": "gIF9rzC9GBjb",
    "outputId": "620eacf3-6d41-49d3-8aff-599816cb4a73"
   },
   "outputs": [
    {
     "name": "stdout",
     "output_type": "stream",
     "text": [
      "55\n",
      "56.1\n",
      "55.54207319799953\n"
     ]
    }
   ],
   "source": [
    "# eats\n",
    "print(jane.weight)\n",
    "jane.eat(multiplier = 1.02)\n",
    "print(jane.weight)\n",
    "\n",
    "# exercises\n",
    "jane.exercise(time_min=10, multiplier=1.001)\n",
    "print(jane.weight)"
   ]
  },
  {
   "cell_type": "markdown",
   "metadata": {
    "id": "Hl-UVMoMHyxC"
   },
   "source": [
    "Word problem: Bob ate 5 times and gained weight. How many times should Bob exercise (10 min each) to go back to his original weight?"
   ]
  },
  {
   "cell_type": "code",
   "execution_count": 195,
   "metadata": {
    "colab": {
     "base_uri": "https://localhost:8080/"
    },
    "id": "4y-xuBF1HbB6",
    "outputId": "9a548bf8-2e3d-40d4-f63e-86f1085236a0"
   },
   "outputs": [
    {
     "name": "stdout",
     "output_type": "stream",
     "text": [
      "Initial weight 60\n",
      "After eating 96.63060000000003\n"
     ]
    }
   ],
   "source": [
    "# how many 10-minute exercises needed?\n",
    "bob = Person(name = 'Bob', \n",
    "             age = 31, \n",
    "             height = 170, \n",
    "             weight = 60)\n",
    "\n",
    "bob_init_weight = bob.weight # initial weight\n",
    "print(\"Initial weight\", bob.weight)\n",
    "\n",
    "# eat 5 times\n",
    "for i in range(5):\n",
    "    bob.eat()\n",
    "print(\"After eating\", bob.weight)\n",
    "\n"
   ]
  },
  {
   "cell_type": "code",
   "execution_count": 196,
   "metadata": {},
   "outputs": [
    {
     "name": "stdout",
     "output_type": "stream",
     "text": [
      "48\n",
      "After exercise 59.80775299888424\n"
     ]
    }
   ],
   "source": [
    "#Exercise while current weight is greater than initial weight\n",
    "num_exercise = 0\n",
    "while bob.weight > bob_init_weight:\n",
    "    bob.exercise(time_min=10)  \n",
    "    num_exercise += 1\n",
    "\n",
    "print(num_exercise)\n",
    "print(\"After exercise\", bob.weight)"
   ]
  },
  {
   "cell_type": "markdown",
   "metadata": {},
   "source": [
    "## QUESTIONS?"
   ]
  }
 ],
 "metadata": {
  "colab": {
   "collapsed_sections": [
    "b0347n3zSCFe",
    "1a0v3iRgLXo1",
    "7YH-IjXqXHLW",
    "OP3XA5bbZcnS",
    "ZfIPSP7hf387",
    "J5hmJ4zsjFxK"
   ],
   "name": "python_bootcamp_day2.ipynb",
   "provenance": []
  },
  "kernelspec": {
   "display_name": "Python 3 (ipykernel)",
   "language": "python",
   "name": "python3"
  },
  "language_info": {
   "codemirror_mode": {
    "name": "ipython",
    "version": 3
   },
   "file_extension": ".py",
   "mimetype": "text/x-python",
   "name": "python",
   "nbconvert_exporter": "python",
   "pygments_lexer": "ipython3",
   "version": "3.9.13"
  }
 },
 "nbformat": 4,
 "nbformat_minor": 1
}
