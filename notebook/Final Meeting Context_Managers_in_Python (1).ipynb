{
 "cells": [
  {
   "cell_type": "markdown",
   "id": "34b97f45-8dbe-4acd-874b-a4c620ed9a8b",
   "metadata": {
    "noteable": {
     "cell_type": "markdown"
    }
   },
   "source": [
    "# Context Managers in Python\n",
    "\n",
    "In Python, context managers are a powerful tool that allows you to set up resources for a specific part of your code, and then automatically clean up those resources when you're done. The most common use case is opening files, but there are many other applications, such as connecting to databases, acquiring locks in multithreading, and more.\n",
    "\n",
    "The `with` statement in Python is used in conjunction with context managers to ensure resources are managed efficiently. In this notebook, we'll explore the concept of context managers, their implementation, and their common use cases, especially in data science and machine learning."
   ]
  },
  {
   "cell_type": "markdown",
   "id": "700a07b7-05a5-452b-af78-0d2114b94881",
   "metadata": {
    "noteable": {
     "cell_type": "markdown"
    }
   },
   "source": [
    "## Definition and Key Concepts\n",
    "\n",
    "A context manager is an object that defines the methods `__enter__()` and `__exit__()`, allowing it to be used with the `with` statement in Python. The primary purpose of a context manager is to set up a resource for a specific part of the code and ensure that the resource is cleaned up properly when that code block is exited.\n",
    "\n",
    "### Context Manager Methods:\n",
    "\n",
    "1. **`__enter__()`**:\n",
    "   - This method is executed when the `with` block is entered.\n",
    "   - It can return an object that will be used within the `with` block. For example, when opening a file, the `__enter__()` method returns the file object.\n",
    "\n",
    "2. **`__exit__(exc_type, exc_val, exc_tb)`**:\n",
    "   - This method is executed when the `with` block is exited.\n",
    "   - It can handle exceptions that occur within the `with` block. If the method returns `True`, the exception is suppressed. If it returns `False` or `None`, the exception is propagated.\n",
    "   - The arguments `exc_type`, `exc_val`, and `exc_tb` provide information about the exception (type, value, and traceback, respectively). If no exception occurred, all three arguments are `None`.\n",
    "\n",
    "### Benefits of Using Context Managers:\n",
    "\n",
    "- **Resource Management**: Ensure that resources like files, network connections, and database connections are properly closed or cleaned up, even if exceptions occur.\n",
    "- **Code Readability**: The `with` statement provides a clear indication of where a resource is being used and ensures that setup and cleanup code is located close together.\n",
    "- **Exception Handling**: The `__exit__()` method can handle exceptions, making it easier to manage error scenarios related to resource management."
   ]
  },
  {
   "cell_type": "markdown",
   "id": "3b12bc92-b902-4f42-9271-c242c274382f",
   "metadata": {
    "noteable": {
     "cell_type": "markdown"
    }
   },
   "source": [
    "## Under the Hood: How the `with` Statement Works\n",
    "\n",
    "When you use a context manager with the `with` statement, a series of events occur under the hood:\n",
    "\n",
    "1. **Initialization**: The context manager is initialized (if it's a class, an instance is created).\n",
    "2. **Enter**: The `__enter__()` method of the context manager is called. Any value returned by this method is assigned to the variable after the `as` keyword (if provided).\n",
    "3. **Body Execution**: The code block inside the `with` statement is executed.\n",
    "4. **Exit**: Regardless of whether the body execution was successful or raised an exception, the `__exit__()` method of the context manager is called.\n",
    "   - If an exception occurred, the type, value, and traceback of the exception are passed as arguments to the `__exit__()` method.\n",
    "   - If the `__exit__()` method returns `True`, the exception is suppressed. If it returns `False` or `None`, the exception is propagated.\n",
    "\n",
    "This sequence ensures that resources are set up and torn down properly, and that exceptions are handled in a consistent manner."
   ]
  },
  {
   "cell_type": "markdown",
   "id": "44124f0f-ffe2-4b9d-93e9-3f5d526e47a4",
   "metadata": {
    "noteable": {
     "cell_type": "markdown"
    }
   },
   "source": [
    "## Common Use Cases of Context Managers\n",
    "\n",
    "Context managers are versatile and can be used in various scenarios. Some of the most common use cases include:\n",
    "\n",
    "1. **File Handling**:\n",
    "   - Ensures that files are properly closed after operations, even if an error occurs.\n",
    "   ```python\n",
    "   with open('file.txt', 'r') as file:\n",
    "       content = file.read()\n",
    "   ```\n",
    "\n",
    "2. **Database Connections**:\n",
    "   - Manages database connections, ensuring they are closed or returned to a connection pool.\n",
    "\n",
    "3. **Locks in Multithreading**:\n",
    "   - Ensures that locks are acquired and released properly, preventing deadlocks.\n",
    "   ```python\n",
    "   with threading.Lock():\n",
    "       # Critical section of code\n",
    "   ```\n",
    "\n",
    "4. **Resource Management**:\n",
    "   - Manages resources like network connections, ensuring they are set up and torn down properly.\n",
    "\n",
    "5. **Temporary Changes to Global State**:\n",
    "   - Temporarily modifies global settings and then restores them. For example, changing the precision of floating-point numbers in the `decimal` module.\n",
    "   ```python\n",
    "   with decimal.localcontext() as ctx:\n",
    "       ctx.prec = 2\n",
    "       # Operations with modified precision\n",
    "   ```\n",
    "\n",
    "These are just a few examples. The power of context managers lies in their ability to ensure that resources are managed efficiently and that setup and cleanup actions are taken care of, regardless of how a block of code is exited."
   ]
  },
  {
   "cell_type": "markdown",
   "id": "56907d88-0691-4dae-bea0-d1aa43840b2b",
   "metadata": {
    "noteable": {
     "cell_type": "markdown"
    }
   },
   "source": [
    "## Examples of Context Managers\n",
    "\n",
    "Let's dive into some examples to better understand how context managers work and how they can be implemented."
   ]
  },
  {
   "cell_type": "code",
   "execution_count": null,
   "id": "81c45078-2ce8-4516-8406-71b8b0c2d830",
   "metadata": {
    "noteable": {
     "cell_type": "code"
    }
   },
   "outputs": [],
   "source": [
    "# Example 1: File Handling\n",
    "\n",
    "# Writing to a file using a context manager\n",
    "with open('sample_file.txt', 'w') as file:\n",
    "    file.write('Hello, Context Managers!')\n",
    "\n",
    "# Reading from the file\n",
    "with open('sample_file.txt', 'r') as file:\n",
    "    content = file.read()\n",
    "    print(content)"
   ]
  },
  {
   "cell_type": "markdown",
   "id": "cd347d09-876a-4c5d-bed4-5443e96be5b0",
   "metadata": {
    "noteable": {
     "cell_type": "markdown"
    }
   },
   "source": [
    "In the example above, we used the `open()` function, which is a built-in context manager for file handling. The `with` statement ensures that the file is properly closed after the operations, even if an error occurs within the block.\n",
    "\n",
    "Now, let's look at how we can create our own custom context manager."
   ]
  },
  {
   "cell_type": "code",
   "execution_count": null,
   "id": "62b9876d-2eb6-4b23-87ef-7d0f0b777a5c",
   "metadata": {
    "noteable": {
     "cell_type": "code"
    }
   },
   "outputs": [],
   "source": [
    "# Example 2: Creating a Custom Context Manager\n",
    "\n",
    "class SimpleTimer:\n",
    "    def __enter__(self):\n",
    "        import time\n",
    "        self.start = time.time()\n",
    "        return self\n",
    "\n",
    "    def __exit__(self, exc_type, exc_val, exc_tb):\n",
    "        self.end = time.time()\n",
    "        self.interval = self.end - self.start\n",
    "        print(f'Elapsed time: {self.interval:.2f} seconds')\n",
    "\n",
    "# Using the custom context manager\n",
    "with SimpleTimer() as timer:\n",
    "    for _ in range(1000000):\n",
    "        pass"
   ]
  },
  {
   "cell_type": "markdown",
   "id": "fcbd23a3-97f8-4ffd-9eb6-9555099eb9f3",
   "metadata": {
    "noteable": {
     "cell_type": "markdown"
    }
   },
   "source": [
    "In the example above, we created a custom context manager called `SimpleTimer`. This context manager measures the time taken to execute the code block inside the `with` statement.\n",
    "\n",
    "- The `__enter__()` method is called when entering the `with` block. It records the start time.\n",
    "- The `__exit__()` method is called when exiting the `with` block. It records the end time, calculates the elapsed time, and prints it.\n",
    "\n",
    "This is a simple example, but it demonstrates the power and flexibility of context managers. You can create custom context managers to manage a wide variety of resources and scenarios."
   ]
  },
  {
   "cell_type": "markdown",
   "id": "fd1f6da4-a696-4be9-9924-9b3d2e6d56e1",
   "metadata": {
    "noteable": {
     "cell_type": "markdown"
    }
   },
   "source": [
    "## Exercises\n",
    "\n",
    "Now, let's test your understanding of context managers with some exercises."
   ]
  },
  {
   "cell_type": "markdown",
   "id": "cd5a96b4-1455-4393-ade4-c188e6d58e99",
   "metadata": {
    "noteable": {
     "cell_type": "markdown"
    }
   },
   "source": [
    "### Exercise 1\n",
    "\n",
    "Create a custom context manager that writes logs to a file. The context manager should accept a filename as an argument and provide a method to write logs. Ensure that the file is properly closed after writing the logs.\n",
    "\n",
    "Use the context manager to write some sample logs to a file named 'logs.txt'."
   ]
  },
  {
   "cell_type": "markdown",
   "id": "12b50b2c-7dc0-44fb-bfcd-af0a9ac54b5f",
   "metadata": {
    "noteable": {
     "cell_type": "markdown"
    }
   },
   "source": [
    "### Answer to Exercise 1"
   ]
  },
  {
   "cell_type": "code",
   "execution_count": null,
   "id": "c09ee2f8-6ffa-4636-a9e7-8acf7e3fa0ae",
   "metadata": {
    "noteable": {
     "cell_type": "code"
    }
   },
   "outputs": [],
   "source": [
    "# Answer to Exercise 1\n",
    "\n",
    "class LogWriter:\n",
    "    def __init__(self, filename):\n",
    "        self.filename = filename\n",
    "\n",
    "    def __enter__(self):\n",
    "        self.file = open(self.filename, 'w')\n",
    "        return self\n",
    "\n",
    "    def __exit__(self, exc_type, exc_val, exc_tb):\n",
    "        self.file.close()\n",
    "\n",
    "    def write_log(self, log_message):\n",
    "        self.file.write(log_message + '\\n')\n",
    "\n",
    "# Using the custom context manager to write logs\n",
    "with LogWriter('logs.txt') as logger:\n",
    "    logger.write_log('This is a sample log entry.')\n",
    "    logger.write_log('Another log entry.')"
   ]
  },
  {
   "cell_type": "markdown",
   "id": "299712cd-5da1-4527-bdc4-19de3dec82a6",
   "metadata": {
    "noteable": {
     "cell_type": "markdown"
    }
   },
   "source": [
    "In the solution above, we created a custom context manager called `LogWriter`. This context manager allows us to write logs to a specified file. The `write_log` method is used to write individual log entries to the file.\n",
    "\n",
    "The `__enter__()` method opens the file in write mode and returns the logger object, allowing us to use its methods within the `with` block. The `__exit__()` method ensures that the file is properly closed after writing the logs, even if an error occurs within the block."
   ]
  },
  {
   "cell_type": "markdown",
   "id": "36199ee6-5685-4ade-8d96-278968975b30",
   "metadata": {
    "noteable": {
     "cell_type": "markdown"
    }
   },
   "source": [
    "### Exercise 1 (continued)\n",
    "\n",
    "Create a custom context manager that writes logs to a file. The context manager should accept a filename as an argument and provide a method to write logs. Ensure that the file is properly closed after writing the logs, even if an error occurs within the block.\n",
    "\n",
    "Use this context manager to write three log messages to a file named 'logs.txt'."
   ]
  },
  {
   "cell_type": "markdown",
   "id": "cf84540e-7acf-414d-81af-fb96e085a060",
   "metadata": {
    "noteable": {
     "cell_type": "markdown"
    }
   },
   "source": [
    "### Exercise 2\n",
    "\n",
    "Create a custom context manager that measures the memory usage of the code block inside the `with` statement. The context manager should print the memory used (in MB) after the code block is executed. (Hint: You can use the `psutil` library to measure memory usage.)"
   ]
  },
  {
   "cell_type": "markdown",
   "id": "c88dc445-e94d-44f9-b601-8b75bdf5029b",
   "metadata": {
    "noteable": {
     "cell_type": "markdown"
    }
   },
   "source": [
    "### Answer Key"
   ]
  },
  {
   "cell_type": "code",
   "execution_count": null,
   "id": "65f33b6f-904f-401b-b1b8-4a4466d3c225",
   "metadata": {
    "noteable": {
     "cell_type": "code"
    }
   },
   "outputs": [],
   "source": [
    "# Answer for Exercise 1\n",
    "\n",
    "class LogWriter:\n",
    "    def __init__(self, filename):\n",
    "        self.filename = filename\n",
    "\n",
    "    def __enter__(self):\n",
    "        self.file = open(self.filename, 'w')\n",
    "        return self\n",
    "\n",
    "    def __exit__(self, exc_type, exc_val, exc_tb):\n",
    "        self.file.close()\n",
    "\n",
    "    def write_log(self, message):\n",
    "        self.file.write(message + '\\n')\n",
    "\n",
    "# Using the custom context manager\n",
    "with LogWriter('logs.txt') as logger:\n",
    "    logger.write_log('Log message 1')\n",
    "    logger.write_log('Log message 2')\n",
    "    logger.write_log('Log message 3')"
   ]
  },
  {
   "cell_type": "code",
   "execution_count": null,
   "id": "4a15b581-d480-4299-a062-030fb8093ee2",
   "metadata": {
    "noteable": {
     "cell_type": "code"
    }
   },
   "outputs": [],
   "source": [
    "# Answer for Exercise 2\n",
    "# Note: This requires the 'psutil' library, which might not be installed by default.\n",
    "\n",
    "import psutil\n",
    "\n",
    "class MemoryUsage:\n",
    "    def __enter__(self):\n",
    "        self.start_mem = psutil.Process().memory_info().rss\n",
    "        return self\n",
    "\n",
    "    def __exit__(self, exc_type, exc_val, exc_tb):\n",
    "        self.end_mem = psutil.Process().memory_info().rss\n",
    "        print(f'Memory used: {(self.end_mem - self.start_mem) / (1024 * 1024):.2f} MB')\n",
    "\n",
    "# Using the custom context manager\n",
    "with MemoryUsage():\n",
    "    _ = [i for i in range(1000000)]"
   ]
  }
 ],
 "metadata": {
  "kernel_info": {
   "name": "python3"
  },
  "kernelspec": {
   "display_name": "Python 3 (ipykernel)",
   "language": "python",
   "name": "python3"
  },
  "language_info": {
   "codemirror_mode": {
    "name": "ipython",
    "version": 3
   },
   "file_extension": ".py",
   "mimetype": "text/x-python",
   "name": "python",
   "nbconvert_exporter": "python",
   "pygments_lexer": "ipython3",
   "version": "3.10.12"
  },
  "noteable": {
   "last_delta_id": "eb4c263a-8726-4252-9691-63efc7892068"
  },
  "noteable-chatgpt": {
   "create_notebook": {
    "openai_conversation_id": "a6da49e8-1fcd-5817-9beb-8d4fe8c55932",
    "openai_ephemeral_user_id": "6d97e9c8-43d4-5634-a70d-8e6342906b9f",
    "openai_subdivision1_iso_code": "PH-00"
   }
  },
  "nteract": {
   "version": "noteable@2.9.0"
  },
  "selected_hardware_size": "small"
 },
 "nbformat": 4,
 "nbformat_minor": 5
}
