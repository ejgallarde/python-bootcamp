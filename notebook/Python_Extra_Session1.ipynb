{
  "cells": [
    {
      "cell_type": "markdown",
      "source": [
        "# Python Foundations\n",
        "\n",
        "This notebook will cover the foundational concepts of Python programming. We will explore the following topics:\n",
        "\n",
        "1. Variables\n",
        "2. Expressions\n",
        "3. Strings\n",
        "4. Conditions\n",
        "5. Loops\n",
        "6. Functions\n",
        "\n",
        "Let's get started!"
      ],
      "metadata": {
        "noteable": {
          "cell_type": "markdown"
        }
      },
      "id": "0081b2f7-8f1e-4333-846c-9b483a7a34a3"
    },
    {
      "cell_type": "markdown",
      "source": [
        "## Variables\n",
        "\n",
        "In Python, a variable allows you to refer to a value with a name. To create a variable use `=` like this:\n",
        "\n",
        "```python\n",
        "x = 5\n",
        "```\n",
        "\n",
        "You can now use the name of this variable, `x`, instead of the actual value, `5`.\n",
        "\n",
        "Remember, `=` in Python means assignment, it doesn't test equality!"
      ],
      "metadata": {
        "noteable": {
          "cell_type": "markdown"
        }
      },
      "id": "2d468f35-3984-409f-8559-b067512ea617"
    },
    {
      "cell_type": "code",
      "source": [
        "# Creating variables\n",
        "x = 5\n",
        "y = 'Hello'\n",
        "z = 3.14\n",
        "\n",
        "# Printing variables\n",
        "print(x)\n",
        "print(y)\n",
        "print(z)"
      ],
      "outputs": [
        {
          "output_type": "stream",
          "name": "stdout",
          "text": [
            "5\n",
            "Hello\n",
            "3.14\n"
          ]
        }
      ],
      "execution_count": null,
      "metadata": {
        "noteable": {
          "cell_type": "code"
        },
        "ExecuteTime": {
          "start_time": "2023-07-25T08:21:24.973646+00:00",
          "end_time": "2023-07-25T08:21:25.131168+00:00"
        }
      },
      "id": "1aaf8bad-7230-4b79-b693-39c7f4f441b0"
    },
    {
      "cell_type": "code",
      "source": [
        "# Variables can be used in calculations\n",
        "result = x + 2\n",
        "print(result)"
      ],
      "outputs": [
        {
          "output_type": "stream",
          "name": "stdout",
          "text": [
            "7\n"
          ]
        }
      ],
      "execution_count": null,
      "metadata": {
        "noteable": {
          "cell_type": "code"
        },
        "ExecuteTime": {
          "start_time": "2023-07-25T08:21:33.327375+00:00",
          "end_time": "2023-07-25T08:21:33.485297+00:00"
        }
      },
      "id": "ca443f0b-bbd3-4a9f-ad18-4d9bbd9a99f5"
    },
    {
      "cell_type": "code",
      "source": [
        "# Variables can be reassigned\n",
        "x = 10\n",
        "print(x)"
      ],
      "outputs": [
        {
          "output_type": "stream",
          "name": "stdout",
          "text": [
            "10\n"
          ]
        }
      ],
      "execution_count": null,
      "metadata": {
        "noteable": {
          "cell_type": "code"
        },
        "ExecuteTime": {
          "start_time": "2023-07-25T08:21:39.262572+00:00",
          "end_time": "2023-07-25T08:21:39.419160+00:00"
        }
      },
      "id": "4972e316-ff0a-423a-8128-165aef7d0fe4"
    },
    {
      "cell_type": "code",
      "source": [
        "# Variables can be of different types\n",
        "print(type(x))\n",
        "print(type(y))\n",
        "print(type(z))"
      ],
      "outputs": [
        {
          "output_type": "stream",
          "name": "stdout",
          "text": [
            "<class 'int'>\n",
            "<class 'str'>\n",
            "<class 'float'>\n"
          ]
        }
      ],
      "execution_count": null,
      "metadata": {
        "noteable": {
          "cell_type": "code"
        },
        "ExecuteTime": {
          "start_time": "2023-07-25T08:21:43.107213+00:00",
          "end_time": "2023-07-25T08:21:43.265004+00:00"
        }
      },
      "id": "551cc0f7-3e2f-4d3e-a2bb-3aa2db732c08"
    },
    {
      "cell_type": "markdown",
      "source": [
        "## Expressions\n",
        "\n",
        "An expression is a piece of code that produces a value. It is basically a combination of values, variables, operators, and calls to functions. Expressions need to be evaluated to produce a result.\n",
        "\n",
        "For example, `1 + 1` is an expression which evaluates to `2`."
      ],
      "metadata": {
        "noteable": {
          "cell_type": "markdown"
        }
      },
      "id": "be1a86ec-754a-4d73-af85-2b5556806d88"
    },
    {
      "cell_type": "code",
      "source": [
        "# Simple expressions\n",
        "expr1 = 5 + 3\n",
        "expr2 = 5 * 3\n",
        "expr3 = 5 / 3\n",
        "\n",
        "print(expr1)\n",
        "print(expr2)\n",
        "print(expr3)"
      ],
      "outputs": [
        {
          "output_type": "stream",
          "name": "stdout",
          "text": [
            "8\n",
            "15\n",
            "1.6666666666666667\n"
          ]
        }
      ],
      "execution_count": null,
      "metadata": {
        "noteable": {
          "cell_type": "code"
        },
        "ExecuteTime": {
          "start_time": "2023-07-25T08:21:57.695549+00:00",
          "end_time": "2023-07-25T08:21:57.852717+00:00"
        }
      },
      "id": "ff725b9e-706a-437c-85d8-9490761e9bcc"
    },
    {
      "cell_type": "code",
      "source": [
        "# Expressions with variables\n",
        "expr4 = x + 2\n",
        "expr5 = y * 3\n",
        "\n",
        "print(expr4)\n",
        "print(expr5)"
      ],
      "outputs": [
        {
          "output_type": "stream",
          "name": "stdout",
          "text": [
            "12\n",
            "HelloHelloHello\n"
          ]
        }
      ],
      "execution_count": null,
      "metadata": {
        "noteable": {
          "cell_type": "code"
        },
        "ExecuteTime": {
          "start_time": "2023-07-25T08:22:05.789478+00:00",
          "end_time": "2023-07-25T08:22:05.946085+00:00"
        }
      },
      "id": "517680cc-7ddb-46bf-ad4a-69b04b1af4d4"
    },
    {
      "cell_type": "code",
      "source": [
        "# Expressions with functions\n",
        "expr6 = max(5, 3)\n",
        "expr7 = min(5, 3)\n",
        "\n",
        "print(expr6)\n",
        "print(expr7)"
      ],
      "outputs": [
        {
          "output_type": "stream",
          "name": "stdout",
          "text": [
            "5\n",
            "3\n"
          ]
        }
      ],
      "execution_count": null,
      "metadata": {
        "noteable": {
          "cell_type": "code"
        },
        "ExecuteTime": {
          "start_time": "2023-07-25T08:22:34.032435+00:00",
          "end_time": "2023-07-25T08:22:34.191107+00:00"
        }
      },
      "id": "ef3bb7de-8fb5-49ba-8db8-6eb79930b858"
    },
    {
      "cell_type": "code",
      "source": [
        "# Complex expressions\n",
        "expr8 = (5 + 3) * 2\n",
        "expr9 = 5 + (3 * 2)\n",
        "\n",
        "print(expr8)\n",
        "print(expr9)"
      ],
      "outputs": [],
      "execution_count": null,
      "metadata": {
        "noteable": {
          "cell_type": "code"
        }
      },
      "id": "96cfea82-8fb0-43cb-b57c-34ed50223940"
    },
    {
      "cell_type": "markdown",
      "source": [
        "## Strings\n",
        "\n",
        "A string is a sequence of characters. In Python, you can create a string by enclosing a sequence of characters within a pair of single or double quotes."
      ],
      "metadata": {
        "noteable": {
          "cell_type": "markdown"
        }
      },
      "id": "9e762ef4-9ba6-4bf9-ae73-25af2dff522a"
    },
    {
      "cell_type": "code",
      "source": [
        "# Creating strings\n",
        "str1 = 'Hello, World!'\n",
        "str2 = \"Python is fun.\"\n",
        "\n",
        "print(str1)\n",
        "print(str2)"
      ],
      "outputs": [
        {
          "output_type": "stream",
          "name": "stdout",
          "text": [
            "Hello, World!\n",
            "Python is fun.\n"
          ]
        }
      ],
      "execution_count": null,
      "metadata": {
        "noteable": {
          "cell_type": "code"
        },
        "ExecuteTime": {
          "start_time": "2023-07-25T08:22:42.303272+00:00",
          "end_time": "2023-07-25T08:22:42.460349+00:00"
        }
      },
      "id": "fefae02e-1c34-44d7-8abd-b14fc8de6bee"
    },
    {
      "cell_type": "code",
      "source": [
        "# String concatenation\n",
        "str3 = str1 + ' ' + str2\n",
        "print(str3)"
      ],
      "outputs": [
        {
          "output_type": "stream",
          "name": "stdout",
          "text": [
            "Hello, World! Python is fun.\n"
          ]
        }
      ],
      "execution_count": null,
      "metadata": {
        "noteable": {
          "cell_type": "code"
        },
        "ExecuteTime": {
          "start_time": "2023-07-25T08:23:31.262376+00:00",
          "end_time": "2023-07-25T08:23:31.419234+00:00"
        }
      },
      "id": "4972670f-f0c5-48d9-b390-4882ceb212d6"
    },
    {
      "cell_type": "code",
      "source": [
        "# String repetition\n",
        "str4 = 'Python ' * 3\n",
        "print(str4)"
      ],
      "outputs": [
        {
          "output_type": "stream",
          "name": "stdout",
          "text": [
            "Python Python Python \n"
          ]
        }
      ],
      "execution_count": null,
      "metadata": {
        "noteable": {
          "cell_type": "code"
        },
        "ExecuteTime": {
          "start_time": "2023-07-25T08:23:34.432297+00:00",
          "end_time": "2023-07-25T08:23:34.590366+00:00"
        }
      },
      "id": "d445a373-07e8-4928-8978-12571a05fac8"
    },
    {
      "cell_type": "code",
      "source": [
        "# String length\n",
        "length = len(str3)\n",
        "print(length)"
      ],
      "outputs": [
        {
          "output_type": "stream",
          "name": "stdout",
          "text": [
            "28\n"
          ]
        }
      ],
      "execution_count": null,
      "metadata": {
        "noteable": {
          "cell_type": "code"
        },
        "ExecuteTime": {
          "start_time": "2023-07-25T08:23:37.943525+00:00",
          "end_time": "2023-07-25T08:23:38.100559+00:00"
        }
      },
      "id": "1e05be8d-5cce-40d8-97e1-4681df7a42c9"
    },
    {
      "cell_type": "markdown",
      "source": [
        "## Conditions\n",
        "\n",
        "In Python, the boolean data type can be one of two values, `True` or `False`. We can use these values to test conditions such as: Is `a` equal to `b`? Is `a` less than `b`? etc."
      ],
      "metadata": {
        "noteable": {
          "cell_type": "markdown"
        }
      },
      "id": "52815126-df9e-4731-b790-0c8f7d7e52c5"
    },
    {
      "cell_type": "code",
      "source": [
        "# Equality\n",
        "print(5 == 5)\n",
        "print(5 == 6)"
      ],
      "outputs": [
        {
          "output_type": "stream",
          "name": "stdout",
          "text": [
            "True\n",
            "False\n"
          ]
        }
      ],
      "execution_count": null,
      "metadata": {
        "noteable": {
          "cell_type": "code"
        },
        "ExecuteTime": {
          "start_time": "2023-07-25T08:23:45.462081+00:00",
          "end_time": "2023-07-25T08:23:45.619593+00:00"
        }
      },
      "id": "3228f635-3541-4e5c-bcba-9385689c740e"
    },
    {
      "cell_type": "code",
      "source": [
        "# Inequality\n",
        "print(5 != 5)\n",
        "print(5 != 6)"
      ],
      "outputs": [
        {
          "output_type": "stream",
          "name": "stdout",
          "text": [
            "False\n",
            "True\n"
          ]
        }
      ],
      "execution_count": null,
      "metadata": {
        "noteable": {
          "cell_type": "code"
        },
        "ExecuteTime": {
          "start_time": "2023-07-25T08:23:50.130153+00:00",
          "end_time": "2023-07-25T08:23:50.286949+00:00"
        }
      },
      "id": "09b95f2f-a6c0-4436-9844-f92208c6fcf0"
    },
    {
      "cell_type": "code",
      "source": [
        "# Greater than and less than\n",
        "print(5 > 3)\n",
        "print(5 < 3)\n",
        "print(3 > 3)\n",
        "print(3 < 3)"
      ],
      "outputs": [],
      "execution_count": null,
      "metadata": {
        "noteable": {
          "cell_type": "code"
        }
      },
      "id": "bb3eba52-0dda-4836-b3b1-eea5f9a5e3c7"
    },
    {
      "cell_type": "code",
      "source": [
        "# Greater than or equal to and less than or equal to\n",
        "print(5 >= 3)\n",
        "print(5 <= 3)\n",
        "print(3 >= 3)\n",
        "print(3 <= 3)"
      ],
      "outputs": [],
      "execution_count": null,
      "metadata": {
        "noteable": {
          "cell_type": "code"
        }
      },
      "id": "2d87d04e-7a0a-45ed-93c4-0910f733ceb6"
    },
    {
      "cell_type": "markdown",
      "source": [
        "## Loops\n",
        "\n",
        "A loop is a sequence of instructions that is continually repeated until a certain condition is reached. Python has two types of loops - `for` and `while`."
      ],
      "metadata": {
        "noteable": {
          "cell_type": "markdown"
        }
      },
      "id": "ec3ea1b7-cd64-4860-83fc-25031044aeac"
    },
    {
      "cell_type": "code",
      "source": [
        "# For loop\n",
        "for i in range(5):\n",
        "    print(i)"
      ],
      "outputs": [],
      "execution_count": null,
      "metadata": {
        "noteable": {
          "cell_type": "code"
        }
      },
      "id": "659d9ace-3511-43b6-975c-ec9681f14c15"
    },
    {
      "cell_type": "code",
      "source": [
        "# While loop\n",
        "i = 0\n",
        "while i < 5:\n",
        "    print(i)\n",
        "    i += 1"
      ],
      "outputs": [],
      "execution_count": null,
      "metadata": {
        "noteable": {
          "cell_type": "code"
        }
      },
      "id": "91cb8f5b-d1c9-483b-8ddb-d59002f11469"
    },
    {
      "cell_type": "code",
      "source": [
        "# Loop through a list\n",
        "fruits = ['apple', 'banana', 'cherry']\n",
        "for fruit in fruits:\n",
        "    print(fruit)"
      ],
      "outputs": [],
      "execution_count": null,
      "metadata": {
        "noteable": {
          "cell_type": "code"
        }
      },
      "id": "7ca945c6-773d-4394-88a3-670eae565115"
    },
    {
      "cell_type": "code",
      "source": [
        "# Nested loops\n",
        "for i in range(3):\n",
        "    for j in range(3):\n",
        "        print(i, j)"
      ],
      "outputs": [],
      "execution_count": null,
      "metadata": {
        "noteable": {
          "cell_type": "code"
        }
      },
      "id": "43a1018e-8b22-4300-856b-53e804a71387"
    },
    {
      "cell_type": "markdown",
      "source": [
        "## Functions\n",
        "\n",
        "A function is a block of organized, reusable code that is used to perform a single, related action. Functions provide better modularity for your application and a high degree of code reusing."
      ],
      "metadata": {
        "noteable": {
          "cell_type": "markdown"
        }
      },
      "id": "6d91ea2d-b955-402b-83e6-b75e369312ea"
    },
    {
      "cell_type": "code",
      "source": [
        "# Defining a function\n",
        "\n",
        "def greet():\n",
        "    \"\"\"This function displays a greeting.\"\"\"\n",
        "    print('Hello, World!')\n",
        "\n",
        "# Calling a function\n",
        "greet()"
      ],
      "outputs": [],
      "execution_count": null,
      "metadata": {
        "noteable": {
          "cell_type": "code"
        }
      },
      "id": "c679f269-3a2a-4bf0-9c94-5114bb18287d"
    },
    {
      "cell_type": "code",
      "source": [
        "# Function with parameters\n",
        "\n",
        "def greet(name):\n",
        "    \"\"\"This function greets the person passed in as parameter\"\"\"\n",
        "    print('Hello, ' + name + '!')\n",
        "\n",
        "# Calling a function with parameters\n",
        "greet('Alice')"
      ],
      "outputs": [],
      "execution_count": null,
      "metadata": {
        "noteable": {
          "cell_type": "code"
        }
      },
      "id": "fd8d1a6c-6184-4414-8665-cba542caf77e"
    },
    {
      "cell_type": "code",
      "source": [
        "# Function that returns a value\n",
        "\n",
        "def add(a, b):\n",
        "    \"\"\"This function adds two numbers and returns the result.\"\"\"\n",
        "    return a + b\n",
        "\n",
        "# Calling a function that returns a value\n",
        "result = add(5, 3)\n",
        "print(result)"
      ],
      "outputs": [],
      "execution_count": null,
      "metadata": {
        "noteable": {
          "cell_type": "code"
        }
      },
      "id": "6561f093-2b00-4179-b704-1ce31fd00cb7"
    },
    {
      "cell_type": "code",
      "source": [
        "# Function with default parameter value\n",
        "\n",
        "def greet(name='World'):\n",
        "    \"\"\"This function greets the person passed in as parameter. If no name is provided, it greets the world.\"\"\"\n",
        "    print('Hello, ' + name + '!')\n",
        "\n",
        "# Calling a function with default parameter value\n",
        "greet()\n",
        "greet('Alice')"
      ],
      "outputs": [],
      "execution_count": null,
      "metadata": {
        "noteable": {
          "cell_type": "code"
        }
      },
      "id": "14fc1544-b24d-4d0d-a008-4d08a43902e0"
    }
  ],
  "metadata": {
    "noteable-chatgpt": {
      "create_notebook": {
        "openai_conversation_id": "5cf2b5ad-e37f-56f5-b55f-d054c43f7b38",
        "openai_ephemeral_user_id": "3ff4cd6f-a9a4-53f8-9b43-9fea3dd0acec",
        "openai_subdivision1_iso_code": "PH-00"
      }
    },
    "kernel_info": {
      "name": "python3"
    },
    "noteable": {
      "last_transaction_id": "cceb6a9b-8922-455e-b4e8-6e8442a973d1",
      "last_delta_id": "9f99c5c4-11b1-4715-a0a8-0ce1a2124dc6"
    },
    "kernelspec": {
      "display_name": "Python 3.9",
      "language": "python",
      "name": "python3"
    },
    "selected_hardware_size": "small",
    "nteract": {
      "version": "noteable@2.9.0"
    }
  },
  "nbformat": 4,
  "nbformat_minor": 5
}