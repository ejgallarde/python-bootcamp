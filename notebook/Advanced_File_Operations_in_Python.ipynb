{
  "nbformat": 4,
  "nbformat_minor": 5,
  "metadata": {
    "noteable-chatgpt": {
      "create_notebook": {
        "openai_conversation_id": "24a1c276-5b93-514a-bdf7-91d2fb2f16fe",
        "openai_ephemeral_user_id": "dbb1ad9b-7948-5309-af4f-6dbc80279da3",
        "openai_subdivision1_iso_code": "PH-00"
      }
    },
    "kernel_info": {
      "name": "python3"
    },
    "noteable": {
      "last_transaction_id": "63f00738-ddce-4bd1-b085-c271a70dca8b"
    },
    "kernelspec": {
      "display_name": "Python 3.9",
      "language": "python",
      "name": "python3"
    },
    "selected_hardware_size": "small"
  },
  "cells": [
    {
      "id": "61e18eaa-a821-4a91-bc64-d8d2eae0cd96",
      "cell_type": "markdown",
      "source": "# Advanced File Operations in Python\n\nThis notebook will guide you through various advanced operations related to files in Python. We will cover the following topics:\n\n1. Working with Binary Files\n2. File and Directory Metadata\n3. Handling File and Directory Paths\n4. Searching for Files\n5. Handling Large Files\n\nLet's get started!",
      "metadata": {
        "noteable": {
          "cell_type": "markdown"
        }
      }
    },
    {
      "id": "f0360303-ba22-4f47-8a63-7dbb70d8699e",
      "cell_type": "markdown",
      "source": "## 1. Working with Binary Files\n\nIn Python, you can open a file in binary mode by appending `'b'` to the mode string when calling `open()`. This allows you to read and write binary data to and from the file.\n\nLet's create a binary file and write some binary data to it.",
      "metadata": {
        "noteable": {
          "cell_type": "markdown"
        }
      }
    },
    {
      "id": "390dc8e0-b7a5-4825-9863-2a806dc4b085",
      "cell_type": "code",
      "metadata": {
        "noteable": {
          "cell_type": "code",
          "output_collection_id": "7a7cc608-cc9b-47eb-8691-bbdec1dfad09"
        },
        "ExecuteTime": {
          "end_time": "2023-08-01T07:45:25.419457+00:00",
          "start_time": "2023-08-01T07:45:25.261568+00:00"
        }
      },
      "execution_count": null,
      "source": "# Open a binary file for writing\nfile = open('binary_file', 'wb')\n\n# Write some binary data to the file\nfile.write(b'Hello, world!')\n\n# Close the file\nfile.close()",
      "outputs": []
    },
    {
      "id": "0bb65696-efa0-49e1-9f54-6b4f78a38623",
      "cell_type": "markdown",
      "source": "In the code above, `b'Hello, world!'` is a bytes object. In Python, bytes objects are sequences of bytes. When you open a file in binary mode, you read and write bytes objects.\n\nNow, let's read the binary data we just wrote to the file.",
      "metadata": {
        "noteable": {
          "cell_type": "markdown"
        }
      }
    },
    {
      "id": "86943cba-b477-4c29-8159-b68f09a70cc3",
      "cell_type": "code",
      "metadata": {
        "noteable": {
          "cell_type": "code",
          "output_collection_id": "eeaf2123-bf62-4e92-88ea-d79fd323a8cc"
        },
        "ExecuteTime": {
          "end_time": "2023-08-01T07:45:35.541031+00:00",
          "start_time": "2023-08-01T07:45:35.380978+00:00"
        }
      },
      "execution_count": null,
      "source": "# Open the binary file for reading\nfile = open('binary_file', 'rb')\n\n# Read the binary data from the file\ndata = file.read()\n\n# Close the file\nfile.close()\n\n# Print the binary data\nprint(data)",
      "outputs": []
    },
    {
      "id": "fc6a36a0-ffe4-4417-a38f-f88a9b03a7e8",
      "cell_type": "markdown",
      "source": "As you can see, when we read the binary data from the file, we get a bytes object that is identical to the one we wrote to the file.\n\n## 2. File and Directory Metadata\n\nThe `os` package provides functions to get metadata about files and directories. For example, you can use `os.stat()` to get information such as the size of a file, the time it was last accessed, and the time it was last modified.",
      "metadata": {
        "noteable": {
          "cell_type": "markdown"
        }
      }
    },
    {
      "id": "85842cf7-bda4-4f5e-b091-322aa722126b",
      "cell_type": "code",
      "metadata": {
        "noteable": {
          "cell_type": "code",
          "output_collection_id": "f35fcb82-c652-4de2-8e85-78615b9ed178"
        },
        "ExecuteTime": {
          "end_time": "2023-08-01T07:45:45.105948+00:00",
          "start_time": "2023-08-01T07:45:44.948369+00:00"
        }
      },
      "execution_count": null,
      "source": "import os\n\n# Get metadata about a file\nmetadata = os.stat('binary_file')\n\n# Print the size of the file in bytes\nprint('Size:', metadata.st_size)\n\n# Print the time the file was last accessed\nprint('Last accessed:', metadata.st_atime)\n\n# Print the time the file was last modified\nprint('Last modified:', metadata.st_mtime)",
      "outputs": []
    },
    {
      "id": "69892802-8c79-4f8d-9c8e-21e8633de2bd",
      "cell_type": "markdown",
      "source": "The `os.stat()` function returns a `os.stat_result` object, which contains several attributes that hold information about the file. In the code above, we accessed the following attributes:\n\n- `st_size`: The size of the file in bytes.\n- `st_atime`: The time the file was last accessed.\n- `st_mtime`: The time the file was last modified.\n\nThe times are returned as floating-point numbers representing seconds since the epoch (January 1, 1970, 00:00:00 (UTC)).\n\n## 3. Handling File and Directory Paths\n\nThe `os.path` module contains many useful functions for manipulating file and directory paths.",
      "metadata": {
        "noteable": {
          "cell_type": "markdown"
        }
      }
    },
    {
      "id": "2dce9b50-03fb-4507-8d4b-b149c97bcd65",
      "cell_type": "code",
      "metadata": {
        "noteable": {
          "cell_type": "code",
          "output_collection_id": "97c496b7-f2b3-4637-8def-41ff026b7561"
        },
        "ExecuteTime": {
          "end_time": "2023-08-01T07:45:58.126226+00:00",
          "start_time": "2023-08-01T07:45:57.963633+00:00"
        }
      },
      "execution_count": null,
      "source": "# Get the absolute path of a file\nprint('Absolute path:', os.path.abspath('binary_file'))\n\n# Check if a path is absolute\nprint('Is absolute?', os.path.isabs('/home'))\n\n# Get the directory name of a path\nprint('Directory name:', os.path.dirname(os.path.abspath('binary_file')))\n\n# Get the base name of a path\nprint('Base name:', os.path.basename(os.path.abspath('binary_file')))\n\n# Check if a path exists\nprint('Does path exist?', os.path.exists('/home'))\n\n# Check if a path is a file\nprint('Is path a file?', os.path.isfile('/home'))\n\n# Check if a path is a directory\nprint('Is path a directory?', os.path.isdir('/home'))",
      "outputs": []
    },
    {
      "id": "591a2cfe-ae09-4d6a-8914-36c6b37ea340",
      "cell_type": "markdown",
      "source": "The `os.path` module provides the following functions:\n\n- `os.path.abspath(path)`: Returns the absolute path of `path`.\n- `os.path.isabs(path)`: Returns `True` if `path` is an absolute pathname.\n- `os.path.dirname(path)`: Returns the directory name of `path`.\n- `os.path.basename(path)`: Returns the base name of `path`.\n- `os.path.exists(path)`: Returns `True` if `path` refers to an existing path.\n- `os.path.isfile(path)`: Returns `True` if `path` is an existing regular file.\n- `os.path.isdir(path)`: Returns `True` if `path` is an existing directory.\n\n## 4. Searching for Files\n\nThe `os` module also provides functions to search for files. For example, you can use `os.walk()` to generate the file names in a directory tree by walking the tree either top-down or bottom-up.",
      "metadata": {
        "noteable": {
          "cell_type": "markdown"
        }
      }
    },
    {
      "id": "ab49aeae-6f0e-4ad4-804d-3c34c94e4f95",
      "cell_type": "code",
      "metadata": {
        "noteable": {
          "cell_type": "code",
          "output_collection_id": "043f4254-0abc-46f0-9bd1-01905891937e"
        },
        "ExecuteTime": {
          "end_time": "2023-08-01T07:46:07.332814+00:00",
          "start_time": "2023-08-01T07:46:07.170935+00:00"
        }
      },
      "execution_count": null,
      "source": "# Walk the current directory\nfor dirpath, dirnames, filenames in os.walk('.'):\n    print(f'Found directory: {dirpath}')\n    for file_name in filenames:\n        print(file_name)",
      "outputs": []
    },
    {
      "id": "baa3085a-10b3-43d0-a0ae-85c99ef201df",
      "cell_type": "markdown",
      "source": "The `os.walk()` function generates the file names in a directory tree by walking the tree either top-down or bottom-up. For each directory in the tree rooted at directory top (including top itself), it yields a 3-tuple `(dirpath, dirnames, filenames)`.\n\n- `dirpath` is a string, the path to the directory.\n- `dirnames` is a list of the names of the subdirectories in `dirpath` (excluding '.' and '..').\n- `filenames` is a list of the names of the non-directory files in `dirpath`.\n\nNote that the names in the lists contain no path components. To get a full path (which begins with top) to a file or directory in `dirpath`, do `os.path.join(dirpath, name)`.\n\n## 5. Creating and Removing Directories\n\nThe `os` module also provides functions to create and remove directories.",
      "metadata": {
        "noteable": {
          "cell_type": "markdown"
        }
      }
    },
    {
      "id": "d6346786-6490-4ee1-aa12-7a89620bceaa",
      "cell_type": "code",
      "metadata": {
        "noteable": {
          "cell_type": "code",
          "output_collection_id": "a48a3fd2-7151-45b9-b9d5-70ae8450900f"
        },
        "ExecuteTime": {
          "end_time": "2023-08-01T07:46:29.267885+00:00",
          "start_time": "2023-08-01T07:46:29.109315+00:00"
        }
      },
      "execution_count": null,
      "source": "# Create a directory\nos.mkdir('new_directory')\n\n# Check if the directory was created\nprint('Does directory exist?', os.path.exists('new_directory'))\n\n# Remove the directory\nos.rmdir('new_directory')\n\n# Check if the directory was removed\nprint('Does directory exist?', os.path.exists('new_directory'))",
      "outputs": []
    },
    {
      "id": "2afe2923-ef3d-4860-b85c-794364e6ef5b",
      "cell_type": "markdown",
      "source": "## 6. Format Operators\n\nPython uses format operators to format strings. The `%` operator is used to format a set of variables enclosed in a tuple. Here are some basic argument specifiers you should know:\n\n- `%s` - String (or any object with a string representation, like numbers)\n- `%d` - Integers\n- `%f` - Floating point numbers\n- `%.<number of digits>f` - Floating point numbers with a fixed amount of digits to the right of the dot.\n- `%x`/`%X` - Integers in hex representation (lowercase/uppercase)\n- `%e`/`%E` - Floating point numbers in scientific notation (lowercase/uppercase)\n- `%g`/`%G` - Floating point numbers in scientific notation or in fixed decimal notation depending on the value and the precision.\n\nLet's see some examples.",
      "metadata": {
        "noteable": {
          "cell_type": "markdown"
        }
      }
    },
    {
      "id": "b17d9b91-4eeb-4bd8-ac24-aa3258a9fc3e",
      "cell_type": "code",
      "metadata": {
        "noteable": {
          "cell_type": "code",
          "output_collection_id": "7de15d12-69ca-4b4d-aa64-1ab32dffd514"
        },
        "ExecuteTime": {
          "end_time": "2023-08-01T07:58:09.273775+00:00",
          "start_time": "2023-08-01T07:58:09.114777+00:00"
        }
      },
      "execution_count": null,
      "source": "# String\nname = 'John'\nprint('Hello, %s!' % name)\n\n# Integer\nage = 20\nprint('I am %d years old.' % age)\n\n# Floating point number\npi = 3.14159\nprint('Pi is approximately %f.' % pi)\n\n# Floating point number with fixed amount of digits\nprint('Pi is approximately %.2f.' % pi)\n\n# Integer in hex representation\nnumber = 255\nprint('The number %d is %x in hexadecimal.' % (number, number))\n\n# Floating point number in scientific notation\nnumber = 0.000123\nprint('The number is %e in scientific notation.' % number)\n\n# Floating point number in scientific notation or in fixed decimal notation\nnumber1 = 0.000123\nnumber2 = 1234.56789\nprint('The number is %g in scientific notation or in fixed decimal notation.' % number1)\nprint('The number is %g in scientific notation or in fixed decimal notation.' % number2)",
      "outputs": []
    },
    {
      "id": "3bc80524-caa1-4e76-a68a-1f9ebf4cc1fc",
      "cell_type": "markdown",
      "source": "## 7. Modifying Files\n\nIn this section, we will cover how to add new content to a file, append to a file, remove lines from a file, delete a file, and copy a file.",
      "metadata": {
        "noteable": {
          "cell_type": "markdown"
        }
      }
    },
    {
      "id": "3e4e009d-277e-477f-a256-251520d46619",
      "cell_type": "code",
      "metadata": {
        "noteable": {
          "cell_type": "code",
          "output_collection_id": "86644ca3-a313-4159-8759-6c2af1763e63"
        },
        "ExecuteTime": {
          "end_time": "2023-08-01T11:41:38.662463+00:00",
          "start_time": "2023-08-01T11:41:38.504425+00:00"
        }
      },
      "execution_count": null,
      "source": "# Writing to a file\n\nwith open('test_file.txt', 'w') as f:\n    f.write('Hello, world!\\n')\n\n# Appending to a file\nwith open('test_file.txt', 'a') as f:\n    f.write('Goodbye, world!\\n')\n\n# Reading the file\nwith open('test_file.txt', 'r') as f:\n    print(f.read())",
      "outputs": []
    },
    {
      "id": "3e25b832-04ab-41fd-ada7-a9b35375d366",
      "cell_type": "markdown",
      "source": "In the above example, we first wrote to a file using the 'w' mode, which stands for 'write'. This mode will create the file if it doesn't exist, or overwrite it if it does.\n\nThen, we appended to the file using the 'a' mode, which stands for 'append'. This mode will write at the end of the file without truncating it, creating it if necessary.\n\nFinally, we read the file using the 'r' mode, which stands for 'read'. This is the default mode if you don't specify one.\n\nThe output shows that the file contains the lines we wrote and appended.\n\nNow let's see how to remove lines from a file.",
      "metadata": {
        "noteable": {
          "cell_type": "markdown"
        }
      }
    },
    {
      "id": "51219182-eea3-4f31-9664-d7d0a5d0623e",
      "cell_type": "code",
      "metadata": {
        "noteable": {
          "cell_type": "code",
          "output_collection_id": "3cccf109-971b-432c-959d-644b361df293"
        },
        "ExecuteTime": {
          "end_time": "2023-08-01T08:15:11.675018+00:00",
          "start_time": "2023-08-01T08:15:11.515058+00:00"
        }
      },
      "execution_count": null,
      "source": "# Removing lines from a file\nwith open('test_file.txt', 'r') as f:\n    lines = f.readlines()\n\nwith open('test_file.txt', 'w') as f:\n    for line in lines:\n        if line.strip() != 'Goodbye, world!':\n            f.write(line)\n\n# Reading the file\nwith open('test_file.txt', 'r') as f:\n    print(f.read())\n    ",
      "outputs": []
    },
    {
      "id": "2b49044f-0821-40f7-91b9-bd9abf1acd6d",
      "cell_type": "markdown",
      "source": "In the above example, we first read all the lines from the file into a list. Then, we opened the file in write mode, which erased all its content, and wrote back only the lines that didn't match the string 'Goodbye, world!'.\n\nThe output shows that the line 'Goodbye, world!' was successfully removed from the file.\n\nNow let's see how to delete a file.",
      "metadata": {
        "noteable": {
          "cell_type": "markdown"
        }
      }
    },
    {
      "id": "494bfab8-d920-4cea-9af1-35ac85e322ac",
      "cell_type": "code",
      "metadata": {
        "noteable": {
          "cell_type": "code",
          "output_collection_id": "d234f4d5-c331-4e28-b9e1-05168180cdf3"
        },
        "ExecuteTime": {
          "end_time": "2023-08-01T08:09:18.083862+00:00",
          "start_time": "2023-08-01T08:09:17.926576+00:00"
        }
      },
      "execution_count": null,
      "source": "import os\n\n# Deleting a file\nos.remove('test_file.txt')\n\n# Checking if the file exists\nprint(os.path.exists('test_file.txt'))",
      "outputs": []
    },
    {
      "id": "ebc1a891-b2e6-49ca-a429-9217fff26c9f",
      "cell_type": "markdown",
      "source": "In the above example, we used the `os.remove` function to delete the file. Then, we checked if the file exists using `os.path.exists`, which returned `False`, indicating that the file was successfully deleted.\n\nNow let's see how to copy a file.",
      "metadata": {
        "noteable": {
          "cell_type": "markdown"
        }
      }
    },
    {
      "id": "ee483788-3764-49cf-9a27-8c76a6ea1963",
      "cell_type": "code",
      "metadata": {
        "noteable": {
          "cell_type": "code",
          "output_collection_id": "728faa94-24d7-47d5-925a-349f1b39562e"
        },
        "ExecuteTime": {
          "end_time": "2023-08-01T08:16:32.490675+00:00",
          "start_time": "2023-08-01T08:16:32.332588+00:00"
        }
      },
      "execution_count": null,
      "source": "import shutil\n\n# Creating a file to copy\nwith open('source_file.txt', 'w') as f:\n    f.write('This is the source file.\\n')\n\n# Copying the file\nshutil.copy('source_file.txt', 'destination_file.txt')\n\n# Reading the copied file\nwith open('destination_file.txt', 'r') as f:\n    content = f.read()",
      "outputs": []
    },
    {
      "id": "4031eed3-a41b-4025-bbe6-362a98132076",
      "cell_type": "markdown",
      "source": "In the above example, we used the `shutil.copy` function to copy the file. We first created a source file, then copied it to a destination file, and finally read the copied file. The output shows that the copied file contains the same content as the source file.",
      "metadata": {
        "noteable": {
          "cell_type": "markdown"
        }
      }
    }
  ]
}