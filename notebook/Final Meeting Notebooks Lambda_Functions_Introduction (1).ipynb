{
 "cells": [
  {
   "cell_type": "markdown",
   "id": "438c0a07-09df-44b1-9249-93247712225a",
   "metadata": {
    "noteable": {
     "cell_type": "markdown"
    }
   },
   "source": [
    "# Introduction to Lambda Functions\n",
    "\n",
    "Lambda functions, also known as anonymous functions, are a unique feature of Python and some other programming languages. They allow you to define small, throwaway functions without needing to formally define a function using the `def` keyword. In this notebook, we will explore the concept, syntax, examples, and common use cases of lambda functions in Python."
   ]
  },
  {
   "cell_type": "markdown",
   "id": "20f1a884-e2ad-4698-8140-54931c5fae72",
   "metadata": {
    "noteable": {
     "cell_type": "markdown"
    }
   },
   "source": [
    "## Concept and Syntax\n",
    "\n",
    "A lambda function is a small, unnamed function defined using the `lambda` keyword. This function can have any number of arguments but can only have one expression. The expression is evaluated and returned when the lambda function is called.\n",
    "\n",
    "The general syntax of a lambda function is:\n",
    "```python\n",
    "lambda arguments: expression\n",
    "```\n",
    "The lambda function can be used wherever function objects are required. It is syntactically restricted to a single expression."
   ]
  },
  {
   "cell_type": "code",
   "execution_count": null,
   "id": "c8f0d02b-0a1d-460d-a414-49a0f7720440",
   "metadata": {
    "noteable": {
     "cell_type": "code"
    }
   },
   "outputs": [],
   "source": [
    "# Example of a simple lambda function\n",
    "square = lambda x: x**2\n",
    "square(5)"
   ]
  },
  {
   "cell_type": "markdown",
   "id": "28222000-35c4-4360-8cef-7ca56b96ea34",
   "metadata": {
    "noteable": {
     "cell_type": "markdown"
    }
   },
   "source": [
    "In the example above, we defined a lambda function that takes one argument `x` and returns its square. We then assigned this lambda function to the variable `square` and called it with an argument of 5. The result, 25, is the square of 5."
   ]
  },
  {
   "cell_type": "code",
   "execution_count": null,
   "id": "72390903-c6af-4ac1-a2b1-2349641b6e36",
   "metadata": {
    "noteable": {
     "cell_type": "code"
    }
   },
   "outputs": [],
   "source": [
    "# Example of a lambda function with multiple arguments\n",
    "multiply = lambda x, y: x * y\n",
    "multiply(3, 4)"
   ]
  },
  {
   "cell_type": "markdown",
   "id": "26293561-f709-4612-9046-dd4c66013fb1",
   "metadata": {
    "noteable": {
     "cell_type": "markdown"
    }
   },
   "source": [
    "In the example above, we defined a lambda function that takes two arguments, `x` and `y`, and returns their product. We assigned this lambda function to the variable `multiply` and then called it with arguments 3 and 4. The result, 12, is the product of 3 and 4."
   ]
  },
  {
   "cell_type": "markdown",
   "id": "37c9ac57-5ccc-4b2a-a8be-7b007eafa062",
   "metadata": {
    "noteable": {
     "cell_type": "markdown"
    }
   },
   "source": [
    "## Common Use Cases of Lambda Functions\n",
    "\n",
    "Lambda functions are particularly useful in scenarios where you need a simple function for a short period and do not want to formally define it using the `def` keyword. Some common use cases include:\n",
    "\n",
    "1. **Sorting and Filtering**: Lambda functions are often used with functions like `sorted()` and `filter()` to define custom sorting or filtering logic.\n",
    "2. **Functional Programming**: They are used in functional programming paradigms where functions are passed as arguments to other functions.\n",
    "3. **Short-lived Operations**: For operations that are used once or a limited number of times in the code.\n",
    "4. **Callback Functions**: In scenarios where a small piece of code needs to be executed in response to some event."
   ]
  },
  {
   "cell_type": "code",
   "execution_count": null,
   "id": "f3d76cf1-c11d-4c8d-b851-31bec4400c69",
   "metadata": {
    "noteable": {
     "cell_type": "code"
    }
   },
   "outputs": [],
   "source": [
    "# Example of using lambda function for sorting\n",
    "students = [{'name': 'John', 'grade': 85},\n",
    "            {'name': 'Jane', 'grade': 90},\n",
    "            {'name': 'Doe', 'grade': 88}]\n",
    "\n",
    "# Sorting students by grade using lambda\n",
    "sorted_students = sorted(students, key=lambda x: x['grade'], reverse=True)\n",
    "sorted_students"
   ]
  },
  {
   "cell_type": "markdown",
   "id": "136b8ee4-6a75-48c1-9aaf-5cd433850b32",
   "metadata": {
    "noteable": {
     "cell_type": "markdown"
    }
   },
   "source": [
    "In the example above, we have a list of students with their names and grades. We want to sort this list based on the grades in descending order. To achieve this, we use the `sorted()` function with a lambda function as the `key` argument. The lambda function takes each student dictionary and returns the grade, which is then used as the key for sorting. The `reverse=True` argument ensures that the sorting is done in descending order."
   ]
  },
  {
   "cell_type": "code",
   "execution_count": null,
   "id": "af5bacb4-fbfa-4b82-8348-dbd89c1fb922",
   "metadata": {
    "noteable": {
     "cell_type": "code"
    }
   },
   "outputs": [],
   "source": [
    "# Example of using lambda function with filter()\n",
    "numbers = [1, 2, 3, 4, 5, 6, 7, 8, 9, 10]\n",
    "\n",
    "# Filtering even numbers using lambda\n",
    "even_numbers = list(filter(lambda x: x % 2 == 0, numbers))\n",
    "even_numbers"
   ]
  },
  {
   "cell_type": "markdown",
   "id": "afea653c-cb9c-4fe2-b628-79ac935e8686",
   "metadata": {
    "noteable": {
     "cell_type": "markdown"
    }
   },
   "source": [
    "In the example above, we have a list of numbers from 1 to 10. We want to filter out only the even numbers from this list. To achieve this, we use the `filter()` function with a lambda function. The lambda function checks if a number is even (i.e., divisible by 2) and returns `True` if it is. The `filter()` function then uses this lambda function to filter out the even numbers from the list. Finally, we convert the filtered object to a list using the `list()` function."
   ]
  },
  {
   "cell_type": "markdown",
   "id": "1a42f64d-c48b-4fd8-b093-ae72fb8ec88d",
   "metadata": {
    "noteable": {
     "cell_type": "markdown"
    }
   },
   "source": [
    "## Exercises\n",
    "\n",
    "1. **Lambda for Square**: Write a lambda function that takes a number and returns its square. Test it with a few numbers.\n",
    "2. **Lambda for Sorting**: Given a list of tuples where each tuple contains a name and age, use a lambda function to sort the list by age in ascending order.\n",
    "3. **Lambda for Filtering**: Given a list of strings, use a lambda function with the `filter()` method to filter out only the strings that have a length greater than 5."
   ]
  },
  {
   "cell_type": "code",
   "execution_count": null,
   "id": "41e603ad-de1e-4c84-81f5-4a4e2d501efc",
   "metadata": {
    "noteable": {
     "cell_type": "code"
    }
   },
   "outputs": [],
   "source": [
    "# Answer for Exercise 1\n",
    "square_lambda = lambda x: x**2\n",
    "square_lambda(6)"
   ]
  },
  {
   "cell_type": "code",
   "execution_count": null,
   "id": "b6df33bc-54e3-40f2-bf94-c32dc71912a0",
   "metadata": {
    "noteable": {
     "cell_type": "code"
    }
   },
   "outputs": [],
   "source": [
    "# Answer for Exercise 2\n",
    "people = [('John', 35), ('Doe', 25), ('Jane', 30)]\n",
    "sorted_people = sorted(people, key=lambda x: x[1])\n",
    "sorted_people"
   ]
  },
  {
   "cell_type": "code",
   "execution_count": null,
   "id": "72966bf1-8738-4b49-b04a-126fb1153fee",
   "metadata": {
    "noteable": {
     "cell_type": "code"
    }
   },
   "outputs": [],
   "source": [
    "# Answer for Exercise 3\n",
    "words = ['apple', 'banana', 'cherry', 'date', 'elderberry', 'fig', 'grapefruit']\n",
    "long_words = list(filter(lambda x: len(x) > 5, words))\n",
    "long_words"
   ]
  },
  {
   "cell_type": "markdown",
   "id": "40e34f3d-566d-4e82-a00d-91c71aa00e3f",
   "metadata": {
    "noteable": {
     "cell_type": "markdown"
    }
   },
   "source": [
    "## Lambda Functions in Data Wrangling and Preprocessing\n",
    "\n",
    "Lambda functions are often used in data wrangling and preprocessing tasks, especially in the context of data science, NLP, and machine learning. They provide a concise way to apply transformations or operations on data without the need for defining full-fledged functions. Here are some common use cases:"
   ]
  },
  {
   "cell_type": "markdown",
   "id": "d9630931-3b0c-46e2-8684-01605a179f4d",
   "metadata": {
    "noteable": {
     "cell_type": "markdown"
    }
   },
   "source": [
    "### 1. Text Cleaning in NLP\n",
    "\n",
    "In Natural Language Processing (NLP), text data often needs to be cleaned and preprocessed before it can be used for modeling. Lambda functions can be used to quickly apply text cleaning operations such as converting text to lowercase, removing punctuation, or stripping whitespace."
   ]
  },
  {
   "cell_type": "code",
   "execution_count": null,
   "id": "0f72e65b-248c-4c69-b95a-d189962feab0",
   "metadata": {
    "noteable": {
     "cell_type": "code"
    }
   },
   "outputs": [],
   "source": [
    "import pandas as pd\n",
    "import string\n",
    "\n",
    "# Sample text data\n",
    "text_data = ['Hello World!', 'This is an NLP task.', 'Lambda functions are useful.']\n",
    "text_series = pd.Series(text_data)\n",
    "\n",
    "# Using lambda to clean text\n",
    "cleaned_text = text_series.apply(lambda x: x.lower().translate(str.maketrans('', '', string.punctuation)).strip())\n",
    "cleaned_text"
   ]
  },
  {
   "cell_type": "markdown",
   "id": "6a76776f-f2dd-4a32-82f6-fbd0fa6731b4",
   "metadata": {
    "noteable": {
     "cell_type": "markdown"
    }
   },
   "source": [
    "In the example above, we used a lambda function with the `apply()` method of a pandas Series to:\n",
    "\n",
    "1. Convert the text to lowercase using `lower()`.\n",
    "2. Remove punctuation using the `translate()` method combined with `string.punctuation`.\n",
    "3. Strip any leading or trailing whitespace using `strip()`.\n",
    "\n",
    "This provides a quick way to clean text data in preparation for further NLP tasks."
   ]
  },
  {
   "cell_type": "markdown",
   "id": "72716868-2520-4359-9d03-32ccc6f2405a",
   "metadata": {
    "noteable": {
     "cell_type": "markdown"
    }
   },
   "source": [
    "### 2. Feature Engineering in Machine Learning\n",
    "\n",
    "Lambda functions can be used for quick feature engineering tasks. For instance, you might want to create a new feature based on the values of an existing feature. Let's consider a dataset with a 'price' column, and we want to categorize items as 'cheap', 'medium', or 'expensive' based on their price."
   ]
  },
  {
   "cell_type": "code",
   "execution_count": null,
   "id": "4f16027f-ba1f-424e-9e4b-db9d348def9b",
   "metadata": {
    "noteable": {
     "cell_type": "code"
    }
   },
   "outputs": [],
   "source": [
    "# Sample data\n",
    "data = {'item': ['apple', 'banana', 'cherry', 'date'], 'price': [0.5, 0.2, 1.5, 2.0]}\n",
    "df = pd.DataFrame(data)\n",
    "\n",
    "# Using lambda to categorize items based on price\n",
    "df['price_category'] = df['price'].apply(lambda x: 'cheap' if x < 1 else ('medium' if x < 2 else 'expensive'))\n",
    "df"
   ]
  },
  {
   "cell_type": "markdown",
   "id": "ba5621a7-31ee-4987-a0d7-481edd94657a",
   "metadata": {
    "noteable": {
     "cell_type": "markdown"
    }
   },
   "source": [
    "In the example above, we used a lambda function to create a new column 'price_category' in our DataFrame. The lambda function checks the value of the 'price' column and assigns a category based on the price range:\n",
    "\n",
    "- Items priced less than $1 are categorized as 'cheap'.\n",
    "- Items priced between $1 and $2 are categorized as 'medium'.\n",
    "- Items priced above $2 are categorized as 'expensive'.\n",
    "\n",
    "This is a simple example of how lambda functions can be used for feature engineering in machine learning tasks."
   ]
  },
  {
   "cell_type": "markdown",
   "id": "81192398-be34-4725-8b2a-b4a942bdfa4b",
   "metadata": {
    "noteable": {
     "cell_type": "markdown"
    }
   },
   "source": [
    "### 3. Data Transformation\n",
    "\n",
    "Lambda functions can be used for various data transformation tasks. For instance, in machine learning, it's common to normalize or standardize features. Let's consider a dataset with a 'weight' column, and we want to normalize the weights to a range between 0 and 1."
   ]
  },
  {
   "cell_type": "code",
   "execution_count": null,
   "id": "3e3aabc0-b1ce-4a40-b544-f8c898a3d0b4",
   "metadata": {
    "noteable": {
     "cell_type": "code"
    }
   },
   "outputs": [],
   "source": [
    "# Sample data\n",
    "data = {'name': ['A', 'B', 'C', 'D'], 'weight': [45, 60, 55, 68]}\n",
    "weight_df = pd.DataFrame(data)\n",
    "\n",
    "# Using lambda to normalize weights\n",
    "min_weight = weight_df['weight'].min()\n",
    "max_weight = weight_df['weight'].max()\n",
    "weight_df['normalized_weight'] = weight_df['weight'].apply(lambda x: (x - min_weight) / (max_weight - min_weight))\n",
    "weight_df"
   ]
  },
  {
   "cell_type": "markdown",
   "id": "33d32aa7-2eff-4c59-a708-91446301bb08",
   "metadata": {
    "noteable": {
     "cell_type": "markdown"
    }
   },
   "source": [
    "In the example above, we used a lambda function to normalize the 'weight' column in our DataFrame. The lambda function applies the normalization formula:\n",
    "\n",
    "\\[ \\text{normalized value} = \\frac{\\text{value} - \\text{min value}}{\\text{max value} - \\text{min value}} \\]\n",
    "\n",
    "This formula scales the weights to a range between 0 and 1. Such normalization is often used in machine learning to ensure that all features have the same scale, which can improve the performance of certain algorithms."
   ]
  },
  {
   "cell_type": "markdown",
   "id": "bd83eeb2-a1cb-44b9-a7a4-477c9e5a7b03",
   "metadata": {
    "noteable": {
     "cell_type": "markdown"
    }
   },
   "source": [
    "### 4. Tokenization in NLP\n",
    "\n",
    "Tokenization is a fundamental step in NLP where a text is split into individual tokens (usually words). Lambda functions can be used to quickly tokenize text data. Let's consider a dataset with sentences, and we want to tokenize each sentence into words."
   ]
  },
  {
   "cell_type": "code",
   "execution_count": null,
   "id": "9777d58a-bb10-48ca-a09e-e7159467b135",
   "metadata": {
    "noteable": {
     "cell_type": "code"
    }
   },
   "outputs": [],
   "source": [
    "# Sample text data\n",
    "sentences_data = ['Hello world', 'Lambda functions are powerful', 'NLP is interesting']\n",
    "sentences_series = pd.Series(sentences_data)\n",
    "\n",
    "# Using lambda to tokenize sentences\n",
    "tokenized_sentences = sentences_series.apply(lambda x: x.split())\n",
    "tokenized_sentences"
   ]
  },
  {
   "cell_type": "markdown",
   "id": "96bf64e4-8e46-4a26-bdb8-ac5eac1d4e1b",
   "metadata": {
    "noteable": {
     "cell_type": "markdown"
    }
   },
   "source": [
    "In the example above, we used a lambda function with the `split()` method to tokenize each sentence in our Series. The `split()` method, by default, splits a string based on whitespace, effectively tokenizing the sentence into individual words. This is a basic example of how lambda functions can be used for tokenization in NLP tasks."
   ]
  }
 ],
 "metadata": {
  "kernel_info": {
   "name": "python3"
  },
  "kernelspec": {
   "display_name": "Python 3 (ipykernel)",
   "language": "python",
   "name": "python3"
  },
  "language_info": {
   "codemirror_mode": {
    "name": "ipython",
    "version": 3
   },
   "file_extension": ".py",
   "mimetype": "text/x-python",
   "name": "python",
   "nbconvert_exporter": "python",
   "pygments_lexer": "ipython3",
   "version": "3.10.12"
  },
  "noteable": {
   "last_delta_id": "8e9c1a3c-e58e-4c92-99ee-4cdee993382c"
  },
  "noteable-chatgpt": {
   "create_notebook": {
    "openai_conversation_id": "a6da49e8-1fcd-5817-9beb-8d4fe8c55932",
    "openai_ephemeral_user_id": "6d97e9c8-43d4-5634-a70d-8e6342906b9f",
    "openai_subdivision1_iso_code": "PH-00"
   }
  },
  "nteract": {
   "version": "noteable@2.9.0"
  },
  "selected_hardware_size": "small"
 },
 "nbformat": 4,
 "nbformat_minor": 5
}
