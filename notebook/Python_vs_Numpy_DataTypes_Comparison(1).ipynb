{
  "cells": [
    {
      "cell_type": "code",
      "source": [
        "import pandas as pd\n",
        "import numpy as np\n",
        "\n",
        "# Python data types\n",
        "python_data_types = {\n",
        "    'int': 'Integer numbers',\n",
        "    'float': 'Floating point numbers',\n",
        "    'bool': 'Boolean (True or False)',\n",
        "    'str': 'String (text)',\n",
        "    'list': 'List (ordered collection of items)',\n",
        "    'tuple': 'Tuple (immutable ordered collection of items)',\n",
        "    'dict': 'Dictionary (unordered collection of key-value pairs)',\n",
        "    'set': 'Set (unordered collection of unique items)'\n",
        "}\n",
        "\n",
        "# Numpy data types\n",
        "numpy_data_types = {\n",
        "    'int32': 'Integer (-2147483648 to 2147483647)',\n",
        "    'int64': 'Integer (-9223372036854775808 to 9223372036854775807)',\n",
        "    'float32': 'Single precision float',\n",
        "    'float64': 'Double precision float',\n",
        "    'bool_': 'Boolean (True or False)',\n",
        "    'complex64': 'Complex number, represented by two 32-bit floats',\n",
        "    'complex128': 'Complex number, represented by two 64-bit floats',\n",
        "    'datetime64': 'Date time type',\n",
        "    'timedelta64': 'Represents the difference between two dates or times'\n",
        "}\n",
        "\n",
        "# Create a DataFrame for comparison\n",
        "df = pd.DataFrame({\n",
        "    'Python Data Types': list(python_data_types.keys()),\n",
        "    'Python Description': list(python_data_types.values())\n",
        "}).merge(\n",
        "    pd.DataFrame({\n",
        "        'Numpy Data Types': list(numpy_data_types.keys()),\n",
        "        'Numpy Description': list(numpy_data_types.values())\n",
        "    }),\n",
        "    left_index=True,\n",
        "    right_index=True,\n",
        "    how='outer'\n",
        ")\n",
        "\n",
        "df"
      ],
      "outputs": [
        {
          "output_type": "display_data",
          "data": {
            "application/vnd.dataresource+json": {
              "schema": {
                "fields": [
                  {
                    "name": "index",
                    "type": "integer"
                  },
                  {
                    "name": "Python Data Types",
                    "type": "string"
                  },
                  {
                    "name": "Python Description",
                    "type": "string"
                  },
                  {
                    "name": "Numpy Data Types",
                    "type": "string"
                  },
                  {
                    "name": "Numpy Description",
                    "type": "string"
                  }
                ],
                "primaryKey": [
                  "index"
                ],
                "pandas_version": "1.4.0"
              },
              "data": [
                {
                  "index": 0,
                  "Python Data Types": "int",
                  "Python Description": "Integer numbers",
                  "Numpy Data Types": "int32",
                  "Numpy Description": "Integer (-2147483648 to 2147483647)"
                },
                {
                  "index": 1,
                  "Python Data Types": "float",
                  "Python Description": "Floating point numbers",
                  "Numpy Data Types": "int64",
                  "Numpy Description": "Integer (-9223372036854775808 to 9223372036854775807)"
                },
                {
                  "index": 2,
                  "Python Data Types": "bool",
                  "Python Description": "Boolean (True or False)",
                  "Numpy Data Types": "float32",
                  "Numpy Description": "Single precision float"
                },
                {
                  "index": 3,
                  "Python Data Types": "str",
                  "Python Description": "String (text)",
                  "Numpy Data Types": "float64",
                  "Numpy Description": "Double precision float"
                },
                {
                  "index": 4,
                  "Python Data Types": "list",
                  "Python Description": "List (ordered collection of items)",
                  "Numpy Data Types": "bool_",
                  "Numpy Description": "Boolean (True or False)"
                },
                {
                  "index": 5,
                  "Python Data Types": "tuple",
                  "Python Description": "Tuple (immutable ordered collection of items)",
                  "Numpy Data Types": "complex64",
                  "Numpy Description": "Complex number, represented by two 32-bit floats"
                },
                {
                  "index": 6,
                  "Python Data Types": "dict",
                  "Python Description": "Dictionary (unordered collection of key-value pairs)",
                  "Numpy Data Types": "complex128",
                  "Numpy Description": "Complex number, represented by two 64-bit floats"
                },
                {
                  "index": 7,
                  "Python Data Types": "set",
                  "Python Description": "Set (unordered collection of unique items)",
                  "Numpy Data Types": "datetime64",
                  "Numpy Description": "Date time type"
                },
                {
                  "index": 8,
                  "Python Data Types": null,
                  "Python Description": null,
                  "Numpy Data Types": "timedelta64",
                  "Numpy Description": "Represents the difference between two dates or times"
                }
              ],
              "datalink": {
                "display_id": "fc2a0f50-858c-400c-9ca3-723a9d188631"
              }
            }
          },
          "metadata": {
            "application/vnd.dataresource+json": {
              "datalink": {
                "dataframe_info": {
                  "default_index_used": true,
                  "orig_size_bytes": 360,
                  "orig_num_rows": 9,
                  "orig_num_cols": 4,
                  "truncated_string_columns": [],
                  "truncated_size_bytes": 360,
                  "truncated_num_rows": 9,
                  "truncated_num_cols": 4
                },
                "dx_settings": {
                  "NUM_PAST_SAMPLES_TRACKED": 3,
                  "ENABLE_DATALINK": true,
                  "DISPLAY_MODE": "simple",
                  "GENERATE_DEX_METADATA": false,
                  "STRINGIFY_INDEX_VALUES": false,
                  "ALLOW_NOTEABLE_ATTRS": true,
                  "DISPLAY_MAX_COLUMNS": 100,
                  "HTML_TABLE_SCHEMA": false,
                  "SAMPLING_FACTOR": 0.1,
                  "LOG_LEVEL": 30,
                  "ENABLE_ASSIGNMENT": true,
                  "FLATTEN_INDEX_VALUES": false,
                  "DEV_MODE": false,
                  "COLUMN_SAMPLING_METHOD": "outer",
                  "FLATTEN_COLUMN_VALUES": true,
                  "DISPLAY_MAX_ROWS": 50000,
                  "ROW_SAMPLING_METHOD": "random",
                  "RANDOM_STATE": 12648430,
                  "DB_LOCATION": ":memory:",
                  "STRINGIFY_COLUMN_VALUES": true,
                  "SAMPLING_METHOD": "random",
                  "MAX_STRING_LENGTH": 250,
                  "MAX_RENDER_SIZE_BYTES": 104857600,
                  "RESET_INDEX_VALUES": false
                },
                "display_id": "fc2a0f50-858c-400c-9ca3-723a9d188631",
                "applied_filters": [],
                "sample_history": [],
                "sampling_time": "2023-08-25T00:13:47.778952",
                "variable_name": "df",
                "user_variable_name": "df"
              },
              "display_id": "fc2a0f50-858c-400c-9ca3-723a9d188631"
            }
          }
        }
      ],
      "execution_count": null,
      "metadata": {
        "noteable": {
          "cell_type": "code"
        },
        "ExecuteTime": {
          "end_time": "2023-08-25T00:13:47.950180+00:00",
          "start_time": "2023-08-25T00:13:47.719367+00:00"
        },
        "datalink": {
          "fc2a0f50-858c-400c-9ca3-723a9d188631": {
            "applied_filters": [],
            "dataframe_info": {
              "default_index_used": true,
              "orig_num_cols": 4,
              "orig_num_rows": 9,
              "orig_size_bytes": 360,
              "truncated_num_cols": 4,
              "truncated_num_rows": 9,
              "truncated_size_bytes": 360,
              "truncated_string_columns": []
            },
            "display_id": "fc2a0f50-858c-400c-9ca3-723a9d188631",
            "dx_settings": {
              "ALLOW_NOTEABLE_ATTRS": true,
              "COLUMN_SAMPLING_METHOD": "outer",
              "DB_LOCATION": ":memory:",
              "DEV_MODE": false,
              "DISPLAY_MAX_COLUMNS": 100,
              "DISPLAY_MAX_ROWS": 50000,
              "DISPLAY_MODE": "simple",
              "ENABLE_ASSIGNMENT": true,
              "ENABLE_DATALINK": true,
              "FLATTEN_COLUMN_VALUES": true,
              "FLATTEN_INDEX_VALUES": false,
              "GENERATE_DEX_METADATA": false,
              "HTML_TABLE_SCHEMA": false,
              "LOG_LEVEL": 30,
              "MAX_RENDER_SIZE_BYTES": 104857600,
              "MAX_STRING_LENGTH": 250,
              "NUM_PAST_SAMPLES_TRACKED": 3,
              "RANDOM_STATE": 12648430,
              "RESET_INDEX_VALUES": false,
              "ROW_SAMPLING_METHOD": "random",
              "SAMPLING_FACTOR": 0.1,
              "SAMPLING_METHOD": "random",
              "STRINGIFY_COLUMN_VALUES": true,
              "STRINGIFY_INDEX_VALUES": false
            },
            "sample_history": [],
            "sampling_time": "2023-08-25T00:13:47.778952",
            "user_variable_name": "df",
            "variable_name": "df"
          }
        }
      },
      "id": "05381b15-ded1-421a-8767-67866824851e"
    },
    {
      "cell_type": "code",
      "source": [
        "# Creating numpy arrays with mixed data types including Python objects\n",
        "\n",
        "# Array with integers and floats\n",
        "mixed_array_1 = np.array([1, 2.5, 3, 4.2])\n",
        "\n",
        "# Array with integers, floats, and strings\n",
        "mixed_array_2 = np.array([1, 2.5, 'three'])\n",
        "\n",
        "# Array with integers and Python lists\n",
        "mixed_array_3 = np.array([1, 2, [3, 4, 5]])\n",
        "\n",
        "mixed_array_1, mixed_array_2, mixed_array_3"
      ],
      "outputs": [
        {
          "output_type": "execute_result",
          "execution_count": null,
          "data": {
            "text/plain": "(array([1. , 2.5, 3. , 4.2]),\n array(['1', '2.5', 'three'], dtype='<U32'),\n array([1, 2, list([3, 4, 5])], dtype=object))"
          },
          "metadata": {}
        }
      ],
      "execution_count": null,
      "metadata": {
        "noteable": {
          "cell_type": "code"
        },
        "ExecuteTime": {
          "end_time": "2023-08-25T00:15:29.853838+00:00",
          "start_time": "2023-08-25T00:15:29.689834+00:00"
        }
      },
      "id": "0d75ea1c-9c01-4c3e-a686-1a2a065488a0"
    },
    {
      "cell_type": "code",
      "source": [
        "# Static casting using numpy's astype() method\n",
        "\n",
        "# Casting mixed_array_1 to integer\n",
        "static_cast_1 = mixed_array_1.astype(int)\n",
        "\n",
        "# Dynamic casting using numpy's asarray() method\n",
        "\n",
        "# Casting mixed_array_1 to float64\n",
        "dynamic_cast_1 = np.asarray(mixed_array_1, dtype=np.float64)\n",
        "\n",
        "# Casting mixed_array_3 to object\n",
        "dynamic_cast_2 = np.asarray(mixed_array_3, dtype=object)\n",
        "\n",
        "static_cast_1, dynamic_cast_1, dynamic_cast_2"
      ],
      "outputs": [
        {
          "output_type": "execute_result",
          "execution_count": null,
          "data": {
            "text/plain": "(array([1, 2, 3, 4]),\n array([1. , 2.5, 3. , 4.2]),\n array([1, 2, list([3, 4, 5])], dtype=object))"
          },
          "metadata": {}
        }
      ],
      "execution_count": null,
      "metadata": {
        "noteable": {
          "cell_type": "code"
        },
        "ExecuteTime": {
          "end_time": "2023-08-25T00:16:17.360786+00:00",
          "start_time": "2023-08-25T00:16:17.200273+00:00"
        }
      },
      "id": "582bddc7-0878-412c-b980-209839a29d6d"
    },
    {
      "cell_type": "code",
      "source": [
        "# Creating more numpy arrays with a mix of string and numeric literals\n",
        "\n",
        "# Array with integers and strings\n",
        "mixed_array_4 = np.array([1, 'two', 3, 'four'])\n",
        "\n",
        "# Array with floats and strings\n",
        "mixed_array_5 = np.array([1.5, 'two point five', 3.5, 'four point five'])\n",
        "\n",
        "# Array with a mix of integers, floats, and strings\n",
        "mixed_array_6 = np.array([1, 2.5, 'three', 4, 5.5, 'six'])\n",
        "\n",
        "# Static casting: Attempting to cast mixed_array_4 to float (will raise an error)\n",
        "try:\n",
        "    static_cast_2 = mixed_array_4.astype(float)\n",
        "except Exception as e:\n",
        "    static_cast_2_error = str(e)\n",
        "\n",
        "# Dynamic casting: Attempting to cast mixed_array_5 to object\n",
        "dynamic_cast_3 = np.asarray(mixed_array_5, dtype=object)\n",
        "\n",
        "mixed_array_4, mixed_array_5, mixed_array_6, static_cast_2_error, dynamic_cast_3"
      ],
      "outputs": [
        {
          "output_type": "execute_result",
          "execution_count": null,
          "data": {
            "text/plain": "(array(['1', 'two', '3', 'four'], dtype='<U21'),\n array(['1.5', 'two point five', '3.5', 'four point five'], dtype='<U32'),\n array(['1', '2.5', 'three', '4', '5.5', 'six'], dtype='<U32'),\n \"could not convert string to float: 'two'\",\n array(['1.5', 'two point five', '3.5', 'four point five'], dtype=object))"
          },
          "metadata": {}
        }
      ],
      "execution_count": null,
      "metadata": {
        "noteable": {
          "cell_type": "code"
        },
        "ExecuteTime": {
          "end_time": "2023-08-25T00:17:36.391854+00:00",
          "start_time": "2023-08-25T00:17:36.226704+00:00"
        }
      },
      "id": "ef7b4737-f6d3-46c5-bdaa-1a2235100526"
    },
    {
      "cell_type": "code",
      "source": [
        "# Creating numpy arrays with a mix of numeric literals and a dict object\n",
        "\n",
        "# Array with integers and a dictionary\n",
        "mixed_array_7 = np.array([1, 2, 3, {'a': 1, 'b': 2}])\n",
        "\n",
        "# Array with floats and a dictionary\n",
        "mixed_array_8 = np.array([1.5, 2.5, 3.5, {'x': 10.5, 'y': 20.5}])\n",
        "\n",
        "# Array with a mix of integers, floats, and a dictionary\n",
        "mixed_array_9 = np.array([1, 2.5, 3, 4.5, {'key': 'value'}])\n",
        "\n",
        "mixed_array_7, mixed_array_8, mixed_array_9"
      ],
      "outputs": [
        {
          "output_type": "execute_result",
          "execution_count": null,
          "data": {
            "text/plain": "(array([1, 2, 3, {'a': 1, 'b': 2}], dtype=object),\n array([1.5, 2.5, 3.5, {'x': 10.5, 'y': 20.5}], dtype=object),\n array([1, 2.5, 3, 4.5, {'key': 'value'}], dtype=object))"
          },
          "metadata": {}
        }
      ],
      "execution_count": null,
      "metadata": {
        "noteable": {
          "cell_type": "code"
        },
        "ExecuteTime": {
          "end_time": "2023-08-25T00:19:05.073932+00:00",
          "start_time": "2023-08-25T00:19:04.912151+00:00"
        }
      },
      "id": "66fa9147-8082-44e4-b566-3cc39215d053"
    },
    {
      "cell_type": "code",
      "source": [
        "# Checking the types of the mixed arrays using dtype and type()\n",
        "dtype_mixed_array_7 = mixed_array_7.dtype\n",
        "type_mixed_array_7 = type(mixed_array_7)\n",
        "\n",
        "dtype_mixed_array_8 = mixed_array_8.dtype\n",
        "type_mixed_array_8 = type(mixed_array_8)\n",
        "\n",
        "dtype_mixed_array_9 = mixed_array_9.dtype\n",
        "type_mixed_array_9 = type(mixed_array_9)\n",
        "\n",
        "# Static casting: Attempting to cast mixed_array_7 to string\n",
        "try:\n",
        "    static_cast_3 = mixed_array_7.astype(str)\n",
        "except Exception as e:\n",
        "    static_cast_3_error = str(e)\n",
        "\n",
        "# Dynamic casting: Attempting to cast mixed_array_8 to object\n",
        "dynamic_cast_4 = np.asarray(mixed_array_8, dtype=object)\n",
        "\n",
        "dtype_mixed_array_7, type_mixed_array_7, dtype_mixed_array_8, type_mixed_array_8, dtype_mixed_array_9, type_mixed_array_9, static_cast_3_error, dynamic_cast_4"
      ],
      "outputs": [
        {
          "output_type": "error",
          "ename": "NameError",
          "evalue": "name 'static_cast_3_error' is not defined",
          "traceback": [
            "\u001b[0;31m---------------------------------------------------------------------------\u001b[0m",
            "\u001b[0;31mNameError\u001b[0m                                 Traceback (most recent call last)",
            "Cell \u001b[0;32mIn[6], line 20\u001b[0m\n\u001b[1;32m     17\u001b[0m \u001b[38;5;66;03m# Dynamic casting: Attempting to cast mixed_array_8 to object\u001b[39;00m\n\u001b[1;32m     18\u001b[0m dynamic_cast_4 \u001b[38;5;241m=\u001b[39m np\u001b[38;5;241m.\u001b[39masarray(mixed_array_8, dtype\u001b[38;5;241m=\u001b[39m\u001b[38;5;28mobject\u001b[39m)\n\u001b[0;32m---> 20\u001b[0m dtype_mixed_array_7, type_mixed_array_7, dtype_mixed_array_8, type_mixed_array_8, dtype_mixed_array_9, type_mixed_array_9, \u001b[43mstatic_cast_3_error\u001b[49m, dynamic_cast_4\n",
            "\u001b[0;31mNameError\u001b[0m: name 'static_cast_3_error' is not defined"
          ]
        }
      ],
      "execution_count": null,
      "metadata": {
        "noteable": {
          "cell_type": "code"
        },
        "ExecuteTime": {
          "end_time": "2023-08-25T00:20:58.713941+00:00",
          "start_time": "2023-08-25T00:20:58.126842+00:00"
        }
      },
      "id": "4b85a498-a345-4eef-9c52-4b62cbc52354"
    },
    {
      "cell_type": "code",
      "source": [
        "# Correcting the error and checking the types again\n",
        "\n",
        "# Static casting: Attempting to cast mixed_array_7 to string\n",
        "static_cast_3 = mixed_array_7.astype(str)\n",
        "\n",
        "dtype_mixed_array_7, type_mixed_array_7, dtype_mixed_array_8, type_mixed_array_8, dtype_mixed_array_9, type_mixed_array_9, static_cast_3, dynamic_cast_4"
      ],
      "outputs": [
        {
          "output_type": "execute_result",
          "execution_count": null,
          "data": {
            "text/plain": "(dtype('O'),\n numpy.ndarray,\n dtype('O'),\n numpy.ndarray,\n dtype('O'),\n numpy.ndarray,\n array(['1', '2', '3', \"{'a': 1, 'b': 2}\"], dtype='<U16'),\n array([1.5, 2.5, 3.5, {'x': 10.5, 'y': 20.5}], dtype=object))"
          },
          "metadata": {}
        }
      ],
      "execution_count": null,
      "metadata": {
        "noteable": {
          "cell_type": "code"
        },
        "ExecuteTime": {
          "end_time": "2023-08-25T00:21:35.933168+00:00",
          "start_time": "2023-08-25T00:21:35.773355+00:00"
        }
      },
      "id": "49c6370f-f58a-427c-8e03-77b9ec60469e"
    },
    {
      "cell_type": "code",
      "source": [
        "# Given dataset\n",
        "data = np.array([\n",
        "    [101, '25', 'I love Python!'],\n",
        "    [102, 30, 12345],\n",
        "    [103, 'NA', 'Data wrangling is fun!'],\n",
        "    [104, 28, 'Missing comment here'],\n",
        "    [105, 'twenty', 67890]\n",
        "])\n",
        "\n",
        "# Step 1: Identify and handle missing or erroneous age data\n",
        "\n",
        "# Function to convert age to integer or return None if not possible\n",
        "def convert_age(age):\n",
        "    try:\n",
        "        return int(age)\n",
        "    except ValueError:\n",
        "        return None\n",
        "\n",
        "# Apply the function to the age column\n",
        "data[:, 1] = np.vectorize(convert_age)(data[:, 1])\n",
        "\n",
        "# Step 2: Convert all comments to strings\n",
        "data[:, 2] = data[:, 2].astype(str)\n",
        "\n",
        "# Cleaned dataset\n",
        "data"
      ],
      "outputs": [
        {
          "output_type": "error",
          "ename": "TypeError",
          "evalue": "int() argument must be a string, a bytes-like object or a number, not 'NoneType'",
          "traceback": [
            "\u001b[0;31m---------------------------------------------------------------------------\u001b[0m",
            "\u001b[0;31mTypeError\u001b[0m                                 Traceback (most recent call last)",
            "Cell \u001b[0;32mIn[8], line 20\u001b[0m\n\u001b[1;32m     17\u001b[0m         \u001b[38;5;28;01mreturn\u001b[39;00m \u001b[38;5;28;01mNone\u001b[39;00m\n\u001b[1;32m     19\u001b[0m \u001b[38;5;66;03m# Apply the function to the age column\u001b[39;00m\n\u001b[0;32m---> 20\u001b[0m data[:, \u001b[38;5;241m1\u001b[39m] \u001b[38;5;241m=\u001b[39m \u001b[43mnp\u001b[49m\u001b[38;5;241;43m.\u001b[39;49m\u001b[43mvectorize\u001b[49m\u001b[43m(\u001b[49m\u001b[43mconvert_age\u001b[49m\u001b[43m)\u001b[49m\u001b[43m(\u001b[49m\u001b[43mdata\u001b[49m\u001b[43m[\u001b[49m\u001b[43m:\u001b[49m\u001b[43m,\u001b[49m\u001b[43m \u001b[49m\u001b[38;5;241;43m1\u001b[39;49m\u001b[43m]\u001b[49m\u001b[43m)\u001b[49m\n\u001b[1;32m     22\u001b[0m \u001b[38;5;66;03m# Step 2: Convert all comments to strings\u001b[39;00m\n\u001b[1;32m     23\u001b[0m data[:, \u001b[38;5;241m2\u001b[39m] \u001b[38;5;241m=\u001b[39m data[:, \u001b[38;5;241m2\u001b[39m]\u001b[38;5;241m.\u001b[39mastype(\u001b[38;5;28mstr\u001b[39m)\n",
            "File \u001b[0;32m/opt/conda/lib/python3.9/site-packages/numpy/lib/function_base.py:2328\u001b[0m, in \u001b[0;36mvectorize.__call__\u001b[0;34m(self, *args, **kwargs)\u001b[0m\n\u001b[1;32m   2325\u001b[0m     vargs \u001b[38;5;241m=\u001b[39m [args[_i] \u001b[38;5;28;01mfor\u001b[39;00m _i \u001b[38;5;129;01min\u001b[39;00m inds]\n\u001b[1;32m   2326\u001b[0m     vargs\u001b[38;5;241m.\u001b[39mextend([kwargs[_n] \u001b[38;5;28;01mfor\u001b[39;00m _n \u001b[38;5;129;01min\u001b[39;00m names])\n\u001b[0;32m-> 2328\u001b[0m \u001b[38;5;28;01mreturn\u001b[39;00m \u001b[38;5;28;43mself\u001b[39;49m\u001b[38;5;241;43m.\u001b[39;49m\u001b[43m_vectorize_call\u001b[49m\u001b[43m(\u001b[49m\u001b[43mfunc\u001b[49m\u001b[38;5;241;43m=\u001b[39;49m\u001b[43mfunc\u001b[49m\u001b[43m,\u001b[49m\u001b[43m \u001b[49m\u001b[43margs\u001b[49m\u001b[38;5;241;43m=\u001b[39;49m\u001b[43mvargs\u001b[49m\u001b[43m)\u001b[49m\n",
            "File \u001b[0;32m/opt/conda/lib/python3.9/site-packages/numpy/lib/function_base.py:2414\u001b[0m, in \u001b[0;36mvectorize._vectorize_call\u001b[0;34m(self, func, args)\u001b[0m\n\u001b[1;32m   2411\u001b[0m outputs \u001b[38;5;241m=\u001b[39m ufunc(\u001b[38;5;241m*\u001b[39minputs)\n\u001b[1;32m   2413\u001b[0m \u001b[38;5;28;01mif\u001b[39;00m ufunc\u001b[38;5;241m.\u001b[39mnout \u001b[38;5;241m==\u001b[39m \u001b[38;5;241m1\u001b[39m:\n\u001b[0;32m-> 2414\u001b[0m     res \u001b[38;5;241m=\u001b[39m \u001b[43masanyarray\u001b[49m\u001b[43m(\u001b[49m\u001b[43moutputs\u001b[49m\u001b[43m,\u001b[49m\u001b[43m \u001b[49m\u001b[43mdtype\u001b[49m\u001b[38;5;241;43m=\u001b[39;49m\u001b[43motypes\u001b[49m\u001b[43m[\u001b[49m\u001b[38;5;241;43m0\u001b[39;49m\u001b[43m]\u001b[49m\u001b[43m)\u001b[49m\n\u001b[1;32m   2415\u001b[0m \u001b[38;5;28;01melse\u001b[39;00m:\n\u001b[1;32m   2416\u001b[0m     res \u001b[38;5;241m=\u001b[39m \u001b[38;5;28mtuple\u001b[39m([asanyarray(x, dtype\u001b[38;5;241m=\u001b[39mt)\n\u001b[1;32m   2417\u001b[0m                  \u001b[38;5;28;01mfor\u001b[39;00m x, t \u001b[38;5;129;01min\u001b[39;00m \u001b[38;5;28mzip\u001b[39m(outputs, otypes)])\n",
            "\u001b[0;31mTypeError\u001b[0m: int() argument must be a string, a bytes-like object or a number, not 'NoneType'"
          ]
        }
      ],
      "execution_count": null,
      "metadata": {
        "noteable": {
          "cell_type": "code"
        },
        "ExecuteTime": {
          "end_time": "2023-08-25T00:25:46.921106+00:00",
          "start_time": "2023-08-25T00:25:46.315960+00:00"
        }
      },
      "id": "c71378fd-d051-4aa0-b5df-73a4105bcfab"
    },
    {
      "cell_type": "code",
      "source": [
        "# Modified approach to handle erroneous age data\n",
        "\n",
        "# Convert valid ages to integers and keep others as is\n",
        "ages = np.array([convert_age(age) for age in data[:, 1]])\n",
        "\n",
        "# Replace non-integer values with None\n",
        "ages[~np.array([isinstance(age, int) for age in ages])] = None\n",
        "\n",
        "# Update the age column in the dataset\n",
        "data[:, 1] = ages\n",
        "\n",
        "# Cleaned dataset\n",
        "data"
      ],
      "outputs": [
        {
          "output_type": "execute_result",
          "execution_count": null,
          "data": {
            "text/plain": "array([['101', '25', 'I love Python!'],\n       ['102', '30', '12345'],\n       ['103', 'None', 'Data wrangling is fun!'],\n       ['104', '28', 'Missing comment here'],\n       ['105', 'None', '67890']], dtype='<U22')"
          },
          "metadata": {}
        }
      ],
      "execution_count": null,
      "metadata": {
        "noteable": {
          "cell_type": "code"
        },
        "ExecuteTime": {
          "end_time": "2023-08-25T00:26:23.114398+00:00",
          "start_time": "2023-08-25T00:26:22.951843+00:00"
        }
      },
      "id": "52e3cbac-879f-40b2-8356-3f38165ee9fd"
    },
    {
      "cell_type": "code",
      "source": [
        "# Alternative Pythonic solution using list comprehensions\n",
        "\n",
        "# Given dataset\n",
        "data_list = [\n",
        "    [101, '25', 'I love Python!'],\n",
        "    [102, 30, 12345],\n",
        "    [103, 'NA', 'Data wrangling is fun!'],\n",
        "    [104, 28, 'Missing comment here'],\n",
        "    [105, 'twenty', 67890]\n",
        "]\n",
        "\n",
        "# Cleaning the dataset\n",
        "cleaned_data_list = [\n",
        "    [record[0], convert_age(record[1]), str(record[2])] for record in data_list\n",
        "]\n",
        "\n",
        "cleaned_data_list"
      ],
      "outputs": [
        {
          "output_type": "execute_result",
          "execution_count": null,
          "data": {
            "text/plain": "[[101, 25, 'I love Python!'],\n [102, 30, '12345'],\n [103, None, 'Data wrangling is fun!'],\n [104, 28, 'Missing comment here'],\n [105, None, '67890']]"
          },
          "metadata": {}
        }
      ],
      "execution_count": null,
      "metadata": {
        "noteable": {
          "cell_type": "code"
        },
        "ExecuteTime": {
          "end_time": "2023-08-25T00:27:10.859045+00:00",
          "start_time": "2023-08-25T00:27:10.696843+00:00"
        }
      },
      "id": "0aac7c47-c21a-415c-a3e8-41683245d60f"
    }
  ],
  "metadata": {
    "noteable-chatgpt": {
      "create_notebook": {
        "openai_conversation_id": "8f88b86d-1df0-5c2f-bf95-858683683807",
        "openai_ephemeral_user_id": "8b1c9581-713d-5c0d-a0e7-086c4088687c",
        "openai_subdivision1_iso_code": "PH-00"
      }
    },
    "kernel_info": {
      "name": "python3"
    },
    "noteable": {
      "last_transaction_id": "cba84d5d-a8b2-4d77-a431-e41b3136c322",
      "last_delta_id": "cba84d5d-a8b2-4d77-a431-e41b3136c322"
    },
    "kernelspec": {
      "display_name": "Python 3.9",
      "language": "python",
      "name": "python3"
    },
    "selected_hardware_size": "small",
    "nteract": {
      "version": "noteable@2.9.0"
    }
  },
  "nbformat": 4,
  "nbformat_minor": 5
}