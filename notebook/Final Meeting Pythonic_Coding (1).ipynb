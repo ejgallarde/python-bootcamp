{
 "cells": [
  {
   "cell_type": "markdown",
   "id": "cfe0aab0-d5ba-46df-a7c2-47f137419346",
   "metadata": {
    "noteable": {
     "cell_type": "markdown"
    }
   },
   "source": [
    "# Pythonic Coding Discussion\n",
    "This notebook aims to discuss Pythonic ways of coding, covering concepts from basic to advanced levels. We'll go through explanations, examples, exercises, and answer keys for each topic.\n",
    "\n",
    "## Topics Covered\n",
    "1. **Pythonic Coding**\n",
    "    - What is Pythonic Code?\n",
    "    - The Zen of Python\n",
    "    - Basic Syntax Examples\n",
    "\n",
    "2. **Additional Concepts**\n",
    "    - List Comprehensions\n",
    "    - Generators\n",
    "    - Decorators\n",
    "    - Context Managers\n",
    "    - Metaclasses\n",
    "    - Coroutines"
   ]
  },
  {
   "cell_type": "markdown",
   "id": "575743f8-a3b1-4fbd-b704-c0e28406c910",
   "metadata": {
    "noteable": {
     "cell_type": "markdown"
    }
   },
   "source": [
    "## Basic Concepts\n",
    "\n",
    "### What is Pythonic Code?\n",
    "Pythonic code refers to code that adheres to the idiomatic practices and conventions of the Python language. Writing Pythonic code makes your programs more readable, maintainable, and efficient. In this section, we'll explore what it means to write Pythonic code, starting with the Zen of Python."
   ]
  },
  {
   "cell_type": "markdown",
   "id": "40e99fea-194a-491d-a79a-ab0bc2feee83",
   "metadata": {
    "noteable": {
     "cell_type": "markdown"
    }
   },
   "source": [
    "### The Zen of Python\n",
    "The Zen of Python is a collection of guiding principles for writing computer programs in Python. It was written by Tim Peters and can be accessed in Python by typing `import this` in the Python interpreter. Here are some of its key principles that relate to writing Pythonic code:\n",
    "\n",
    "- Beautiful is better than ugly.\n",
    "- Explicit is better than implicit.\n",
    "- Simple is better than complex.\n",
    "- Complex is better than complicated.\n",
    "- Readability counts.\n",
    "\n",
    "These principles emphasize readability, simplicity, and the 'Pythonic' way of coding."
   ]
  },
  {
   "cell_type": "markdown",
   "id": "f9d45b60-9b85-4db6-87dd-aa106f5af113",
   "metadata": {
    "noteable": {
     "cell_type": "markdown"
    }
   },
   "source": [
    "### Pythonic Syntax Examples\n",
    "\n",
    "Examples of some basic Pythonic syntax examples that align with the Zen of Python principles."
   ]
  },
  {
   "cell_type": "code",
   "execution_count": null,
   "id": "e6c8c6ff-f033-4b97-964e-4f348dbcd65f",
   "metadata": {
    "ExecuteTime": {
     "end_time": "2023-09-06T01:31:18.408299+00:00",
     "start_time": "2023-09-06T01:31:18.252789+00:00"
    },
    "noteable": {
     "cell_type": "code"
    }
   },
   "outputs": [
    {
     "name": "stdout",
     "output_type": "stream",
     "text": [
      "a: 10 b: 5\n"
     ]
    }
   ],
   "source": [
    "# Revisiting (Non-Pythonic way of) swapping two numbers\n",
    "a = 5\n",
    "b = 10\n",
    "temp = a\n",
    "a = b\n",
    "b = temp\n",
    "print('a:', a, 'b:', b)"
   ]
  },
  {
   "cell_type": "code",
   "execution_count": null,
   "id": "fc85a170-a5bd-455d-873f-f90271050703",
   "metadata": {
    "ExecuteTime": {
     "end_time": "2023-09-06T01:31:55.240481+00:00",
     "start_time": "2023-09-06T01:31:55.085853+00:00"
    },
    "noteable": {
     "cell_type": "code"
    }
   },
   "outputs": [
    {
     "name": "stdout",
     "output_type": "stream",
     "text": [
      "a: 10 b: 5\n"
     ]
    }
   ],
   "source": [
    "# Pythonic way of swapping two numbers\n",
    "a, b = 5, 10\n",
    "a, b = b, a\n",
    "print('a:', a, 'b:', b)"
   ]
  },
  {
   "cell_type": "markdown",
   "id": "9c4c9413-e078-48f2-b8ad-8a009879c3af",
   "metadata": {
    "noteable": {
     "cell_type": "markdown"
    }
   },
   "source": [
    "#### Exercise 1: Factorial\n",
    "\n",
    "Write a Pythonic function to calculate the factorial of a number. The function should take a single argument, the number, and return the factorial."
   ]
  },
  {
   "cell_type": "markdown",
   "id": "6ae74175-1c0c-4ce8-a637-f1dc76b3ba90",
   "metadata": {
    "noteable": {
     "cell_type": "markdown"
    }
   },
   "source": [
    "#### Exercise 1: Factorial\n",
    "\n",
    "Here's a Pythonic way to calculate the factorial using recursion."
   ]
  },
  {
   "cell_type": "code",
   "execution_count": null,
   "id": "3be4dac4-6440-4649-aefb-d9a861db1e2e",
   "metadata": {
    "ExecuteTime": {
     "end_time": "2023-09-06T01:33:29.221474+00:00",
     "start_time": "2023-09-06T01:33:29.065437+00:00"
    },
    "noteable": {
     "cell_type": "code"
    }
   },
   "outputs": [
    {
     "data": {
      "text/plain": [
       "120"
      ]
     },
     "execution_count": null,
     "metadata": {},
     "output_type": "execute_result"
    }
   ],
   "source": [
    "# Pythonic way to calculate factorial using recursion\n",
    "def factorial(n):\n",
    "    return 1 if n == 0 else n * factorial(n-1)\n",
    "\n",
    "# Test the function\n",
    "factorial(5)"
   ]
  },
  {
   "cell_type": "markdown",
   "id": "73c5883b-cf09-495a-82ff-4aef3eb7be85",
   "metadata": {
    "noteable": {
     "cell_type": "markdown"
    }
   },
   "source": [
    "## Additional Concepts\n",
    "\n",
    "### List Comprehensions\n",
    "\n",
    "List comprehensions provide a concise way to create lists. They are more Pythonic and often more efficient than traditional `for` loops."
   ]
  },
  {
   "cell_type": "code",
   "execution_count": null,
   "id": "c696818e-68ab-49a7-b53c-70626bf081b8",
   "metadata": {
    "ExecuteTime": {
     "end_time": "2023-09-06T01:34:22.272586+00:00",
     "start_time": "2023-09-06T01:34:22.116693+00:00"
    },
    "noteable": {
     "cell_type": "code"
    }
   },
   "outputs": [
    {
     "data": {
      "text/plain": [
       "[0, 1, 4, 9, 16, 25, 36, 49, 64, 81]"
      ]
     },
     "execution_count": null,
     "metadata": {},
     "output_type": "execute_result"
    }
   ],
   "source": [
    "# Non-Pythonic way to create a list of squares\n",
    "squares = []\n",
    "for i in range(10):\n",
    "    squares.append(i ** 2)\n",
    "squares"
   ]
  },
  {
   "cell_type": "code",
   "execution_count": null,
   "id": "599f1d1e-ac3d-4a3e-a3dd-44bbfdc67326",
   "metadata": {
    "ExecuteTime": {
     "end_time": "2023-09-06T01:34:27.032668+00:00",
     "start_time": "2023-09-06T01:34:26.876650+00:00"
    },
    "noteable": {
     "cell_type": "code"
    }
   },
   "outputs": [
    {
     "data": {
      "text/plain": [
       "[0, 1, 4, 9, 16, 25, 36, 49, 64, 81]"
      ]
     },
     "execution_count": null,
     "metadata": {},
     "output_type": "execute_result"
    }
   ],
   "source": [
    "# Pythonic way to create a list of squares using list comprehension\n",
    "squares = [i ** 2 for i in range(10)]\n",
    "squares"
   ]
  },
  {
   "cell_type": "markdown",
   "id": "7753ba45-c423-4b1c-a753-3f12f8d42b6c",
   "metadata": {
    "noteable": {
     "cell_type": "markdown"
    }
   },
   "source": [
    "#### Exercise 2: List Comprehensions\n",
    "\n",
    "Write a Pythonic function that takes a list of numbers and returns a new list containing only the even numbers from the given list."
   ]
  },
  {
   "cell_type": "markdown",
   "id": "3123aa55-eaec-4166-89d1-c83384954d79",
   "metadata": {
    "noteable": {
     "cell_type": "markdown"
    }
   },
   "source": [
    "#### Exercise 2: List Comprehension\n",
    "\n",
    "Here's a Pythonic way to filter out even numbers from a list using list comprehension."
   ]
  },
  {
   "cell_type": "code",
   "execution_count": null,
   "id": "00bb566b-b589-4edc-812f-975934a6d6e0",
   "metadata": {
    "ExecuteTime": {
     "end_time": "2023-09-06T01:49:38.041263+00:00",
     "start_time": "2023-09-06T01:49:37.884268+00:00"
    },
    "noteable": {
     "cell_type": "code"
    }
   },
   "outputs": [
    {
     "data": {
      "text/plain": [
       "[2, 4, 6, 8, 10]"
      ]
     },
     "execution_count": null,
     "metadata": {},
     "output_type": "execute_result"
    }
   ],
   "source": [
    "# Pythonic way to filter even numbers from a list\n",
    "def filter_even_numbers(numbers):\n",
    "    return [n for n in numbers if n % 2 == 0]\n",
    "\n",
    "# Test the function\n",
    "filter_even_numbers([1, 2, 3, 4, 5, 6, 7, 8, 9, 10])"
   ]
  },
  {
   "cell_type": "markdown",
   "id": "911498f1-c93a-4567-a2d8-2362d5084baa",
   "metadata": {
    "noteable": {
     "cell_type": "markdown"
    }
   },
   "source": [
    "## Collections in Python\n",
    "\n",
    "The `collections` module in Python provides alternatives to built-in container data types like list, tuple, and dict. These alternatives are more optimized and include additional functionalities. In this section, we will discuss different types of collections, starting with `Counter`."
   ]
  },
  {
   "cell_type": "markdown",
   "id": "87b1396b-26f5-4714-a832-38fd72369bd4",
   "metadata": {
    "noteable": {
     "cell_type": "markdown"
    }
   },
   "source": [
    "### Counter\n",
    "\n",
    "The `Counter` class in the `collections` module allows us to count the occurrences of elements in a collection. It takes an iterable (or a mapping) as an argument and returns a dictionary-like collection where keys are the elements and values are their counts."
   ]
  },
  {
   "cell_type": "code",
   "execution_count": null,
   "id": "5c2d3146-f3e2-4319-82e0-f6f267622aea",
   "metadata": {
    "ExecuteTime": {
     "end_time": "2023-09-06T02:43:20.978113+00:00",
     "start_time": "2023-09-06T02:43:20.820380+00:00"
    },
    "noteable": {
     "cell_type": "code"
    }
   },
   "outputs": [
    {
     "data": {
      "text/plain": [
       "Counter({3: 3, 1: 2, 2: 2, 4: 1})"
      ]
     },
     "execution_count": null,
     "metadata": {},
     "output_type": "execute_result"
    }
   ],
   "source": [
    "from collections import Counter\n",
    "\n",
    "# Count occurrences of each element in a list\n",
    "numbers = [1, 1, 2, 3, 4, 3, 2, 3]\n",
    "counter = Counter(numbers)\n",
    "counter"
   ]
  },
  {
   "cell_type": "markdown",
   "id": "23acd901-e115-42ae-9c5d-65b2bbc2207e",
   "metadata": {
    "noteable": {
     "cell_type": "markdown"
    }
   },
   "source": [
    "#### Exercise 3: Counter\n",
    "\n",
    "Write a Pythonic function that takes a string as an argument and returns the count of each character in the string using `Counter`."
   ]
  },
  {
   "cell_type": "markdown",
   "id": "96da375d-a576-41df-aa9c-0b84256b44b2",
   "metadata": {
    "noteable": {
     "cell_type": "markdown"
    }
   },
   "source": [
    "#### Exercise 3: Counter\n",
    "\n",
    "Here's a Pythonic way to count the occurrences of each character in a string using `Counter`."
   ]
  },
  {
   "cell_type": "code",
   "execution_count": null,
   "id": "c34c0c27-b9bc-4d02-aa5b-65baf050bce2",
   "metadata": {
    "ExecuteTime": {
     "end_time": "2023-09-06T03:09:44.885160+00:00",
     "start_time": "2023-09-06T03:09:44.728330+00:00"
    },
    "noteable": {
     "cell_type": "code"
    }
   },
   "outputs": [
    {
     "data": {
      "text/plain": [
       "Counter({'l': 3, 'o': 2, 'h': 1, 'e': 1, ' ': 1, 'w': 1, 'r': 1, 'd': 1})"
      ]
     },
     "execution_count": null,
     "metadata": {},
     "output_type": "execute_result"
    }
   ],
   "source": [
    "# Pythonic way to count occurrences of each character in a string using Counter\n",
    "def count_characters(s):\n",
    "    return Counter(s)\n",
    "\n",
    "# Test the function\n",
    "count_characters('hello world')"
   ]
  },
  {
   "cell_type": "markdown",
   "id": "eac04ad7-3fcc-4b5e-8ce2-508243209b01",
   "metadata": {
    "noteable": {
     "cell_type": "markdown"
    }
   },
   "source": [
    "### defaultdict\n",
    "\n",
    "The `defaultdict` class in the `collections` module is a subclass of Python's built-in `dict` class. It overrides one method and adds one writable instance variable. The functionality of both `dict` and `defaultdict` are almost same except for the fact that `defaultdict` never raises a `KeyError`. It provides a default value for the key that does not exist."
   ]
  },
  {
   "cell_type": "code",
   "execution_count": 1,
   "id": "86f26f09-39e0-44a8-9dcb-754555ce879b",
   "metadata": {
    "ExecuteTime": {
     "end_time": "2023-09-06T04:08:47.902122+00:00",
     "start_time": "2023-09-06T04:08:47.746531+00:00"
    },
    "execution": {
     "iopub.execute_input": "2023-09-08T10:19:04.833952Z",
     "iopub.status.busy": "2023-09-08T10:19:04.833352Z",
     "iopub.status.idle": "2023-09-08T10:19:04.859547Z",
     "shell.execute_reply": "2023-09-08T10:19:04.857606Z",
     "shell.execute_reply.started": "2023-09-08T10:19:04.833897Z"
    },
    "noteable": {
     "cell_type": "code"
    },
    "tags": []
   },
   "outputs": [
    {
     "data": {
      "text/plain": [
       "0"
      ]
     },
     "execution_count": 1,
     "metadata": {},
     "output_type": "execute_result"
    }
   ],
   "source": [
    "from collections import defaultdict\n",
    "\n",
    "# Using dict: Raises KeyError\n",
    "d = {}\n",
    "# Uncomment the next line to see the error\n",
    "#d['a']\n",
    "\n",
    "# Using defaultdict: Provides a default value for the key\n",
    "d = defaultdict(int)\n",
    "d['a']"
   ]
  },
  {
   "cell_type": "code",
   "execution_count": 2,
   "id": "2f919945-35d3-45ed-a38b-7c0b948ebd07",
   "metadata": {
    "ExecuteTime": {
     "end_time": "2023-09-06T04:08:02.908115+00:00",
     "start_time": "2023-09-06T04:08:02.752267+00:00"
    },
    "collapsed": false,
    "execution": {
     "iopub.execute_input": "2023-09-08T10:19:07.771876Z",
     "iopub.status.busy": "2023-09-08T10:19:07.771317Z",
     "iopub.status.idle": "2023-09-08T10:19:07.782181Z",
     "shell.execute_reply": "2023-09-08T10:19:07.780335Z",
     "shell.execute_reply.started": "2023-09-08T10:19:07.771822Z"
    },
    "jupyter": {
     "outputs_hidden": false,
     "source_hidden": false
    },
    "noteable": {
     "cell_type": "code"
    },
    "tags": []
   },
   "outputs": [
    {
     "data": {
      "text/plain": [
       "defaultdict(int, {'a': 0})"
      ]
     },
     "execution_count": 2,
     "metadata": {},
     "output_type": "execute_result"
    }
   ],
   "source": [
    "d"
   ]
  },
  {
   "cell_type": "markdown",
   "id": "e64f0610-20c6-4457-81ae-c92c45bdafcf",
   "metadata": {
    "noteable": {
     "cell_type": "markdown"
    }
   },
   "source": [
    "#### Exercise 4: defaultdict\n",
    "\n",
    "Write a Pythonic function that takes a list of strings as an argument and returns a dictionary where the keys are the first letters of the strings and the values are lists of strings that start with that letter. Use `defaultdict`."
   ]
  },
  {
   "cell_type": "markdown",
   "id": "763acd2b-c186-4671-91bc-8b20bf2b462d",
   "metadata": {
    "noteable": {
     "cell_type": "markdown"
    }
   },
   "source": [
    "#### Answer Key: Exercise 4\n",
    "\n",
    "Here's a Pythonic way to group strings by their first letter using `defaultdict`."
   ]
  },
  {
   "cell_type": "code",
   "execution_count": 3,
   "id": "aa7bc139-a4c1-4966-981c-080ca1b5b900",
   "metadata": {
    "ExecuteTime": {
     "end_time": "2023-09-08T08:32:43.442702+00:00",
     "start_time": "2023-09-08T08:32:43.081185+00:00"
    },
    "execution": {
     "iopub.execute_input": "2023-09-08T10:19:12.265983Z",
     "iopub.status.busy": "2023-09-08T10:19:12.264826Z",
     "iopub.status.idle": "2023-09-08T10:19:12.276552Z",
     "shell.execute_reply": "2023-09-08T10:19:12.275358Z",
     "shell.execute_reply.started": "2023-09-08T10:19:12.265926Z"
    },
    "noteable": {
     "cell_type": "code"
    },
    "tags": []
   },
   "outputs": [
    {
     "data": {
      "text/plain": [
       "defaultdict(list,\n",
       "            {'a': ['apple', 'avocado'],\n",
       "             'b': ['banana', 'blueberry'],\n",
       "             'c': ['cherry']})"
      ]
     },
     "execution_count": 3,
     "metadata": {},
     "output_type": "execute_result"
    }
   ],
   "source": [
    "# Pythonic way to group strings by their first letter using defaultdict\n",
    "def group_by_first_letter(strings):\n",
    "    d = defaultdict(list)\n",
    "    for s in strings:\n",
    "        d[s[0]].append(s)\n",
    "    return d\n",
    "\n",
    "# Test the function\n",
    "group_by_first_letter(['apple', 'banana', 'cherry', 'avocado', 'blueberry'])"
   ]
  },
  {
   "cell_type": "markdown",
   "id": "b894d546-c3c4-460d-a12b-3107e91e2897",
   "metadata": {
    "noteable": {
     "cell_type": "markdown"
    }
   },
   "source": [
    "## The Zen of Python: In-Depth\n",
    "\n",
    "The Zen of Python, by Tim Peters, is a set of aphorisms that capture the philosophy of the Python language. While they don't all speak directly to the language's syntax or library design, they embody the principle of writing code that is easy to understand, debug, and scale. Let's delve into each line of the Zen of Python and see how it applies to actual code."
   ]
  },
  {
   "cell_type": "markdown",
   "id": "2b7a3575-5a21-491a-b705-b59a81a35db1",
   "metadata": {
    "noteable": {
     "cell_type": "markdown"
    }
   },
   "source": [
    "### Beautiful is better than ugly\n",
    "\n",
    "This line emphasizes the importance of writing code that is aesthetically pleasing and easy to read. Beautiful code is self-explanatory, well-organized, and follows the conventions and guidelines of the language."
   ]
  },
  {
   "cell_type": "code",
   "execution_count": null,
   "id": "f07df191-9c6a-4fb3-96a5-5fce3ae99e56",
   "metadata": {
    "noteable": {
     "cell_type": "code"
    }
   },
   "outputs": [],
   "source": [
    "# Code that violates 'Beautiful is better than ugly'\n",
    "def f(x): return { 'odd' if x%2 else 'even' }[True]\n",
    "\n",
    "# Code that adheres to 'Beautiful is better than ugly'\n",
    "def is_odd_or_even(x):\n",
    "    if x % 2 == 0:\n",
    "        return 'even'\n",
    "    else:\n",
    "        return 'odd'"
   ]
  },
  {
   "cell_type": "markdown",
   "id": "6fd8dc69-d56b-4463-90a5-4da3d845a9cb",
   "metadata": {
    "noteable": {
     "cell_type": "markdown"
    }
   },
   "source": [
    "### Explicit is better than implicit\n",
    "\n",
    "This line encourages us to write code that is easy to understand. Instead of using clever tricks or non-obvious syntax, it's better to be explicit about what you're trying to accomplish."
   ]
  },
  {
   "cell_type": "code",
   "execution_count": null,
   "id": "24d262bc-775e-41b1-b9b0-e910411fb174",
   "metadata": {
    "noteable": {
     "cell_type": "code"
    }
   },
   "outputs": [],
   "source": [
    "# Code that violates 'Explicit is better than implicit'\n",
    "def calculate(a, b):\n",
    "    return a + b, a - b\n",
    "\n",
    "# Code that adheres to 'Explicit is better than implicit'\n",
    "def add(a, b):\n",
    "    return a + b\n",
    "\n",
    "def subtract(a, b):\n",
    "    return a - b"
   ]
  },
  {
   "cell_type": "markdown",
   "id": "97f04d54-e638-4aee-beb0-c1f1d02157bd",
   "metadata": {
    "noteable": {
     "cell_type": "markdown"
    }
   },
   "source": [
    "### Simple is better than complex\n",
    "\n",
    "This line advises us to keep our code simple whenever possible. While complex solutions may be necessary at times, a simpler solution is easier to understand and maintain."
   ]
  },
  {
   "cell_type": "code",
   "execution_count": null,
   "id": "e9fc8a60-65dc-4c75-a5fd-077018f31701",
   "metadata": {
    "noteable": {
     "cell_type": "code"
    }
   },
   "outputs": [],
   "source": [
    "# Code that violates 'Simple is better than complex'\n",
    "def calculate_area(shape, dimensions):\n",
    "    if shape == 'circle':\n",
    "        return 3.14159 * dimensions[0] ** 2\n",
    "    elif shape == 'rectangle':\n",
    "        return dimensions[0] * dimensions[1]\n",
    "    elif shape == 'triangle':\n",
    "        return 0.5 * dimensions[0] * dimensions[1]\n",
    "\n",
    "# Code that adheres to 'Simple is better than complex'\n",
    "def area_of_circle(radius):\n",
    "    return 3.14159 * radius ** 2\n",
    "\n",
    "def area_of_rectangle(length, width):\n",
    "    return length * width\n",
    "\n",
    "def area_of_triangle(base, height):\n",
    "    return 0.5 * base * height"
   ]
  },
  {
   "cell_type": "markdown",
   "id": "fa3e98f7-0bbc-49a2-b7bb-9e80cf52b5e3",
   "metadata": {
    "noteable": {
     "cell_type": "markdown"
    }
   },
   "source": [
    "### Complex is better than complicated\n",
    "\n",
    "While simple solutions are preferred, complexity is sometimes unavoidable. However, even in complex systems, the code should be straightforward to understand."
   ]
  },
  {
   "cell_type": "code",
   "execution_count": null,
   "id": "06db8e27-5378-430e-bc88-6ee72d86f3cc",
   "metadata": {
    "noteable": {
     "cell_type": "code"
    }
   },
   "outputs": [],
   "source": [
    "# Code that violates 'Complex is better than complicated'\n",
    "def complex_function(a, b, c):\n",
    "    if a > b:\n",
    "        if a > c:\n",
    "            return a\n",
    "        elif c > a:\n",
    "            return c\n",
    "    elif b > c:\n",
    "        return b\n",
    "    else:\n",
    "        return c\n",
    "\n",
    "# Code that adheres to 'Complex is better than complicated'\n",
    "def max_of_three(a, b, c):\n",
    "    return max(a, b, c)"
   ]
  },
  {
   "cell_type": "markdown",
   "id": "548fbdb3-4265-436d-be4b-a2646cb159f4",
   "metadata": {
    "noteable": {
     "cell_type": "markdown"
    }
   },
   "source": [
    "### Flat is better than nested\n",
    "\n",
    "This line advises against using deeply nested structures, as they can make the code harder to read and understand."
   ]
  },
  {
   "cell_type": "code",
   "execution_count": null,
   "id": "e69f3dc3-3d93-4de7-9490-068d7e384cb3",
   "metadata": {
    "noteable": {
     "cell_type": "code"
    }
   },
   "outputs": [],
   "source": [
    "# Code that violates 'Flat is better than nested'\n",
    "def nested_function(a, b, c):\n",
    "    if a > 0:\n",
    "        if b > 0:\n",
    "            if c > 0:\n",
    "                return 'All are positive'\n",
    "\n",
    "# Code that adheres to 'Flat is better than nested'\n",
    "def flat_function(a, b, c):\n",
    "    if a > 0 and b > 0 and c > 0:\n",
    "        return 'All are positive'"
   ]
  },
  {
   "cell_type": "markdown",
   "id": "65aa8f52-de96-4be9-8ff5-03bf5cdd6baa",
   "metadata": {
    "noteable": {
     "cell_type": "markdown"
    }
   },
   "source": [
    "### Sparse is better than dense\n",
    "\n",
    "This line encourages the use of white space and new lines to make the code easier to read. A dense block of code can be difficult to understand and maintain."
   ]
  },
  {
   "cell_type": "code",
   "execution_count": null,
   "id": "be92cb72-1b21-42fc-b78f-1bf9445d61bc",
   "metadata": {
    "noteable": {
     "cell_type": "code"
    }
   },
   "outputs": [],
   "source": [
    "# Code that violates 'Sparse is better than dense'\n",
    "def dense_function(x):return x*2 if x>0 else x/2\n",
    "\n",
    "# Code that adheres to 'Sparse is better than dense'\n",
    "def sparse_function(x):\n",
    "    if x > 0:\n",
    "        return x * 2\n",
    "    else:\n",
    "        return x / 2"
   ]
  },
  {
   "cell_type": "markdown",
   "id": "71ec9a19-61f1-41bb-b646-f1c8c6aa0005",
   "metadata": {
    "noteable": {
     "cell_type": "markdown"
    }
   },
   "source": [
    "### Readability counts\n",
    "\n",
    "This line emphasizes that code is read more often than it is written. Therefore, it should be easy to read and understand."
   ]
  },
  {
   "cell_type": "code",
   "execution_count": null,
   "id": "4cc29a7e-7994-4761-89fd-04751a40d5d7",
   "metadata": {
    "noteable": {
     "cell_type": "code"
    }
   },
   "outputs": [],
   "source": [
    "# Code that violates 'Readability counts'\n",
    "def rc(a,b):return a+b\n",
    "\n",
    "# Code that adheres to 'Readability counts'\n",
    "def add_numbers(a, b):\n",
    "    return a + b"
   ]
  },
  {
   "cell_type": "markdown",
   "id": "e4980e21-0870-4f2b-9111-e49420205864",
   "metadata": {
    "noteable": {
     "cell_type": "markdown"
    }
   },
   "source": [
    "### Special cases aren't special enough to break the rules\n",
    "\n",
    "This line advises against making exceptions in the code for special cases, as it can make the code harder to understand and maintain."
   ]
  },
  {
   "cell_type": "code",
   "execution_count": null,
   "id": "e673bfdd-10fa-4ac9-823e-7ed9b7eb372d",
   "metadata": {
    "noteable": {
     "cell_type": "code"
    }
   },
   "outputs": [],
   "source": [
    "# Code that violates 'Special cases aren't special enough to break the rules'\n",
    "def special_case_function(x):\n",
    "    if x == 42:\n",
    "        return 'The answer to the ultimate question of life, the universe, and everything'\n",
    "    return x * 2\n",
    "\n",
    "# Code that adheres to 'Special cases aren't special enough to break the rules'\n",
    "def general_function(x):\n",
    "    return x * 2"
   ]
  },
  {
   "cell_type": "markdown",
   "id": "2f0f19bf-ac84-45b5-9918-8ada908d2786",
   "metadata": {
    "noteable": {
     "cell_type": "markdown"
    }
   },
   "source": [
    "### Although practicality beats purity\n",
    "\n",
    "This line acknowledges that while it's important to follow rules and guidelines, there may be situations where practical considerations take precedence."
   ]
  },
  {
   "cell_type": "code",
   "execution_count": null,
   "id": "51cbff30-e8de-4ad6-a501-6d9475307710",
   "metadata": {
    "noteable": {
     "cell_type": "code"
    }
   },
   "outputs": [],
   "source": [
    "# Code that violates 'Although practicality beats purity'\n",
    "def impractical_function(x):\n",
    "    # Using a loop to add numbers instead of the + operator\n",
    "    result = 0\n",
    "    for _ in range(x):\n",
    "        result += 1\n",
    "    return result\n",
    "\n",
    "# Code that adheres to 'Although practicality beats purity'\n",
    "def practical_function(x):\n",
    "    return x + 1"
   ]
  },
  {
   "cell_type": "markdown",
   "id": "5d157d48-bd5d-4450-8552-62591f2ec8b8",
   "metadata": {
    "noteable": {
     "cell_type": "markdown"
    }
   },
   "source": [
    "### Errors should never pass silently\n",
    "\n",
    "This line advises us to handle errors explicitly in our code rather than ignoring them, as ignoring errors can lead to unpredictable behavior."
   ]
  },
  {
   "cell_type": "code",
   "execution_count": null,
   "id": "3a7f67a6-09fa-491b-bb54-3a6c31f9533f",
   "metadata": {
    "noteable": {
     "cell_type": "code"
    }
   },
   "outputs": [],
   "source": [
    "# Code that violates 'Errors should never pass silently'\n",
    "def silently_passing_function(x):\n",
    "    try:\n",
    "        return 1 / x\n",
    "    except ZeroDivisionError:\n",
    "        pass\n",
    "\n",
    "# Code that adheres to 'Errors should never pass silently'\n",
    "def explicit_error_function(x):\n",
    "    try:\n",
    "        return 1 / x\n",
    "    except ZeroDivisionError:\n",
    "        return 'Cannot divide by zero'"
   ]
  },
  {
   "cell_type": "markdown",
   "id": "89f001d9-7c56-49a5-ae6e-1caa3847de8a",
   "metadata": {
    "noteable": {
     "cell_type": "markdown"
    }
   },
   "source": [
    "### Unless explicitly silenced\n",
    "\n",
    "This line is a follow-up to the previous one, acknowledging that there may be situations where you do want to silence an error, but it should be a conscious decision."
   ]
  },
  {
   "cell_type": "code",
   "execution_count": null,
   "id": "66e50ec2-a747-40f7-a1f8-0f6127f7bd49",
   "metadata": {
    "noteable": {
     "cell_type": "code"
    }
   },
   "outputs": [],
   "source": [
    "# Code that violates 'Unless explicitly silenced'\n",
    "def implicitly_silenced_function(x):\n",
    "    try:\n",
    "        return 1 / x\n",
    "    except ZeroDivisionError:\n",
    "        pass\n",
    "\n",
    "# Code that adheres to 'Unless explicitly silenced'\n",
    "def explicitly_silenced_function(x):\n",
    "    try:\n",
    "        return 1 / x\n",
    "    except ZeroDivisionError:\n",
    "        # Explicitly silencing the error with a comment\n",
    "        pass  # We expect this to happen in some cases"
   ]
  },
  {
   "cell_type": "markdown",
   "id": "acdcf0af-93cf-45e5-bfaf-fb1fc420f4d3",
   "metadata": {
    "noteable": {
     "cell_type": "markdown"
    }
   },
   "source": [
    "### In the face of ambiguity, refuse the temptation to guess\n",
    "\n",
    "This line advises against writing code that makes assumptions in ambiguous situations. Instead, it's better to either make the ambiguity explicit or to fail fast."
   ]
  },
  {
   "cell_type": "code",
   "execution_count": null,
   "id": "6e111145-6549-4879-8645-35e2aa744eef",
   "metadata": {
    "noteable": {
     "cell_type": "code"
    }
   },
   "outputs": [],
   "source": [
    "# Code that violates 'In the face of ambiguity, refuse the temptation to guess'\n",
    "def ambiguous_function(x, y):\n",
    "    # Assuming x should be greater than y\n",
    "    if x > y:\n",
    "        return x - y\n",
    "    else:\n",
    "        return y - x\n",
    "\n",
    "# Code that adheres to 'In the face of ambiguity, refuse the temptation to guess'\n",
    "def unambiguous_function(x, y):\n",
    "    if x is None or y is None:\n",
    "        raise ValueError('Both x and y must be provided')\n",
    "    return x - y"
   ]
  },
  {
   "cell_type": "markdown",
   "id": "542ff0f5-9195-4d66-a762-5f39bc235509",
   "metadata": {
    "noteable": {
     "cell_type": "markdown"
    }
   },
   "source": [
    "### There should be one-- and preferably only one --obvious way to do it\n",
    "\n",
    "This line encourages code consistency by suggesting that there should be a single, obvious way to perform any given task."
   ]
  },
  {
   "cell_type": "code",
   "execution_count": null,
   "id": "a4bc90e2-dc58-40af-9735-d523665ff186",
   "metadata": {
    "noteable": {
     "cell_type": "code"
    }
   },
   "outputs": [],
   "source": [
    "# Code that violates 'There should be one-- and preferably only one --obvious way to do it'\n",
    "def add(a, b):\n",
    "    return a + b\n",
    "\n",
    "def addition(a, b):\n",
    "    return a + b\n",
    "\n",
    "def sum_two_numbers(a, b):\n",
    "    return a + b\n",
    "\n",
    "# Code that adheres to 'There should be one-- and preferably only one --obvious way to do it'\n",
    "def add(a, b):\n",
    "    return a + b"
   ]
  },
  {
   "cell_type": "markdown",
   "id": "0071eff7-1e16-4d6e-aeb0-5a6235698872",
   "metadata": {
    "noteable": {
     "cell_type": "markdown"
    }
   },
   "source": [
    "### Although that way may not be obvious at first unless you're Dutch\n",
    "\n",
    "This line is a nod to Guido van Rossum, the Dutch programmer who created Python. It acknowledges that what is 'obvious' can be subjective."
   ]
  },
  {
   "cell_type": "code",
   "execution_count": null,
   "id": "17e7c1db-5a2c-48e4-a4b6-e37b092c01cd",
   "metadata": {
    "noteable": {
     "cell_type": "code"
    }
   },
   "outputs": [],
   "source": [
    "# Code that violates 'Although that way may not be obvious at first unless you're Dutch'\n",
    "def not_so_obvious_function(x):\n",
    "    # Using bitwise operators to add numbers\n",
    "    return x ^ 1\n",
    "\n",
    "# Code that adheres to 'Although that way may not be obvious at first unless you're Dutch'\n",
    "def obvious_function(x):\n",
    "    return x + 1"
   ]
  },
  {
   "cell_type": "markdown",
   "id": "e0f52e3c-56b8-43ed-81b9-c587477f3b06",
   "metadata": {
    "noteable": {
     "cell_type": "markdown"
    }
   },
   "source": [
    "### Now is better than never\n",
    "\n",
    "This line encourages taking action now rather than waiting for the 'perfect' solution. It's often better to have a working solution now and improve it later."
   ]
  },
  {
   "cell_type": "code",
   "execution_count": null,
   "id": "9d28af57-3d08-4b53-851e-21c3522a4684",
   "metadata": {
    "noteable": {
     "cell_type": "code"
    }
   },
   "outputs": [],
   "source": [
    "# Code that violates 'Now is better than never'\n",
    "# Waiting for the perfect solution and not implementing anything\n",
    "\n",
    "# Code that adheres to 'Now is better than never'\n",
    "def simple_function(x):\n",
    "    # A simple but working solution\n",
    "    return x + 1"
   ]
  },
  {
   "cell_type": "markdown",
   "id": "67398fc4-d109-4cb0-9b1a-88732305c14d",
   "metadata": {
    "noteable": {
     "cell_type": "markdown"
    }
   },
   "source": [
    "### Although never is often better than *right* now\n",
    "\n",
    "This line is a counterpoint to the previous one. It suggests that sometimes it's better to wait for a more appropriate time to act, especially if acting now would lead to mistakes or problems."
   ]
  },
  {
   "cell_type": "code",
   "execution_count": null,
   "id": "85ef1e6a-c0f6-4909-ad48-1da61b41cf08",
   "metadata": {
    "noteable": {
     "cell_type": "code"
    }
   },
   "outputs": [],
   "source": [
    "# Code that violates 'Although never is often better than *right* now'\n",
    "def hasty_function(x):\n",
    "    # Implementing a feature without proper testing\n",
    "    return x ** 2\n",
    "\n",
    "# Code that adheres to 'Although never is often better than *right* now'\n",
    "def cautious_function(x):\n",
    "    # Waiting to implement a feature until it can be properly tested\n",
    "    pass"
   ]
  },
  {
   "cell_type": "markdown",
   "id": "279d4a33-c32f-4437-ac4c-cff787f8cfdc",
   "metadata": {
    "noteable": {
     "cell_type": "markdown"
    }
   },
   "source": [
    "### If the implementation is hard to explain, it's a bad idea\n",
    "\n",
    "This line suggests that if you can't easily explain how your code works, then it's probably not a good solution."
   ]
  },
  {
   "cell_type": "code",
   "execution_count": null,
   "id": "0c72bafb-6db4-4006-a269-00cec23f4cd7",
   "metadata": {
    "noteable": {
     "cell_type": "code"
    }
   },
   "outputs": [],
   "source": [
    "# Code that violates 'If the implementation is hard to explain, it's a bad idea'\n",
    "def hard_to_explain_function(x):\n",
    "    # Using complex bitwise operations for a simple task\n",
    "    return (x >> 3) ^ (x << 2)\n",
    "\n",
    "# Code that adheres to 'If the implementation is hard to explain, it's a bad idea'\n",
    "def easy_to_explain_function(x):\n",
    "    # Simply adding 1 to the input\n",
    "    return x + 1"
   ]
  },
  {
   "cell_type": "markdown",
   "id": "c404a525-a3f1-4434-853d-85c4c07bd5d4",
   "metadata": {
    "noteable": {
     "cell_type": "markdown"
    }
   },
   "source": [
    "### If the implementation is easy to explain, it may be a good idea\n",
    "\n",
    "This line is a counterpoint to the previous one. It suggests that if your code is easy to explain, it's probably a good solution."
   ]
  },
  {
   "cell_type": "code",
   "execution_count": null,
   "id": "97bd3052-68ed-4508-ac76-8696729f9a0a",
   "metadata": {
    "noteable": {
     "cell_type": "code"
    }
   },
   "outputs": [],
   "source": [
    "# Code that violates 'If the implementation is easy to explain, it may be a good idea'\n",
    "def not_so_good_idea(x):\n",
    "    # Using a simple but inefficient algorithm\n",
    "    result = 0\n",
    "    for i in range(x):\n",
    "        result += i\n",
    "    return result\n",
    "\n",
    "# Code that adheres to 'If the implementation is easy to explain, it may be a good idea'\n",
    "def good_idea(x):\n",
    "    # Using a simple and efficient algorithm\n",
    "    return sum(range(x))"
   ]
  },
  {
   "cell_type": "markdown",
   "id": "11a89f74-976c-47a5-a4ae-0602ca00321e",
   "metadata": {
    "noteable": {
     "cell_type": "markdown"
    }
   },
   "source": [
    "### Namespaces are one honking great idea -- let's do more of those!\n",
    "\n",
    "This line praises the concept of namespaces for helping to organize code and make it more modular and understandable."
   ]
  },
  {
   "cell_type": "code",
   "execution_count": null,
   "id": "ba5515c8-edb3-46de-86ad-46a107c1bc37",
   "metadata": {
    "noteable": {
     "cell_type": "code"
    }
   },
   "outputs": [],
   "source": [
    "# Code that violates 'Namespaces are one honking great idea -- let's do more of those!'\n",
    "global_variable = 42\n",
    "\n",
    "def function_one():\n",
    "    return global_variable + 1\n",
    "\n",
    "def function_two():\n",
    "    return global_variable + 2\n",
    "\n",
    "# Code that adheres to 'Namespaces are one honking great idea -- let's do more of those!'\n",
    "class MyNamespace:\n",
    "    class_variable = 42\n",
    "\n",
    "    @classmethod\n",
    "    def function_one(cls):\n",
    "        return cls.class_variable + 1\n",
    "\n",
    "    @classmethod\n",
    "    def function_two(cls):\n",
    "        return cls.class_variable + 2"
   ]
  }
 ],
 "metadata": {
  "kernel_info": {
   "name": "python3"
  },
  "kernelspec": {
   "display_name": "Python 3 (ipykernel)",
   "language": "python",
   "name": "python3"
  },
  "language_info": {
   "codemirror_mode": {
    "name": "ipython",
    "version": 3
   },
   "file_extension": ".py",
   "mimetype": "text/x-python",
   "name": "python",
   "nbconvert_exporter": "python",
   "pygments_lexer": "ipython3",
   "version": "3.10.12"
  },
  "noteable": {
   "last_delta_id": "543f747d-f86b-4f68-b345-8aa230012917"
  },
  "noteable-chatgpt": {
   "create_notebook": {
    "openai_conversation_id": "6618a509-d105-5582-9d84-f8cdba5a30a5",
    "openai_ephemeral_user_id": "47091c8e-a8bf-5eb9-b644-c97270c18a1d",
    "openai_subdivision1_iso_code": "PH-00"
   }
  },
  "nteract": {
   "version": "noteable@2.9.0"
  },
  "selected_hardware_size": "small"
 },
 "nbformat": 4,
 "nbformat_minor": 5
}
