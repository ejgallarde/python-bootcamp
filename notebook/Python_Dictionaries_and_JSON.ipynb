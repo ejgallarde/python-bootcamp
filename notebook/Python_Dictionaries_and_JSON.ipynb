{
  "nbformat": 4,
  "nbformat_minor": 5,
  "metadata": {
    "noteable-chatgpt": {
      "create_notebook": {
        "openai_conversation_id": "24a1c276-5b93-514a-bdf7-91d2fb2f16fe",
        "openai_ephemeral_user_id": "dbb1ad9b-7948-5309-af4f-6dbc80279da3",
        "openai_subdivision1_iso_code": "PH-00"
      }
    },
    "kernel_info": {
      "name": "python3"
    },
    "noteable": {
      "last_transaction_id": "998d0bcd-1945-451e-a5b5-736465a7ca23"
    },
    "kernelspec": {
      "display_name": "Python 3.9",
      "language": "python",
      "name": "python3"
    },
    "selected_hardware_size": "small"
  },
  "cells": [
    {
      "id": "a7d00720-b309-428e-b762-db93880b57d4",
      "cell_type": "markdown",
      "source": "# Python Dictionaries and JSON\n\nIn this notebook, we will discuss Python dictionaries, their implementation, and how to work with JSON files. We will also cover how to perform Create, Read, Update, and Delete (CRUD) operations on a JSON file.\n\n## Python Dictionaries\n\nA dictionary in Python is an unordered collection of items. Each item of a dictionary has a key/value pair. Dictionaries are optimized to retrieve values when the key is known.\n\nCreating a dictionary is as simple as placing items inside curly braces `{}` separated by commas. An item has a key and a corresponding value that is expressed as a pair (key: value).\n\nLet's start with some examples.",
      "metadata": {
        "noteable": {
          "cell_type": "markdown"
        }
      }
    },
    {
      "id": "1a14e5b0-6548-444c-a74b-8dc7ee5f04bc",
      "cell_type": "code",
      "metadata": {
        "noteable": {
          "cell_type": "code",
          "output_collection_id": "c1021fc2-d7b4-47c4-8ef1-24e1de0e3b92"
        },
        "ExecuteTime": {
          "end_time": "2023-08-01T11:49:10.525976+00:00",
          "start_time": "2023-08-01T11:49:10.367709+00:00"
        }
      },
      "execution_count": null,
      "source": "# Creating a dictionary\nstudent = {\n    'name': 'John Doe',\n    'age': 20,\n    'courses': ['Math', 'CompSci']\n}\n\nprint(student)",
      "outputs": []
    },
    {
      "id": "2d2a0cd3-bd2e-4feb-86c5-0e74231116fa",
      "cell_type": "markdown",
      "source": "In the above cell, we created a dictionary `student` with three key-value pairs. The keys are 'name', 'age', and 'courses', and their corresponding values are 'John Doe', 20, and ['Math', 'CompSci'] respectively.\n\nWe can access the value of a specific key like this:",
      "metadata": {
        "noteable": {
          "cell_type": "markdown"
        }
      }
    },
    {
      "id": "89ed6a35-24d5-45b6-90ad-57c7577536e8",
      "cell_type": "code",
      "metadata": {
        "noteable": {
          "cell_type": "code",
          "output_collection_id": "e903d6e5-4f3a-40b5-9aff-d916fb04c7a5"
        },
        "ExecuteTime": {
          "end_time": "2023-08-01T11:49:39.640206+00:00",
          "start_time": "2023-08-01T11:49:39.483145+00:00"
        }
      },
      "execution_count": null,
      "source": "# Accessing the value of a specific key\nprint(student['name'])\nprint(student['courses'])",
      "outputs": []
    },
    {
      "id": "045d96b0-6f4e-4027-81eb-0ae217bf115e",
      "cell_type": "markdown",
      "source": "We accessed the values of the keys 'name' and 'courses' from the `student` dictionary using the syntax `dictionary[key]`.\n\nWhat if we try to access a key that does not exist in the dictionary? Let's see what happens:",
      "metadata": {
        "noteable": {
          "cell_type": "markdown"
        }
      }
    },
    {
      "id": "5244f23f-a7a0-4482-910e-d9b4298d983a",
      "cell_type": "code",
      "metadata": {
        "noteable": {
          "cell_type": "code",
          "output_collection_id": "89a09a6a-1f6c-4c81-8a98-5ad0e6c99605"
        },
        "ExecuteTime": {
          "end_time": "2023-08-01T09:40:12.165403+00:00",
          "start_time": "2023-08-01T09:40:11.585168+00:00"
        }
      },
      "execution_count": null,
      "source": "# Trying to access a key that does not exist\nprint(student['grade'])",
      "outputs": []
    },
    {
      "id": "5adce2b0-189a-4100-a383-1bb12cf60d53",
      "cell_type": "markdown",
      "source": "As you can see, trying to access a key that does not exist in the dictionary raises a `KeyError`. To avoid this, we can use the `get` method which returns the value for a key if it exists in the dictionary. If the key does not exist, it returns a default value. Let's see how it works:",
      "metadata": {
        "noteable": {
          "cell_type": "markdown"
        }
      }
    },
    {
      "id": "65963d72-e761-4b06-9506-d009cabe985c",
      "cell_type": "code",
      "metadata": {
        "noteable": {
          "cell_type": "code",
          "output_collection_id": "b4287e2e-641f-44a9-891e-6ca4a0c3d84f"
        },
        "ExecuteTime": {
          "end_time": "2023-08-01T11:50:41.543404+00:00",
          "start_time": "2023-08-01T11:50:41.386335+00:00"
        }
      },
      "execution_count": null,
      "source": "# Using the get method to access a key\nprint(student.get('name'))  # Existing key\nprint(student.get('grade'))  # Non-existing key\nprint(student.get('grade', 'N/A'))  # Non-existing key with default value",
      "outputs": []
    },
    {
      "id": "f2a23c21-0019-44a0-8d49-920642110ee9",
      "cell_type": "markdown",
      "source": "The `get` method returns the value of the key if it exists. If it does not exist, it returns `None` or a default value if provided.\n\nNow, let's see how to add a new key-value pair to the dictionary, how to update an existing key-value pair, and how to delete a key-value pair.",
      "metadata": {
        "noteable": {
          "cell_type": "markdown"
        }
      }
    },
    {
      "id": "8bb23776-ebf4-4d3d-8564-91a072c0e27f",
      "cell_type": "code",
      "metadata": {
        "noteable": {
          "cell_type": "code",
          "output_collection_id": "ff09470d-8d1e-48c3-acb0-b5c19dec692d"
        },
        "ExecuteTime": {
          "end_time": "2023-08-01T09:44:29.826956+00:00",
          "start_time": "2023-08-01T09:44:29.669797+00:00"
        }
      },
      "execution_count": null,
      "source": "# Adding a new key-value pair\nstudent['grade'] = 'A'\nprint(student)\n\n# Updating an existing key-value pair\nstudent['name'] = 'Jane Doe'\nprint(student)\n\n# Deleting a key-value pair\ndel student['grade']\nprint(student)",
      "outputs": []
    },
    {
      "id": "1c7b8ca0-f9f5-4348-91f4-6ea0f22831ce",
      "cell_type": "markdown",
      "source": "We added a new key-value pair with the key 'grade' and the value 'A'. We then updated the value of the 'name' key to 'Jane Doe'. Finally, we deleted the key-value pair with the key 'grade'.\n\nNow that we have a good understanding of Python dictionaries, let's move on to JSON.\n\n## JSON\n\nJSON (JavaScript Object Notation) is a popular data format with diverse uses in data interchange, including that of web applications with servers. JSON is a text-only format and can be written and read by many programming languages. Python comes with a built-in package called `json` for encoding and decoding JSON data.\n\nLet's start by converting our dictionary to a JSON object.",
      "metadata": {
        "noteable": {
          "cell_type": "markdown"
        }
      }
    },
    {
      "id": "474be8bb-0cab-4825-9cff-a4cc6bf85d36",
      "cell_type": "code",
      "metadata": {
        "noteable": {
          "cell_type": "code",
          "output_collection_id": "0ee12947-d046-4113-9de3-f9befcb7aee4"
        },
        "ExecuteTime": {
          "end_time": "2023-08-01T11:52:46.473583+00:00",
          "start_time": "2023-08-01T11:52:46.316127+00:00"
        }
      },
      "execution_count": null,
      "source": "import json\n\n# Convert dictionary to JSON\nstudent_json = json.dumps(student)\nprint(student_json)",
      "outputs": []
    },
    {
      "id": "7c8f0f34-64d4-47c6-bca5-343a62cb50f2",
      "cell_type": "markdown",
      "source": "We used the `json.dumps()` method to convert the `student` dictionary to a JSON object. The output is a string following the JSON formatting.\n\nWe can also convert a JSON object back to a dictionary using the `json.loads()` method. Let's try it:",
      "metadata": {
        "noteable": {
          "cell_type": "markdown"
        }
      }
    },
    {
      "id": "26f66fba-89bd-4fca-9cc6-3a13af379c99",
      "cell_type": "code",
      "metadata": {
        "noteable": {
          "cell_type": "code",
          "output_collection_id": "9a6fc4b2-1fa7-4f89-ae59-8bc7f67c38ad"
        },
        "ExecuteTime": {
          "end_time": "2023-08-01T11:53:40.364460+00:00",
          "start_time": "2023-08-01T11:53:40.206971+00:00"
        }
      },
      "execution_count": null,
      "source": "# Convert JSON to dictionary\nstudent_dict = json.loads(student_json)\nprint(student_dict)",
      "outputs": []
    },
    {
      "id": "38a47bb2-214c-47e5-8e58-c90a7f737be1",
      "cell_type": "markdown",
      "source": "We successfully converted the JSON object back to a dictionary using the `json.loads()` method.\n\nNow, let's see how to write a JSON object to a file and how to read a JSON object from a file.",
      "metadata": {
        "noteable": {
          "cell_type": "markdown"
        }
      }
    },
    {
      "id": "84bc7ab3-575b-497c-b24c-1f3108c3e89d",
      "cell_type": "code",
      "metadata": {
        "noteable": {
          "cell_type": "code",
          "output_collection_id": "98a73eef-4505-462c-a3f3-995aaa1cd192"
        },
        "ExecuteTime": {
          "end_time": "2023-08-01T09:47:05.769376+00:00",
          "start_time": "2023-08-01T09:47:05.611279+00:00"
        }
      },
      "execution_count": null,
      "source": "# Writing JSON object to a file\nwith open('student.json', 'w') as f:\n    json.dump(student, f)",
      "outputs": []
    },
    {
      "id": "85c8c9fc-0847-46da-ab65-e31f3c561eb6",
      "cell_type": "markdown",
      "source": "We used the `json.dump()` method to write the `student` dictionary as a JSON object to the file 'student.json'.\n\nNow, let's read the JSON object from the file:",
      "metadata": {
        "noteable": {
          "cell_type": "markdown"
        }
      }
    },
    {
      "id": "82288888-3a50-4193-bb1d-e3855db44d13",
      "cell_type": "code",
      "metadata": {
        "noteable": {
          "cell_type": "code",
          "output_collection_id": "c3220284-3e25-4873-8682-5560d7decd6b"
        },
        "ExecuteTime": {
          "end_time": "2023-08-01T09:43:41.993043+00:00",
          "start_time": "2023-08-01T09:43:41.835114+00:00"
        }
      },
      "execution_count": null,
      "source": "# Reading JSON object from a file\nwith open('student.json', 'r') as f:\n    student_from_file = json.load(f)\n\nprint(student_from_file)",
      "outputs": []
    },
    {
      "id": "c866d021-2e63-48d5-89d2-e97444149ab5",
      "cell_type": "markdown",
      "source": "We used the `json.load()` method to read the JSON object from the file 'student.json' and convert it back to a dictionary.\n\nNow, let's see how to perform Create, Read, Update, and Delete (CRUD) operations on a JSON file.",
      "metadata": {
        "noteable": {
          "cell_type": "markdown"
        }
      }
    },
    {
      "id": "b14e25de-ed1c-4989-a552-6d21e77741c5",
      "cell_type": "markdown",
      "source": "## CRUD Operations on a JSON File\n\nCRUD stands for Create, Read, Update, and Delete. These are the four basic operations that can be performed on any data.\n\nLet's start by creating a JSON file with some data.",
      "metadata": {
        "noteable": {
          "cell_type": "markdown"
        }
      }
    },
    {
      "id": "f4c6a307-ce95-44f6-a4e7-c5ba0c201916",
      "cell_type": "code",
      "metadata": {
        "noteable": {
          "cell_type": "code",
          "output_collection_id": "6f0ed9e5-aae0-4150-a83a-810df8f9c9d6"
        },
        "ExecuteTime": {
          "end_time": "2023-08-01T09:47:25.082464+00:00",
          "start_time": "2023-08-01T09:47:24.924806+00:00"
        }
      },
      "execution_count": null,
      "source": "# Creating a JSON file\ndata = {\n    'students': [\n        {'name': 'John Doe', 'age': 20, 'courses': ['Math', 'CompSci']},\n        {'name': 'Jane Doe', 'age': 22, 'courses': ['Physics', 'CompSci']}\n    ]\n}\n\nwith open('data.json', 'w') as f:\n    json.dump(data, f)",
      "outputs": []
    },
    {
      "id": "dc56f844-d6ff-49d4-9252-89cc87e9f505",
      "cell_type": "markdown",
      "source": "We created a JSON file 'data.json' with some data about students.\n\nNow, let's read the data from the JSON file:",
      "metadata": {
        "noteable": {
          "cell_type": "markdown"
        }
      }
    },
    {
      "id": "8b7193f0-1c4c-41e3-a019-dadcf5901660",
      "cell_type": "code",
      "metadata": {
        "noteable": {
          "cell_type": "code",
          "output_collection_id": "b9fd71da-f3d2-48a0-b0a9-5f71205dfd19"
        },
        "ExecuteTime": {
          "end_time": "2023-08-01T09:47:33.077357+00:00",
          "start_time": "2023-08-01T09:47:32.917231+00:00"
        }
      },
      "execution_count": null,
      "source": "# Reading data from a JSON file\nwith open('data.json', 'r') as f:\n    data_from_file = json.load(f)\n\nprint(data_from_file)",
      "outputs": []
    },
    {
      "id": "4c6641e5-d103-492d-a1c3-764bcde10900",
      "cell_type": "markdown",
      "source": "We successfully read the data from the 'data.json' file.\n\nNow, let's update the data by adding a new student to the list:",
      "metadata": {
        "noteable": {
          "cell_type": "markdown"
        }
      }
    },
    {
      "id": "9c466450-a069-49d4-bc7b-5593ac302219",
      "cell_type": "markdown",
      "source": "We wrote the `student` dictionary to a file named 'student.json' in the current directory. The `json.dump()` method is used to write a JSON object to a file.\n\nNow, let's read the JSON object from the file.",
      "metadata": {
        "noteable": {
          "cell_type": "markdown"
        }
      }
    },
    {
      "id": "aa722a0a-5de8-45d0-a759-6b630014df32",
      "cell_type": "code",
      "metadata": {
        "noteable": {
          "cell_type": "code",
          "output_collection_id": "15c7bb2f-b240-4fd0-8e4e-d1ab9dd38412"
        },
        "ExecuteTime": {
          "end_time": "2023-08-01T09:48:34.821534+00:00",
          "start_time": "2023-08-01T09:48:34.663337+00:00"
        }
      },
      "execution_count": null,
      "source": "# Reading JSON object from a file\nwith open('student.json', 'r') as f:\n    student = json.load(f)\n\nprint(student)",
      "outputs": []
    },
    {
      "id": "6b2160ad-2433-45b8-bfaf-d9ae4922adfb",
      "cell_type": "markdown",
      "source": "We successfully read the JSON object from the 'student.json' file and converted it back to a dictionary. The `json.load()` method is used to read a JSON object from a file.\n\n## CRUD Operations on a JSON File\n\nNow, let's see how to perform Create, Read, Update, and Delete (CRUD) operations on a JSON file.",
      "metadata": {
        "noteable": {
          "cell_type": "markdown"
        }
      }
    },
    {
      "id": "7638165b-9c37-4797-8dcb-22dba676904b",
      "cell_type": "code",
      "metadata": {
        "noteable": {
          "cell_type": "code",
          "output_collection_id": "39e70746-4034-4bfb-b035-68c9e3eeca10"
        },
        "ExecuteTime": {
          "end_time": "2023-08-01T09:49:18.412599+00:00",
          "start_time": "2023-08-01T09:49:18.255321+00:00"
        }
      },
      "execution_count": null,
      "source": "# Create\ndata = {\n    'students': [\n        {'name': 'John Doe', 'age': 20, 'courses': ['Math', 'CompSci']},\n        {'name': 'Jane Doe', 'age': 22, 'courses': ['Physics', 'CompSci']}\n    ]\n}\n\nwith open('data.json', 'w') as f:\n    json.dump(data, f)",
      "outputs": []
    },
    {
      "id": "938e5fd3-259b-4c6e-b34d-e840abcae6d2",
      "cell_type": "markdown",
      "source": "We created a JSON file 'data.json' and wrote a dictionary to it. The dictionary contains a list of students, each represented as a dictionary.\n\nNext, let's read the data from the JSON file.",
      "metadata": {
        "noteable": {
          "cell_type": "markdown"
        }
      }
    },
    {
      "id": "6a64995b-a9ba-4b11-bf5b-5f20df879e15",
      "cell_type": "code",
      "metadata": {
        "noteable": {
          "cell_type": "code",
          "output_collection_id": "b82df2c5-aa39-4415-94ce-a6b0ccfd7b93"
        },
        "ExecuteTime": {
          "end_time": "2023-08-01T09:49:54.672245+00:00",
          "start_time": "2023-08-01T09:49:54.514726+00:00"
        }
      },
      "execution_count": null,
      "source": "# Read\nwith open('data.json', 'r') as f:\n    data = json.load(f)\n\nprint(data)",
      "outputs": []
    },
    {
      "id": "40a22000-cd92-4387-b0de-bc05db263036",
      "cell_type": "markdown",
      "source": "We successfully read the data from the 'data.json' file.\n\nNow, let's update the data by adding a new student to the list.",
      "metadata": {
        "noteable": {
          "cell_type": "markdown"
        }
      }
    },
    {
      "id": "a1871df9-fddc-4344-b641-3ebf0a9201a2",
      "cell_type": "code",
      "metadata": {
        "noteable": {
          "cell_type": "code",
          "output_collection_id": "58e9dcfc-3081-4910-bcd9-2f88b8942054"
        },
        "ExecuteTime": {
          "end_time": "2023-08-01T09:50:28.353371+00:00",
          "start_time": "2023-08-01T09:50:28.196007+00:00"
        }
      },
      "execution_count": null,
      "source": "# Update\nnew_student = {'name': 'Bob Smith', 'age': 21, 'courses': ['English', 'History']}\ndata['students'].append(new_student)\n\nwith open('data.json', 'w') as f:\n    json.dump(data, f)",
      "outputs": []
    },
    {
      "id": "9a0c5866-c28a-497d-b05b-9fec1c4504dc",
      "cell_type": "markdown",
      "source": "We added a new student to the list and updated the 'data.json' file.\n\nLet's confirm that the file was updated correctly.",
      "metadata": {
        "noteable": {
          "cell_type": "markdown"
        }
      }
    },
    {
      "id": "534827bf-3f62-4c43-8b89-a7a0c867e9c9",
      "cell_type": "code",
      "metadata": {
        "noteable": {
          "cell_type": "code",
          "output_collection_id": "a039880f-dfc7-4910-8e82-484c9840ed45"
        },
        "ExecuteTime": {
          "end_time": "2023-08-01T09:50:59.943698+00:00",
          "start_time": "2023-08-01T09:50:59.785913+00:00"
        }
      },
      "execution_count": null,
      "source": "# Read\nwith open('data.json', 'r') as f:\n    data = json.load(f)\n\nprint(data)",
      "outputs": []
    },
    {
      "id": "9a22e7a5-b92b-47ea-bce0-e11b4161ca22",
      "cell_type": "markdown",
      "source": "The new student was successfully added to the 'data.json' file.\n\nFinally, let's delete a student from the list and update the file.",
      "metadata": {
        "noteable": {
          "cell_type": "markdown"
        }
      }
    },
    {
      "id": "1780fda1-08dd-4ec7-98b1-3880b415860c",
      "cell_type": "code",
      "metadata": {
        "noteable": {
          "cell_type": "code",
          "output_collection_id": "9418c99d-efb9-4afb-a763-a34f21b5b2b1"
        },
        "ExecuteTime": {
          "end_time": "2023-08-01T09:51:33.671469+00:00",
          "start_time": "2023-08-01T09:51:33.514821+00:00"
        }
      },
      "execution_count": null,
      "source": "# Delete\ndata['students'].remove(new_student)\n\nwith open('data.json', 'w') as f:\n    json.dump(data, f)",
      "outputs": []
    },
    {
      "id": "79d31bea-3019-4bff-b18b-0b855624d48c",
      "cell_type": "markdown",
      "source": "We removed the new student from the list and updated the 'data.json' file.\n\nLet's confirm that the file was updated correctly.",
      "metadata": {
        "noteable": {
          "cell_type": "markdown"
        }
      }
    },
    {
      "id": "c3c08f06-f951-4f69-a4f5-89740dd3b54d",
      "cell_type": "code",
      "metadata": {
        "noteable": {
          "cell_type": "code",
          "output_collection_id": "c917d868-f901-4607-90f2-d873d24f1380"
        },
        "ExecuteTime": {
          "end_time": "2023-08-01T09:52:06.868525+00:00",
          "start_time": "2023-08-01T09:52:06.711435+00:00"
        }
      },
      "execution_count": null,
      "source": "# Read\nwith open('data.json', 'r') as f:\n    data = json.load(f)\n\nprint(data)",
      "outputs": []
    }
  ]
}