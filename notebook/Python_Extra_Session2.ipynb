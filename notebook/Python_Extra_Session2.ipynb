{
  "cells": [
    {
      "cell_type": "markdown",
      "source": [
        "# Python Data Structures\n",
        "\n",
        "This notebook will cover the foundational data structures in Python. We will explore the following topics:\n",
        "\n",
        "1. Lists\n",
        "2. Tuples\n",
        "3. Dictionaries\n",
        "\n",
        "Let's get started!"
      ],
      "metadata": {
        "noteable": {
          "cell_type": "markdown"
        }
      },
      "id": "eb218673-0b74-4302-85f2-567f60d9c6a7"
    },
    {
      "cell_type": "markdown",
      "source": [
        "## Lists\n",
        "\n",
        "A list is a collection of items, that is ordered and changeable. Lists are written with square brackets."
      ],
      "metadata": {
        "noteable": {
          "cell_type": "markdown"
        }
      },
      "id": "0c2cebfe-6179-425f-99e4-02304479faf0"
    },
    {
      "cell_type": "code",
      "source": [
        "# Creating a list\n",
        "fruits = ['apple', 'banana', 'cherry']\n",
        "print(fruits)"
      ],
      "outputs": [],
      "execution_count": null,
      "metadata": {
        "noteable": {
          "cell_type": "code"
        }
      },
      "id": "fa876525-79b0-4e45-ac51-851f38de4422"
    },
    {
      "cell_type": "code",
      "source": [
        "# Accessing list items\n",
        "print(fruits[0])\n",
        "print(fruits[1])\n",
        "print(fruits[2])"
      ],
      "outputs": [],
      "execution_count": null,
      "metadata": {
        "noteable": {
          "cell_type": "code"
        }
      },
      "id": "1782b1be-1f6e-47c1-9bfa-0d9df030db67"
    },
    {
      "cell_type": "code",
      "source": [
        "# Modifying list items\n",
        "fruits[1] = 'blueberry'\n",
        "print(fruits)"
      ],
      "outputs": [],
      "execution_count": null,
      "metadata": {
        "noteable": {
          "cell_type": "code"
        }
      },
      "id": "e09c3526-6416-445a-afa7-45be5f79a2b3"
    },
    {
      "cell_type": "code",
      "source": [
        "# Adding items to the list\n",
        "fruits.append('orange')\n",
        "print(fruits)"
      ],
      "outputs": [],
      "execution_count": null,
      "metadata": {
        "noteable": {
          "cell_type": "code"
        }
      },
      "id": "41b7c699-ed94-4a2a-86de-f950f5f2d752"
    },
    {
      "cell_type": "markdown",
      "source": [
        "## Tuples\n",
        "\n",
        "A tuple is a collection of items, that is ordered and unchangeable. Tuples are written with round brackets."
      ],
      "metadata": {
        "noteable": {
          "cell_type": "markdown"
        }
      },
      "id": "bb63058f-22ac-492d-ae96-f166e2a100e6"
    },
    {
      "cell_type": "code",
      "source": [
        "# Creating a tuple\n",
        "fruits_tuple = ('apple', 'banana', 'cherry')\n",
        "print(fruits_tuple)"
      ],
      "outputs": [],
      "execution_count": null,
      "metadata": {
        "noteable": {
          "cell_type": "code"
        }
      },
      "id": "68f9beb4-7458-458e-b75d-b1e6d336c69c"
    },
    {
      "cell_type": "code",
      "source": [
        "# Accessing tuple items\n",
        "print(fruits_tuple[0])\n",
        "print(fruits_tuple[1])\n",
        "print(fruits_tuple[2])"
      ],
      "outputs": [],
      "execution_count": null,
      "metadata": {
        "noteable": {
          "cell_type": "code"
        }
      },
      "id": "5a0b7bf9-0856-49ba-96be-93229cd7c376"
    },
    {
      "cell_type": "code",
      "source": [
        "# Tuples are unchangeable\n",
        "# This will lead to an error\n",
        "fruits_tuple[1] = 'blueberry'"
      ],
      "outputs": [],
      "execution_count": null,
      "metadata": {
        "noteable": {
          "cell_type": "code"
        }
      },
      "id": "622a4371-fbaa-48be-9978-ddafa68f307b"
    },
    {
      "cell_type": "markdown",
      "source": [
        "## Dictionaries\n",
        "\n",
        "A dictionary is a collection of items, that is unordered, changeable and indexed. In Python dictionaries are written with curly brackets, and they have keys and values."
      ],
      "metadata": {
        "noteable": {
          "cell_type": "markdown"
        }
      },
      "id": "eb4aeb9a-2009-414b-a497-ea5bf9740226"
    },
    {
      "cell_type": "code",
      "source": [
        "# Creating a dictionary\n",
        "fruit_colors = {\n",
        "  'apple': 'red',\n",
        "  'banana': 'yellow',\n",
        "  'cherry': 'red'\n",
        "}\n",
        "print(fruit_colors)"
      ],
      "outputs": [],
      "execution_count": null,
      "metadata": {
        "noteable": {
          "cell_type": "code"
        }
      },
      "id": "1375a9ec-1fbc-4b20-bfee-f0b127f93aea"
    },
    {
      "cell_type": "code",
      "source": [
        "# Accessing dictionary items\n",
        "print(fruit_colors['apple'])\n",
        "print(fruit_colors['banana'])\n",
        "print(fruit_colors['cherry'])"
      ],
      "outputs": [],
      "execution_count": null,
      "metadata": {
        "noteable": {
          "cell_type": "code"
        }
      },
      "id": "2d94ad58-6249-493b-87fa-146bbe0adf01"
    },
    {
      "cell_type": "code",
      "source": [
        "# Modifying dictionary items\n",
        "fruit_colors['apple'] = 'green'\n",
        "print(fruit_colors)"
      ],
      "outputs": [],
      "execution_count": null,
      "metadata": {
        "noteable": {
          "cell_type": "code"
        }
      },
      "id": "e5ce0949-cdd2-468a-b518-a411fcdd97aa"
    },
    {
      "cell_type": "code",
      "source": [
        "# Adding items to the dictionary\n",
        "fruit_colors['orange'] = 'orange'\n",
        "print(fruit_colors)"
      ],
      "outputs": [],
      "execution_count": null,
      "metadata": {
        "noteable": {
          "cell_type": "code"
        }
      },
      "id": "f620f174-9083-455c-99e1-257ae00d997d"
    }
  ],
  "metadata": {
    "noteable-chatgpt": {
      "create_notebook": {
        "openai_conversation_id": "5cf2b5ad-e37f-56f5-b55f-d054c43f7b38",
        "openai_ephemeral_user_id": "3ff4cd6f-a9a4-53f8-9b43-9fea3dd0acec",
        "openai_subdivision1_iso_code": "PH-00"
      }
    },
    "kernel_info": {
      "name": "python3"
    },
    "noteable": {
      "last_transaction_id": "68f8b6d2-dd88-4064-9512-f9948f2163de",
      "last_delta_id": "e99ca49f-e546-4737-80ba-c37fe2b905fe"
    },
    "kernelspec": {
      "display_name": "Python 3.9",
      "language": "python",
      "name": "python3"
    },
    "selected_hardware_size": "small",
    "nteract": {
      "version": "noteable@2.9.0"
    }
  },
  "nbformat": 4,
  "nbformat_minor": 5
}