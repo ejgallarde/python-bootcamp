{
  "nbformat": 4,
  "nbformat_minor": 5,
  "metadata": {
    "noteable-chatgpt": {
      "create_notebook": {
        "openai_conversation_id": "e1fb31a3-5abc-58f6-9619-e04c618710cc",
        "openai_ephemeral_user_id": "cd33a02e-cf5e-5ebf-82af-341fd09a67fa",
        "openai_subdivision1_iso_code": "PH-00"
      }
    },
    "kernel_info": {
      "name": "python3"
    },
    "noteable": {
      "last_transaction_id": "35aa67e8-a3a9-487c-8f21-279904779d3f"
    },
    "kernelspec": {
      "display_name": "Python 3.9",
      "language": "python",
      "name": "python3"
    },
    "selected_hardware_size": "small",
    "colab": {
      "provenance": []
    }
  },
  "cells": [
    {
      "id": "508012a2-0732-45db-be99-1f45cf0aedef",
      "cell_type": "markdown",
      "source": [
        "## Midterm Exams Reviewer\n",
        "\n",
        "Exploration of Values and References.\n",
        "\n",
        "As mentioned, some of the questions in the Midterm Exams will be determining (explaining) the output of some code snippet or some concept. For most of these questions, you need to add/write additional code snippets yourselves.\n",
        "\n",
        "This notebook presents a discussion of sample questions on underlying concepts for values and memory references in Python.\n",
        "\n",
        "# Problem 1 – Understanding Values and References\n",
        "\n",
        "In Python, we deal with various data types like int, float, bool, string, list, and tuple. Some of these are treated as values, while others are treated as references. This distinction has significant implications for how we write and understand our code. This notebook will guide you through some exercises to help you understand these concepts better.\n",
        "\n",
        "Let's start by examining how Python handles strings. We'll create two variables, `a` and `b`, and assign them the same string value:"
      ],
      "metadata": {
        "noteable": {
          "cell_type": "markdown"
        },
        "id": "508012a2-0732-45db-be99-1f45cf0aedef"
      }
    },
    {
      "id": "64918807-606f-4998-848d-8d9d0c220c1e",
      "cell_type": "code",
      "metadata": {
        "noteable": {
          "cell_type": "code",
          "output_collection_id": "33df9e87-b938-454d-aead-8fd52e9f5a1b"
        },
        "ExecuteTime": {
          "end_time": "2023-08-07T21:26:23.308171+00:00",
          "start_time": "2023-08-07T21:26:23.149639+00:00"
        },
        "id": "64918807-606f-4998-848d-8d9d0c220c1e"
      },
      "execution_count": null,
      "source": [
        "a = 'python'\n",
        "b = 'python'\n",
        "c = 'Python'\n",
        "a, b, c"
      ],
      "outputs": []
    },
    {
      "id": "f5b80215-3723-4f1c-85ab-b7ca1fec76de",
      "cell_type": "markdown",
      "source": [
        "As you can see, both `a` and `b` have been assigned the string 'python'. But are `a` and `b` actually pointing to the same object in memory? How about `c`?\n",
        "\n",
        "Python provides a built-in function `id()` that returns the memory address of the object. Most questions will ask you to write some code snippets to verify. For this you may use the == operator to check if `a` and `b` are referencing the same object, then explain your answer: either they are the same object or not, why"
      ],
      "metadata": {
        "noteable": {
          "cell_type": "markdown"
        },
        "id": "f5b80215-3723-4f1c-85ab-b7ca1fec76de"
      }
    },
    {
      "id": "ec0fd9a0-32a7-45df-960c-87183a961e18",
      "cell_type": "code",
      "metadata": {
        "noteable": {
          "cell_type": "code",
          "output_collection_id": "2c900d47-b34b-477d-ba30-0f5ee2132910"
        },
        "ExecuteTime": {
          "end_time": "2023-08-07T21:26:26.899156+00:00",
          "start_time": "2023-08-07T21:26:26.741857+00:00"
        },
        "id": "ec0fd9a0-32a7-45df-960c-87183a961e18"
      },
      "execution_count": null,
      "source": [
        "print(id(a))\n",
        "print(id(b))\n",
        "print(id(c))\n",
        "print(id(a) == id(b))\n",
        "print(id(a) == id(c))"
      ],
      "outputs": []
    },
    {
      "id": "006e0357-0fa2-4aca-a4b1-e047861d2b27",
      "cell_type": "markdown",
      "source": [
        "As you can see, the memory addresses of `a` and `b` are the same, which means they are indeed pointing to the same object in memory. (There are cases when you might get some weird/unexpected results when the length of the object is not small.)\n",
        "\n",
        "To answer some questions you can use the `is` keyword that checks if two variables reference the same object and confirm your answers/findings:"
      ],
      "metadata": {
        "noteable": {
          "cell_type": "markdown"
        },
        "id": "006e0357-0fa2-4aca-a4b1-e047861d2b27"
      }
    },
    {
      "id": "d2fabeb0-d273-48d7-a431-d891a62d047b",
      "cell_type": "code",
      "metadata": {
        "noteable": {
          "cell_type": "code",
          "output_collection_id": "65a47407-7e57-431f-9375-82fd9c2665ce"
        },
        "ExecuteTime": {
          "end_time": "2023-08-07T21:26:42.899015+00:00",
          "start_time": "2023-08-07T21:26:42.742474+00:00"
        },
        "id": "d2fabeb0-d273-48d7-a431-d891a62d047b"
      },
      "execution_count": null,
      "source": [
        "print(a is b)"
      ],
      "outputs": []
    },
    {
      "id": "63837cca-bad2-4e8a-9605-3af9fd7b8479",
      "cell_type": "markdown",
      "source": [
        "The output `True` confirms that `a` and `b` are indeed referencing the same object.\n",
        "\n",
        "How about with different types of data, such as the integer 5, the float 5.0, and the boolean `True`. Let's see what we find:"
      ],
      "metadata": {
        "noteable": {
          "cell_type": "markdown"
        },
        "id": "63837cca-bad2-4e8a-9605-3af9fd7b8479"
      }
    },
    {
      "id": "0171815d-330b-4b32-a6cc-da36ceb3057d",
      "cell_type": "code",
      "metadata": {
        "noteable": {
          "cell_type": "code",
          "output_collection_id": "631b676b-1261-49be-a12e-33f67e7e8942"
        },
        "ExecuteTime": {
          "end_time": "2023-08-07T21:35:09.299600+00:00",
          "start_time": "2023-08-07T21:35:09.141940+00:00"
        },
        "id": "0171815d-330b-4b32-a6cc-da36ceb3057d"
      },
      "execution_count": null,
      "source": [
        "a = 5\n",
        "b = 5\n",
        "print(a is b)\n",
        "\n",
        "a = 5.0\n",
        "b = 5.0\n",
        "print(a is b)\n",
        "\n",
        "a = True\n",
        "b = True\n",
        "print(a is b)"
      ],
      "outputs": []
    },
    {
      "id": "f334dbcc-09e5-472e-ad8b-7a26afce53f4",
      "cell_type": "markdown",
      "source": [
        "As we can see, for the integer 5 and the boolean `True`, Python automatically aliases the variables, just like it did for the string \"python\". However, for the float 5.0, Python does not alias the variables, and they are treated as separate objects in memory. Why did the float 5.0 behave this way?\n",
        "\n",
        "\n",
        "How about when we assign different types to `a` and `b`:"
      ],
      "metadata": {
        "noteable": {
          "cell_type": "markdown"
        },
        "id": "f334dbcc-09e5-472e-ad8b-7a26afce53f4"
      }
    },
    {
      "id": "7ebbb4fb-5701-4fd8-8ada-26b4bc943151",
      "cell_type": "code",
      "metadata": {
        "noteable": {
          "cell_type": "code",
          "output_collection_id": "d68d3bee-2309-4324-b11d-52eb947e141d"
        },
        "ExecuteTime": {
          "end_time": "2023-08-07T21:35:14.502014+00:00",
          "start_time": "2023-08-07T21:35:14.344243+00:00"
        },
        "id": "7ebbb4fb-5701-4fd8-8ada-26b4bc943151"
      },
      "execution_count": null,
      "source": [
        "a = 5\n",
        "b = 5.0\n",
        "print(a is b)\n",
        "print(a == b)"
      ],
      "outputs": []
    },
    {
      "id": "8fd5d69f-a973-4ec5-a428-84a421af2301",
      "cell_type": "markdown",
      "source": [
        "As we can see, even though `a` and `b` represent the same numerical value, they are not the same object in memory because they are of different types (`a` is an integer and `b` is a float). Therefore, `a is b` evaluates to `False`. However, when we compare their values using `==`, it evaluates to `True` because 5 and 5.0 are equal in terms of their numerical value.\n",
        "\n",
        "This confirms that objects of different types will always reside at different memory addresses. So, `a is b` will always evaluate to `False` if `a` and `b` are different types. Please know when it is appropriate to use `is` and `==` . You can use both to verify but explain the results (most especially if both resolves to a different result.)\n"
      ],
      "metadata": {
        "noteable": {
          "cell_type": "markdown"
        },
        "id": "8fd5d69f-a973-4ec5-a428-84a421af2301"
      }
    },
    {
      "id": "91514e5f-134f-4dd3-b1f9-b440592efde1",
      "cell_type": "code",
      "metadata": {
        "noteable": {
          "cell_type": "code",
          "output_collection_id": "1a1b197b-078a-4d81-9286-54f479abd7c7"
        },
        "ExecuteTime": {
          "end_time": "2023-08-07T21:29:47.971753+00:00",
          "start_time": "2023-08-07T21:29:47.813452+00:00"
        },
        "id": "91514e5f-134f-4dd3-b1f9-b440592efde1"
      },
      "execution_count": null,
      "source": [
        "a = [1, 2, 3]\n",
        "b = [1, 2, 3]\n",
        "print(id(a))\n",
        "print(id(b))\n",
        "print(id(a) == id(b))\n",
        "print(a is b)\n",
        "print(a == b)"
      ],
      "outputs": []
    },
    {
      "id": "de1518ee-dae2-4c43-822e-3a02e2b2402b",
      "cell_type": "markdown",
      "source": [
        "From the output, we can see that the lists `a` and `b` are not the same object, even though they contain the same elements. This is because lists are mutable objects in Python, and each list has its own memory location. However, when we compare the lists using `==`, it evaluates to `True` because `a` and `b` contain the same elements.\n",
        "\n",
        "Let's further explore this by modifying one of the lists."
      ],
      "metadata": {
        "noteable": {
          "cell_type": "markdown"
        },
        "id": "de1518ee-dae2-4c43-822e-3a02e2b2402b"
      }
    },
    {
      "id": "2147b61e-a787-4571-b585-60de9717b552",
      "cell_type": "code",
      "metadata": {
        "noteable": {
          "cell_type": "code",
          "output_collection_id": "978b8ffa-ce0f-461d-b141-76388cef1d69"
        },
        "ExecuteTime": {
          "end_time": "2023-08-07T21:30:02.333789+00:00",
          "start_time": "2023-08-07T21:30:02.176096+00:00"
        },
        "id": "2147b61e-a787-4571-b585-60de9717b552"
      },
      "execution_count": null,
      "source": [
        "a[1] = 70\n",
        "print(a)\n",
        "print(b)\n",
        "print(a == b)"
      ],
      "outputs": []
    },
    {
      "id": "37e9b27c-9725-407b-9dad-218d18de4434",
      "cell_type": "markdown",
      "source": [
        "This confirms that modifying list `a` does not affect list `b`. This is because `a` and `b` are different objects, even though they were initially identical. When we changed an element in `a`, only `a` was affected. As a result, `a` and `b` are no longer equal.\n",
        "\n",
        "Now, let's see what happens when we make `b` a reference to `a`."
      ],
      "metadata": {
        "noteable": {
          "cell_type": "markdown"
        },
        "id": "37e9b27c-9725-407b-9dad-218d18de4434"
      }
    },
    {
      "id": "13f7c13c-ac9c-449e-bb14-39d1ce7a6380",
      "cell_type": "code",
      "metadata": {
        "noteable": {
          "cell_type": "code",
          "output_collection_id": "d2729574-152f-4bc3-ad47-f552a8b89f5f"
        },
        "ExecuteTime": {
          "end_time": "2023-08-07T21:30:25.496803+00:00",
          "start_time": "2023-08-07T21:30:25.338525+00:00"
        },
        "id": "13f7c13c-ac9c-449e-bb14-39d1ce7a6380"
      },
      "execution_count": null,
      "source": [
        "a = [1, 2, 3]\n",
        "b = a\n",
        "print(id(a))\n",
        "print(id(b))\n",
        "print(a is b)"
      ],
      "outputs": []
    },
    {
      "id": "56afa2af-23a9-4ae1-a229-9b83d6533572",
      "cell_type": "markdown",
      "source": [
        "As we can see, `a` and `b` are now the same object. This is because we have made `b` a reference to `a`. This is known as aliasing. Now, let's see what happens when we modify `a`."
      ],
      "metadata": {
        "noteable": {
          "cell_type": "markdown"
        },
        "id": "56afa2af-23a9-4ae1-a229-9b83d6533572"
      }
    },
    {
      "id": "1b9c09a1-9bbe-4dfe-a1e1-43af2a05c05e",
      "cell_type": "code",
      "metadata": {
        "noteable": {
          "cell_type": "code",
          "output_collection_id": "0bc74fd0-711e-4e5a-a62f-7254114e27ff"
        },
        "ExecuteTime": {
          "end_time": "2023-08-07T21:30:34.300814+00:00",
          "start_time": "2023-08-07T21:30:34.142560+00:00"
        },
        "id": "1b9c09a1-9bbe-4dfe-a1e1-43af2a05c05e"
      },
      "execution_count": null,
      "source": [
        "a[1] = 70\n",
        "print(a)\n",
        "print(b)\n",
        "print(a == b)"
      ],
      "outputs": []
    },
    {
      "id": "8dc8f78b-26da-49f7-99ec-57fec459a2a0",
      "cell_type": "markdown",
      "source": [
        "This confirms that modifying `a` also affected `b`. This is because `a` and `b` are referencing the same object. Any changes made to the object are reflected in both `a` and `b`.\n",
        "\n",
        "Now, let's explore tuples. Are tuples aliased automatically like primitive types, or do we have to explicitly alias them like lists? Let's find out."
      ],
      "metadata": {
        "noteable": {
          "cell_type": "markdown"
        },
        "id": "8dc8f78b-26da-49f7-99ec-57fec459a2a0"
      }
    },
    {
      "id": "a2aea8a6-5412-457b-a7bd-119220e22a73",
      "cell_type": "code",
      "metadata": {
        "noteable": {
          "cell_type": "code",
          "output_collection_id": "9d25986c-9436-4597-829d-8862cfbcba1a"
        },
        "ExecuteTime": {
          "end_time": "2023-08-07T21:30:49.400150+00:00",
          "start_time": "2023-08-07T21:30:49.242067+00:00"
        },
        "id": "a2aea8a6-5412-457b-a7bd-119220e22a73"
      },
      "execution_count": null,
      "source": [
        "a = (1, 2, 3)\n",
        "b = (1, 2, 3)\n",
        "print(id(a))\n",
        "print(id(b))\n",
        "print(id(a) == id(b))\n",
        "print(a is b)"
      ],
      "outputs": []
    },
    {
      "id": "763c2f91-d168-495c-8dfb-de379efa29a5",
      "cell_type": "markdown",
      "source": [
        "This confirms that tuples are not automatically aliased like primitive types. Even though `a` and `b` are tuples with the same elements, they are not the same object. They have different memory addresses, which means they are different objects in memory."
      ],
      "metadata": {
        "noteable": {
          "cell_type": "markdown"
        },
        "id": "763c2f91-d168-495c-8dfb-de379efa29a5"
      }
    },
    {
      "id": "1eb1dcbc-b498-47f2-9e69-7bcd30223150",
      "cell_type": "markdown",
      "source": [
        "## Problem 2 – Exploring Mutability\n",
        "\n",
        "Some questions are on the concept of mutability. An object is considered mutable if it can be changed in any way. Conversely, an object is considered immutable if it cannot be changed.\n",
        "\n",
        "As you know strings are immutable in Python. This means that once a string is created, it cannot be changed. Any operation that seems to modify a string will actually create a new string."
      ],
      "metadata": {
        "noteable": {
          "cell_type": "markdown"
        },
        "id": "1eb1dcbc-b498-47f2-9e69-7bcd30223150"
      }
    },
    {
      "id": "a98575e3-71ea-41df-bd33-90b4d06effe7",
      "cell_type": "code",
      "metadata": {
        "noteable": {
          "cell_type": "code",
          "output_collection_id": "bac3c84d-7762-43fa-bcb5-7c216209d12e"
        },
        "ExecuteTime": {
          "end_time": "2023-08-07T21:38:57.782014+00:00",
          "start_time": "2023-08-07T21:38:57.624624+00:00"
        },
        "id": "a98575e3-71ea-41df-bd33-90b4d06effe7"
      },
      "execution_count": null,
      "source": [
        "a = 'hello'\n",
        "print(a.index('e'))\n",
        "print(a)\n",
        "print(a.upper())\n",
        "print(a)"
      ],
      "outputs": []
    },
    {
      "id": "f0b43603-dd3d-4d57-9d3e-3925fc2b4667",
      "cell_type": "markdown",
      "source": [
        "As we can see, the `index` and `upper` methods do not modify the original string. Instead, they return new strings. The original string `a` remains unchanged."
      ],
      "metadata": {
        "noteable": {
          "cell_type": "markdown"
        },
        "id": "f0b43603-dd3d-4d57-9d3e-3925fc2b4667"
      }
    },
    {
      "id": "abee0f12-91a8-4e8a-99fa-782b7107eb58",
      "cell_type": "markdown",
      "source": [
        "How about lists? This means that we can change a list after it has been created."
      ],
      "metadata": {
        "noteable": {
          "cell_type": "markdown"
        },
        "id": "abee0f12-91a8-4e8a-99fa-782b7107eb58"
      }
    },
    {
      "id": "5ab8d159-fff1-4a7c-abd3-29e05d0db339",
      "cell_type": "code",
      "metadata": {
        "noteable": {
          "cell_type": "code",
          "output_collection_id": "7d0b3df3-4199-4088-8f87-6f987d514120"
        },
        "ExecuteTime": {
          "end_time": "2023-08-07T21:39:26.187952+00:00",
          "start_time": "2023-08-07T21:39:26.030734+00:00"
        },
        "id": "5ab8d159-fff1-4a7c-abd3-29e05d0db339"
      },
      "execution_count": null,
      "source": [
        "b = ['x', 'y', 'z']\n",
        "print(b.count('y'))\n",
        "print(b)\n",
        "b.reverse()\n",
        "print(b)"
      ],
      "outputs": []
    },
    {
      "id": "b24d9c93-c874-4d94-8f62-addc4416b0fc",
      "cell_type": "markdown",
      "source": [
        "The `count` method does not modify the list, but the `reverse` method does. After calling `b.reverse()`, the order of elements in `b` is reversed."
      ],
      "metadata": {
        "noteable": {
          "cell_type": "markdown"
        },
        "id": "b24d9c93-c874-4d94-8f62-addc4416b0fc"
      }
    },
    {
      "id": "05adb447-ad59-4e31-91c3-840ccf2f2e1c",
      "cell_type": "markdown",
      "source": [
        "The `None` type in Python:\n",
        "\n",
        "`None` is a special type that represents the absence of a value or a null value. It is not the same as `False`, `0`, or any other value. `None` is the return value of functions that don't return anything explicitly."
      ],
      "metadata": {
        "noteable": {
          "cell_type": "markdown"
        },
        "id": "05adb447-ad59-4e31-91c3-840ccf2f2e1c"
      }
    },
    {
      "id": "722129d1-70fd-4705-b4c2-5854c7c78c22",
      "cell_type": "code",
      "metadata": {
        "noteable": {
          "cell_type": "code",
          "output_collection_id": "ce1bd559-c936-460c-9458-f50441e0e511"
        },
        "ExecuteTime": {
          "end_time": "2023-08-07T21:08:02.698817+00:00",
          "start_time": "2023-08-07T21:08:02.541826+00:00"
        },
        "id": "722129d1-70fd-4705-b4c2-5854c7c78c22"
      },
      "execution_count": null,
      "source": [
        "c = None\n",
        "print(c)\n",
        "print(type(c))\n",
        "print(c == False)\n",
        "print(c == 0)"
      ],
      "outputs": []
    },
    {
      "id": "81339151-014f-4d3b-a0a8-64613cdab29c",
      "cell_type": "markdown",
      "source": [
        "As you can see, `None` is not equal to `False` or `0`. It is its own unique type."
      ],
      "metadata": {
        "noteable": {
          "cell_type": "markdown"
        },
        "id": "81339151-014f-4d3b-a0a8-64613cdab29c"
      }
    },
    {
      "id": "0cab48ca-0cb2-4861-89ef-4c540d2042fa",
      "cell_type": "markdown",
      "source": [
        "Mutability with scope:\n",
        "\n",
        "Remember that modifying an object is different from assigning a variable. When we pass objects to a function, any modifications to those objects will persist beyond that function. This is because we're passing the reference to that object, so the local variable inside the function will refer to the same object."
      ],
      "metadata": {
        "noteable": {
          "cell_type": "markdown"
        },
        "id": "0cab48ca-0cb2-4861-89ef-4c540d2042fa"
      }
    },
    {
      "id": "e3de4338-0c2a-4e96-a8fd-a523b59389cc",
      "cell_type": "code",
      "metadata": {
        "noteable": {
          "cell_type": "code",
          "output_collection_id": "69058df8-7a78-493e-ae32-c3d89798c16c"
        },
        "ExecuteTime": {
          "end_time": "2023-08-07T21:41:49.167206+00:00",
          "start_time": "2023-08-07T21:41:49.008405+00:00"
        },
        "id": "e3de4338-0c2a-4e96-a8fd-a523b59389cc"
      },
      "execution_count": null,
      "source": [
        "def foo(x):\n",
        "    print(\"point 2:\", id(x))\n",
        "    x.append(4)\n",
        "    print(\"point 3:\", id(x))\n",
        "\n",
        "L = [1, 2, 3]\n",
        "print(\"point 1:\", id(L))\n",
        "foo(L)\n",
        "print(\"point 4:\", id(L))"
      ],
      "outputs": []
    },
    {
      "id": "cada27a5-cac2-49f6-8f0b-ac34cb9a16cd",
      "cell_type": "markdown",
      "source": [
        "As you can see, the id of the list `L` remains the same before and after the function call. This is because we're modifying the object that `L` points to, not `L` itself. Now, let's check the list `L` itself."
      ],
      "metadata": {
        "noteable": {
          "cell_type": "markdown"
        },
        "id": "cada27a5-cac2-49f6-8f0b-ac34cb9a16cd"
      }
    },
    {
      "id": "2d086d59-bf40-4b3a-89fd-d10a320baf28",
      "cell_type": "code",
      "metadata": {
        "noteable": {
          "cell_type": "code",
          "output_collection_id": "624e68f5-2e60-423d-bcc1-e6057c9b14e7"
        },
        "ExecuteTime": {
          "end_time": "2023-08-07T21:42:08.599894+00:00",
          "start_time": "2023-08-07T21:42:08.442542+00:00"
        },
        "id": "2d086d59-bf40-4b3a-89fd-d10a320baf28"
      },
      "execution_count": null,
      "source": [
        "print(L)"
      ],
      "outputs": []
    }
  ]
}