{
  "cells": [
    {
      "cell_type": "markdown",
      "metadata": {
        "colab_type": "text",
        "id": "view-in-github"
      },
      "source": [
        "<a href=\"https://colab.research.google.com/github/kbehrman/foundational-python-for-data-science/blob/main/Chapter_07_Numpy.ipynb\" target=\"_parent\"><img src=\"https://colab.research.google.com/assets/colab-badge.svg\" alt=\"Open In Colab\"/></a>"
      ]
    },
    {
      "cell_type": "markdown",
      "metadata": {
        "id": "PTjealdL6HT4"
      },
      "source": [
        "# NumPy\n",
        "\n",
        "[numpy.org](https://numpy.org/)\n",
        "\n",
        "[Documentation](https://numpy.org/doc/stable/contents.html)\n",
        "\n",
        "[wikipedia](https://en.wikipedia.org/wiki/NumPy)\n"
      ]
    },
    {
      "cell_type": "markdown",
      "metadata": {
        "id": "eHlPABS_8umB"
      },
      "source": [
        "## Installation\n",
        "If you are using Google Colab, numpy is already available in your environment, just import it. If you are working locally you may need to install it the package. There are many ways to install NumPy, depending on your system and Python installation, see [Installation](https://scipy.org/install.html). But the simplest way is usually to use pip.\n",
        "\n",
        "```bash\n",
        "pip install numpy\n",
        "```"
      ]
    },
    {
      "cell_type": "code",
      "execution_count": 2,
      "metadata": {
        "id": "wj6nl1Ma6Gg0"
      },
      "outputs": [],
      "source": [
        "import numpy as np"
      ]
    },
    {
      "cell_type": "markdown",
      "metadata": {
        "id": "uEvlRB_QH-7q"
      },
      "source": [
        "## ndarray vs standard library sequences\n",
        "\n",
        "- fixed size\n",
        "- must contain one type (with exception of objects, will have be same size)\n",
        "- designed to perform operations on large amounts of data, generally more efficiently and simply than standard library\n",
        "- large number of scientific libraries use ndarrys as input and output"
      ]
    },
    {
      "cell_type": "markdown",
      "metadata": {
        "id": "ULimOUNXWEYA"
      },
      "source": [
        "## Creating an Array"
      ]
    },
    {
      "cell_type": "code",
      "execution_count": 2,
      "metadata": {
        "colab": {
          "base_uri": "https://localhost:8080/"
        },
        "id": "7_PipJoQWEYB",
        "outputId": "3c4cfe71-acf6-445c-e00c-d592fa8dc6c7"
      },
      "outputs": [
        {
          "data": {
            "text/plain": [
              "array([1, 2, 3])"
            ]
          },
          "execution_count": 2,
          "metadata": {},
          "output_type": "execute_result"
        }
      ],
      "source": [
        "np.array([1,2,3])"
      ]
    },
    {
      "cell_type": "code",
      "execution_count": 3,
      "metadata": {
        "colab": {
          "base_uri": "https://localhost:8080/"
        },
        "id": "GjpzytP8WEYC",
        "outputId": "7b5495b6-5a26-4f05-bd0a-ba1ed2421eff"
      },
      "outputs": [
        {
          "data": {
            "text/plain": [
              "array([0., 0., 0.])"
            ]
          },
          "execution_count": 3,
          "metadata": {},
          "output_type": "execute_result"
        }
      ],
      "source": [
        "np.zeros(3)"
      ]
    },
    {
      "cell_type": "code",
      "execution_count": 4,
      "metadata": {
        "colab": {
          "base_uri": "https://localhost:8080/"
        },
        "id": "pbkUM_h6WEYD",
        "outputId": "d9cf79bb-a067-4077-9d1a-f496c70353a2"
      },
      "outputs": [
        {
          "data": {
            "text/plain": [
              "array([1., 1., 1.])"
            ]
          },
          "execution_count": 4,
          "metadata": {},
          "output_type": "execute_result"
        }
      ],
      "source": [
        "np.ones(3)"
      ]
    },
    {
      "cell_type": "code",
      "execution_count": 5,
      "metadata": {
        "colab": {
          "base_uri": "https://localhost:8080/"
        },
        "id": "8v_elII5WEYE",
        "outputId": "31b42799-0ec2-4e73-8267-803233e9dc5c"
      },
      "outputs": [
        {
          "data": {
            "text/plain": [
              "array([1., 1., 1.])"
            ]
          },
          "execution_count": 5,
          "metadata": {},
          "output_type": "execute_result"
        }
      ],
      "source": [
        "np.empty(3)"
      ]
    },
    {
      "cell_type": "code",
      "execution_count": 6,
      "metadata": {
        "colab": {
          "base_uri": "https://localhost:8080/"
        },
        "id": "ylkmbqpmWEYF",
        "outputId": "95986f23-fc15-4e3e-b79f-073cc0bc1ab3"
      },
      "outputs": [
        {
          "data": {
            "text/plain": [
              "array([0, 1, 2])"
            ]
          },
          "execution_count": 6,
          "metadata": {},
          "output_type": "execute_result"
        }
      ],
      "source": [
        "np.arange(3)"
      ]
    },
    {
      "cell_type": "code",
      "execution_count": 7,
      "metadata": {
        "colab": {
          "base_uri": "https://localhost:8080/"
        },
        "id": "IE9EW2N2WEYG",
        "outputId": "d7f5ce05-51e7-4946-f184-19f7967b8725"
      },
      "outputs": [
        {
          "data": {
            "text/plain": [
              "array([0, 3, 6, 9])"
            ]
          },
          "execution_count": 7,
          "metadata": {},
          "output_type": "execute_result"
        }
      ],
      "source": [
        "np.arange(0, 12, 3)"
      ]
    },
    {
      "cell_type": "code",
      "execution_count": 8,
      "metadata": {
        "colab": {
          "base_uri": "https://localhost:8080/"
        },
        "id": "Hpo8iTVVWEYH",
        "outputId": "8d5362b5-e9d8-4c80-b350-c838e3114917"
      },
      "outputs": [
        {
          "data": {
            "text/plain": [
              "array([ 0. ,  3.5,  7. , 10.5, 14. , 17.5, 21. ])"
            ]
          },
          "execution_count": 8,
          "metadata": {},
          "output_type": "execute_result"
        }
      ],
      "source": [
        "np.linspace(0, 21, 7)"
      ]
    },
    {
      "cell_type": "code",
      "execution_count": null,
      "metadata": {
        "id": "tayrkufyWEYJ"
      },
      "outputs": [],
      "source": []
    },
    {
      "cell_type": "code",
      "execution_count": null,
      "metadata": {
        "id": "bXl0tiaqWEYK"
      },
      "outputs": [],
      "source": []
    },
    {
      "cell_type": "code",
      "execution_count": 9,
      "metadata": {
        "colab": {
          "base_uri": "https://localhost:8080/"
        },
        "id": "by9fzB8vWEYL",
        "outputId": "3b6fef32-4688-4f19-84a3-6587a3058028"
      },
      "outputs": [
        {
          "data": {
            "text/plain": [
              "array([ 0,  1,  2,  3,  4,  5,  6,  7,  8,  9, 10, 11, 12, 13, 14, 15, 16,\n",
              "       17, 18, 19, 20])"
            ]
          },
          "execution_count": 9,
          "metadata": {},
          "output_type": "execute_result"
        }
      ],
      "source": [
        "oned = np.arange(21)\n",
        "oned"
      ]
    },
    {
      "cell_type": "code",
      "execution_count": 10,
      "metadata": {
        "colab": {
          "base_uri": "https://localhost:8080/"
        },
        "id": "FjCBUaQBWEYM",
        "outputId": "9a805406-08e8-41ae-c8bd-c5af78b44bf5"
      },
      "outputs": [
        {
          "data": {
            "text/plain": [
              "dtype('int32')"
            ]
          },
          "execution_count": 10,
          "metadata": {},
          "output_type": "execute_result"
        }
      ],
      "source": [
        "oned.dtype"
      ]
    },
    {
      "cell_type": "code",
      "execution_count": 11,
      "metadata": {
        "colab": {
          "base_uri": "https://localhost:8080/"
        },
        "id": "MW3VcAwQWEYN",
        "outputId": "4a7ed067-8c93-467c-d519-9c7bacac131f"
      },
      "outputs": [
        {
          "data": {
            "text/plain": [
              "21"
            ]
          },
          "execution_count": 11,
          "metadata": {},
          "output_type": "execute_result"
        }
      ],
      "source": [
        "oned.size"
      ]
    },
    {
      "cell_type": "code",
      "execution_count": 12,
      "metadata": {
        "colab": {
          "base_uri": "https://localhost:8080/"
        },
        "id": "IFkWcHyRWEYN",
        "outputId": "0be4f9f9-bb22-41b5-9753-3c2bedd7f7c4"
      },
      "outputs": [
        {
          "data": {
            "text/plain": [
              "84"
            ]
          },
          "execution_count": 12,
          "metadata": {},
          "output_type": "execute_result"
        }
      ],
      "source": [
        "oned.nbytes"
      ]
    },
    {
      "cell_type": "markdown",
      "metadata": {
        "id": "ThID6QZlWEYO"
      },
      "source": [
        "## N-Dimensions"
      ]
    },
    {
      "cell_type": "code",
      "execution_count": 13,
      "metadata": {
        "colab": {
          "base_uri": "https://localhost:8080/"
        },
        "id": "i1E2-aCbWEYP",
        "outputId": "e30f0895-7b6c-4dbf-b143-3c4300d4ef44"
      },
      "outputs": [
        {
          "data": {
            "text/plain": [
              "numpy.ndarray"
            ]
          },
          "execution_count": 13,
          "metadata": {},
          "output_type": "execute_result"
        }
      ],
      "source": [
        "type(oned)"
      ]
    },
    {
      "cell_type": "code",
      "execution_count": 14,
      "metadata": {
        "colab": {
          "base_uri": "https://localhost:8080/"
        },
        "id": "6AD8ACnXWEYP",
        "outputId": "d6fbbf01-1534-4348-946c-4d38ff3654cd"
      },
      "outputs": [
        {
          "data": {
            "text/plain": [
              "(21,)"
            ]
          },
          "execution_count": 14,
          "metadata": {},
          "output_type": "execute_result"
        }
      ],
      "source": [
        "oned.shape"
      ]
    },
    {
      "cell_type": "code",
      "execution_count": 15,
      "metadata": {
        "colab": {
          "base_uri": "https://localhost:8080/"
        },
        "id": "Roq59d4zWEYQ",
        "outputId": "3129e10b-8aaf-49c0-d0b1-20e8eafe1ea4"
      },
      "outputs": [
        {
          "data": {
            "text/plain": [
              "1"
            ]
          },
          "execution_count": 15,
          "metadata": {},
          "output_type": "execute_result"
        }
      ],
      "source": [
        "oned.ndim"
      ]
    },
    {
      "cell_type": "code",
      "execution_count": 16,
      "metadata": {
        "colab": {
          "base_uri": "https://localhost:8080/"
        },
        "id": "JbQCJYNnWEYS",
        "outputId": "2ee85525-7335-4bec-9342-52478a654d36"
      },
      "outputs": [
        {
          "data": {
            "text/plain": [
              "array([[1, 2, 3],\n",
              "       [4, 5, 6],\n",
              "       [7, 8, 9]])"
            ]
          },
          "execution_count": 16,
          "metadata": {},
          "output_type": "execute_result"
        }
      ],
      "source": [
        "list_o_lists = [[1,2,3], [4,5,6], [7,8,9]]\n",
        "twod = np.array(list_o_lists)\n",
        "twod"
      ]
    },
    {
      "cell_type": "code",
      "execution_count": 17,
      "metadata": {
        "colab": {
          "base_uri": "https://localhost:8080/"
        },
        "id": "PxDNGHtjWEYT",
        "outputId": "e204a0d5-0e6e-417f-9b11-00291f73dfb9"
      },
      "outputs": [
        {
          "data": {
            "text/plain": [
              "(3, 3)"
            ]
          },
          "execution_count": 17,
          "metadata": {},
          "output_type": "execute_result"
        }
      ],
      "source": [
        "twod.shape"
      ]
    },
    {
      "cell_type": "code",
      "execution_count": 18,
      "metadata": {
        "colab": {
          "base_uri": "https://localhost:8080/"
        },
        "id": "l-gfdLk_WEYU",
        "outputId": "c5a187b7-3af0-4c3e-8188-eea436652260"
      },
      "outputs": [
        {
          "data": {
            "text/plain": [
              "2"
            ]
          },
          "execution_count": 18,
          "metadata": {},
          "output_type": "execute_result"
        }
      ],
      "source": [
        "twod.ndim"
      ]
    },
    {
      "cell_type": "markdown",
      "metadata": {
        "id": "AgI0Ir23WEYV"
      },
      "source": [
        "### Reshape"
      ]
    },
    {
      "cell_type": "code",
      "execution_count": 19,
      "metadata": {
        "colab": {
          "base_uri": "https://localhost:8080/"
        },
        "id": "TAVE2FenWEYV",
        "outputId": "884a8042-a46e-400b-e78d-97db3f8e0a89"
      },
      "outputs": [
        {
          "data": {
            "text/plain": [
              "array([ 0,  1,  2,  3,  4,  5,  6,  7,  8,  9, 10, 11])"
            ]
          },
          "execution_count": 19,
          "metadata": {},
          "output_type": "execute_result"
        }
      ],
      "source": [
        "oned = np.arange(12)\n",
        "oned"
      ]
    },
    {
      "cell_type": "code",
      "execution_count": 20,
      "metadata": {
        "colab": {
          "base_uri": "https://localhost:8080/"
        },
        "id": "6cQFFcHwWEYW",
        "outputId": "7c8f8af5-dcc1-44ac-b65d-f0dee1bd27ea"
      },
      "outputs": [
        {
          "data": {
            "text/plain": [
              "array([[ 0,  1,  2,  3],\n",
              "       [ 4,  5,  6,  7],\n",
              "       [ 8,  9, 10, 11]])"
            ]
          },
          "execution_count": 20,
          "metadata": {},
          "output_type": "execute_result"
        }
      ],
      "source": [
        "twod = oned.reshape(3,4)\n",
        "twod"
      ]
    },
    {
      "cell_type": "code",
      "execution_count": 21,
      "metadata": {
        "colab": {
          "base_uri": "https://localhost:8080/"
        },
        "id": "-DwLni_nWEYZ",
        "outputId": "e0cc594c-0032-49b6-f892-21947cff1128"
      },
      "outputs": [
        {
          "data": {
            "text/plain": [
              "array([ 0,  1,  2,  3,  4,  5,  6,  7,  8,  9, 10, 11])"
            ]
          },
          "execution_count": 21,
          "metadata": {},
          "output_type": "execute_result"
        }
      ],
      "source": [
        "twod.reshape(12)"
      ]
    },
    {
      "cell_type": "code",
      "execution_count": 22,
      "metadata": {
        "colab": {
          "base_uri": "https://localhost:8080/"
        },
        "id": "oCYw-zM9QdXq",
        "outputId": "9b91205b-332e-40ae-9747-f44c7a8a3030"
      },
      "outputs": [
        {
          "data": {
            "text/plain": [
              "array([[[ 0,  1,  2],\n",
              "        [ 3,  4,  5]],\n",
              "\n",
              "       [[ 6,  7,  8],\n",
              "        [ 9, 10, 11]]])"
            ]
          },
          "execution_count": 22,
          "metadata": {},
          "output_type": "execute_result"
        }
      ],
      "source": [
        "twod.reshape(2,2,3)"
      ]
    },
    {
      "cell_type": "code",
      "execution_count": 23,
      "metadata": {
        "colab": {
          "base_uri": "https://localhost:8080/",
          "height": 165
        },
        "id": "Aqqnokg8QdXr",
        "outputId": "801c526b-a696-46c2-f284-a3536f0f2018"
      },
      "outputs": [
        {
          "ename": "ValueError",
          "evalue": "cannot reshape array of size 12 into shape (2,3)",
          "output_type": "error",
          "traceback": [
            "\u001b[1;31m---------------------------------------------------------------------------\u001b[0m",
            "\u001b[1;31mValueError\u001b[0m                                Traceback (most recent call last)",
            "\u001b[1;32mc:\\Users\\ecgallar\\VS Code Workspace\\python-bootcamp\\notebook\\Chapter-07_Numpy.ipynb Cell 32\u001b[0m line \u001b[0;36m1\n\u001b[1;32m----> <a href='vscode-notebook-cell:/c%3A/Users/ecgallar/VS%20Code%20Workspace/python-bootcamp/notebook/Chapter-07_Numpy.ipynb#X43sZmlsZQ%3D%3D?line=0'>1</a>\u001b[0m twod\u001b[39m.\u001b[39;49mreshape(\u001b[39m2\u001b[39;49m,\u001b[39m3\u001b[39;49m)\n",
            "\u001b[1;31mValueError\u001b[0m: cannot reshape array of size 12 into shape (2,3)"
          ]
        }
      ],
      "source": [
        "twod.reshape(2,3)"
      ]
    },
    {
      "cell_type": "code",
      "execution_count": null,
      "metadata": {
        "id": "6XJlSBHFbn4_"
      },
      "outputs": [],
      "source": [
        "np.ones(12).reshape(2,3,2)"
      ]
    },
    {
      "cell_type": "markdown",
      "metadata": {
        "id": "GJbvBOUtWEYa"
      },
      "source": [
        "### Slicing"
      ]
    },
    {
      "cell_type": "code",
      "execution_count": 24,
      "metadata": {
        "id": "J631x1NpWEYa"
      },
      "outputs": [
        {
          "data": {
            "text/plain": [
              "array([ 0,  1,  2,  3,  4,  5,  6,  7,  8,  9, 10, 11, 12, 13, 14, 15, 16,\n",
              "       17, 18, 19, 20])"
            ]
          },
          "execution_count": 24,
          "metadata": {},
          "output_type": "execute_result"
        }
      ],
      "source": [
        "oned = np.arange(21)\n",
        "oned"
      ]
    },
    {
      "cell_type": "code",
      "execution_count": 25,
      "metadata": {
        "id": "mDrxpqPsWEYb"
      },
      "outputs": [
        {
          "data": {
            "text/plain": [
              "3"
            ]
          },
          "execution_count": 25,
          "metadata": {},
          "output_type": "execute_result"
        }
      ],
      "source": [
        "oned[3]"
      ]
    },
    {
      "cell_type": "code",
      "execution_count": 26,
      "metadata": {
        "id": "CzN3ijLxWEYd"
      },
      "outputs": [
        {
          "data": {
            "text/plain": [
              "20"
            ]
          },
          "execution_count": 26,
          "metadata": {},
          "output_type": "execute_result"
        }
      ],
      "source": [
        "oned[-1]"
      ]
    },
    {
      "cell_type": "code",
      "execution_count": 27,
      "metadata": {
        "id": "IDfsnEpsWEYe"
      },
      "outputs": [
        {
          "data": {
            "text/plain": [
              "array([3, 4, 5, 6, 7, 8])"
            ]
          },
          "execution_count": 27,
          "metadata": {},
          "output_type": "execute_result"
        }
      ],
      "source": [
        "oned[3:9]"
      ]
    },
    {
      "cell_type": "code",
      "execution_count": 5,
      "metadata": {
        "id": "ynINrezFWEYe"
      },
      "outputs": [
        {
          "data": {
            "text/plain": [
              "array([[ 0,  1,  2,  3,  4,  5,  6],\n",
              "       [ 7,  8,  9, 10, 11, 12, 13],\n",
              "       [14, 15, 16, 17, 18, 19, 20]])"
            ]
          },
          "execution_count": 5,
          "metadata": {},
          "output_type": "execute_result"
        }
      ],
      "source": [
        "twod = np.arange(21).reshape(3,7)\n",
        "twod"
      ]
    },
    {
      "cell_type": "code",
      "execution_count": 6,
      "metadata": {
        "id": "RmgxUl0fWEYg"
      },
      "outputs": [
        {
          "data": {
            "text/plain": [
              "array([14, 15, 16, 17, 18, 19, 20])"
            ]
          },
          "execution_count": 6,
          "metadata": {},
          "output_type": "execute_result"
        }
      ],
      "source": [
        "twod[2]"
      ]
    },
    {
      "cell_type": "code",
      "execution_count": null,
      "metadata": {
        "id": "RSNT5w2oWEYg"
      },
      "outputs": [],
      "source": [
        "twod[2, 3]"
      ]
    },
    {
      "cell_type": "code",
      "execution_count": null,
      "metadata": {
        "id": "i7bGyWhMWEYh"
      },
      "outputs": [],
      "source": [
        "twod[0:2]"
      ]
    },
    {
      "cell_type": "code",
      "execution_count": null,
      "metadata": {
        "id": "irKN6MJNWEYi"
      },
      "outputs": [],
      "source": [
        "twod[:, 3]"
      ]
    },
    {
      "cell_type": "code",
      "execution_count": null,
      "metadata": {
        "id": "kA9ws1riWEYj"
      },
      "outputs": [],
      "source": [
        "twod[0:2,-3:]"
      ]
    },
    {
      "cell_type": "code",
      "execution_count": 7,
      "metadata": {
        "id": "eQBH9v02WEYk"
      },
      "outputs": [
        {
          "data": {
            "text/plain": [
              "array([[ 0,  1,  2,  3,  4,  5,  6],\n",
              "       [ 7,  8,  9, 10, 11, 12, 13],\n",
              "       [14, 15, 16, 17, 18, 19, 20]])"
            ]
          },
          "execution_count": 7,
          "metadata": {},
          "output_type": "execute_result"
        }
      ],
      "source": [
        "twod = np.arange(21).reshape(3,7)\n",
        "twod"
      ]
    },
    {
      "cell_type": "code",
      "execution_count": 8,
      "metadata": {
        "id": "JSD1uZSIWEYk"
      },
      "outputs": [
        {
          "data": {
            "text/plain": [
              "array([[33,  1,  2,  3,  4,  5,  6],\n",
              "       [ 7,  8,  9, 10, 11, 12, 13],\n",
              "       [14, 15, 16, 17, 18, 19, 20]])"
            ]
          },
          "execution_count": 8,
          "metadata": {},
          "output_type": "execute_result"
        }
      ],
      "source": [
        "twod[0,0] = 33\n",
        "twod"
      ]
    },
    {
      "cell_type": "code",
      "execution_count": 9,
      "metadata": {
        "id": "HxJGouG8WEYl"
      },
      "outputs": [
        {
          "data": {
            "text/plain": [
              "array([[33,  1,  2,  3,  4,  5,  6],\n",
              "       [ 0,  0,  0, 10, 11, 12, 13],\n",
              "       [ 0,  0,  0, 17, 18, 19, 20]])"
            ]
          },
          "execution_count": 9,
          "metadata": {},
          "output_type": "execute_result"
        }
      ],
      "source": [
        "twod[1:,:3] = 0\n",
        "twod"
      ]
    },
    {
      "cell_type": "markdown",
      "metadata": {
        "id": "0ZNqcPW4WEYm"
      },
      "source": [
        "## Filtering"
      ]
    },
    {
      "cell_type": "code",
      "execution_count": 10,
      "metadata": {
        "id": "jxDXHId1WEYm"
      },
      "outputs": [
        {
          "data": {
            "text/plain": [
              "array([[ 0,  1,  2,  3,  4,  5,  6],\n",
              "       [ 7,  8,  9, 10, 11, 12, 13],\n",
              "       [14, 15, 16, 17, 18, 19, 20]])"
            ]
          },
          "execution_count": 10,
          "metadata": {},
          "output_type": "execute_result"
        }
      ],
      "source": [
        "twod = np.arange(21).reshape(3,7)\n",
        "twod"
      ]
    },
    {
      "cell_type": "code",
      "execution_count": null,
      "metadata": {
        "id": "uTbi_GRSWEYp"
      },
      "outputs": [],
      "source": [
        "mask = np.array([[ True,  False,  True,  True,  False, True, False],\n",
        "       [ True,  False,  True,  True,  False, True, False],\n",
        "       [ True,  False,  True,  True,  False, True, False]])"
      ]
    },
    {
      "cell_type": "code",
      "execution_count": null,
      "metadata": {
        "id": "pDuXeEW0WEYq"
      },
      "outputs": [],
      "source": [
        "twod[mask]"
      ]
    },
    {
      "cell_type": "code",
      "execution_count": 11,
      "metadata": {
        "id": "lCr4wQQ3WEYq"
      },
      "outputs": [
        {
          "data": {
            "text/plain": [
              "array([[ True,  True,  True,  True,  True, False, False],\n",
              "       [False, False, False, False, False, False, False],\n",
              "       [False, False, False, False, False, False, False]])"
            ]
          },
          "execution_count": 11,
          "metadata": {},
          "output_type": "execute_result"
        }
      ],
      "source": [
        "mask = twod < 5\n",
        "mask"
      ]
    },
    {
      "cell_type": "code",
      "execution_count": null,
      "metadata": {
        "id": "ziR_zkPrWEYr"
      },
      "outputs": [],
      "source": [
        "twod[mask]"
      ]
    },
    {
      "cell_type": "code",
      "execution_count": null,
      "metadata": {
        "id": "S_nSW7JWWEYs"
      },
      "outputs": [],
      "source": [
        "mask = (twod < 5) & (twod%2 == 0)\n",
        "mask"
      ]
    },
    {
      "cell_type": "code",
      "execution_count": null,
      "metadata": {
        "id": "ZCHaMO1cWEYu"
      },
      "outputs": [],
      "source": [
        "twod[mask]"
      ]
    },
    {
      "cell_type": "markdown",
      "metadata": {
        "id": "8xBhq3KKWEYu"
      },
      "source": [
        "## view vs copy"
      ]
    },
    {
      "cell_type": "code",
      "execution_count": 3,
      "metadata": {
        "id": "_AglvOSxWEYv"
      },
      "outputs": [
        {
          "data": {
            "text/plain": [
              "array([[ 0,  1,  2,  3,  4,  5],\n",
              "       [ 6,  7,  8,  9, 10, 11],\n",
              "       [12, 13, 14, 15, 16, 17],\n",
              "       [18, 19, 20, 21, 22, 23]])"
            ]
          },
          "execution_count": 3,
          "metadata": {},
          "output_type": "execute_result"
        }
      ],
      "source": [
        "data1 = np.arange(24).reshape(4,6)\n",
        "data1"
      ]
    },
    {
      "cell_type": "code",
      "execution_count": null,
      "metadata": {
        "id": "3N7fq1K6WEYw"
      },
      "outputs": [],
      "source": [
        "data2 = data1[:2,3:]\n",
        "data2"
      ]
    },
    {
      "cell_type": "code",
      "execution_count": null,
      "metadata": {
        "id": "JDer9q46WEYz"
      },
      "outputs": [],
      "source": [
        "data2[1,2] = -1\n",
        "data2"
      ]
    },
    {
      "cell_type": "code",
      "execution_count": null,
      "metadata": {
        "id": "zaNg3AVdWEY0"
      },
      "outputs": [],
      "source": [
        "data1"
      ]
    },
    {
      "cell_type": "code",
      "execution_count": null,
      "metadata": {
        "id": "aKFQGJtnWEY1"
      },
      "outputs": [],
      "source": [
        "data1 = np.arange(24).reshape(4,6)\n",
        "data1"
      ]
    },
    {
      "cell_type": "code",
      "execution_count": null,
      "metadata": {
        "id": "76uWDlqoWEY2"
      },
      "outputs": [],
      "source": [
        "data2 = data1[:2,3:].copy()\n",
        "data2"
      ]
    },
    {
      "cell_type": "code",
      "execution_count": null,
      "metadata": {
        "id": "6hVXi7T2WEY3"
      },
      "outputs": [],
      "source": [
        "data2[1,2] = -1\n",
        "data2"
      ]
    },
    {
      "cell_type": "code",
      "execution_count": null,
      "metadata": {
        "id": "fbdh9-_-WEY4"
      },
      "outputs": [],
      "source": [
        "data1"
      ]
    },
    {
      "cell_type": "markdown",
      "metadata": {
        "id": "rVUhYlR6QdYJ"
      },
      "source": [
        "## Introspection"
      ]
    },
    {
      "cell_type": "code",
      "execution_count": 13,
      "metadata": {
        "id": "-glmPHG1QdYJ"
      },
      "outputs": [
        {
          "data": {
            "text/plain": [
              "array([[ 0,  1,  2,  3],\n",
              "       [ 4,  5,  6,  7],\n",
              "       [ 8,  9, 10, 11]])"
            ]
          },
          "execution_count": 13,
          "metadata": {},
          "output_type": "execute_result"
        }
      ],
      "source": [
        "data = np.arange(12).reshape(3,4)\n",
        "data"
      ]
    },
    {
      "cell_type": "code",
      "execution_count": 15,
      "metadata": {
        "id": "lLhYsqaIQdYK"
      },
      "outputs": [
        {
          "data": {
            "text/plain": [
              "11"
            ]
          },
          "execution_count": 15,
          "metadata": {},
          "output_type": "execute_result"
        }
      ],
      "source": [
        "data.max()"
      ]
    },
    {
      "cell_type": "code",
      "execution_count": 16,
      "metadata": {
        "id": "SPWXBgfDQdYK"
      },
      "outputs": [
        {
          "data": {
            "text/plain": [
              "0"
            ]
          },
          "execution_count": 16,
          "metadata": {},
          "output_type": "execute_result"
        }
      ],
      "source": [
        "data.min()"
      ]
    },
    {
      "cell_type": "code",
      "execution_count": null,
      "metadata": {
        "id": "G0bdUnLJQdYL"
      },
      "outputs": [],
      "source": [
        "data.sum()"
      ]
    },
    {
      "cell_type": "code",
      "execution_count": null,
      "metadata": {
        "id": "ilU14SuVQdYN"
      },
      "outputs": [],
      "source": [
        "data.sum(axis=1)"
      ]
    },
    {
      "cell_type": "code",
      "execution_count": null,
      "metadata": {
        "id": "tncc8AOoQdYO"
      },
      "outputs": [],
      "source": [
        "data.sum(axis=0)"
      ]
    },
    {
      "cell_type": "code",
      "execution_count": null,
      "metadata": {
        "id": "ZGi-C2gjQdYP"
      },
      "outputs": [],
      "source": [
        "data.mean()"
      ]
    },
    {
      "cell_type": "code",
      "execution_count": null,
      "metadata": {
        "id": "vVykwF_uQdYT"
      },
      "outputs": [],
      "source": [
        "data.std()"
      ]
    },
    {
      "cell_type": "code",
      "execution_count": null,
      "metadata": {
        "id": "g4tMJa4LQdYV"
      },
      "outputs": [],
      "source": [
        "data.std(axis=0)"
      ]
    },
    {
      "cell_type": "code",
      "execution_count": null,
      "metadata": {
        "id": "UWQ-MsZ_QdYW"
      },
      "outputs": [],
      "source": [
        "data.std(axis=1)"
      ]
    },
    {
      "cell_type": "markdown",
      "metadata": {
        "id": "HSUezRqOWEY4"
      },
      "source": [
        "## Element by Element Operations"
      ]
    },
    {
      "cell_type": "code",
      "execution_count": null,
      "metadata": {
        "id": "4UEGHolM8E4A"
      },
      "outputs": [],
      "source": [
        "L1 = list(range(10))\n",
        "L2 = list(range(10, 0, -1))"
      ]
    },
    {
      "cell_type": "code",
      "execution_count": null,
      "metadata": {
        "colab": {
          "base_uri": "https://localhost:8080/"
        },
        "id": "-Tbpwoonbn5u",
        "outputId": "d816ae44-12cd-400f-9a7b-d16459684a16"
      },
      "outputs": [
        {
          "data": {
            "text/plain": [
              "[]"
            ]
          },
          "execution_count": 4,
          "metadata": {},
          "output_type": "execute_result"
        }
      ],
      "source": [
        "L1*0"
      ]
    },
    {
      "cell_type": "code",
      "execution_count": null,
      "metadata": {
        "colab": {
          "base_uri": "https://localhost:8080/"
        },
        "id": "2qyOzc8BWEY_",
        "outputId": "147900e4-95f8-4917-dd35-fc7afc661116"
      },
      "outputs": [
        {
          "data": {
            "text/plain": [
              "[0, 1, 2, 3, 4, 5, 6, 7, 8, 9]"
            ]
          },
          "execution_count": 5,
          "metadata": {},
          "output_type": "execute_result"
        }
      ],
      "source": [
        "L1"
      ]
    },
    {
      "cell_type": "code",
      "execution_count": null,
      "metadata": {
        "colab": {
          "base_uri": "https://localhost:8080/"
        },
        "id": "WdXByVu8WEY_",
        "outputId": "eb2829f9-165e-4241-ca59-ffc7f24f1077"
      },
      "outputs": [
        {
          "data": {
            "text/plain": [
              "[10, 9, 8, 7, 6, 5, 4, 3, 2, 1]"
            ]
          },
          "execution_count": 6,
          "metadata": {},
          "output_type": "execute_result"
        }
      ],
      "source": [
        "L2"
      ]
    },
    {
      "cell_type": "code",
      "execution_count": null,
      "metadata": {
        "colab": {
          "base_uri": "https://localhost:8080/"
        },
        "id": "ZT1E7wwjKAHC",
        "outputId": "4e5032af-afe5-4211-912f-c94103c995a3"
      },
      "outputs": [
        {
          "data": {
            "text/plain": [
              "[0, 9, 16, 21, 24, 25, 24, 21, 16, 9]"
            ]
          },
          "execution_count": 7,
          "metadata": {},
          "output_type": "execute_result"
        }
      ],
      "source": [
        "L3 = []\n",
        "for i, j in zip(L1, L2):\n",
        "    L3.append(i*j)\n",
        "L3"
      ]
    },
    {
      "cell_type": "code",
      "execution_count": null,
      "metadata": {
        "colab": {
          "base_uri": "https://localhost:8080/",
          "height": 166
        },
        "id": "BOHyhnGHWEZB",
        "outputId": "9c88cf75-2043-4b6d-dc5e-a92bbd4c7a70"
      },
      "outputs": [
        {
          "ename": "TypeError",
          "evalue": "ignored",
          "output_type": "error",
          "traceback": [
            "\u001b[0;31m---------------------------------------------------------------------------\u001b[0m",
            "\u001b[0;31mTypeError\u001b[0m                                 Traceback (most recent call last)",
            "\u001b[0;32m<ipython-input-8-f525a1e96937>\u001b[0m in \u001b[0;36m<module>\u001b[0;34m()\u001b[0m\n\u001b[0;32m----> 1\u001b[0;31m \u001b[0mL1\u001b[0m\u001b[0;34m*\u001b[0m\u001b[0mL2\u001b[0m\u001b[0;34m\u001b[0m\u001b[0;34m\u001b[0m\u001b[0m\n\u001b[0m",
            "\u001b[0;31mTypeError\u001b[0m: can't multiply sequence by non-int of type 'list'"
          ]
        }
      ],
      "source": [
        "L1*L2"
      ]
    },
    {
      "cell_type": "code",
      "execution_count": null,
      "metadata": {
        "colab": {
          "base_uri": "https://localhost:8080/"
        },
        "id": "5d3_0cPSKtRt",
        "outputId": "a82c08e8-6e7b-4a94-fd6c-a899a9c2c94f"
      },
      "outputs": [
        {
          "data": {
            "text/plain": [
              "array([ 0,  9, 16, 21, 24, 25, 24, 21, 16,  9])"
            ]
          },
          "execution_count": 9,
          "metadata": {},
          "output_type": "execute_result"
        }
      ],
      "source": [
        "array1 = np.array(L1)\n",
        "array2 = np.array(L2)\n",
        "\n",
        "array1*array2"
      ]
    },
    {
      "cell_type": "code",
      "execution_count": null,
      "metadata": {
        "id": "8ps6pODuWEZD"
      },
      "outputs": [],
      "source": [
        "array1 + array2"
      ]
    },
    {
      "cell_type": "code",
      "execution_count": null,
      "metadata": {
        "id": "UItu4O0HK-Mu"
      },
      "outputs": [],
      "source": [
        "array1 / array2"
      ]
    },
    {
      "cell_type": "markdown",
      "metadata": {
        "id": "yvGsHTbkWEZF"
      },
      "source": [
        "## Setting type"
      ]
    },
    {
      "cell_type": "code",
      "execution_count": null,
      "metadata": {
        "id": "XWnNMrHLWEZF"
      },
      "outputs": [],
      "source": [
        "darray = np.arange(100)\n",
        "darray"
      ]
    },
    {
      "cell_type": "code",
      "execution_count": null,
      "metadata": {
        "id": "xX1GoWrQWEZG"
      },
      "outputs": [],
      "source": [
        "darray.dtype"
      ]
    },
    {
      "cell_type": "code",
      "execution_count": null,
      "metadata": {
        "id": "y-HcncnHWEZH"
      },
      "outputs": [],
      "source": [
        "darray.nbytes"
      ]
    },
    {
      "cell_type": "code",
      "execution_count": null,
      "metadata": {
        "id": "ujvib1qkWEZI"
      },
      "outputs": [],
      "source": [
        "darray = np.arange(100, dtype=np.int8)\n",
        "darray"
      ]
    },
    {
      "cell_type": "code",
      "execution_count": null,
      "metadata": {
        "id": "oRWalk0RWEZJ"
      },
      "outputs": [],
      "source": [
        "darray.dtype"
      ]
    },
    {
      "cell_type": "code",
      "execution_count": null,
      "metadata": {
        "id": "M0cmxG7DWEZK"
      },
      "outputs": [],
      "source": [
        "darray.nbytes"
      ]
    },
    {
      "cell_type": "code",
      "execution_count": null,
      "metadata": {
        "id": "ovGZuFfEWEZL"
      },
      "outputs": [],
      "source": [
        "darray[14] = 'a'"
      ]
    },
    {
      "cell_type": "code",
      "execution_count": null,
      "metadata": {
        "id": "8xj7mXRKWEZO"
      },
      "outputs": [],
      "source": [
        "darray[14] = 0.5\n",
        "darray[14]"
      ]
    },
    {
      "cell_type": "markdown",
      "metadata": {
        "id": "7XjdzcfOWEZP"
      },
      "source": [
        "## Broadcasting"
      ]
    },
    {
      "cell_type": "code",
      "execution_count": null,
      "metadata": {
        "id": "7ZcF_xMGWEZP"
      },
      "outputs": [],
      "source": [
        "A1 = np.array([[1,2,3],\n",
        "               [4,5,6],\n",
        "               [7,8,9]])"
      ]
    },
    {
      "cell_type": "code",
      "execution_count": null,
      "metadata": {
        "colab": {
          "base_uri": "https://localhost:8080/"
        },
        "id": "jQtvXecwWEZQ",
        "outputId": "249b3162-6fb4-4b41-ba86-5274e2da7f4c"
      },
      "outputs": [
        {
          "data": {
            "text/plain": [
              "array([[ 2,  3,  4],\n",
              "       [ 5,  6,  7],\n",
              "       [ 8,  9, 10]])"
            ]
          },
          "execution_count": 11,
          "metadata": {},
          "output_type": "execute_result"
        }
      ],
      "source": [
        "A2 = np.array([[1,1,1],\n",
        "               [1,1,1],\n",
        "               [1,1,1]])\n",
        "A1 + A2"
      ]
    },
    {
      "cell_type": "code",
      "execution_count": null,
      "metadata": {
        "colab": {
          "base_uri": "https://localhost:8080/"
        },
        "id": "vGni_zxyWEZR",
        "outputId": "fdc28b71-3578-4639-87cf-c72cb4a9af9f"
      },
      "outputs": [
        {
          "data": {
            "text/plain": [
              "array([[ 2,  3,  4],\n",
              "       [ 5,  6,  7],\n",
              "       [ 8,  9, 10]])"
            ]
          },
          "execution_count": 12,
          "metadata": {},
          "output_type": "execute_result"
        }
      ],
      "source": [
        "A2 = np.array([1,1,1])\n",
        "A1 + A2"
      ]
    },
    {
      "cell_type": "code",
      "execution_count": null,
      "metadata": {
        "colab": {
          "base_uri": "https://localhost:8080/"
        },
        "id": "gx7CxRPsWEZS",
        "outputId": "2e95a014-a494-477a-9860-352ed4af5fa0"
      },
      "outputs": [
        {
          "data": {
            "text/plain": [
              "array([[ 2,  3,  4],\n",
              "       [ 5,  6,  7],\n",
              "       [ 8,  9, 10]])"
            ]
          },
          "execution_count": 13,
          "metadata": {},
          "output_type": "execute_result"
        }
      ],
      "source": [
        "A1 + 1"
      ]
    },
    {
      "cell_type": "code",
      "execution_count": null,
      "metadata": {
        "colab": {
          "base_uri": "https://localhost:8080/"
        },
        "id": "FG4i1fGyWEZT",
        "outputId": "bbe0600c-9e31-4cc1-9b47-2d2a5a4fc522"
      },
      "outputs": [
        {
          "data": {
            "text/plain": [
              "array([[[0, 1, 2, 3, 4]],\n",
              "\n",
              "       [[5, 6, 7, 8, 9]]])"
            ]
          },
          "execution_count": 14,
          "metadata": {},
          "output_type": "execute_result"
        }
      ],
      "source": [
        "A4 = np.arange(10).reshape(2,1,5)\n",
        "A4"
      ]
    },
    {
      "cell_type": "code",
      "execution_count": null,
      "metadata": {
        "colab": {
          "base_uri": "https://localhost:8080/"
        },
        "id": "2bSFh90rWEZU",
        "outputId": "55cfdaf9-2851-4af8-9929-66a75c4487cc"
      },
      "outputs": [
        {
          "data": {
            "text/plain": [
              "array([[[ 0],\n",
              "        [ 1],\n",
              "        [ 2],\n",
              "        [ 3],\n",
              "        [ 4],\n",
              "        [ 5],\n",
              "        [ 6]],\n",
              "\n",
              "       [[ 7],\n",
              "        [ 8],\n",
              "        [ 9],\n",
              "        [10],\n",
              "        [11],\n",
              "        [12],\n",
              "        [13]]])"
            ]
          },
          "execution_count": 15,
          "metadata": {},
          "output_type": "execute_result"
        }
      ],
      "source": [
        "A5 = np.arange(14).reshape(2,7,1)\n",
        "A5"
      ]
    },
    {
      "cell_type": "code",
      "execution_count": null,
      "metadata": {
        "colab": {
          "base_uri": "https://localhost:8080/"
        },
        "id": "3ry5_2TiWEZW",
        "outputId": "2f922424-1343-4676-ffb6-dfca29297472"
      },
      "outputs": [
        {
          "data": {
            "text/plain": [
              "array([[[ 0,  1,  2,  3,  4],\n",
              "        [-1,  0,  1,  2,  3],\n",
              "        [-2, -1,  0,  1,  2],\n",
              "        [-3, -2, -1,  0,  1],\n",
              "        [-4, -3, -2, -1,  0],\n",
              "        [-5, -4, -3, -2, -1],\n",
              "        [-6, -5, -4, -3, -2]],\n",
              "\n",
              "       [[-2, -1,  0,  1,  2],\n",
              "        [-3, -2, -1,  0,  1],\n",
              "        [-4, -3, -2, -1,  0],\n",
              "        [-5, -4, -3, -2, -1],\n",
              "        [-6, -5, -4, -3, -2],\n",
              "        [-7, -6, -5, -4, -3],\n",
              "        [-8, -7, -6, -5, -4]]])"
            ]
          },
          "execution_count": 16,
          "metadata": {},
          "output_type": "execute_result"
        }
      ],
      "source": [
        "A6 = A4 - A5\n",
        "A6"
      ]
    },
    {
      "cell_type": "code",
      "execution_count": null,
      "metadata": {
        "colab": {
          "base_uri": "https://localhost:8080/"
        },
        "id": "IY6F-SmkWEZX",
        "outputId": "d2e5a4d7-08cb-4a38-ed0c-f511f081d702"
      },
      "outputs": [
        {
          "data": {
            "text/plain": [
              "(2, 7, 5)"
            ]
          },
          "execution_count": 17,
          "metadata": {},
          "output_type": "execute_result"
        }
      ],
      "source": [
        "A6.shape"
      ]
    },
    {
      "cell_type": "code",
      "execution_count": null,
      "metadata": {
        "id": "ALBgJ_IiWEZY"
      },
      "outputs": [],
      "source": [
        "## Matrix Operations"
      ]
    },
    {
      "cell_type": "code",
      "execution_count": null,
      "metadata": {
        "colab": {
          "base_uri": "https://localhost:8080/"
        },
        "id": "B3ibk52QQdY_",
        "outputId": "a27e5c9c-3c6e-48d8-869c-9439197ab2d1"
      },
      "outputs": [
        {
          "data": {
            "text/plain": [
              "array([[0, 1, 2],\n",
              "       [3, 4, 5],\n",
              "       [6, 7, 8]])"
            ]
          },
          "execution_count": 19,
          "metadata": {},
          "output_type": "execute_result"
        }
      ],
      "source": [
        "A1 = np.arange(9).reshape(3,3)\n",
        "A1"
      ]
    },
    {
      "cell_type": "code",
      "execution_count": null,
      "metadata": {
        "colab": {
          "base_uri": "https://localhost:8080/"
        },
        "id": "-KtvcPbFQdZA",
        "outputId": "38c742fd-0263-4b22-ba8a-410841d904c6"
      },
      "outputs": [
        {
          "data": {
            "text/plain": [
              "array([[0, 3, 6],\n",
              "       [1, 4, 7],\n",
              "       [2, 5, 8]])"
            ]
          },
          "execution_count": 20,
          "metadata": {},
          "output_type": "execute_result"
        }
      ],
      "source": [
        "A1.T"
      ]
    },
    {
      "cell_type": "code",
      "execution_count": null,
      "metadata": {
        "colab": {
          "base_uri": "https://localhost:8080/"
        },
        "id": "xUPjc_s7QdZB",
        "outputId": "2fc949a4-e3a4-48fd-a2ed-ca5d74002c19"
      },
      "outputs": [
        {
          "data": {
            "text/plain": [
              "array([[1., 1., 1.],\n",
              "       [1., 1., 1.],\n",
              "       [1., 1., 1.]])"
            ]
          },
          "execution_count": 21,
          "metadata": {},
          "output_type": "execute_result"
        }
      ],
      "source": [
        "A2 = np.ones(9).reshape(3,3)\n",
        "A2"
      ]
    },
    {
      "cell_type": "code",
      "execution_count": null,
      "metadata": {
        "colab": {
          "base_uri": "https://localhost:8080/"
        },
        "id": "Z6jciomYQdZC",
        "outputId": "5c28dc6a-583b-489f-ac65-295591ba44c5"
      },
      "outputs": [
        {
          "data": {
            "text/plain": [
              "array([[ 3.,  3.,  3.],\n",
              "       [12., 12., 12.],\n",
              "       [21., 21., 21.]])"
            ]
          },
          "execution_count": 22,
          "metadata": {},
          "output_type": "execute_result"
        }
      ],
      "source": [
        "A1 @ A2 # matrix product"
      ]
    },
    {
      "cell_type": "code",
      "execution_count": null,
      "metadata": {
        "colab": {
          "base_uri": "https://localhost:8080/"
        },
        "id": "FpDMqRQYQdZD",
        "outputId": "70204999-723d-4fd1-83a3-ba82ab2eed58"
      },
      "outputs": [
        {
          "data": {
            "text/plain": [
              "array([[ 3.,  3.,  3.],\n",
              "       [12., 12., 12.],\n",
              "       [21., 21., 21.]])"
            ]
          },
          "execution_count": 23,
          "metadata": {},
          "output_type": "execute_result"
        }
      ],
      "source": [
        "A1.dot(A2)"
      ]
    },
    {
      "cell_type": "code",
      "execution_count": null,
      "metadata": {
        "id": "7eaMr58JQdZD"
      },
      "outputs": [],
      "source": [
        "A1.diagonal()"
      ]
    },
    {
      "cell_type": "markdown",
      "metadata": {
        "id": "Eh7Elq7nQdZE"
      },
      "source": []
    },
    {
      "cell_type": "code",
      "execution_count": null,
      "metadata": {
        "colab": {
          "base_uri": "https://localhost:8080/"
        },
        "id": "zKCqDHyvQdZE",
        "outputId": "94f552aa-1ad9-4486-b5b8-be0625a3c1d3"
      },
      "outputs": [
        {
          "data": {
            "text/plain": [
              "array([[0, 1, 3],\n",
              "       [4, 2, 9]])"
            ]
          },
          "execution_count": 2,
          "metadata": {
            "tags": []
          },
          "output_type": "execute_result"
        }
      ],
      "source": [
        "d1 = np.array([[0, 1, 3], \n",
        "               [4, 2, 9]])\n",
        "d1\n"
      ]
    },
    {
      "cell_type": "code",
      "execution_count": null,
      "metadata": {
        "colab": {
          "base_uri": "https://localhost:8080/"
        },
        "id": "fD2HL2ngQdZF",
        "outputId": "ed71b164-7d49-4128-fbf0-5f7c0e2177c6"
      },
      "outputs": [
        {
          "data": {
            "text/plain": [
              "array([[1, 3],\n",
              "       [2, 9]])"
            ]
          },
          "execution_count": 3,
          "metadata": {
            "tags": []
          },
          "output_type": "execute_result"
        }
      ],
      "source": [
        "d2 = d1[:, 1:]\n",
        "d2"
      ]
    },
    {
      "cell_type": "code",
      "execution_count": null,
      "metadata": {
        "colab": {
          "base_uri": "https://localhost:8080/"
        },
        "id": "fUEZwFnUtAYF",
        "outputId": "0e2a7523-4879-4ed1-a84f-a814adb8c669"
      },
      "outputs": [
        {
          "data": {
            "text/plain": [
              "array([[1, 0],\n",
              "       [2, 9]])"
            ]
          },
          "execution_count": 4,
          "metadata": {
            "tags": []
          },
          "output_type": "execute_result"
        }
      ],
      "source": [
        "d2[0,1] = 0\n",
        "d2"
      ]
    },
    {
      "cell_type": "code",
      "execution_count": null,
      "metadata": {
        "colab": {
          "base_uri": "https://localhost:8080/"
        },
        "id": "lSFxF4xutAYG",
        "outputId": "d3e41b57-316a-4e74-d062-c84d9a526ab1"
      },
      "outputs": [
        {
          "data": {
            "text/plain": [
              "array([[0, 1, 0],\n",
              "       [4, 2, 9]])"
            ]
          },
          "execution_count": 5,
          "metadata": {
            "tags": []
          },
          "output_type": "execute_result"
        }
      ],
      "source": [
        "d1"
      ]
    },
    {
      "cell_type": "code",
      "execution_count": null,
      "metadata": {
        "id": "gtOd7WDftAYH"
      },
      "outputs": [],
      "source": [
        "d1[0,2]"
      ]
    },
    {
      "cell_type": "code",
      "execution_count": null,
      "metadata": {
        "colab": {
          "base_uri": "https://localhost:8080/"
        },
        "id": "8q8GB6PPtAYJ",
        "outputId": "c4546592-cd6a-4821-fa60-d860bbce7c03"
      },
      "outputs": [
        {
          "data": {
            "text/plain": [
              "array([ 2,  3,  4,  5,  6,  7,  8,  9, 10])"
            ]
          },
          "execution_count": 2,
          "metadata": {
            "tags": []
          },
          "output_type": "execute_result"
        }
      ],
      "source": [
        "import numpy as np\n",
        "np.arange(9) + 2\n"
      ]
    }
  ],
  "metadata": {
    "colab": {
      "include_colab_link": true,
      "name": "Chapter-07:Numpy.ipynb",
      "provenance": []
    },
    "kernelspec": {
      "display_name": "Python 3",
      "language": "python",
      "name": "python3"
    },
    "language_info": {
      "codemirror_mode": {
        "name": "ipython",
        "version": 3
      },
      "file_extension": ".py",
      "mimetype": "text/x-python",
      "name": "python",
      "nbconvert_exporter": "python",
      "pygments_lexer": "ipython3",
      "version": "3.10.11"
    }
  },
  "nbformat": 4,
  "nbformat_minor": 0
}
