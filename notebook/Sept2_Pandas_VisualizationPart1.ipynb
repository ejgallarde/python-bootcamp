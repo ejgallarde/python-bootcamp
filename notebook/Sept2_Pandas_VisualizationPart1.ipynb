{
  "cells": [
    {
      "cell_type": "markdown",
      "source": [
        "# Pandas Visualization Concepts Tutorial\n",
        "\n",
        "In this notebook, we'll focus solely on Pandas' built-in visualization capabilities. We will not be using Matplotlib directly, although Pandas visualization is built upon it. We'll explore various types of visualizations, their syntax, and when to use them."
      ],
      "metadata": {
        "noteable": {
          "cell_type": "markdown"
        }
      },
      "id": "d1bfbddb-8b29-45c4-bcfc-5762aeb9536a"
    },
    {
      "cell_type": "markdown",
      "source": [
        "## Importing Libraries\n",
        "\n",
        "Let's start by importing the necessary library, which is Pandas in this case."
      ],
      "metadata": {
        "noteable": {
          "cell_type": "markdown"
        }
      },
      "id": "3acbdd4d-b6fd-487b-9887-490193b2db59"
    },
    {
      "cell_type": "code",
      "source": [
        "import pandas as pd\n",
        "import numpy as np"
      ],
      "outputs": [],
      "execution_count": null,
      "metadata": {
        "noteable": {
          "cell_type": "code"
        },
        "ExecuteTime": {
          "start_time": "2023-09-02T09:00:45.364646+00:00",
          "end_time": "2023-09-02T09:00:45.519872+00:00"
        }
      },
      "id": "2e9b4975-3587-4a9a-8e6c-bdd53540ceaf"
    },
    {
      "cell_type": "markdown",
      "source": [
        "## Line Plot\n",
        "\n",
        "### Syntax and Arguments\n",
        "\n",
        "The basic syntax for creating a line plot in Pandas is as follows:\n",
        "\n",
        "```python\n",
        "DataFrame.plot.line(y=None, **kwargs)\n",
        "```\n",
        "\n",
        "- `y`: Label or position for y-axis. Can be a single label or list of labels.\n",
        "- `**kwargs`: Additional keyword arguments supported by `matplotlib.pyplot.plot`.\n",
        "\n",
        "Let's see some examples."
      ],
      "metadata": {
        "noteable": {
          "cell_type": "markdown"
        }
      },
      "id": "85e20fe2-42a6-4825-8791-ad16349088d6"
    },
    {
      "cell_type": "code",
      "source": [
        "# Creating a sample DataFrame for line plot\n",
        "line_df = pd.DataFrame({\n",
        "    'X': np.linspace(0, 10, 50),\n",
        "    'Y': np.sin(np.linspace(0, 10, 50))\n",
        "})\n",
        "\n",
        "# Basic line plot\n",
        "line_df.plot.line(x='X', y='Y')"
      ],
      "outputs": [],
      "execution_count": null,
      "metadata": {
        "noteable": {
          "cell_type": "code"
        }
      },
      "id": "539df702-1b8f-493d-b038-98c74075ab24"
    },
    {
      "cell_type": "markdown",
      "source": [
        "### Exercise: Line Plot\n",
        "\n",
        "#### Problem Statement\n",
        "\n",
        "You are given a DataFrame that contains the sales data for a store over a period of 12 months. Your task is to create a line plot to visualize the monthly sales.\n",
        "\n",
        "Here is the DataFrame to start with:\n",
        "\n",
        "```python\n",
        "sales_df = pd.DataFrame({\n",
        "    'Month': ['Jan', 'Feb', 'Mar', 'Apr', 'May', 'Jun', 'Jul', 'Aug', 'Sep', 'Oct', 'Nov', 'Dec'],\n",
        "    'Sales': [200, 220, 250, 275, 300, 320, 350, 370, 400, 420, 450, 480]\n",
        "})\n",
        "```\n",
        "\n",
        "#### Instructions\n",
        "\n",
        "1. Create a line plot using the `Month` column for the x-axis and the `Sales` column for the y-axis.\n",
        "\n",
        "2. Make sure to label your axes and add a title to the plot."
      ],
      "metadata": {
        "noteable": {
          "cell_type": "markdown"
        }
      },
      "id": "fbd5a2ab-a74a-47e6-89b2-546f9144c93a"
    },
    {
      "cell_type": "code",
      "source": [
        "# Possible Answer to Exercise: Line Plot\n",
        "\n",
        "# Creating the sales DataFrame\n",
        "sales_df = pd.DataFrame({\n",
        "    'Month': ['Jan', 'Feb', 'Mar', 'Apr', 'May', 'Jun', 'Jul', 'Aug', 'Sep', 'Oct', 'Nov', 'Dec'],\n",
        "    'Sales': [200, 220, 250, 275, 300, 320, 350, 370, 400, 420, 450, 480]\n",
        "})\n",
        "\n",
        "# Creating the line plot\n",
        "ax = sales_df.plot.line(x='Month', y='Sales', title='Monthly Sales')\n",
        "ax.set_xlabel('Month')\n",
        "ax.set_ylabel('Sales')"
      ],
      "outputs": [],
      "execution_count": null,
      "metadata": {
        "noteable": {
          "cell_type": "code"
        }
      },
      "id": "ef0dbf9e-4396-4545-b40d-359f08eb98e0"
    },
    {
      "cell_type": "markdown",
      "source": [
        "## Bar Plot\n",
        "\n",
        "### Syntax and Arguments\n",
        "\n",
        "The basic syntax for creating a bar plot in Pandas is as follows:\n",
        "\n",
        "```python\n",
        "DataFrame.plot.bar(x=None, y=None, **kwargs)\n",
        "```\n",
        "\n",
        "- `x`: Label or position for x-axis. Default is the DataFrame index.\n",
        "- `y`: Label or position for y-axis. Can be a single label or list of labels.\n",
        "- `**kwargs`: Additional keyword arguments supported by `matplotlib.pyplot.bar`.\n",
        "\n",
        "Let's see some examples."
      ],
      "metadata": {
        "noteable": {
          "cell_type": "markdown"
        }
      },
      "id": "5aeed5ef-e3a2-4d52-bad9-cfa7da1a1119"
    },
    {
      "cell_type": "code",
      "source": [
        "# Creating a sample DataFrame for bar plot\n",
        "bar_df = pd.DataFrame({'Category': ['A', 'B', 'C'], 'Value': [4, 7, 1]})\n",
        "\n",
        "# Basic bar plot\n",
        "bar_df.plot.bar(x='Category', y='Value')"
      ],
      "outputs": [],
      "execution_count": null,
      "metadata": {
        "noteable": {
          "cell_type": "code"
        }
      },
      "id": "2e1bece7-ca92-4fa1-8d63-c3bbac74c092"
    },
    {
      "cell_type": "markdown",
      "source": [
        "### Exercise: Bar Plot\n",
        "\n",
        "#### Problem Statement\n",
        "\n",
        "You are given a DataFrame that contains the number of products sold in different categories. Your task is to create a bar plot to visualize the sales in each category.\n",
        "\n",
        "Here is the DataFrame to start with:\n",
        "\n",
        "```python\n",
        "sales_category_df = pd.DataFrame({\n",
        "    'Category': ['Electronics', 'Clothing', 'Books'],\n",
        "    'Sales': [1200, 850, 600]\n",
        "})\n",
        "```\n",
        "\n",
        "#### Instructions\n",
        "\n",
        "1. Create a bar plot using the `Category` column for the x-axis and the `Sales` column for the y-axis.\n",
        "\n",
        "2. Make sure to label your axes and add a title to the plot."
      ],
      "metadata": {
        "noteable": {
          "cell_type": "markdown"
        }
      },
      "id": "1551138d-362c-4b9e-8cdf-58722d503961"
    },
    {
      "cell_type": "code",
      "source": [
        "# Possible Answer to Exercise: Bar Plot\n",
        "\n",
        "# Creating the sales category DataFrame\n",
        "sales_category_df = pd.DataFrame({\n",
        "    'Category': ['Electronics', 'Clothing', 'Books'],\n",
        "    'Sales': [1200, 850, 600]\n",
        "})\n",
        "\n",
        "# Creating the bar plot\n",
        "ax = sales_category_df.plot.bar(x='Category', y='Sales', title='Sales by Category')\n",
        "ax.set_xlabel('Category')\n",
        "ax.set_ylabel('Sales')"
      ],
      "outputs": [],
      "execution_count": null,
      "metadata": {
        "noteable": {
          "cell_type": "code"
        }
      },
      "id": "c89998d9-0f73-4da8-9c02-35cf1f1c46b0"
    },
    {
      "cell_type": "markdown",
      "source": [
        "## Histogram\n",
        "\n",
        "### Syntax and Arguments\n",
        "\n",
        "The basic syntax for creating a histogram in Pandas is as follows:\n",
        "\n",
        "```python\n",
        "DataFrame.plot.hist(y=None, bins=None, **kwargs)\n",
        "```\n",
        "\n",
        "- `y`: Label or position for y-axis. Can be a single label or list of labels.\n",
        "- `bins`: Number of histogram bins to be used.\n",
        "- `**kwargs`: Additional keyword arguments supported by `matplotlib.pyplot.hist`.\n",
        "\n",
        "Let's see some examples."
      ],
      "metadata": {
        "noteable": {
          "cell_type": "markdown"
        }
      },
      "id": "9cd3d6ad-fa64-4d76-9696-55c179e143ab"
    },
    {
      "cell_type": "code",
      "source": [
        "# Creating a sample DataFrame for histogram\n",
        "hist_df = pd.DataFrame({'Value': np.random.randn(1000)})\n",
        "\n",
        "# Basic histogram\n",
        "hist_df.plot.hist(bins=20)"
      ],
      "outputs": [],
      "execution_count": null,
      "metadata": {
        "noteable": {
          "cell_type": "code"
        }
      },
      "id": "0a7d72c2-2ac6-45d2-ad47-7a7024782901"
    },
    {
      "cell_type": "markdown",
      "source": [
        "### Exercise: Histogram\n",
        "\n",
        "#### Problem Statement\n",
        "\n",
        "You are given a DataFrame that contains the ages of a group of people. Your task is to create a histogram to visualize the age distribution.\n",
        "\n",
        "Here is the DataFrame to start with:\n",
        "\n",
        "```python\n",
        "age_df = pd.DataFrame({\n",
        "    'Age': [25, 30, 35, 40, 45, 50, 55, 60, 65, 70]\n",
        "})\n",
        "```\n",
        "\n",
        "#### Instructions\n",
        "\n",
        "1. Create a histogram using the `Age` column.\n",
        "\n",
        "2. Make sure to label your axes and add a title to the plot."
      ],
      "metadata": {
        "noteable": {
          "cell_type": "markdown"
        }
      },
      "id": "ec3358e0-90b5-4929-8283-507ae31f5b7b"
    },
    {
      "cell_type": "code",
      "source": [
        "# Possible Answer to Exercise: Histogram\n",
        "\n",
        "# Creating the age DataFrame\n",
        "age_df = pd.DataFrame({\n",
        "    'Age': [25, 30, 35, 40, 45, 50, 55, 60, 65, 70]\n",
        "})\n",
        "\n",
        "# Creating the histogram\n",
        "ax = age_df.plot.hist(bins=5, title='Age Distribution')\n",
        "ax.set_xlabel('Age')\n",
        "ax.set_ylabel('Frequency')"
      ],
      "outputs": [],
      "execution_count": null,
      "metadata": {
        "noteable": {
          "cell_type": "code"
        }
      },
      "id": "7039b504-614c-49c8-99f2-8879eaf3ecf7"
    },
    {
      "cell_type": "markdown",
      "source": [
        "## Scatter Plot\n",
        "\n",
        "### Syntax and Arguments\n",
        "\n",
        "The basic syntax for creating a scatter plot in Pandas is as follows:\n",
        "\n",
        "```python\n",
        "DataFrame.plot.scatter(x, y, **kwargs)\n",
        "```\n",
        "\n",
        "- `x`: Label or position for x-axis.\n",
        "- `y`: Label or position for y-axis.\n",
        "- `**kwargs`: Additional keyword arguments supported by `matplotlib.pyplot.scatter`.\n",
        "\n",
        "Let's see some examples."
      ],
      "metadata": {
        "noteable": {
          "cell_type": "markdown"
        }
      },
      "id": "61e839f0-a2e4-45aa-b1dc-4f0ec42bc845"
    },
    {
      "cell_type": "code",
      "source": [
        "# Creating a sample DataFrame for scatter plot\n",
        "scatter_df = pd.DataFrame({\n",
        "    'X': np.linspace(0, 10, 50),\n",
        "    'Y': np.sin(np.linspace(0, 10, 50))\n",
        "})\n",
        "\n",
        "# Basic scatter plot\n",
        "scatter_df.plot.scatter(x='X', y='Y')"
      ],
      "outputs": [],
      "execution_count": null,
      "metadata": {
        "noteable": {
          "cell_type": "code"
        }
      },
      "id": "cce34acc-2936-4085-832e-57379a7ded87"
    },
    {
      "cell_type": "markdown",
      "source": [
        "### Exercise: Scatter Plot\n",
        "\n",
        "#### Problem Statement\n",
        "\n",
        "You are given a DataFrame that contains the scores of students in Math and Science. Your task is to create a scatter plot to visualize the relationship between Math and Science scores.\n",
        "\n",
        "Here is the DataFrame to start with:\n",
        "\n",
        "```python\n",
        "scores_df = pd.DataFrame({\n",
        "    'Math': [90, 85, 77, 95, 80],\n",
        "    'Science': [92, 80, 84, 98, 86]\n",
        "})\n",
        "```\n",
        "\n",
        "#### Instructions\n",
        "\n",
        "1. Create a scatter plot using the `Math` column for the x-axis and the `Science` column for the y-axis.\n",
        "\n",
        "2. Make sure to label your axes and add a title to the plot."
      ],
      "metadata": {
        "noteable": {
          "cell_type": "markdown"
        }
      },
      "id": "6b0dd740-059e-4d42-8a46-704d19164e06"
    },
    {
      "cell_type": "code",
      "source": [
        "# Possible Answer to Exercise: Scatter Plot\n",
        "\n",
        "# Creating the scores DataFrame\n",
        "scores_df = pd.DataFrame({\n",
        "    'Math': [90, 85, 77, 95, 80],\n",
        "    'Science': [92, 80, 84, 98, 86]\n",
        "})\n",
        "\n",
        "# Creating the scatter plot\n",
        "ax = scores_df.plot.scatter(x='Math', y='Science', title='Math vs Science Scores')\n",
        "ax.set_xlabel('Math Scores')\n",
        "ax.set_ylabel('Science Scores')"
      ],
      "outputs": [],
      "execution_count": null,
      "metadata": {
        "noteable": {
          "cell_type": "code"
        }
      },
      "id": "f1b57257-a2fe-4b36-b3b9-4aef35a04a31"
    }
  ],
  "metadata": {
    "noteable-chatgpt": {
      "create_notebook": {
        "openai_conversation_id": "a6da49e8-1fcd-5817-9beb-8d4fe8c55932",
        "openai_ephemeral_user_id": "52aef2c4-6802-571a-8377-136b01b4a149",
        "openai_subdivision1_iso_code": "PH-00"
      }
    },
    "kernel_info": {
      "name": "python3"
    },
    "kernelspec": {
      "name": "python3",
      "display_name": "Python 3.9",
      "language": "python"
    },
    "selected_hardware_size": "small",
    "noteable": {
      "last_delta_id": "65a7920a-595d-4936-8b6e-2966fe802dd0"
    },
    "nteract": {
      "version": "noteable@2.9.0"
    }
  },
  "nbformat": 4,
  "nbformat_minor": 5
}