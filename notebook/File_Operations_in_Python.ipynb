{
  "nbformat": 4,
  "nbformat_minor": 5,
  "metadata": {
    "noteable-chatgpt": {
      "create_notebook": {
        "openai_conversation_id": "24a1c276-5b93-514a-bdf7-91d2fb2f16fe",
        "openai_ephemeral_user_id": "dbb1ad9b-7948-5309-af4f-6dbc80279da3",
        "openai_subdivision1_iso_code": "PH-00"
      }
    },
    "kernel_info": {
      "name": "python3"
    },
    "noteable": {
      "last_transaction_id": "68775814-6ede-4414-9f1f-562d1368cc1b"
    },
    "kernelspec": {
      "display_name": "Python 3.9",
      "language": "python",
      "name": "python3"
    },
    "selected_hardware_size": "small"
  },
  "cells": [
    {
      "id": "6edbf6c7-d10a-4eab-92f2-dc96914ab80f",
      "cell_type": "markdown",
      "source": "# File Operations in Python\n\nThis notebook will guide you through various operations related to files in Python. We will cover the following topics:\n\n1. Files and Persistence\n2. Reading and Writing to Files\n3. The `os` Package\n4. The Format Operator\n5. Filenames and Paths\n\nLet's get started!",
      "metadata": {
        "noteable": {
          "cell_type": "markdown"
        }
      }
    },
    {
      "id": "f1ba1074-fb0f-40c7-9b42-eff346aadeb1",
      "cell_type": "markdown",
      "source": "## 1. Files and Persistence\n\nIn Python, we use files for 'persistence' - to keep data around for future use. This is important because the variables in a program are not persistent. When the program ends, the values stored in variables are lost. To make data persist beyond the life of the program, we need to store it in a file.\n\nPython provides several built-in functions to read and write data to a file. We'll explore these functions in the next sections.",
      "metadata": {
        "noteable": {
          "cell_type": "markdown"
        }
      }
    },
    {
      "id": "ca71792d-ed06-4a35-a69b-c5757c21e372",
      "cell_type": "markdown",
      "source": "## 2. Reading and Writing to Files\n\nPython provides the `open()` function to open a file. This function returns a file object, which can be used to read from, write to, or append to the file. Here's how you can open a file:",
      "metadata": {
        "noteable": {
          "cell_type": "markdown"
        }
      }
    },
    {
      "id": "cbbb934d-bc02-4c0f-b627-816aa8564278",
      "cell_type": "code",
      "metadata": {
        "noteable": {
          "cell_type": "code",
          "output_collection_id": "a6296049-fe90-4dbf-a121-fe7aec4289c2"
        },
        "ExecuteTime": {
          "end_time": "2023-08-01T11:06:36.647641+00:00",
          "start_time": "2023-08-01T11:06:36.489417+00:00"
        }
      },
      "execution_count": null,
      "source": "# Open a file for writing\nfile = open('example.txt', 'w')\n\n# Always remember to close the file when you're done with it\nfile.close()",
      "outputs": []
    },
    {
      "id": "ab030965-6cc3-480c-9287-cf9b893499b8",
      "cell_type": "markdown",
      "source": "In the code above, `'w'` is the mode in which we're opening the file. The `'w'` mode stands for 'write'. This will overwrite the file if it already exists, or create it if it doesn't exist.\n\nOther modes you can use are:\n\n- `'r'`: Read mode. This is the default mode.\n- `'a'`: Append mode. This opens the file for writing, but instead of overwriting the existing content, it appends to it.\n- `'x'`: Exclusive creation mode. This opens the file for writing, but only if the file does not already exist.\n- `'b'`: Binary mode. This opens the file in binary mode, which can be used in combination with the other modes (e.g., `'rb'` opens the file in binary mode for reading).\n\nNow, let's write some content to the file.",
      "metadata": {
        "noteable": {
          "cell_type": "markdown"
        }
      }
    },
    {
      "id": "7d0ad5f4-c216-4f76-8457-73fdd7896c25",
      "cell_type": "code",
      "metadata": {
        "noteable": {
          "cell_type": "code",
          "output_collection_id": "79b5430b-cae7-461d-82d3-4dbf86fe2df3"
        },
        "ExecuteTime": {
          "end_time": "2023-08-01T11:11:43.360721+00:00",
          "start_time": "2023-08-01T11:11:43.191990+00:00"
        }
      },
      "execution_count": null,
      "source": "# Open the file for writing\nfile = open('example.txt', 'w')\n\n# Write some content to the file\nfile.write('Hello, world!')\nfile.write('Hello, country!')\n\n\n# Close the file\nfile.close()",
      "outputs": []
    },
    {
      "id": "5c00f34d-78e0-4f01-830f-690fe2e5b820",
      "cell_type": "markdown",
      "source": "The `write()` function writes the specified string to the file. Note that it does not add a newline character (`'\\n'`) at the end of the string, so you'll need to add that yourself if you want the next write to start on a new line.\n\nNow, let's read the content we just wrote to the file.",
      "metadata": {
        "noteable": {
          "cell_type": "markdown"
        }
      }
    },
    {
      "id": "ffe31117-9ba1-40ce-95ac-1180c64be97e",
      "cell_type": "code",
      "metadata": {
        "noteable": {
          "cell_type": "code",
          "output_collection_id": "4a85c929-7827-4e7b-b955-7b834496bc1e"
        },
        "ExecuteTime": {
          "end_time": "2023-08-01T11:15:38.230510+00:00",
          "start_time": "2023-08-01T11:15:38.068427+00:00"
        }
      },
      "execution_count": null,
      "source": "# Open the file for reading\nfile = open('example.txt', 'r')\n\n# Read the content of the file\ncontent = file.read()\n\n# Print the content\nprint(content)\n\n# Close the file\nfile.close()",
      "outputs": []
    },
    {
      "id": "3fbd6220-47da-4c4b-902d-6935d87645cd",
      "cell_type": "markdown",
      "source": "The `read()` function reads the content of the file and returns it as a string. If the file is too large to fit in memory, you can also read it line by line using the `readline()` function, or read all lines at once into a list using the `readlines()` function.\n\nNow, let's move on to the `os` package.",
      "metadata": {
        "noteable": {
          "cell_type": "markdown"
        }
      }
    },
    {
      "id": "556ea960-ce3e-4bb5-8691-d19e164d5464",
      "cell_type": "markdown",
      "source": "## 3. The `os` Package\n\nThe `os` package in Python provides functions for interacting with the operating system. This includes functions for file and directory operations, such as creating, deleting, and moving files and directories, getting file and directory information, and more.\n\nLet's import the `os` package and explore some of its functions.",
      "metadata": {
        "noteable": {
          "cell_type": "markdown"
        }
      }
    },
    {
      "id": "3fc0628e-f34e-4501-a0f3-c01dde637ba5",
      "cell_type": "code",
      "metadata": {
        "noteable": {
          "cell_type": "code",
          "output_collection_id": "bb771857-2f86-4c5e-9876-1e203be04bed"
        },
        "ExecuteTime": {
          "end_time": "2023-08-01T11:18:49.209456+00:00",
          "start_time": "2023-08-01T11:18:49.052830+00:00"
        }
      },
      "execution_count": null,
      "source": "import os",
      "outputs": []
    },
    {
      "id": "36168eeb-84b7-40f6-a09f-f61fdb27f9e7",
      "cell_type": "markdown",
      "source": "One of the most commonly used functions in the `os` package is `os.path.join()`. This function takes one or more path names, and joins them into a single path. This is useful because it automatically uses the correct path separator for the current operating system.",
      "metadata": {
        "noteable": {
          "cell_type": "markdown"
        }
      }
    },
    {
      "id": "68e2dd4b-d0ee-4b79-8e35-9b47d5061ef7",
      "cell_type": "code",
      "metadata": {
        "noteable": {
          "cell_type": "code",
          "output_collection_id": "f257cd45-0417-4d98-9fac-5d30e6f7466c"
        },
        "ExecuteTime": {
          "end_time": "2023-08-01T07:40:22.168454+00:00",
          "start_time": "2023-08-01T07:40:22.010196+00:00"
        }
      },
      "execution_count": null,
      "source": "# Join two path names\npath = os.path.join('folder1', 'folder2')\nprint(path)",
      "outputs": []
    },
    {
      "id": "2e165366-1bf8-4803-8991-366d594d534f",
      "cell_type": "markdown",
      "source": "The `os` package also provides functions to get information about files and directories. For example, you can use `os.path.exists()` to check if a file or directory exists, and `os.path.getsize()` to get the size of a file.",
      "metadata": {
        "noteable": {
          "cell_type": "markdown"
        }
      }
    },
    {
      "id": "e8d5fe16-6501-4d2a-9722-e5b075fc09c7",
      "cell_type": "code",
      "metadata": {
        "noteable": {
          "cell_type": "code",
          "output_collection_id": "527acc84-5f43-4d58-a2ca-4c77669ef001"
        },
        "ExecuteTime": {
          "end_time": "2023-08-01T07:40:48.565484+00:00",
          "start_time": "2023-08-01T07:40:48.408295+00:00"
        }
      },
      "execution_count": null,
      "source": "# Check if a file exists\nprint(os.path.exists('example.txt'))\n\n# Get the size of a file\nprint(os.path.getsize('example.txt'))",
      "outputs": []
    },
    {
      "id": "f7a37374-02cf-4625-820b-c996e8c90fcc",
      "cell_type": "markdown",
      "source": "## 4. The Format Operator\n\nIn Python, the format operator `%` allows you to construct strings, replacing parts of the strings with the data stored in variables. This can be particularly useful when dealing with file paths and names.\n\nHere's an example:",
      "metadata": {
        "noteable": {
          "cell_type": "markdown"
        }
      }
    },
    {
      "id": "2df8a6bc-4acc-418f-8c66-5bc56ecbc89c",
      "cell_type": "code",
      "metadata": {
        "noteable": {
          "cell_type": "code",
          "output_collection_id": "a64a59e3-61f2-4b8c-9a5d-c0bd369bc4f3"
        },
        "ExecuteTime": {
          "end_time": "2023-08-01T07:41:33.432679+00:00",
          "start_time": "2023-08-01T07:41:33.275661+00:00"
        }
      },
      "execution_count": null,
      "source": "# Define a file name with a number\nfile_number = 1\nfile_name = 'file_%d.txt' % file_number\n\nprint(file_name)",
      "outputs": []
    },
    {
      "id": "cc72041d-ec2e-48f3-ab64-157c00e2e5e0",
      "cell_type": "markdown",
      "source": "In the code above, `%d` is a placeholder for a decimal integer. The `%` operator replaces the placeholder with the value stored in `file_number`. This can be very useful when you need to create multiple files with similar names.\n\nNow, let's move on to filenames and paths.",
      "metadata": {
        "noteable": {
          "cell_type": "markdown"
        }
      }
    },
    {
      "id": "ebabd961-20db-4b07-9f41-624165c9a82b",
      "cell_type": "markdown",
      "source": "## 5. Filenames and Paths\n\nIn Python, a file's name and its path are just strings. The `os` package provides several functions to manipulate these strings in a way that is compatible with the current operating system.\n\nFor example, you can use `os.path.join()` to construct a file path, `os.path.split()` to split a file path into the directory and the file name, and `os.path.splitext()` to split the file name into the base name and the extension.",
      "metadata": {
        "noteable": {
          "cell_type": "markdown"
        }
      }
    },
    {
      "id": "a9b3e40c-7090-4a5a-91dc-bb24d3376d33",
      "cell_type": "code",
      "metadata": {
        "noteable": {
          "cell_type": "code",
          "output_collection_id": "f59e58cf-3926-424d-8b9a-36db23efce34"
        },
        "ExecuteTime": {
          "end_time": "2023-08-01T07:41:50.368125+00:00",
          "start_time": "2023-08-01T07:41:50.207534+00:00"
        }
      },
      "execution_count": null,
      "source": "# Construct a file path\npath = os.path.join('folder1', 'folder2', 'file.txt')\nprint(path)\n\n# Split a file path\ndirectory, file_name = os.path.split(path)\nprint(directory)\nprint(file_name)\n\n# Split a file name\nbase_name, extension = os.path.splitext(file_name)\nprint(base_name)\nprint(extension)",
      "outputs": []
    }
  ]
}