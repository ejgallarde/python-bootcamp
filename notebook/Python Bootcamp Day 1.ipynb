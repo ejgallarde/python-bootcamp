{
 "cells": [
  {
   "cell_type": "markdown",
   "metadata": {
    "id": "179lEAjo5c1g"
   },
   "source": [
    "# Python Bootcamp"
   ]
  },
  {
   "cell_type": "markdown",
   "metadata": {},
   "source": [
    "## Displaying output\n",
    "\n",
    "Python has a print() command for displaying output."
   ]
  },
  {
   "cell_type": "code",
   "execution_count": 4,
   "metadata": {},
   "outputs": [
    {
     "name": "stdout",
     "output_type": "stream",
     "text": [
      "Hello, world!\n"
     ]
    }
   ],
   "source": [
    "print(\"Hello, world!\")"
   ]
  },
  {
   "cell_type": "markdown",
   "metadata": {},
   "source": [
    "Since we're using Jupyter notebooks, the cells will also display the value of the last line."
   ]
  },
  {
   "cell_type": "code",
   "execution_count": 8,
   "metadata": {},
   "outputs": [
    {
     "data": {
      "text/plain": [
       "4.2"
      ]
     },
     "execution_count": 8,
     "metadata": {},
     "output_type": "execute_result"
    }
   ],
   "source": [
    "4.2"
   ]
  },
  {
   "cell_type": "markdown",
   "metadata": {
    "id": "mxsNComj6zGN"
   },
   "source": [
    "## Variables\n",
    "\n",
    "Variables store value. It can be assigned and reassigned. We can store different types of values as we shall see later. \n",
    "\n",
    "To start, let's create variables and assign integers to them."
   ]
  },
  {
   "cell_type": "code",
   "execution_count": 1,
   "metadata": {
    "colab": {
     "base_uri": "https://localhost:8080/"
    },
    "id": "3vSP7Caosg8I",
    "outputId": "2abf624d-f8ec-4731-cf3b-796ec9118f59"
   },
   "outputs": [
    {
     "data": {
      "text/plain": [
       "1"
      ]
     },
     "execution_count": 1,
     "metadata": {},
     "output_type": "execute_result"
    }
   ],
   "source": [
    "a = 1\n",
    "a"
   ]
  },
  {
   "cell_type": "code",
   "execution_count": 2,
   "metadata": {
    "colab": {
     "base_uri": "https://localhost:8080/"
    },
    "id": "uhJNyC0i1MVf",
    "outputId": "cf90fc62-2108-4247-a806-7b75d214d0b1"
   },
   "outputs": [
    {
     "data": {
      "text/plain": [
       "2"
      ]
     },
     "execution_count": 2,
     "metadata": {},
     "output_type": "execute_result"
    }
   ],
   "source": [
    "b = 2\n",
    "b"
   ]
  },
  {
   "cell_type": "markdown",
   "metadata": {},
   "source": [
    "Since are variables store numbers, we can apply math operations on them"
   ]
  },
  {
   "cell_type": "code",
   "execution_count": 3,
   "metadata": {
    "colab": {
     "base_uri": "https://localhost:8080/"
    },
    "id": "xi-B9bgb46a3",
    "outputId": "21329fa0-5ed2-40c8-8448-9b9a3529e1b2"
   },
   "outputs": [
    {
     "data": {
      "text/plain": [
       "3"
      ]
     },
     "execution_count": 3,
     "metadata": {},
     "output_type": "execute_result"
    }
   ],
   "source": [
    "c = a + b\n",
    "c"
   ]
  },
  {
   "cell_type": "markdown",
   "metadata": {},
   "source": [
    "We can assign new values to our variables"
   ]
  },
  {
   "cell_type": "code",
   "execution_count": 30,
   "metadata": {
    "colab": {
     "base_uri": "https://localhost:8080/"
    },
    "id": "pEOV9C6w7Lf_",
    "outputId": "67874f82-8f67-41cb-8445-56d2e6538e20"
   },
   "outputs": [
    {
     "data": {
      "text/plain": [
       "2"
      ]
     },
     "execution_count": 30,
     "metadata": {},
     "output_type": "execute_result"
    }
   ],
   "source": [
    "a = 2\n",
    "a"
   ]
  },
  {
   "cell_type": "code",
   "execution_count": 5,
   "metadata": {
    "colab": {
     "base_uri": "https://localhost:8080/"
    },
    "id": "vzNIcd9S7Uda",
    "outputId": "174f4189-3040-4878-fa07-43fba280f69d"
   },
   "outputs": [
    {
     "data": {
      "text/plain": [
       "4"
      ]
     },
     "execution_count": 5,
     "metadata": {},
     "output_type": "execute_result"
    }
   ],
   "source": [
    "c = a + b\n",
    "c"
   ]
  },
  {
   "cell_type": "code",
   "execution_count": 32,
   "metadata": {
    "colab": {
     "base_uri": "https://localhost:8080/"
    },
    "id": "HY2-h2z67YOk",
    "outputId": "5fda39be-389a-4835-8a2d-02e2c814e8e1"
   },
   "outputs": [
    {
     "data": {
      "text/plain": [
       "9"
      ]
     },
     "execution_count": 32,
     "metadata": {},
     "output_type": "execute_result"
    }
   ],
   "source": [
    "a = 1\n",
    "b = a\n",
    "a = 5\n",
    "b = a\n",
    "c + b"
   ]
  },
  {
   "cell_type": "markdown",
   "metadata": {},
   "source": [
    "#### Remember: Variables are case-sensitive!"
   ]
  },
  {
   "cell_type": "code",
   "execution_count": 7,
   "metadata": {
    "id": "jzDAZlou7ut3"
   },
   "outputs": [],
   "source": [
    "var = 1\n",
    "Var = 2"
   ]
  },
  {
   "cell_type": "code",
   "execution_count": 8,
   "metadata": {
    "colab": {
     "base_uri": "https://localhost:8080/"
    },
    "id": "eqWmlqwF8b-x",
    "outputId": "52455898-2ad2-496f-e68a-d18ec00a31ac"
   },
   "outputs": [
    {
     "data": {
      "text/plain": [
       "1"
      ]
     },
     "execution_count": 8,
     "metadata": {},
     "output_type": "execute_result"
    }
   ],
   "source": [
    "var"
   ]
  },
  {
   "cell_type": "code",
   "execution_count": 9,
   "metadata": {
    "colab": {
     "base_uri": "https://localhost:8080/"
    },
    "id": "n2U4v5oN8wak",
    "outputId": "382d920e-941d-4d67-eec8-62030d2a4fd5"
   },
   "outputs": [
    {
     "data": {
      "text/plain": [
       "2"
      ]
     },
     "execution_count": 9,
     "metadata": {},
     "output_type": "execute_result"
    }
   ],
   "source": [
    "Var"
   ]
  },
  {
   "cell_type": "code",
   "execution_count": 10,
   "metadata": {
    "colab": {
     "base_uri": "https://localhost:8080/"
    },
    "id": "QIR3dRUk8xVR",
    "outputId": "eeb2bdb5-0c9b-461c-dfd3-389e2bce1b49"
   },
   "outputs": [
    {
     "data": {
      "text/plain": [
       "3"
      ]
     },
     "execution_count": 10,
     "metadata": {},
     "output_type": "execute_result"
    }
   ],
   "source": [
    "vAr = var + Var\n",
    "vAr"
   ]
  },
  {
   "cell_type": "markdown",
   "metadata": {},
   "source": [
    "## Comments\n",
    "\n",
    "<img src=\"images/onlygodknows.jpg\" width=300>\n",
    "Comment help our code become more readable and remind us why we coded it the way we did.\n",
    "\n",
    "'#' is a special character that starts a comment until the end of the line. We'll use comments from now on to help explain the code"
   ]
  },
  {
   "cell_type": "markdown",
   "metadata": {},
   "source": [
    "## Math operations\n",
    "\n",
    "Basic math operations like addition, subtraction, multiplication, division, and exponents are supported."
   ]
  },
  {
   "cell_type": "code",
   "execution_count": 59,
   "metadata": {
    "colab": {
     "base_uri": "https://localhost:8080/"
    },
    "id": "3Ho8j_uR-Yw9",
    "outputId": "fcdad148-343e-4b66-bac6-105c27119255"
   },
   "outputs": [
    {
     "name": "stdout",
     "output_type": "stream",
     "text": [
      "a = 5\n",
      "a + 2 = 7\n",
      "a - 2 = 3\n",
      "a * 2 =  10\n",
      "a / 2 = 2.5\n",
      "a ** 2 = 25\n"
     ]
    }
   ],
   "source": [
    "a = 5\n",
    "print('a =', a)\n",
    "\n",
    "# arithmetic\n",
    "# addition\n",
    "c = a + 2 # integer\n",
    "print('a + 2 =', c)\n",
    "\n",
    "\n",
    "# subtraction\n",
    "c = a - 2 # integer\n",
    "print('a - 2 =',c)\n",
    "\n",
    "# multiplication\n",
    "c = a * 2\n",
    "print('a * 2 = ', c)\n",
    "\n",
    "# division\n",
    "c = a / 2\n",
    "print('a / 2 =', c)\n",
    "\n",
    "# squared\n",
    "c = a ** 2\n",
    "print('a ** 2 =',c)"
   ]
  },
  {
   "cell_type": "markdown",
   "metadata": {},
   "source": [
    "## Data Types\n",
    "\n",
    "Python has numerous built-in data types which are documente here: https://docs.python.org/3/library/datatypes.html\n",
    "\n",
    "Let's look at the data types of some of our variables"
   ]
  },
  {
   "cell_type": "code",
   "execution_count": 60,
   "metadata": {
    "colab": {
     "base_uri": "https://localhost:8080/"
    },
    "id": "tGUj1RXj-97H",
    "outputId": "4daca7d6-0f01-4003-c0bd-44289b0be2d0"
   },
   "outputs": [
    {
     "name": "stdout",
     "output_type": "stream",
     "text": [
      "5 <class 'int'>\n",
      "25 <class 'int'>\n",
      "hello <class 'str'>\n"
     ]
    }
   ],
   "source": [
    "# data types\n",
    "print(a, type(a))\n",
    "\n",
    "print(c, type(c))\n",
    "\n",
    "s = \"hello\"\n",
    "print(s, type(s))"
   ]
  },
  {
   "cell_type": "markdown",
   "metadata": {},
   "source": [
    "#### Hint: Can do assignment and math operation in a single like with +=, -=, *=, /=."
   ]
  },
  {
   "cell_type": "code",
   "execution_count": 15,
   "metadata": {
    "colab": {
     "base_uri": "https://localhost:8080/"
    },
    "id": "4HkLIkYR_Hx0",
    "outputId": "2b78107c-8caa-40fb-ebe9-0f05bc6b13cd"
   },
   "outputs": [
    {
     "name": "stdout",
     "output_type": "stream",
     "text": [
      "5\n",
      "6\n"
     ]
    }
   ],
   "source": [
    "print(a)\n",
    "a = a + 1\n",
    "print(a)"
   ]
  },
  {
   "cell_type": "code",
   "execution_count": 16,
   "metadata": {
    "colab": {
     "base_uri": "https://localhost:8080/"
    },
    "id": "G75RshlJAiDI",
    "outputId": "f15502ae-7249-44ba-f3f2-a3f526f8b25e"
   },
   "outputs": [
    {
     "name": "stdout",
     "output_type": "stream",
     "text": [
      "6\n",
      "7\n"
     ]
    }
   ],
   "source": [
    "print(a)\n",
    "a += 1\n",
    "print(a)"
   ]
  },
  {
   "cell_type": "code",
   "execution_count": 17,
   "metadata": {
    "colab": {
     "base_uri": "https://localhost:8080/"
    },
    "id": "57y7dGbyA3-D",
    "outputId": "db283c25-32c1-4baf-99a8-0fd94e769f89"
   },
   "outputs": [
    {
     "name": "stdout",
     "output_type": "stream",
     "text": [
      "7\n",
      "14\n"
     ]
    }
   ],
   "source": [
    "print(a)\n",
    "a *= 2\n",
    "print(a)"
   ]
  },
  {
   "cell_type": "code",
   "execution_count": 18,
   "metadata": {
    "colab": {
     "base_uri": "https://localhost:8080/"
    },
    "id": "t81xCF95A8bf",
    "outputId": "7a772914-2779-4cf4-ecf4-1b371dbbdbdc"
   },
   "outputs": [
    {
     "name": "stdout",
     "output_type": "stream",
     "text": [
      "14\n",
      "<class 'int'>\n",
      "7.0\n",
      "<class 'float'>\n"
     ]
    }
   ],
   "source": [
    "print(a)\n",
    "print(type(a)) # we expect this to be int\n",
    "a /= 2\n",
    "print(a)\n",
    "print(type(a)) # we expect this to be int"
   ]
  },
  {
   "cell_type": "markdown",
   "metadata": {},
   "source": [
    "## Casting\n",
    "\n",
    "We can convert between data types using these functions."
   ]
  },
  {
   "cell_type": "code",
   "execution_count": 19,
   "metadata": {
    "colab": {
     "base_uri": "https://localhost:8080/"
    },
    "id": "yGAfGTR5BHZ7",
    "outputId": "ec0c96cb-7556-4e96-853b-d9db07936f00"
   },
   "outputs": [
    {
     "name": "stdout",
     "output_type": "stream",
     "text": [
      "2\n",
      "1.5\n",
      "1\n",
      "1.8\n",
      "1\n",
      "casting\n",
      "3\n",
      "1\n",
      "3.0\n",
      "3\n",
      "3\n",
      "3.0\n"
     ]
    }
   ],
   "source": [
    "# casting into integer\n",
    "print(\"casting\")\n",
    "print(int(3.0))\n",
    "print(int(9/5))\n",
    "print(float(3))\n",
    "print(str(3))\n",
    "print(int(\"3\"))\n",
    "print(float(\"3.0\"))"
   ]
  },
  {
   "cell_type": "code",
   "execution_count": 20,
   "metadata": {
    "colab": {
     "base_uri": "https://localhost:8080/"
    },
    "id": "SBamnBskBOox",
    "outputId": "85521a9a-42ee-4fbd-e126-1cf326f0185e"
   },
   "outputs": [
    {
     "name": "stdout",
     "output_type": "stream",
     "text": [
      "3.0\n"
     ]
    }
   ],
   "source": [
    "print(float(\"3\"))"
   ]
  },
  {
   "cell_type": "code",
   "execution_count": 9,
   "metadata": {
    "colab": {
     "base_uri": "https://localhost:8080/",
     "height": 168
    },
    "id": "WA5RCPNdCUys",
    "outputId": "a961c1e2-c635-422b-e71b-79665044e684"
   },
   "outputs": [
    {
     "ename": "ValueError",
     "evalue": "invalid literal for int() with base 10: '3.0'",
     "output_type": "error",
     "traceback": [
      "\u001b[0;31m---------------------------------------------------------------------------\u001b[0m",
      "\u001b[0;31mValueError\u001b[0m                                Traceback (most recent call last)",
      "\u001b[0;32m/var/folders/hh/017vdlc53q3_cpm3wt0s4mfm0000gp/T/ipykernel_12607/2844436281.py\u001b[0m in \u001b[0;36m<module>\u001b[0;34m\u001b[0m\n\u001b[0;32m----> 1\u001b[0;31m \u001b[0mprint\u001b[0m\u001b[0;34m(\u001b[0m\u001b[0mint\u001b[0m\u001b[0;34m(\u001b[0m\u001b[0;34m\"3.0\"\u001b[0m\u001b[0;34m)\u001b[0m\u001b[0;34m)\u001b[0m \u001b[0;31m#RETURNS AN ERROR!\u001b[0m\u001b[0;34m\u001b[0m\u001b[0;34m\u001b[0m\u001b[0m\n\u001b[0m",
      "\u001b[0;31mValueError\u001b[0m: invalid literal for int() with base 10: '3.0'"
     ]
    }
   ],
   "source": [
    "print(int(\"3.0\")) #RETURNS AN ERROR!"
   ]
  },
  {
   "cell_type": "markdown",
   "metadata": {},
   "source": [
    "## String Operations"
   ]
  },
  {
   "cell_type": "code",
   "execution_count": 11,
   "metadata": {
    "colab": {
     "base_uri": "https://localhost:8080/"
    },
    "id": "w6Ggl_VNCW4E",
    "outputId": "a762ee16-6505-44be-a2c8-2bc54daeb41f"
   },
   "outputs": [
    {
     "name": "stdout",
     "output_type": "stream",
     "text": [
      "hello world\n"
     ]
    }
   ],
   "source": [
    "# arithmetic operations for strings\n",
    "s1 = \"hello\"\n",
    "s2 = \" \"\n",
    "s3 = \"world\"\n",
    "s4 = s1 + s2 + s3\n",
    "print(s4)"
   ]
  },
  {
   "cell_type": "code",
   "execution_count": 12,
   "metadata": {
    "colab": {
     "base_uri": "https://localhost:8080/"
    },
    "id": "U4KdDwweCkgd",
    "outputId": "fa265a1d-73e0-4e8e-80d6-38b0fb528dcc"
   },
   "outputs": [
    {
     "name": "stdout",
     "output_type": "stream",
     "text": [
      "hellohellohello\n"
     ]
    }
   ],
   "source": [
    "s5 = s1 * 3\n",
    "print(s5)"
   ]
  },
  {
   "cell_type": "code",
   "execution_count": 62,
   "metadata": {
    "colab": {
     "base_uri": "https://localhost:8080/",
     "height": 168
    },
    "id": "BRBbvGtnCs2I",
    "outputId": "0c468f27-041b-4086-afda-421e2821236b"
   },
   "outputs": [
    {
     "ename": "TypeError",
     "evalue": "can only concatenate str (not \"int\") to str",
     "output_type": "error",
     "traceback": [
      "\u001b[0;31m---------------------------------------------------------------------------\u001b[0m",
      "\u001b[0;31mTypeError\u001b[0m                                 Traceback (most recent call last)",
      "\u001b[0;32m/var/folders/hh/017vdlc53q3_cpm3wt0s4mfm0000gp/T/ipykernel_12607/3598354063.py\u001b[0m in \u001b[0;36m<module>\u001b[0;34m\u001b[0m\n\u001b[0;32m----> 1\u001b[0;31m \u001b[0ms6\u001b[0m \u001b[0;34m=\u001b[0m \u001b[0ms5\u001b[0m \u001b[0;34m+\u001b[0m \u001b[0;36m3\u001b[0m \u001b[0;31m#RETURNS AN ERROR\u001b[0m\u001b[0;34m\u001b[0m\u001b[0;34m\u001b[0m\u001b[0m\n\u001b[0m",
      "\u001b[0;31mTypeError\u001b[0m: can only concatenate str (not \"int\") to str"
     ]
    }
   ],
   "source": [
    "s6 = s5 + 3 #RETURNS AN ERROR"
   ]
  },
  {
   "cell_type": "markdown",
   "metadata": {
    "id": "QA_-fk_PC2MN"
   },
   "source": [
    "## Boolean\n",
    "\n",
    "True and False values are called booleans"
   ]
  },
  {
   "cell_type": "code",
   "execution_count": 26,
   "metadata": {
    "colab": {
     "base_uri": "https://localhost:8080/"
    },
    "id": "Ba5LyOPAC-cK",
    "outputId": "2a022ebc-eccd-4bc5-a77b-9fa79065c8ff"
   },
   "outputs": [
    {
     "name": "stdout",
     "output_type": "stream",
     "text": [
      "True\n",
      "False\n"
     ]
    }
   ],
   "source": [
    "a = True\n",
    "b = False\n",
    "print(a)\n",
    "print(b)"
   ]
  },
  {
   "cell_type": "markdown",
   "metadata": {},
   "source": [
    "We can test for boolean and variable equality with '==' and '!=' for inequality."
   ]
  },
  {
   "cell_type": "code",
   "execution_count": 27,
   "metadata": {
    "colab": {
     "base_uri": "https://localhost:8080/"
    },
    "id": "9ihml2h-DDtE",
    "outputId": "506f3f8e-9d6d-4aca-8a83-79f78242888b"
   },
   "outputs": [
    {
     "data": {
      "text/plain": [
       "True"
      ]
     },
     "execution_count": 27,
     "metadata": {},
     "output_type": "execute_result"
    }
   ],
   "source": [
    "a = 1\n",
    "b = 1\n",
    "\n",
    "a == b"
   ]
  },
  {
   "cell_type": "code",
   "execution_count": 28,
   "metadata": {
    "colab": {
     "base_uri": "https://localhost:8080/"
    },
    "id": "0zZH04FJDSdR",
    "outputId": "5d92226c-1e85-4d39-b455-9384a9198a40"
   },
   "outputs": [
    {
     "data": {
      "text/plain": [
       "False"
      ]
     },
     "execution_count": 28,
     "metadata": {},
     "output_type": "execute_result"
    }
   ],
   "source": [
    "a = 1\n",
    "b = 2\n",
    "\n",
    "a == b"
   ]
  },
  {
   "cell_type": "code",
   "execution_count": 29,
   "metadata": {
    "colab": {
     "base_uri": "https://localhost:8080/"
    },
    "id": "E4DYliIdDU2j",
    "outputId": "2c07d974-1000-4977-eec0-ada9f9928102"
   },
   "outputs": [
    {
     "data": {
      "text/plain": [
       "True"
      ]
     },
     "execution_count": 29,
     "metadata": {},
     "output_type": "execute_result"
    }
   ],
   "source": [
    "a = 1\n",
    "b = 1\n",
    "(a == b) == True"
   ]
  },
  {
   "cell_type": "code",
   "execution_count": 30,
   "metadata": {
    "colab": {
     "base_uri": "https://localhost:8080/"
    },
    "id": "xkRogkHaDlzR",
    "outputId": "94d992e0-3da9-4bc3-a257-81fd3285921d"
   },
   "outputs": [
    {
     "data": {
      "text/plain": [
       "True"
      ]
     },
     "execution_count": 30,
     "metadata": {},
     "output_type": "execute_result"
    }
   ],
   "source": [
    "true = True\n",
    "true"
   ]
  },
  {
   "cell_type": "code",
   "execution_count": 31,
   "metadata": {
    "colab": {
     "base_uri": "https://localhost:8080/"
    },
    "id": "qloijXEaDbOg",
    "outputId": "d0fd3c3d-ff15-44be-f206-c9c66e94117b"
   },
   "outputs": [
    {
     "data": {
      "text/plain": [
       "True"
      ]
     },
     "execution_count": 31,
     "metadata": {},
     "output_type": "execute_result"
    }
   ],
   "source": [
    "a = 1\n",
    "b = 2\n",
    "(a == b) == False"
   ]
  },
  {
   "cell_type": "markdown",
   "metadata": {},
   "source": [
    "### Fun stuff with booleans"
   ]
  },
  {
   "cell_type": "code",
   "execution_count": 32,
   "metadata": {
    "colab": {
     "base_uri": "https://localhost:8080/"
    },
    "id": "94nmRhqwDzL6",
    "outputId": "e919e632-1308-4ad9-d079-19ee70a14811"
   },
   "outputs": [
    {
     "data": {
      "text/plain": [
       "True"
      ]
     },
     "execution_count": 32,
     "metadata": {},
     "output_type": "execute_result"
    }
   ],
   "source": [
    "a = 1\n",
    "b = True\n",
    "a == b"
   ]
  },
  {
   "cell_type": "code",
   "execution_count": 33,
   "metadata": {
    "colab": {
     "base_uri": "https://localhost:8080/"
    },
    "id": "yVOggfljD8fA",
    "outputId": "b48c0d84-bcb2-4596-eaee-d6265dfd5820"
   },
   "outputs": [
    {
     "name": "stdout",
     "output_type": "stream",
     "text": [
      "<class 'int'>\n",
      "<class 'bool'>\n"
     ]
    }
   ],
   "source": [
    "print(type(a))\n",
    "print(type(b))"
   ]
  },
  {
   "cell_type": "code",
   "execution_count": 34,
   "metadata": {
    "colab": {
     "base_uri": "https://localhost:8080/"
    },
    "id": "72GX-kvgEB9B",
    "outputId": "1a195e1e-faf7-4e1c-b4fa-65cc26fca8f9"
   },
   "outputs": [
    {
     "name": "stdout",
     "output_type": "stream",
     "text": [
      "True\n",
      "True\n"
     ]
    }
   ],
   "source": [
    "print(1 == True)\n",
    "print(0 == False)"
   ]
  },
  {
   "cell_type": "code",
   "execution_count": 35,
   "metadata": {
    "colab": {
     "base_uri": "https://localhost:8080/"
    },
    "id": "PTSkZDOTEHSt",
    "outputId": "60849ad0-e856-48d5-ad00-3d01372ed130"
   },
   "outputs": [
    {
     "name": "stdout",
     "output_type": "stream",
     "text": [
      "1\n",
      "0\n"
     ]
    }
   ],
   "source": [
    "print(int(True))\n",
    "print(int(False))"
   ]
  },
  {
   "cell_type": "code",
   "execution_count": 36,
   "metadata": {
    "colab": {
     "base_uri": "https://localhost:8080/"
    },
    "id": "HI6grhTZEMZ2",
    "outputId": "f2664bd1-7ae1-49ad-e09d-86188e07ae99"
   },
   "outputs": [
    {
     "name": "stdout",
     "output_type": "stream",
     "text": [
      "True\n",
      "False\n"
     ]
    }
   ],
   "source": [
    "print(bool(1))\n",
    "print(bool(0))"
   ]
  },
  {
   "cell_type": "markdown",
   "metadata": {},
   "source": [
    "## None values\n",
    "\n",
    "None means 'no value'. Equivalent of 'null' in other languages."
   ]
  },
  {
   "cell_type": "code",
   "execution_count": 17,
   "metadata": {
    "colab": {
     "base_uri": "https://localhost:8080/"
    },
    "id": "Bi4v4SX5E02N",
    "outputId": "d1129afc-7d7c-44f7-ad94-7d05221596b9"
   },
   "outputs": [
    {
     "name": "stdout",
     "output_type": "stream",
     "text": [
      "None\n"
     ]
    }
   ],
   "source": [
    "a = None # there's no value to put\n",
    "print(a)"
   ]
  },
  {
   "cell_type": "code",
   "execution_count": 18,
   "metadata": {
    "colab": {
     "base_uri": "https://localhost:8080/"
    },
    "id": "xoToUfXLE4RY",
    "outputId": "68ddd6d0-ff46-477f-a2bc-83a99534303e"
   },
   "outputs": [
    {
     "data": {
      "text/plain": [
       "False"
      ]
     },
     "execution_count": 18,
     "metadata": {},
     "output_type": "execute_result"
    }
   ],
   "source": [
    "None == 0"
   ]
  },
  {
   "cell_type": "markdown",
   "metadata": {
    "id": "Im3EDRWHGVK2"
   },
   "source": [
    "## Functions"
   ]
  },
  {
   "cell_type": "markdown",
   "metadata": {
    "id": "rQqLPhaAGrVn"
   },
   "source": [
    "Functions allow us to encapsulate code so that it can be run repeatedly. They can receive input values (called arguments) and return output values, although both are optional.\n",
    "\n",
    "\n",
    "Python has lots of built-in functions, and we can create our own too."
   ]
  },
  {
   "cell_type": "code",
   "execution_count": 22,
   "metadata": {
    "id": "hzIPF2ciKrgk"
   },
   "outputs": [
    {
     "name": "stdout",
     "output_type": "stream",
     "text": [
      "a\n"
     ]
    }
   ],
   "source": [
    "# built-in functions\n",
    "print(\"a\") # it processes \"a\" and outputs on the notebook \"a\"."
   ]
  },
  {
   "cell_type": "markdown",
   "metadata": {},
   "source": [
    "## Making our own functions\n",
    "\n",
    "To define a function use the \"def\" keyword followed by the function name, and then open and close parenthesis which may contain the arguments.\n",
    "\n",
    "Note: Variables defined in the function are only available within the function and isolated from the rest of the code"
   ]
  },
  {
   "cell_type": "code",
   "execution_count": 39,
   "metadata": {
    "id": "oGuwbeA5LI4q"
   },
   "outputs": [],
   "source": [
    "def add(a, b, c):\n",
    "  d = a + b + c\n",
    "  return d"
   ]
  },
  {
   "cell_type": "code",
   "execution_count": 40,
   "metadata": {
    "colab": {
     "base_uri": "https://localhost:8080/"
    },
    "id": "vYIiNaT2Mi0S",
    "outputId": "33d674af-36d8-479d-abe3-15c6707484d9"
   },
   "outputs": [
    {
     "data": {
      "text/plain": [
       "6"
      ]
     },
     "execution_count": 40,
     "metadata": {},
     "output_type": "execute_result"
    }
   ],
   "source": [
    "add(1, 2, 3)"
   ]
  },
  {
   "cell_type": "markdown",
   "metadata": {},
   "source": [
    "Returning multiple values"
   ]
  },
  {
   "cell_type": "code",
   "execution_count": 41,
   "metadata": {
    "id": "yx5VGF6EMr-U"
   },
   "outputs": [],
   "source": [
    "#x^3 + 2x^2 - x/2 + 3\n",
    "#1/x\n",
    "def poly(x):\n",
    "    p1 = x**3 + 2 * (x**2) - (1/2) * x + 3\n",
    "    p2 = 1/x\n",
    "    return (p1, p2)"
   ]
  },
  {
   "cell_type": "code",
   "execution_count": 44,
   "metadata": {
    "colab": {
     "base_uri": "https://localhost:8080/"
    },
    "id": "LOQJbWkgOjwI",
    "outputId": "248ed8bf-9e0d-469c-d954-03edff4563c9"
   },
   "outputs": [
    {
     "name": "stdout",
     "output_type": "stream",
     "text": [
      "(46.5, 0.3333333333333333)\n"
     ]
    },
    {
     "data": {
      "text/plain": [
       "tuple"
      ]
     },
     "execution_count": 44,
     "metadata": {},
     "output_type": "execute_result"
    }
   ],
   "source": [
    "x = 3\n",
    "c = poly(x)\n",
    "print(c)\n",
    "type(c)"
   ]
  },
  {
   "cell_type": "markdown",
   "metadata": {
    "id": "DiiuHL9NQAxb"
   },
   "source": [
    "## If-Elif-Else\n",
    "\n",
    "Conditional statements like If-else allow us to control which part of the code runs depending on the scenario. The keywords are 'if', 'elif', and 'else'\n",
    "\n",
    "The condition in the if statement should be a boolean value."
   ]
  },
  {
   "cell_type": "code",
   "execution_count": 50,
   "metadata": {
    "colab": {
     "base_uri": "https://localhost:8080/"
    },
    "id": "JBMC0PTxPnvv",
    "outputId": "6ca02147-24dd-44d8-e1e3-6c37ada19eba"
   },
   "outputs": [
    {
     "name": "stdout",
     "output_type": "stream",
     "text": [
      "it's raining\n"
     ]
    }
   ],
   "source": [
    "its_raining = True\n",
    "\n",
    "if its_raining:\n",
    "    print(\"it's raining\")\n",
    "else:\n",
    "    print(\"it's not raining\")  "
   ]
  },
  {
   "cell_type": "code",
   "execution_count": 59,
   "metadata": {
    "id": "8qA2NsIGQP-D"
   },
   "outputs": [],
   "source": [
    "def assess_temp(temp):\n",
    "    \"\"\"\n",
    "    returns an assessment of the temperature\n",
    "    arguments:\n",
    "        temp - int/float in Celsius\n",
    "    returns\n",
    "        string of assessment\n",
    "    \"\"\"\n",
    "    if temp < 20:\n",
    "        s = \"it's cold!\"\n",
    "    elif temp >= 20 and temp < 30:\n",
    "        s = 'perfect temperature'\n",
    "    else: # same as elif temp >= 30\n",
    "        s = \"it's too hot!\"\n",
    "    return s"
   ]
  },
  {
   "cell_type": "code",
   "execution_count": 60,
   "metadata": {
    "colab": {
     "base_uri": "https://localhost:8080/"
    },
    "id": "BrHgEX6wQ9R9",
    "outputId": "e242b4c1-c064-4296-e30a-0901313f5973"
   },
   "outputs": [
    {
     "name": "stdout",
     "output_type": "stream",
     "text": [
      "it's too hot!\n",
      "it's cold!\n",
      "perfect temperature\n"
     ]
    }
   ],
   "source": [
    "temp = 40 # degrees Celsius\n",
    "print(assess_temp(temp))\n",
    "\n",
    "temp = -1 # degrees Celsius\n",
    "print(assess_temp(temp))\n",
    "\n",
    "temp = 25 # degrees Celsius\n",
    "print(assess_temp(temp))\n"
   ]
  },
  {
   "cell_type": "markdown",
   "metadata": {},
   "source": [
    "## Booloean logic and, or"
   ]
  },
  {
   "cell_type": "code",
   "execution_count": 63,
   "metadata": {
    "colab": {
     "base_uri": "https://localhost:8080/"
    },
    "id": "z4Zioru3SWTQ",
    "outputId": "f1e509d5-2ca1-46c4-a9ec-b30dc8df6d7a"
   },
   "outputs": [
    {
     "name": "stdout",
     "output_type": "stream",
     "text": [
      "x between 1 and 3\n"
     ]
    }
   ],
   "source": [
    "\n",
    "x = 2\n",
    "if x < 3 and x > 1:\n",
    "    print(\"x between 1 and 3\")"
   ]
  },
  {
   "cell_type": "markdown",
   "metadata": {
    "id": "blAR0rgTUsRK"
   },
   "source": [
    "## Strings\n",
    "\n",
    "Strings can be define using single quotes, double quotes, and triple quotes."
   ]
  },
  {
   "cell_type": "code",
   "execution_count": 92,
   "metadata": {
    "colab": {
     "base_uri": "https://localhost:8080/"
    },
    "id": "9N-2BIQEThrV",
    "outputId": "6ed0d592-c8d5-439d-be2f-e60ea9cc534c"
   },
   "outputs": [
    {
     "name": "stdout",
     "output_type": "stream",
     "text": [
      "I'm going to school\n",
      "I'm going to school\n"
     ]
    }
   ],
   "source": [
    "print(\"I'm going to school\")\n",
    "print('I\\'m going to school')"
   ]
  },
  {
   "cell_type": "code",
   "execution_count": 66,
   "metadata": {
    "colab": {
     "base_uri": "https://localhost:8080/"
    },
    "id": "VADmKTGnTx6C",
    "outputId": "4ef22b87-c636-43b4-be62-9fe1c0000c4a"
   },
   "outputs": [
    {
     "name": "stdout",
     "output_type": "stream",
     "text": [
      "\n",
      "use triple quotation marks\n",
      "  if multiple lines \n",
      "  \"quote\"\n",
      "\n"
     ]
    }
   ],
   "source": [
    "s = \"\"\"\n",
    "use triple quotation marks\n",
    "  if multiple lines \n",
    "  \"quote\"\n",
    "\"\"\"\n",
    "print(s)"
   ]
  },
  {
   "cell_type": "markdown",
   "metadata": {},
   "source": [
    "## Indexing string characters\n",
    "\n",
    "Strings can be thought of as lists of characters. They can be indexed as such."
   ]
  },
  {
   "cell_type": "code",
   "execution_count": 68,
   "metadata": {
    "colab": {
     "base_uri": "https://localhost:8080/"
    },
    "id": "CCZQ4qrjUMSr",
    "outputId": "9421e31d-3ed7-4a77-db1d-5d34bc617a81"
   },
   "outputs": [
    {
     "name": "stdout",
     "output_type": "stream",
     "text": [
      "h\n",
      "l\n"
     ]
    }
   ],
   "source": [
    "s = \"hello_world\"\n",
    "# indexing\n",
    "print(s[0]) # Python indices start at 0! Python starts counting from 0\n",
    "print(s[3])"
   ]
  },
  {
   "cell_type": "markdown",
   "metadata": {
    "id": "V6McuJCEXsFQ"
   },
   "source": [
    "Count from 0!"
   ]
  },
  {
   "cell_type": "code",
   "execution_count": 69,
   "metadata": {
    "colab": {
     "base_uri": "https://localhost:8080/"
    },
    "id": "et--HK21WP-X",
    "outputId": "b525dfae-b6f6-4487-9a74-d4795bc8af50"
   },
   "outputs": [
    {
     "name": "stdout",
     "output_type": "stream",
     "text": [
      "hel\n",
      "hel\n",
      "hello\n",
      "ello_\n"
     ]
    }
   ],
   "source": [
    "# SLICING\n",
    "print(s[0:3]) # get the 1st, 2nd, 3rd index -> 0, 1, 2\n",
    "print(s[:3]) # get the 1st, 2nd, 3rd index -> 0, 1, 2\n",
    "print(s[0:5]) # get the 1st element up the fifth -> 0, 1, 2, 3, 4\n",
    "print(s[1:6]) # get the 2nd up to the 6th -> 1, 2, 3, 4, 5"
   ]
  },
  {
   "cell_type": "code",
   "execution_count": 70,
   "metadata": {
    "colab": {
     "base_uri": "https://localhost:8080/"
    },
    "id": "tzX64Ug0YoK1",
    "outputId": "7375074f-2976-4af6-8b7a-060ec59b5292"
   },
   "outputs": [
    {
     "name": "stdout",
     "output_type": "stream",
     "text": [
      "llo_w\n",
      "orld\n"
     ]
    }
   ],
   "source": [
    "# 3rd character up to the 7th character\n",
    "print(s[2:7]) # 2, 3, 4, 5, 6\n",
    "\n",
    "# 8th character up to index = 10\n",
    "print(s[7:11]) # index 7 = 8th character, -> 7, 8, 9, 10"
   ]
  },
  {
   "cell_type": "code",
   "execution_count": 72,
   "metadata": {
    "colab": {
     "base_uri": "https://localhost:8080/"
    },
    "id": "wFdVbPaeZcOe",
    "outputId": "d5780309-75ed-4ba3-dde6-82fc5a412cce"
   },
   "outputs": [
    {
     "name": "stdout",
     "output_type": "stream",
     "text": [
      "d\n",
      "d\n",
      "l\n",
      "ld\n",
      "hello_wor\n",
      "hello_wor\n"
     ]
    }
   ],
   "source": [
    "print(s[10])\n",
    "print(s[-1])\n",
    "print(s[-2])\n",
    "print(s[-2:]) # get the last 2 characters\n",
    "print(s[:-2]) # get all characters except the last 2\n",
    "print(s[0:-2]) # get all characters except the last 2"
   ]
  },
  {
   "cell_type": "markdown",
   "metadata": {},
   "source": [
    "## Useful String functions\n",
    "\n",
    "See https://www.w3schools.com/python/python_ref_string.asp"
   ]
  },
  {
   "cell_type": "code",
   "execution_count": 73,
   "metadata": {
    "colab": {
     "base_uri": "https://localhost:8080/"
    },
    "id": "-SHSBj7JakCg",
    "outputId": "51c8e39b-79fe-4d68-d0f2-857bc1dc4844"
   },
   "outputs": [
    {
     "name": "stdout",
     "output_type": "stream",
     "text": [
      "HELLO WORLD\n",
      "hello world\n",
      "Hello World\n",
      "True\n",
      "True\n",
      "HELLO wild\n",
      "HELLO world \n",
      "  HELLO world\n",
      "HELLO world\n"
     ]
    }
   ],
   "source": [
    "print(\"hello world\".upper())\n",
    "print(\"HELLO world\".lower())\n",
    "print(\"HELLO world\".title())\n",
    "print(\"HELLO world\".startswith(\"HELLO\"))\n",
    "print(\"HELLO world\".endswith(\"world\"))\n",
    "print(\"HELLO world\".replace(\"world\", \"wild\"))\n",
    "print(\"  HELLO world \".lstrip())\n",
    "print(\"  HELLO world \".rstrip())\n",
    "print(\"  HELLO world \".strip())"
   ]
  },
  {
   "cell_type": "code",
   "execution_count": 74,
   "metadata": {
    "colab": {
     "base_uri": "https://localhost:8080/",
     "height": 36
    },
    "id": "U9VSqvVQbW20",
    "outputId": "91604c7a-7de4-41ec-8da7-ba7f3227e4a8"
   },
   "outputs": [
    {
     "data": {
      "text/plain": [
       "'hello-world-yes'"
      ]
     },
     "execution_count": 74,
     "metadata": {},
     "output_type": "execute_result"
    }
   ],
   "source": [
    "# joining a list into a string\n",
    "l = [\"hello\", \"world\", \"yes\"]\n",
    "s = \"-\".join(l)\n",
    "s"
   ]
  },
  {
   "cell_type": "markdown",
   "metadata": {},
   "source": [
    "### Variables can be incorporated into strings in different ways."
   ]
  },
  {
   "cell_type": "code",
   "execution_count": 76,
   "metadata": {
    "colab": {
     "base_uri": "https://localhost:8080/"
    },
    "id": "tOBvwYO0b6DI",
    "outputId": "f7022714-be7f-4d39-efff-845e12fa5a1f"
   },
   "outputs": [
    {
     "name": "stdout",
     "output_type": "stream",
     "text": [
      "The variables are 1, 2, 3, 4\n",
      "The variables are 1, 2, 3, 4\n",
      "The variables are 1, 2, 3, 4 \n",
      "The variables are 1, 2, 3, 4\n"
     ]
    }
   ],
   "source": [
    "# incorporate a variable inside a string\n",
    "a = 1\n",
    "b = 2\n",
    "c = 3\n",
    "d = 4\n",
    "s1 = f\"The variables are {a}, {b}, {c}, {d}\" # Python 3.6+\n",
    "s2 = \"The variables are {}, {}, {}, {}\".format(a, b, c, d)\n",
    "s3 = \"The variables are %s, %s, %s, %s \" % (a, b, c, d)\n",
    "s4 = \"The variables are \" + str(a) + \", \" + str(b) + \", \" + str(c) + \", \" + str(d)\n",
    "\n",
    "print(s1)\n",
    "print(s2)\n",
    "print(s3)\n",
    "print(s4)"
   ]
  },
  {
   "cell_type": "markdown",
   "metadata": {},
   "source": [
    "### Splitting strings"
   ]
  },
  {
   "cell_type": "code",
   "execution_count": 81,
   "metadata": {
    "colab": {
     "base_uri": "https://localhost:8080/"
    },
    "id": "T--29zGdMob5",
    "outputId": "394463dd-c303-4e15-dea4-9d4afecea494"
   },
   "outputs": [
    {
     "name": "stdout",
     "output_type": "stream",
     "text": [
      "['hello', 'world']\n",
      "['hello', 'world']\n",
      "['this is 1 sentence', ' this is another sentence']\n"
     ]
    }
   ],
   "source": [
    "# splitting a string by a character\n",
    "s = \"hello world\"\n",
    "print(s.split(\" \"))\n",
    "\n",
    "s = \"hello-world\"\n",
    "print(s.split(\"-\"))\n",
    "\n",
    "s = \"this is 1 sentence. this is another sentence\"\n",
    "print(s.split(\".\"))"
   ]
  },
  {
   "cell_type": "markdown",
   "metadata": {
    "id": "4tD6pSwPr27K"
   },
   "source": [
    "## The important data structures: Lists, Tuples, Dictionaries, and Sets\n",
    "\n",
    "## Lists \n",
    "\n",
    "### Group of values that are ordered and mutable - can add/remove/change elements\n"
   ]
  },
  {
   "cell_type": "code",
   "execution_count": 63,
   "metadata": {},
   "outputs": [
    {
     "name": "stdout",
     "output_type": "stream",
     "text": [
      "<class 'list'> [1, 1, 2, 2, 3]\n"
     ]
    }
   ],
   "source": [
    "l = [1, 1, 2, 2, 3]\n",
    "print(type(l), l)\n"
   ]
  },
  {
   "cell_type": "code",
   "execution_count": 82,
   "metadata": {
    "colab": {
     "base_uri": "https://localhost:8080/"
    },
    "id": "p37b3Oemr4rq",
    "outputId": "b5f871c4-7f90-42fe-d334-b6aba9900471"
   },
   "outputs": [
    {
     "name": "stdout",
     "output_type": "stream",
     "text": [
      "['a', 'b']\n",
      "c\n"
     ]
    }
   ],
   "source": [
    "l = [\"a\", \"b\", \"c\"]\n",
    "# slice - get certain elements at certain indices\n",
    "# 1st 2 elements\n",
    "print(l[:2])\n",
    "print(l[-1])"
   ]
  },
  {
   "cell_type": "markdown",
   "metadata": {},
   "source": [
    "#### Adding an element to a list"
   ]
  },
  {
   "cell_type": "code",
   "execution_count": 64,
   "metadata": {
    "colab": {
     "base_uri": "https://localhost:8080/"
    },
    "id": "emXSKZiKsWLs",
    "outputId": "3a8fea57-c7ab-48ba-fa5f-807e70235707"
   },
   "outputs": [
    {
     "data": {
      "text/plain": [
       "['a', 'b', 'c', 'd', 'e', 'f']"
      ]
     },
     "execution_count": 64,
     "metadata": {},
     "output_type": "execute_result"
    }
   ],
   "source": [
    "# appending elements to l\n",
    "l = [\"a\", \"b\", \"c\"]\n",
    "l.append('d')\n",
    "l.append('e')\n",
    "l += ['f'] \n",
    "l"
   ]
  },
  {
   "cell_type": "markdown",
   "metadata": {},
   "source": [
    "#### We can change the value of an index in a list"
   ]
  },
  {
   "cell_type": "code",
   "execution_count": 65,
   "metadata": {
    "colab": {
     "base_uri": "https://localhost:8080/"
    },
    "id": "2ILZe68WtP6l",
    "outputId": "1020480d-7d90-4790-d07b-9265c077dd73"
   },
   "outputs": [
    {
     "data": {
      "text/plain": [
       "['1', 'b', 'c', 'd', 'e', 'f']"
      ]
     },
     "execution_count": 65,
     "metadata": {},
     "output_type": "execute_result"
    }
   ],
   "source": [
    "\n",
    "l[0] = '1'\n",
    "l"
   ]
  },
  {
   "cell_type": "markdown",
   "metadata": {},
   "source": [
    "## Tuples\n",
    "\n",
    "### Groups of values that ordered and immutable."
   ]
  },
  {
   "cell_type": "code",
   "execution_count": 68,
   "metadata": {
    "colab": {
     "base_uri": "https://localhost:8080/"
    },
    "id": "9P2ttX8vsuc5",
    "outputId": "1d0736d2-6577-4ab1-da81-4bc5bbd02555"
   },
   "outputs": [
    {
     "data": {
      "text/plain": [
       "('a', 'b', 'c', 'd', 'e')"
      ]
     },
     "execution_count": 68,
     "metadata": {},
     "output_type": "execute_result"
    }
   ],
   "source": [
    "# tuples - immutable, fixed\n",
    "# lists - mutable, can be changed\n",
    "# append an element to l\n",
    "t = (\"a\", \"b\", \"c\")\n",
    "t += ('d',)\n",
    "t += ('e',)\n",
    "t"
   ]
  },
  {
   "cell_type": "code",
   "execution_count": 51,
   "metadata": {
    "colab": {
     "base_uri": "https://localhost:8080/"
    },
    "id": "qdVwKz2AsRx7",
    "outputId": "865d505c-2e0f-4da3-8a4d-b141867a468f"
   },
   "outputs": [
    {
     "name": "stdout",
     "output_type": "stream",
     "text": [
      "('a', 'b')\n",
      "c\n"
     ]
    }
   ],
   "source": [
    "t = (\"a\", \"b\", \"c\")\n",
    "# slice - get certain elements at certain indices\n",
    "# 1st 2 elements\n",
    "print(t[:2])\n",
    "print(t[-1])"
   ]
  },
  {
   "cell_type": "markdown",
   "metadata": {},
   "source": [
    "#### We CANNOT change the existing values"
   ]
  },
  {
   "cell_type": "code",
   "execution_count": 52,
   "metadata": {
    "colab": {
     "base_uri": "https://localhost:8080/",
     "height": 186
    },
    "id": "Jb9IDlkrtaCX",
    "outputId": "ace31748-03ef-448c-973c-ae7a8cbc0ec3"
   },
   "outputs": [
    {
     "ename": "TypeError",
     "evalue": "'tuple' object does not support item assignment",
     "output_type": "error",
     "traceback": [
      "\u001b[0;31m---------------------------------------------------------------------------\u001b[0m",
      "\u001b[0;31mTypeError\u001b[0m                                 Traceback (most recent call last)",
      "\u001b[0;32m/var/folders/hh/017vdlc53q3_cpm3wt0s4mfm0000gp/T/ipykernel_12607/1029721564.py\u001b[0m in \u001b[0;36m<module>\u001b[0;34m\u001b[0m\n\u001b[0;32m----> 1\u001b[0;31m \u001b[0mt\u001b[0m\u001b[0;34m[\u001b[0m\u001b[0;36m0\u001b[0m\u001b[0;34m]\u001b[0m \u001b[0;34m=\u001b[0m \u001b[0;34m'A'\u001b[0m \u001b[0;31m# RETURNS AN ERROR\u001b[0m\u001b[0;34m\u001b[0m\u001b[0;34m\u001b[0m\u001b[0m\n\u001b[0m",
      "\u001b[0;31mTypeError\u001b[0m: 'tuple' object does not support item assignment"
     ]
    }
   ],
   "source": [
    "t[0] = 'A' # RETURNS AN ERROR"
   ]
  },
  {
   "cell_type": "markdown",
   "metadata": {},
   "source": [
    "## Checking if an element exists in a tuple or a list"
   ]
  },
  {
   "cell_type": "code",
   "execution_count": 69,
   "metadata": {
    "colab": {
     "base_uri": "https://localhost:8080/"
    },
    "id": "EZuVzDiytsOl",
    "outputId": "d503c9a8-1a68-4016-9be7-6c0e23aa0c8b"
   },
   "outputs": [
    {
     "name": "stdout",
     "output_type": "stream",
     "text": [
      "['1', 'b', 'c', 'd', 'e', 'f']\n",
      "False\n",
      "('a', 'b', 'c', 'd', 'e')\n",
      "True\n"
     ]
    }
   ],
   "source": [
    "print(l)\n",
    "print('A' in l)\n",
    "\n",
    "print(t)\n",
    "print('a' in t)"
   ]
  },
  {
   "cell_type": "markdown",
   "metadata": {
    "colab": {
     "base_uri": "https://localhost:8080/"
    },
    "id": "FpEaqB8ruW8p",
    "outputId": "7de9b8ca-6d9e-4a60-f685-7ec8dc8de938"
   },
   "source": [
    "## Removing an element"
   ]
  },
  {
   "cell_type": "code",
   "execution_count": 73,
   "metadata": {
    "colab": {
     "base_uri": "https://localhost:8080/"
    },
    "id": "N7wGBZKouhxm",
    "outputId": "e6e4f94c-8830-48bb-a669-bc70e5c941f7"
   },
   "outputs": [
    {
     "name": "stdout",
     "output_type": "stream",
     "text": [
      "['b', 'c', 'd', 'e']\n",
      "['b', 'A', 'c', 'd', 'e']\n",
      "['a', 'c', 'd', 'e']\n"
     ]
    }
   ],
   "source": [
    "l = ['A', 'b', 'c', 'd', 'e']\n",
    "l.remove('A')\n",
    "print(l)\n",
    "\n",
    "# remove - only removes the 1st instance\n",
    "l = ['A', 'b', 'A', 'c', 'd', 'e']\n",
    "l.remove('A')\n",
    "print(l)\n",
    "\n",
    "l = ['a', 'b', 'c', 'd', 'e']\n",
    "del l[1]\n",
    "print(l)"
   ]
  },
  {
   "cell_type": "markdown",
   "metadata": {},
   "source": [
    "#### We cannot remove specific elements from a tuple"
   ]
  },
  {
   "cell_type": "code",
   "execution_count": 91,
   "metadata": {
    "colab": {
     "base_uri": "https://localhost:8080/",
     "height": 221
    },
    "id": "zrvW_9F4us7x",
    "outputId": "173e3b02-ab62-447b-99bc-1b5b7e003271"
   },
   "outputs": [
    {
     "ename": "AttributeError",
     "evalue": "'tuple' object has no attribute 'remove'",
     "output_type": "error",
     "traceback": [
      "\u001b[0;31m---------------------------------------------------------------------------\u001b[0m",
      "\u001b[0;31mAttributeError\u001b[0m                            Traceback (most recent call last)",
      "\u001b[0;32m/var/folders/hh/017vdlc53q3_cpm3wt0s4mfm0000gp/T/ipykernel_47543/1204908849.py\u001b[0m in \u001b[0;36m<module>\u001b[0;34m\u001b[0m\n\u001b[1;32m      2\u001b[0m \u001b[0;31m# # you cannot change specific elements at certain indices for a tuple\u001b[0m\u001b[0;34m\u001b[0m\u001b[0;34m\u001b[0m\u001b[0m\n\u001b[1;32m      3\u001b[0m \u001b[0mt\u001b[0m \u001b[0;34m=\u001b[0m \u001b[0;34m(\u001b[0m\u001b[0;34m'A'\u001b[0m\u001b[0;34m,\u001b[0m \u001b[0;34m'b'\u001b[0m\u001b[0;34m,\u001b[0m \u001b[0;34m'c'\u001b[0m\u001b[0;34m,\u001b[0m \u001b[0;34m'd'\u001b[0m\u001b[0;34m,\u001b[0m \u001b[0;34m'e'\u001b[0m\u001b[0;34m)\u001b[0m\u001b[0;34m\u001b[0m\u001b[0;34m\u001b[0m\u001b[0m\n\u001b[0;32m----> 4\u001b[0;31m \u001b[0mt\u001b[0m\u001b[0;34m.\u001b[0m\u001b[0mremove\u001b[0m\u001b[0;34m(\u001b[0m\u001b[0;34m'A'\u001b[0m\u001b[0;34m)\u001b[0m\u001b[0;34m\u001b[0m\u001b[0;34m\u001b[0m\u001b[0m\n\u001b[0m\u001b[1;32m      5\u001b[0m \u001b[0mprint\u001b[0m\u001b[0;34m(\u001b[0m\u001b[0mt\u001b[0m\u001b[0;34m)\u001b[0m\u001b[0;34m\u001b[0m\u001b[0;34m\u001b[0m\u001b[0m\n",
      "\u001b[0;31mAttributeError\u001b[0m: 'tuple' object has no attribute 'remove'"
     ]
    }
   ],
   "source": [
    "t = ('A', 'b', 'c', 'd', 'e')\n",
    "t.remove('A') #RETURNS AN ERROR"
   ]
  },
  {
   "cell_type": "markdown",
   "metadata": {},
   "source": [
    "## Copies and References"
   ]
  },
  {
   "cell_type": "code",
   "execution_count": 93,
   "metadata": {
    "colab": {
     "base_uri": "https://localhost:8080/"
    },
    "id": "rqC9nH6YvMk7",
    "outputId": "68229a0c-a7f8-4993-935a-48c11e7b7ee0"
   },
   "outputs": [
    {
     "name": "stdout",
     "output_type": "stream",
     "text": [
      "1\n",
      "2\n"
     ]
    }
   ],
   "source": [
    "# a is not affected if we add 1 to b\n",
    "a = 1\n",
    "b = a # here, b points to 1, and a points to \"different\" 1\n",
    "b += 1\n",
    "print(a)\n",
    "print(b)"
   ]
  },
  {
   "cell_type": "code",
   "execution_count": 94,
   "metadata": {
    "colab": {
     "base_uri": "https://localhost:8080/"
    },
    "id": "QBwHu6LTwjU9",
    "outputId": "a311c36a-d092-449d-c573-e0aa7e16e264"
   },
   "outputs": [
    {
     "name": "stdout",
     "output_type": "stream",
     "text": [
      "[1, 2]\n",
      "[1, 2]\n"
     ]
    }
   ],
   "source": [
    "# will the same thing happen for lists?\n",
    "a = [1]\n",
    "b = a # variables will end up pointing at the same thing\n",
    "b += [2]\n",
    "print(a)\n",
    "print(b)"
   ]
  },
  {
   "cell_type": "code",
   "execution_count": 95,
   "metadata": {
    "colab": {
     "base_uri": "https://localhost:8080/"
    },
    "id": "3JfFpZCIxK1M",
    "outputId": "30725507-6cbb-4275-b075-738ab5a343ab"
   },
   "outputs": [
    {
     "name": "stdout",
     "output_type": "stream",
     "text": [
      "[1]\n",
      "[1, 2]\n"
     ]
    }
   ],
   "source": [
    "# what if you only want a copy containing the same elements?\n",
    "a = [1]\n",
    "b = a.copy() # this creates a new, different [1] that b points to\n",
    "b += [2]\n",
    "print(a)\n",
    "print(b)"
   ]
  },
  {
   "cell_type": "markdown",
   "metadata": {
    "id": "S1CpLGVTxiVJ"
   },
   "source": [
    "There are certain objects like lists where two variables can point to the same thing and changing one will change the other.\n",
    "\n",
    "There are other objects like integers that are rather independent such that changing one will not affect the other"
   ]
  },
  {
   "cell_type": "markdown",
   "metadata": {
    "id": "zCAFUttXx8Ty"
   },
   "source": [
    "## Loops"
   ]
  },
  {
   "cell_type": "markdown",
   "metadata": {
    "id": "zzcxKlCw1_PP"
   },
   "source": [
    "### For Loop\n",
    "\n",
    "We can loop through the elements of a list or tuple using the \"for...in\" keyword"
   ]
  },
  {
   "cell_type": "code",
   "execution_count": 76,
   "metadata": {
    "id": "EP8T8BqDyidV"
   },
   "outputs": [
    {
     "name": "stdout",
     "output_type": "stream",
     "text": [
      "10\n",
      "15\n",
      "15\n",
      "20\n",
      "30\n",
      "50\n",
      "75\n",
      "105\n",
      "140\n"
     ]
    }
   ],
   "source": [
    "values = [10, 5, 0, 5, 10, 20, 25, 30, 35] # iterable\n",
    "\n",
    "running_total = 0\n",
    "for val in values: # for each value in the list\n",
    "    running_total += val\n",
    "    print(running_total)"
   ]
  },
  {
   "cell_type": "markdown",
   "metadata": {
    "id": "3v3OBkUb2CHG"
   },
   "source": [
    "### While Loops\n",
    "\n",
    "Another way of looping"
   ]
  },
  {
   "cell_type": "code",
   "execution_count": 112,
   "metadata": {
    "colab": {
     "base_uri": "https://localhost:8080/"
    },
    "id": "XnLEbq0v19vf",
    "outputId": "aa20bd04-9b12-4f42-f90c-96398b61e68a"
   },
   "outputs": [
    {
     "name": "stdout",
     "output_type": "stream",
     "text": [
      "Alarm at index 6\n"
     ]
    }
   ],
   "source": [
    "# stop and print (\"Alarm!\") if False is encountered\n",
    "bool_list = [True, True, True, True, True, True, False, True, True]\n",
    "index = 0 # define an initial index/counter\n",
    "while True:\n",
    "  b = bool_list[index]\n",
    "  if b is False:\n",
    "    print(f\"Alarm at index {index}\")\n",
    "    break # this breaks the loop\n",
    "  index += 1"
   ]
  },
  {
   "cell_type": "code",
   "execution_count": 113,
   "metadata": {
    "colab": {
     "base_uri": "https://localhost:8080/"
    },
    "id": "xBsyRyYy3pLl",
    "outputId": "74cd8a56-6ba5-4dd7-9c77-f6725e734031"
   },
   "outputs": [
    {
     "name": "stdout",
     "output_type": "stream",
     "text": [
      "Alarm at index 6\n"
     ]
    }
   ],
   "source": [
    "index = 0 # define an initial index/counter\n",
    "while index < len(bool_list):\n",
    "  b = bool_list[index]  \n",
    "  if b is False:\n",
    "    print(f\"Alarm at index {index}\")\n",
    "    break # this breaks the loop\n",
    "  index += 1"
   ]
  },
  {
   "cell_type": "markdown",
   "metadata": {},
   "source": [
    "### Map\n",
    "\n",
    "Map applies a function to all elements in a list"
   ]
  },
  {
   "cell_type": "code",
   "execution_count": 81,
   "metadata": {
    "colab": {
     "base_uri": "https://localhost:8080/"
    },
    "id": "4UGQK8RV0064",
    "outputId": "96b49c26-92a8-4e4f-c236-7d207700b75f"
   },
   "outputs": [
    {
     "data": {
      "text/plain": [
       "[1, 4, 9, 16, 25]"
      ]
     },
     "execution_count": 81,
     "metadata": {},
     "output_type": "execute_result"
    }
   ],
   "source": [
    "def square(x):\n",
    "  return x**2\n",
    "square(2)\n",
    "\n",
    "l = [1,2,3,4,5]\n",
    "squared = list(map(square, l))\n",
    "squared"
   ]
  },
  {
   "cell_type": "markdown",
   "metadata": {
    "id": "m-vgGMFgFgV_"
   },
   "source": [
    "## Dictionary\n",
    "\n",
    "### key:value pair of values"
   ]
  },
  {
   "cell_type": "code",
   "execution_count": 114,
   "metadata": {
    "colab": {
     "base_uri": "https://localhost:8080/"
    },
    "id": "TY1ZHKjKFglF",
    "outputId": "488055cf-bded-44fe-9a2a-93056e8a3228"
   },
   "outputs": [
    {
     "name": "stdout",
     "output_type": "stream",
     "text": [
      "{'a': 1, 'b': 2}\n",
      "dict_keys(['a', 'b'])\n",
      "1\n",
      "2\n"
     ]
    }
   ],
   "source": [
    "# key-value pair\n",
    "# each key must be unique\n",
    "d = {\"a\":1, \"b\":2}\n",
    "print(d)\n",
    "print(d['a'])\n",
    "print(d['b'])"
   ]
  },
  {
   "cell_type": "code",
   "execution_count": 83,
   "metadata": {
    "colab": {
     "base_uri": "https://localhost:8080/"
    },
    "id": "ItJFUFEDFwEH",
    "outputId": "4bd58d15-2fbb-4585-f0bf-078badb021ff"
   },
   "outputs": [
    {
     "name": "stdout",
     "output_type": "stream",
     "text": [
      "{'a': 1, 'b': 4}\n",
      "1\n",
      "4\n",
      "dict_keys(['a', 'b'])\n"
     ]
    }
   ],
   "source": [
    "d = {\"a\":1, \"b\":2, \"b\":3, \"b\":4} # problem - multiple same keys\n",
    "print(d)\n",
    "print(d['a'])\n",
    "print(d['b'])\n",
    "\n",
    "print(d.keys())"
   ]
  },
  {
   "cell_type": "markdown",
   "metadata": {},
   "source": [
    "#### Keys can be strings, integers, floats. Values can be anything"
   ]
  },
  {
   "cell_type": "code",
   "execution_count": 116,
   "metadata": {
    "colab": {
     "base_uri": "https://localhost:8080/"
    },
    "id": "-800Pa0jGMsg",
    "outputId": "ee6917f3-922c-480d-8aea-30244011b1bc"
   },
   "outputs": [
    {
     "name": "stdout",
     "output_type": "stream",
     "text": [
      "{0: 1, 1: 2, 2: 3}\n",
      "dict_keys([0, 1, 2])\n",
      "1\n",
      "2\n"
     ]
    }
   ],
   "source": [
    "#integer key, integer value\n",
    "d = {0:1, 1:2, 2:3}\n",
    "print(d)\n",
    "print(d.keys())\n",
    "print(d[0])\n",
    "print(d[1])"
   ]
  },
  {
   "cell_type": "code",
   "execution_count": 117,
   "metadata": {
    "colab": {
     "base_uri": "https://localhost:8080/"
    },
    "id": "HWXJ1J9mGlHl",
    "outputId": "b5732957-08bf-4cb3-8fc3-bfc832004afe"
   },
   "outputs": [
    {
     "name": "stdout",
     "output_type": "stream",
     "text": [
      "{0: '1', 1: '2', 2: '3'}\n",
      "dict_keys([0, 1, 2])\n",
      "1\n",
      "2\n"
     ]
    }
   ],
   "source": [
    "#integer key, string value\n",
    "d = {0:'1', 1:'2', 2:'3'}\n",
    "print(d)\n",
    "print(d.keys())\n",
    "print(d[0])\n",
    "print(d[1])"
   ]
  },
  {
   "cell_type": "code",
   "execution_count": 85,
   "metadata": {
    "colab": {
     "base_uri": "https://localhost:8080/"
    },
    "id": "gp0WahEoGpzo",
    "outputId": "e91bad90-d4a5-4b8c-f9da-5ae777a612b9"
   },
   "outputs": [
    {
     "name": "stdout",
     "output_type": "stream",
     "text": [
      "{0: ['1'], 1: ['2'], 2: ['3', '4']}\n",
      "dict_keys([0, 1, 2])\n",
      "['1']\n",
      "['3', '4']\n"
     ]
    }
   ],
   "source": [
    "#integer key, list value\n",
    "d = {0:['1'], 1:['2'], 2:['3','4']}\n",
    "print(d)\n",
    "print(d.keys())\n",
    "print(d[0])\n",
    "print(d[2])"
   ]
  },
  {
   "cell_type": "markdown",
   "metadata": {},
   "source": [
    "#### Values don't have to be all the same type!"
   ]
  },
  {
   "cell_type": "code",
   "execution_count": 86,
   "metadata": {
    "colab": {
     "base_uri": "https://localhost:8080/"
    },
    "id": "pW36_046GtJO",
    "outputId": "882ec720-aae0-4a9e-8b30-5924400024d4"
   },
   "outputs": [
    {
     "name": "stdout",
     "output_type": "stream",
     "text": [
      "{0: 3.14, 1: 42, 2: '3', 3: [1, 2, 3]}\n",
      "dict_keys([0, 1, 2, 3])\n",
      "3.14\n",
      "42\n",
      "3\n",
      "[1, 2, 3]\n"
     ]
    }
   ],
   "source": [
    "#mixed type values\n",
    "d = {0:3.14, 1:42, 2:'3', 3:[1, 2, 3]} \n",
    "print(d)\n",
    "print(d.keys())\n",
    "print(d[0])\n",
    "print(d[1])\n",
    "print(d[2])\n",
    "print(d[3])"
   ]
  },
  {
   "cell_type": "code",
   "execution_count": 89,
   "metadata": {
    "colab": {
     "base_uri": "https://localhost:8080/",
     "height": 239
    },
    "id": "z9Y7YLRfG_z-",
    "outputId": "6a789046-598b-4453-fecc-fdba178e8962"
   },
   "outputs": [
    {
     "ename": "TypeError",
     "evalue": "unhashable type: 'list'",
     "output_type": "error",
     "traceback": [
      "\u001b[0;31m---------------------------------------------------------------------------\u001b[0m",
      "\u001b[0;31mTypeError\u001b[0m                                 Traceback (most recent call last)",
      "\u001b[0;32m/var/folders/hh/017vdlc53q3_cpm3wt0s4mfm0000gp/T/ipykernel_12607/1507918228.py\u001b[0m in \u001b[0;36m<module>\u001b[0;34m\u001b[0m\n\u001b[1;32m      1\u001b[0m \u001b[0;31m# cannot use lists, dicts, and sets as keys\u001b[0m\u001b[0;34m\u001b[0m\u001b[0;34m\u001b[0m\u001b[0m\n\u001b[0;32m----> 2\u001b[0;31m \u001b[0md\u001b[0m \u001b[0;34m=\u001b[0m \u001b[0;34m{\u001b[0m\u001b[0;34m[\u001b[0m\u001b[0;36m1\u001b[0m\u001b[0;34m,\u001b[0m \u001b[0;36m2\u001b[0m\u001b[0;34m]\u001b[0m\u001b[0;34m:\u001b[0m\u001b[0;36m1\u001b[0m\u001b[0;34m,\u001b[0m \u001b[0;34m[\u001b[0m\u001b[0;36m2\u001b[0m\u001b[0;34m,\u001b[0m \u001b[0;36m3\u001b[0m\u001b[0;34m]\u001b[0m\u001b[0;34m:\u001b[0m\u001b[0;36m2\u001b[0m\u001b[0;34m,\u001b[0m \u001b[0;34m[\u001b[0m\u001b[0;36m4\u001b[0m\u001b[0;34m]\u001b[0m\u001b[0;34m:\u001b[0m\u001b[0;36m3\u001b[0m\u001b[0;34m}\u001b[0m \u001b[0;31m#RETURNS AN ERROR\u001b[0m\u001b[0;34m\u001b[0m\u001b[0;34m\u001b[0m\u001b[0m\n\u001b[0m",
      "\u001b[0;31mTypeError\u001b[0m: unhashable type: 'list'"
     ]
    }
   ],
   "source": [
    "# cannot use lists, dicts, and sets as keys\n",
    "d = {[1, 2]:1, [2, 3]:2, [4]:3} #RETURNS AN ERROR\n"
   ]
  },
  {
   "cell_type": "markdown",
   "metadata": {},
   "source": [
    "#### Adding and changing dictionary values"
   ]
  },
  {
   "cell_type": "code",
   "execution_count": 131,
   "metadata": {
    "colab": {
     "base_uri": "https://localhost:8080/"
    },
    "id": "OxkJ1KEwJFi4",
    "outputId": "c34835da-06e1-4abb-c6ca-24ff7760f727"
   },
   "outputs": [
    {
     "name": "stdout",
     "output_type": "stream",
     "text": [
      "{'a': 1, 'b': 2, 'hello': 'world', 'list_var': [1, 2, 3], 'pi': 3.14, 0: 'hello'}\n",
      "{'a': 2, 'b': 2, 'hello': 'world', 'list_var': [1, 2, 3], 'pi': 3.14, 0: 'hello'}\n"
     ]
    }
   ],
   "source": [
    "# add another key with a given value\n",
    "# 0:'hello'\n",
    "d[0] = \"hello\"\n",
    "print(d)\n",
    "\n",
    "# change 'a' to 2\n",
    "d['a'] = 2\n",
    "print(d)"
   ]
  },
  {
   "cell_type": "code",
   "execution_count": 132,
   "metadata": {
    "colab": {
     "base_uri": "https://localhost:8080/"
    },
    "id": "bGbA9K-hJieW",
    "outputId": "b0063ea7-b7af-4eea-eae1-c1f21d6274ec"
   },
   "outputs": [
    {
     "data": {
      "text/plain": [
       "6"
      ]
     },
     "execution_count": 132,
     "metadata": {},
     "output_type": "execute_result"
    }
   ],
   "source": [
    "len(d) # number of key-value pairs"
   ]
  },
  {
   "cell_type": "code",
   "execution_count": 133,
   "metadata": {
    "colab": {
     "base_uri": "https://localhost:8080/"
    },
    "id": "TTBqWH5_Jpon",
    "outputId": "e0b237f0-b418-45ad-f37e-c583f317b582"
   },
   "outputs": [
    {
     "data": {
      "text/plain": [
       "dict_values([2, 2, 'world', [1, 2, 3], 3.14, 'hello'])"
      ]
     },
     "execution_count": 133,
     "metadata": {},
     "output_type": "execute_result"
    }
   ],
   "source": [
    "# show the different values\n",
    "d.values()"
   ]
  },
  {
   "cell_type": "markdown",
   "metadata": {},
   "source": [
    "### Iterating through a dictionary"
   ]
  },
  {
   "cell_type": "code",
   "execution_count": 91,
   "metadata": {
    "colab": {
     "base_uri": "https://localhost:8080/"
    },
    "id": "Vjst34miJ7xR",
    "outputId": "5433b3b4-2a5c-4560-f2c2-4c64d2515bae"
   },
   "outputs": [
    {
     "name": "stdout",
     "output_type": "stream",
     "text": [
      "0\n",
      "1\n",
      "2\n",
      "3\n"
     ]
    }
   ],
   "source": [
    "# this just iterates the keys\n",
    "for i in d:\n",
    "    print(i)"
   ]
  },
  {
   "cell_type": "code",
   "execution_count": 90,
   "metadata": {
    "colab": {
     "base_uri": "https://localhost:8080/"
    },
    "id": "aidcczoCKEHp",
    "outputId": "5a7b5711-08b8-4d91-b548-e774feb74702"
   },
   "outputs": [
    {
     "name": "stdout",
     "output_type": "stream",
     "text": [
      "key: 0 value: 3.14\n",
      "key: 1 value: 42\n",
      "key: 2 value: 3\n",
      "key: 3 value: [1, 2, 3]\n"
     ]
    }
   ],
   "source": [
    "# what if you want to show the values and keys\n",
    "for k in d:\n",
    "    v = d[k]\n",
    "    print('key:', k, 'value:', v)"
   ]
  },
  {
   "cell_type": "markdown",
   "metadata": {
    "id": "82h-FOIc5RPL"
   },
   "source": [
    "## Exercises"
   ]
  },
  {
   "cell_type": "markdown",
   "metadata": {
    "id": "-3YhJdJtFPZC"
   },
   "source": [
    "### Functions, If-Else, Loops"
   ]
  },
  {
   "cell_type": "markdown",
   "metadata": {
    "id": "9epQTE2s5h4z"
   },
   "source": [
    "Create a function that calculates the area of a circle given a radius. $\\pi * r^2$.\n",
    "\n",
    "Use $\\pi = 3.1416$"
   ]
  },
  {
   "cell_type": "code",
   "execution_count": 142,
   "metadata": {
    "id": "zM5tmH4g5Q2N"
   },
   "outputs": [],
   "source": [
    "def area_circle(r):\n",
    "    a = 3.1416 * (r**2)\n",
    "    return a"
   ]
  },
  {
   "cell_type": "code",
   "execution_count": 143,
   "metadata": {
    "colab": {
     "base_uri": "https://localhost:8080/"
    },
    "id": "-a4v7Qvs-mpL",
    "outputId": "98fc5bec-a65f-46c9-ae2a-ad8b8a062222"
   },
   "outputs": [
    {
     "data": {
      "text/plain": [
       "12.5664"
      ]
     },
     "execution_count": 143,
     "metadata": {},
     "output_type": "execute_result"
    }
   ],
   "source": [
    "area_circle(2)"
   ]
  },
  {
   "cell_type": "markdown",
   "metadata": {
    "id": "5hd30T46595O"
   },
   "source": [
    "Generate a list of 10 positive numbers corresponding to the radii of circles"
   ]
  },
  {
   "cell_type": "code",
   "execution_count": 144,
   "metadata": {
    "id": "lS0nDb-8584u"
   },
   "outputs": [],
   "source": [
    "radii = [1, 2, 3, 4, 5, 6, 7, 8, 9, 10]"
   ]
  },
  {
   "cell_type": "markdown",
   "metadata": {
    "id": "X_5YTODK6ce7"
   },
   "source": [
    "Using a for loop - iterate through the list of values to compute the area for each value. The output is a list of areas"
   ]
  },
  {
   "cell_type": "code",
   "execution_count": 145,
   "metadata": {
    "colab": {
     "base_uri": "https://localhost:8080/"
    },
    "id": "RQJa5H-B6bv0",
    "outputId": "ff312135-fc25-417e-9d60-41c9dd8eba1b"
   },
   "outputs": [
    {
     "data": {
      "text/plain": [
       "[3.1416,\n",
       " 12.5664,\n",
       " 28.2744,\n",
       " 50.2656,\n",
       " 78.53999999999999,\n",
       " 113.0976,\n",
       " 153.9384,\n",
       " 201.0624,\n",
       " 254.46959999999999,\n",
       " 314.15999999999997]"
      ]
     },
     "execution_count": 145,
     "metadata": {},
     "output_type": "execute_result"
    }
   ],
   "source": [
    "areas = []\n",
    "for r in radii:\n",
    "    a = area_circle(r)\n",
    "    areas.append(a)\n",
    "\n",
    "areas  "
   ]
  },
  {
   "cell_type": "markdown",
   "metadata": {
    "id": "mih4FU1k7BnM"
   },
   "source": [
    "Incorporate an If-else logic that will \n",
    "* check if the value is a positive number\n",
    "* If the value is a positive number, return the area\n",
    "* If the value is a negative number or 0, return None and print \"radius must be a positive number!\"\n"
   ]
  },
  {
   "cell_type": "code",
   "execution_count": 149,
   "metadata": {
    "id": "xkx6QTo07B0W"
   },
   "outputs": [],
   "source": [
    "def area_circle_v2(r):\n",
    "    if r > 0: # positive\n",
    "        a = 3.1416 * r**2\n",
    "    else: # all negative, 0\n",
    "        a = None\n",
    "        print(\"radius must be a positive number!\")\n",
    "    return a"
   ]
  },
  {
   "cell_type": "code",
   "execution_count": 150,
   "metadata": {
    "colab": {
     "base_uri": "https://localhost:8080/"
    },
    "id": "zp9efDClEIiP",
    "outputId": "b667da23-898a-43d2-9382-1039b268b8e2"
   },
   "outputs": [
    {
     "name": "stdout",
     "output_type": "stream",
     "text": [
      "radius must be a positive number!\n",
      "None\n",
      "radius must be a positive number!\n",
      "None\n",
      "3.1416\n"
     ]
    }
   ],
   "source": [
    "print(area_circle_v2(-1))\n",
    "print(area_circle_v2(0))\n",
    "print(area_circle_v2(1))"
   ]
  },
  {
   "cell_type": "markdown",
   "metadata": {
    "id": "u3psKAi49bNU"
   },
   "source": [
    "Run your function over this list:\n",
    "[-3, -2, 0, 1, 2, 3, 4, 5, 6]"
   ]
  },
  {
   "cell_type": "code",
   "execution_count": 151,
   "metadata": {
    "colab": {
     "base_uri": "https://localhost:8080/"
    },
    "id": "VZAUFc2x9kp4",
    "outputId": "faad968b-1dad-48b4-b71a-d41784d3f1e2"
   },
   "outputs": [
    {
     "name": "stdout",
     "output_type": "stream",
     "text": [
      "radius must be a positive number!\n",
      "radius must be a positive number!\n",
      "radius must be a positive number!\n"
     ]
    },
    {
     "data": {
      "text/plain": [
       "[None,\n",
       " None,\n",
       " None,\n",
       " 3.1416,\n",
       " 12.5664,\n",
       " 28.2744,\n",
       " 50.2656,\n",
       " 78.53999999999999,\n",
       " 113.0976]"
      ]
     },
     "execution_count": 151,
     "metadata": {},
     "output_type": "execute_result"
    }
   ],
   "source": [
    "radii = [-3, -2, 0, 1, 2, 3, 4, 5, 6]\n",
    "\n",
    "areas = list(map(area_circle_v2, radii))\n",
    "areas"
   ]
  }
 ],
 "metadata": {
  "colab": {
   "collapsed_sections": [
    "mxsNComj6zGN",
    "Im3EDRWHGVK2"
   ],
   "name": "python_bootcamp_day1.ipynb",
   "provenance": []
  },
  "kernelspec": {
   "display_name": "Python 3 (ipykernel)",
   "language": "python",
   "name": "python3"
  },
  "language_info": {
   "codemirror_mode": {
    "name": "ipython",
    "version": 3
   },
   "file_extension": ".py",
   "mimetype": "text/x-python",
   "name": "python",
   "nbconvert_exporter": "python",
   "pygments_lexer": "ipython3",
   "version": "3.9.13"
  }
 },
 "nbformat": 4,
 "nbformat_minor": 1
}
