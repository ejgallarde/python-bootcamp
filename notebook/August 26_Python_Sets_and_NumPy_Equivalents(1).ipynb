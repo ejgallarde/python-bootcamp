{
  "cells": [
    {
      "cell_type": "markdown",
      "id": "7d7e2063-6f73-4e8c-8017-a0f013daa425",
      "metadata": {
        "noteable": {
          "cell_type": "markdown"
        }
      },
      "source": [
        "## Introduction to Sets in Python\n",
        "A set is an unordered collection of unique elements. Sets are used to store multiple items in a single variable and are written with curly brackets `{}`"
      ]
    },
    {
      "cell_type": "code",
      "execution_count": null,
      "id": "2b700089-d360-48b6-8e9d-04c308730776",
      "metadata": {
        "ExecuteTime": {
          "end_time": "2023-08-19T11:45:24.198365+00:00",
          "start_time": "2023-08-19T11:45:24.040122+00:00"
        },
        "noteable": {
          "cell_type": "code"
        }
      },
      "outputs": [],
      "source": [
        "# Creating sets\n",
        "fruits = {'apple', 'banana', 'cherry'}\n",
        "print(f'Fruits set: {fruits}')\n",
        "# Adding an element to the set\n",
        "fruits.add('orange')\n",
        "print(f'After adding an orange: {fruits}')\n",
        "# Removing an element from the set\n",
        "fruits.remove('banana')\n",
        "print(f'After removing banana: {fruits}')"
      ]
    },
    {
      "cell_type": "markdown",
      "id": "f7999608-b2ba-4161-be40-f0cbf6572349",
      "metadata": {
        "noteable": {
          "cell_type": "markdown"
        }
      },
      "source": [
        "## Set Operations in Python\n",
        "Python methods for sets"
      ]
    },
    {
      "cell_type": "code",
      "execution_count": 7,
      "id": "042d77f2-11ab-4fb2-96a2-fdcb77059711",
      "metadata": {
        "ExecuteTime": {
          "end_time": "2023-08-19T11:46:49.848634+00:00",
          "start_time": "2023-08-19T11:46:49.689148+00:00"
        },
        "noteable": {
          "cell_type": "code"
        }
      },
      "outputs": [
        {
          "name": "stdout",
          "output_type": "stream",
          "text": [
            "Union of A and B: {1, 2, 3, 4, 5, 6}\n",
            "Intersection of A and B: {3, 4}\n",
            "Difference of A and B: {1, 2}\n",
            "Symmetric difference of A and B: {1, 2, 5, 6}\n"
          ]
        }
      ],
      "source": [
        "# Set union\n",
        "A = {1, 2, 3, 4}\n",
        "B = {3, 4, 5, 6}\n",
        "union_set = A.union(B)\n",
        "print(f'Union of A and B: {union_set}')\n",
        "# Set intersection\n",
        "intersection_set = A.intersection(B)\n",
        "print(f'Intersection of A and B: {intersection_set}')\n",
        "# Set difference\n",
        "difference_set = A.difference(B)\n",
        "print(f'Difference of A and B: {difference_set}')\n",
        "# Set symmetric difference (elements that are in either of the sets, but not in both)\n",
        "symmetric_difference_set = A.symmetric_difference(B)\n",
        "print(f'Symmetric difference of A and B: {symmetric_difference_set}')"
      ]
    },
    {
      "cell_type": "markdown",
      "id": "18346fad-2496-4cfe-9277-e49175ef8bd2",
      "metadata": {
        "noteable": {
          "cell_type": "markdown"
        }
      },
      "source": [
        "## Set Operations in NumPy\n",
        "NumPy provides functions to perform set operations on arrays. These functions return sorted, unique values. "
      ]
    },
    {
      "cell_type": "code",
      "execution_count": 8,
      "id": "66ebf0cb-8ae9-4d3c-b0ba-99136a974a56",
      "metadata": {
        "ExecuteTime": {
          "end_time": "2023-08-19T12:48:17.081572+00:00",
          "start_time": "2023-08-19T12:48:16.920159+00:00"
        },
        "noteable": {
          "cell_type": "code"
        }
      },
      "outputs": [
        {
          "name": "stdout",
          "output_type": "stream",
          "text": [
            "Union of A_np and B_np: [1 2 3 4 5 6]\n",
            "Intersection of A_np and B_np: [3 4]\n",
            "Difference of A_np and B_np: [1 2]\n",
            "Symmetric difference of A_np and B_np: [1 2 5 6]\n"
          ]
        }
      ],
      "source": [
        "import numpy as np\n",
        "# Creating NumPy arrays\n",
        "A_np = np.array([1, 2, 3, 4])\n",
        "B_np = np.array([3, 4, 5, 6])\n",
        "# Set union in NumPy\n",
        "union_np = np.union1d(A_np, B_np)\n",
        "print(f'Union of A_np and B_np: {union_np}')\n",
        "# Set intersection in NumPy\n",
        "intersection_np = np.intersect1d(A_np, B_np)\n",
        "print(f'Intersection of A_np and B_np: {intersection_np}')\n",
        "# Set difference in NumPy\n",
        "difference_np = np.setdiff1d(A_np, B_np)\n",
        "print(f'Difference of A_np and B_np: {difference_np}')\n",
        "# Set symmetric difference in NumPy\n",
        "symmetric_difference_np = np.setxor1d(A_np, B_np)\n",
        "print(f'Symmetric difference of A_np and B_np: {symmetric_difference_np}')"
      ]
    },
    {
      "cell_type": "markdown",
      "id": "bd4469be-3cf6-40a6-9f09-14e9099dc26d",
      "metadata": {
        "noteable": {
          "cell_type": "markdown"
        }
      },
      "source": [
        "## Sorting Python and NumPy"
      ]
    },
    {
      "cell_type": "markdown",
      "id": "c4bb5c0a-8b3d-48a6-b699-c3641c8c57bc",
      "metadata": {
        "noteable": {
          "cell_type": "markdown"
        }
      },
      "source": [
        "### Sorting in Python\n",
        "Python provides built-in functions and methods to sort lists and other iterable objects. Let's explore some of these methods:"
      ]
    },
    {
      "cell_type": "code",
      "execution_count": 9,
      "id": "164ea859-66a3-4fa1-a548-389f38362407",
      "metadata": {
        "ExecuteTime": {
          "end_time": "2023-08-19T12:49:50.087684+00:00",
          "start_time": "2023-08-19T12:49:49.929301+00:00"
        },
        "noteable": {
          "cell_type": "code"
        }
      },
      "outputs": [
        {
          "name": "stdout",
          "output_type": "stream",
          "text": [
            "Sorted list using sorted(): [5, 12, 34, 73, 89]\n",
            "Sorted list using sort(): [5, 12, 34, 73, 89]\n",
            "Sorted list in descending order: [89, 73, 34, 12, 5]\n"
          ]
        }
      ],
      "source": [
        "# Creating a list\n",
        "numbers = [34, 12, 89, 5, 73]\n",
        "# Using the sorted() function to sort the list\n",
        "sorted_numbers = sorted(numbers)\n",
        "print(f'Sorted list using sorted(): {sorted_numbers}')\n",
        "# Using the sort() method to sort the list in-place\n",
        "numbers.sort()\n",
        "print(f'Sorted list using sort(): {numbers}')\n",
        "# Sorting in descending order\n",
        "desc_sorted_numbers = sorted(numbers, reverse=True)\n",
        "print(f'Sorted list in descending order: {desc_sorted_numbers}')"
      ]
    },
    {
      "cell_type": "markdown",
      "id": "89e61d25-b220-4944-8bb7-5a97a011a3c5",
      "metadata": {
        "noteable": {
          "cell_type": "markdown"
        }
      },
      "source": [
        "### Sorting in NumPy\n",
        "NumPy array sorting functions are efficient and can handle large datasets"
      ]
    },
    {
      "cell_type": "code",
      "execution_count": 10,
      "id": "0ef0a707-926d-407f-b462-0e8ae3a2ab37",
      "metadata": {
        "ExecuteTime": {
          "end_time": "2023-08-19T12:52:13.863072+00:00",
          "start_time": "2023-08-19T12:52:13.701926+00:00"
        },
        "noteable": {
          "cell_type": "code"
        }
      },
      "outputs": [
        {
          "name": "stdout",
          "output_type": "stream",
          "text": [
            "Sorted array using np.sort(): [ 5 12 34 73 89]\n",
            "Sorted array in descending order: [89 73 34 12  5]\n",
            "Sorted matrix along columns:\n",
            "[[34  5]\n",
            " [73 12]\n",
            " [89 56]]\n"
          ]
        }
      ],
      "source": [
        "# Creating a NumPy array\n",
        "numbers_np = np.array([34, 12, 89, 5, 73])\n",
        "# Using the np.sort() function to sort the array\n",
        "sorted_numbers_np = np.sort(numbers_np)\n",
        "print(f'Sorted array using np.sort(): {sorted_numbers_np}')\n",
        "# Sorting in descending order\n",
        "desc_sorted_numbers_np = -np.sort(-numbers_np)\n",
        "print(f'Sorted array in descending order: {desc_sorted_numbers_np}')\n",
        "# Sorting along different axes (for multi-dimensional arrays)\n",
        "matrix = np.array([[34, 12], [89, 5], [73, 56]])\n",
        "sorted_matrix = np.sort(matrix, axis=0)\n",
        "print(f'Sorted matrix along columns:\\n{sorted_matrix}')"
      ]
    },
    {
      "cell_type": "code",
      "execution_count": 13,
      "id": "c410e9b0",
      "metadata": {},
      "outputs": [
        {
          "data": {
            "text/plain": [
              "array([ 1.  ,  3.25,  5.5 ,  7.75, 10.  ])"
            ]
          },
          "execution_count": 13,
          "metadata": {},
          "output_type": "execute_result"
        }
      ],
      "source": [
        "arr99 = np.linspace(1, 10, 5)\n",
        "arr99"
      ]
    },
    {
      "cell_type": "markdown",
      "id": "044092e8-27b2-4e53-b188-f81de0f99338",
      "metadata": {
        "noteable": {
          "cell_type": "markdown"
        }
      },
      "source": [
        "## Common Data Science Use Cases for NumPy\n",
        "NumPy common use cases"
      ]
    },
    {
      "cell_type": "markdown",
      "id": "eee2b8a0-38f0-4674-a0e0-ed072f91fd96",
      "metadata": {
        "noteable": {
          "cell_type": "markdown"
        }
      },
      "source": [
        "### 1. Data Manipulation and Cleaning\n",
        "NumPy provides a consistent interface to manipulate and clean data : filling missing values, filtering data based on conditions, or transforming data "
      ]
    },
    {
      "cell_type": "code",
      "execution_count": 14,
      "id": "cc064f2b-5425-4a3a-a9a2-a5b68d7b39a3",
      "metadata": {
        "ExecuteTime": {
          "end_time": "2023-08-19T12:56:32.787379+00:00",
          "start_time": "2023-08-19T12:56:32.627761+00:00"
        },
        "noteable": {
          "cell_type": "code"
        }
      },
      "outputs": [
        {
          "name": "stdout",
          "output_type": "stream",
          "text": [
            "Original data: [ 1.  2. nan  4.  5. nan]\n",
            "Filled data: [1. 2. 0. 4. 5. 0.]\n",
            "Filtered data (values greater than 2): [4. 5.]\n"
          ]
        }
      ],
      "source": [
        "# Creating a sample array with missing values (using np.nan)\n",
        "data = np.array([1, 2, np.nan, 4, 5, np.nan])\n",
        "# Filling missing values with a placeholder (e.g., 0)\n",
        "filled_data = np.where(np.isnan(data), 0, data)\n",
        "print(f'Original data: {data}')\n",
        "print(f'Filled data: {filled_data}')\n",
        "# Filtering data based on a condition\n",
        "filtered_data = data[data > 2]\n",
        "print(f'Filtered data (values greater than 2): {filtered_data}')"
      ]
    },
    {
      "cell_type": "markdown",
      "id": "96bd9781-591e-4351-86dd-4c0df1e65c5a",
      "metadata": {
        "noteable": {
          "cell_type": "markdown"
        }
      },
      "source": [
        "### 2. Statistical Analysis\n",
        "NumPy provides a comprehensive set of functions to perform statistical analysis on datasets. Whether it's computing the mean, median, standard deviation, or other statistical measures, NumPy can handle it efficiently. Let's explore some of these functions:"
      ]
    },
    {
      "cell_type": "code",
      "execution_count": 15,
      "id": "7e0df47a-e468-4a69-a4d8-643d198535e0",
      "metadata": {
        "ExecuteTime": {
          "end_time": "2023-08-19T12:57:36.808606+00:00",
          "start_time": "2023-08-19T12:57:36.648653+00:00"
        },
        "noteable": {
          "cell_type": "code"
        }
      },
      "outputs": [
        {
          "name": "stdout",
          "output_type": "stream",
          "text": [
            "Mean of the dataset: 53.9\n",
            "Median of the dataset: 50.5\n",
            "Standard Deviation of the dataset: 25.60644450133599\n",
            "Variance of the dataset: 655.69\n"
          ]
        }
      ],
      "source": [
        "# Creating a sample dataset\n",
        "dataset = np.array([23, 45, 67, 89, 12, 34, 56, 78, 90, 45])\n",
        "# Computing mean\n",
        "mean_value = np.mean(dataset)\n",
        "print(f'Mean of the dataset: {mean_value}')\n",
        "# Computing median\n",
        "median_value = np.median(dataset)\n",
        "print(f'Median of the dataset: {median_value}')\n",
        "# Computing standard deviation\n",
        "std_dev = np.std(dataset)\n",
        "print(f'Standard Deviation of the dataset: {std_dev}')\n",
        "# Computing variance\n",
        "variance = np.var(dataset)\n",
        "print(f'Variance of the dataset: {variance}')"
      ]
    },
    {
      "cell_type": "markdown",
      "id": "9ae2f158-f01c-48f8-b609-8d9fd914e586",
      "metadata": {
        "noteable": {
          "cell_type": "markdown"
        }
      },
      "source": [
        "### 3. Linear Algebra Operations\n",
        "Linear algebra is a branch of mathematics that deals with vectors, matrices, and the linear transformations between them. NumPy provides a comprehensive set of functions to perform linear algebra operations. Let's explore some of these functions:"
      ]
    },
    {
      "cell_type": "code",
      "execution_count": null,
      "id": "7c826a6a-6a12-4a66-a587-de1f54c442bf",
      "metadata": {
        "ExecuteTime": {
          "end_time": "2023-08-19T13:42:18.076682+00:00",
          "start_time": "2023-08-19T13:42:17.852824+00:00"
        },
        "noteable": {
          "cell_type": "code"
        }
      },
      "outputs": [],
      "source": [
        "# Creating two matrices\n",
        "A = np.array([[1, 2], [3, 4]])\n",
        "B = np.array([[2, 0], [0, 2]])\n",
        "# Matrix multiplication\n",
        "product = np.dot(A, B)\n",
        "print(f'Matrix product of A and B:\\n{product}')\n",
        "# Transpose of a matrix\n",
        "transpose_A = np.transpose(A)\n",
        "print(f'Transpose of matrix A:\\n{transpose_A}')\n",
        "# Inverse of a matrix\n",
        "inverse_A = np.linalg.inv(A)\n",
        "print(f'Inverse of matrix A:\\n{inverse_A}')\n",
        "# Determinant of a matrix\n",
        "determinant_A = np.linalg.det(A)\n",
        "print(f'Determinant of matrix A: {determinant_A}')"
      ]
    },
    {
      "cell_type": "markdown",
      "id": "e312106e-d0a4-42dc-80e7-b460a3c31dee",
      "metadata": {
        "noteable": {
          "cell_type": "markdown"
        }
      },
      "source": [
        "### 4. Signal Processing\n",
        "Signal processing involves analyzing, modifying, and synthesizing signals such as sound, images, and scientific measurements. NumPy provides a suite of functions for signal processing tasks. Let's explore some basic operations:"
      ]
    },
    {
      "cell_type": "code",
      "execution_count": null,
      "id": "664ada94-a8b9-46bd-9275-73e9c791ff2a",
      "metadata": {
        "ExecuteTime": {
          "end_time": "2023-08-19T13:43:53.597100+00:00",
          "start_time": "2023-08-19T13:43:53.423150+00:00"
        },
        "noteable": {
          "cell_type": "code"
        }
      },
      "outputs": [],
      "source": [
        "# Creating a simple sine wave signal\n",
        "t = np.linspace(0, 1, 500, endpoint=False)  # Time values\n",
        "freq = 5  # Frequency of the sine wave\n",
        "signal = np.sin(2 * np.pi * freq * t)\n",
        "# Adding noise to the signal\n",
        "noisy_signal = signal + 0.5 * np.random.randn(signal.shape[0])\n",
        "# Fourier Transform to analyze the frequency components\n",
        "frequencies = np.fft.fftfreq(t.shape[0], d=t[1]-t[0])\n",
        "fft_values = np.fft.fft(noisy_signal)\n",
        "# Filtering out frequencies above a threshold to denoise\n",
        "filtered_fft_values = np.where(abs(frequencies) > 10, 0, fft_values)\n",
        "filtered_signal = np.fft.ifft(filtered_fft_values)\n",
        "filtered_signal"
      ]
    },
    {
      "cell_type": "code",
      "execution_count": null,
      "id": "2675470d-c7f1-47f4-98bf-4dddc523b6a9",
      "metadata": {
        "ExecuteTime": {
          "end_time": "2023-08-19T13:46:11.473579+00:00",
          "start_time": "2023-08-19T13:46:10.865712+00:00"
        },
        "noteable": {
          "cell_type": "code"
        }
      },
      "outputs": [],
      "source": [
        "# Plotting the signals\n",
        "plt.figure(figsize=(14, 8))\n",
        "# Original Signal\n",
        "plt.subplot(3, 1, 1)\n",
        "plt.plot(t, signal, label='Original Signal', color='blue')\n",
        "plt.title('Original Sine Wave Signal')\n",
        "plt.legend()\n",
        "# Noisy Signal\n",
        "plt.subplot(3, 1, 2)\n",
        "plt.plot(t, noisy_signal, label='Noisy Signal', color='red')\n",
        "plt.title('Noisy Signal')\n",
        "plt.legend()\n",
        "# Filtered (Denoised) Signal\n",
        "plt.subplot(3, 1, 3)\n",
        "plt.plot(t, filtered_signal, label='Filtered Signal', color='green')\n",
        "plt.title('Filtered Signal After Fourier Transform and Filtering')\n",
        "plt.legend()\n",
        "plt.tight_layout()\n",
        "plt.show()"
      ]
    },
    {
      "cell_type": "code",
      "execution_count": null,
      "id": "30013358-c0af-4baa-8c82-1eb22d196e7b",
      "metadata": {
        "ExecuteTime": {
          "end_time": "2023-08-19T13:46:52.494333+00:00",
          "start_time": "2023-08-19T13:46:50.948770+00:00"
        },
        "noteable": {
          "cell_type": "code"
        }
      },
      "outputs": [],
      "source": [
        "import matplotlib.pyplot as plt\n",
        "\n",
        "# Plotting the signals\n",
        "plt.figure(figsize=(14, 8))\n",
        "# Original Signal\n",
        "plt.subplot(3, 1, 1)\n",
        "plt.plot(t, signal, label='Original Signal', color='blue')\n",
        "plt.title('Original Sine Wave Signal')\n",
        "plt.legend()\n",
        "# Noisy Signal\n",
        "plt.subplot(3, 1, 2)\n",
        "plt.plot(t, noisy_signal, label='Noisy Signal', color='red')\n",
        "plt.title('Noisy Signal')\n",
        "plt.legend()\n",
        "# Filtered (Denoised) Signal\n",
        "plt.subplot(3, 1, 3)\n",
        "plt.plot(t, filtered_signal, label='Filtered Signal', color='green')\n",
        "plt.title('Filtered Signal After Fourier Transform and Filtering')\n",
        "plt.legend()\n",
        "plt.tight_layout()\n",
        "plt.show()"
      ]
    },
    {
      "cell_type": "markdown",
      "id": "a56c2953-740e-49bd-939e-857a1a58b2cf",
      "metadata": {
        "noteable": {
          "cell_type": "markdown"
        }
      },
      "source": [
        "### 5. Image Processing with NumPy\n",
        "Image processing is a method to perform operations on an image to enhance it or extract useful information. NumPy, with its powerful array operations, can be used to process images. Let's explore some basic image processing tasks using NumPy:"
      ]
    },
    {
      "cell_type": "code",
      "execution_count": null,
      "id": "8316ae54-fcca-4aab-8676-c6cc32c4c145",
      "metadata": {
        "ExecuteTime": {
          "end_time": "2023-08-19T13:48:02.342409+00:00",
          "start_time": "2023-08-19T13:48:01.998332+00:00"
        },
        "noteable": {
          "cell_type": "code"
        }
      },
      "outputs": [],
      "source": [
        "import numpy as np\n",
        "import matplotlib.pyplot as plt\n",
        "import matplotlib.image as mpimg\n",
        "# Loading an example image\n",
        "image = mpimg.imread('https://via.placeholder.com/150')\n",
        "# Displaying the original image\n",
        "plt.imshow(image)\n",
        "plt.title('Original Image')\n",
        "plt.axis('off')\n",
        "plt.show()"
      ]
    },
    {
      "cell_type": "code",
      "execution_count": null,
      "id": "564a49fe-dbaf-44b7-8ea4-956533dbe4cc",
      "metadata": {
        "ExecuteTime": {
          "end_time": "2023-08-19T13:48:34.809470+00:00",
          "start_time": "2023-08-19T13:48:33.780920+00:00"
        },
        "noteable": {
          "cell_type": "code"
        }
      },
      "outputs": [],
      "source": [
        "import urllib.request\n",
        "from PIL import Image\n",
        "# Loading the image using Pillow and converting to NumPy array\n",
        "with urllib.request.urlopen('https://via.placeholder.com/150') as url:\n",
        "    image = Image.open(url)\n",
        "    image_np = np.array(image)\n",
        "# Displaying the image\n",
        "plt.imshow(image_np)\n",
        "plt.title('Original Image')\n",
        "plt.axis('off')\n",
        "plt.show()"
      ]
    },
    {
      "cell_type": "code",
      "execution_count": null,
      "id": "a3153e8b-29ea-49a2-bb49-b3197f043024",
      "metadata": {
        "ExecuteTime": {
          "end_time": "2023-08-19T13:49:37.528776+00:00",
          "start_time": "2023-08-19T13:49:37.156931+00:00"
        },
        "noteable": {
          "cell_type": "code"
        }
      },
      "outputs": [],
      "source": [
        "# Grayscale conversion\n",
        "def rgb2gray(rgb):\n",
        "    return np.dot(rgb[...,:3], [0.2989, 0.5870, 0.1140])\n",
        "grayscale_image = rgb2gray(image_np)\n",
        "# Displaying the grayscale image\n",
        "plt.imshow(grayscale_image, cmap='gray')\n",
        "plt.title('Grayscale Image')\n",
        "plt.axis('off')\n",
        "plt.show()"
      ]
    },
    {
      "cell_type": "markdown",
      "id": "63b739db-c2ef-4c38-9619-f3e9100092d0",
      "metadata": {
        "noteable": {
          "cell_type": "markdown"
        }
      },
      "source": [
        "### 6. Statistical Analysis with NumPy\n"
      ]
    },
    {
      "cell_type": "code",
      "execution_count": null,
      "id": "b16a353a-ce2f-4b2c-9386-82531954308d",
      "metadata": {
        "ExecuteTime": {
          "end_time": "2023-08-19T13:52:22.828741+00:00",
          "start_time": "2023-08-19T13:52:22.663641+00:00"
        },
        "noteable": {
          "cell_type": "code"
        }
      },
      "outputs": [],
      "source": [
        "# Generating sample data\n",
        "np.random.seed(42)  # for reproducibility\n",
        "data_1 = np.random.normal(50, 10, 1000)  # data with mean=50, std_dev=10, 1000 samples\n",
        "data_2 = np.random.normal(60, 15, 1000)  # data with mean=60, std_dev=15, 1000 samples\n",
        "# Displaying the first few values of data_1 and data_2\n",
        "data_1[:10], data_2[:10]"
      ]
    },
    {
      "cell_type": "code",
      "execution_count": null,
      "id": "2865686f-62a1-4666-a794-3b3e950f87a5",
      "metadata": {
        "ExecuteTime": {
          "end_time": "2023-08-19T13:54:33.096754+00:00",
          "start_time": "2023-08-19T13:54:32.114713+00:00"
        },
        "noteable": {
          "cell_type": "code"
        }
      },
      "outputs": [],
      "source": [
        "# Descriptive Statistics\n",
        "mean_data_1 = np.mean(data_1)\n",
        "median_data_1 = np.median(data_1)\n",
        "std_dev_data_1 = np.std(data_1)\n",
        "variance_data_1 = np.var(data_1)\n",
        "mean_data_2 = np.mean(data_2)\n",
        "median_data_2 = np.median(data_2)\n",
        "std_dev_data_2 = np.std(data_2)\n",
        "variance_data_2 = np.var(data_2)\n",
        "# Correlation\n",
        "correlation_coefficient = np.corrcoef(data_1, data_2)[0, 1]\n",
        "# Data Distribution Visualization\n",
        "plt.figure(figsize=(12, 6))\n",
        "plt.hist(data_1, bins=50, alpha=0.5, label='data_1')\n",
        "plt.hist(data_2, bins=50, alpha=0.5, label='data_2')\n",
        "plt.title('Histogram of data_1 and data_2')\n",
        "plt.xlabel('Value')\n",
        "plt.ylabel('Frequency')\n",
        "plt.legend()\n",
        "plt.show()\n",
        "# Hypothesis Testing\n",
        "from scipy.stats import ttest_ind\n",
        "t_stat, p_value = ttest_ind(data_1, data_2)\n",
        "mean_data_1, median_data_1, std_dev_data_1, variance_data_1, mean_data_2, median_data_2, std_dev_data_2, variance_data_2, correlation_coefficient, t_stat, p_value"
      ]
    }
  ],
  "metadata": {
    "kernel_info": {
      "name": "python3"
    },
    "kernelspec": {
      "display_name": "Python 3.9",
      "language": "python",
      "name": "python3"
    },
    "language_info": {
      "codemirror_mode": {
        "name": "ipython",
        "version": 3
      },
      "file_extension": ".py",
      "mimetype": "text/x-python",
      "name": "python",
      "nbconvert_exporter": "python",
      "pygments_lexer": "ipython3",
      "version": "3.11.4"
    },
    "noteable": {
      "last_delta_id": "bb992b5d-6aef-458e-a1a8-8e6b3b44ec9f",
      "last_transaction_id": "bb992b5d-6aef-458e-a1a8-8e6b3b44ec9f"
    },
    "noteable-chatgpt": {
      "create_notebook": {
        "openai_conversation_id": "7458dec8-f40c-5121-a6c9-462094b44cbb",
        "openai_ephemeral_user_id": "bc20dd66-f433-5f49-91d1-db07a45237c1",
        "openai_subdivision1_iso_code": "PH-00"
      }
    },
    "nteract": {
      "version": "noteable@2.9.0"
    },
    "selected_hardware_size": "small"
  },
  "nbformat": 4,
  "nbformat_minor": 5
}
